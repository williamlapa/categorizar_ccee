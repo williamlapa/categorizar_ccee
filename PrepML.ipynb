{
  "nbformat": 4,
  "nbformat_minor": 0,
  "metadata": {
    "celltoolbar": "Create Assignment",
    "colab": {
      "name": "PrepML.ipynb",
      "provenance": [],
      "collapsed_sections": [],
      "include_colab_link": true
    },
    "kernelspec": {
      "display_name": "Python 3",
      "language": "python",
      "name": "python3"
    },
    "language_info": {
      "codemirror_mode": {
        "name": "ipython",
        "version": 3
      },
      "file_extension": ".py",
      "mimetype": "text/x-python",
      "name": "python",
      "nbconvert_exporter": "python",
      "pygments_lexer": "ipython3",
      "version": "3.8.3"
    }
  },
  "cells": [
    {
      "cell_type": "markdown",
      "metadata": {
        "id": "view-in-github",
        "colab_type": "text"
      },
      "source": [
        "<a href=\"https://colab.research.google.com/github/williamlapa/categorizar_ccee/blob/master/PrepML.ipynb\" target=\"_parent\"><img src=\"https://colab.research.google.com/assets/colab-badge.svg\" alt=\"Open In Colab\"/></a>"
      ]
    },
    {
      "cell_type": "markdown",
      "metadata": {
        "id": "ep-5rQE_ixm_"
      },
      "source": [
        "## Machine Learning\r\n"
      ]
    },
    {
      "cell_type": "code",
      "metadata": {
        "colab": {
          "base_uri": "https://localhost:8080/"
        },
        "id": "e2RcG65Oqo_o",
        "outputId": "ba054067-8ac0-44cb-cda6-80e8453f7188"
      },
      "source": [
        "from google.colab import drive\n",
        "drive.mount('/content/drive')\n"
      ],
      "execution_count": 1,
      "outputs": [
        {
          "output_type": "stream",
          "text": [
            "Drive already mounted at /content/drive; to attempt to forcibly remount, call drive.mount(\"/content/drive\", force_remount=True).\n"
          ],
          "name": "stdout"
        }
      ]
    },
    {
      "cell_type": "markdown",
      "metadata": {
        "id": "a2SXfK9WixnF"
      },
      "source": [
        "### Apresentação do Dataset"
      ]
    },
    {
      "cell_type": "code",
      "metadata": {
        "colab": {
          "base_uri": "https://localhost:8080/"
        },
        "id": "mFpII-RsixnG",
        "outputId": "b1bbe1ac-66da-4f7a-d65d-1c72943979fc"
      },
      "source": [
        "\n",
        "# leitura de todos os csvs\n",
        "\n",
        "path_ccee='/content/drive/MyDrive/ml/entrada'\n",
        "import pandas as pd\n",
        "import numpy as np\n",
        "\n",
        "from os import listdir\n",
        "from os.path import isfile, join\n",
        "\n",
        "onlyfiles =  ([f\"{f}\" for f in listdir(path_ccee) if isfile(join(path_ccee, f))])\n",
        "print(onlyfiles)\n"
      ],
      "execution_count": 2,
      "outputs": [
        {
          "output_type": "stream",
          "text": [
            "['Descritivo Simplificado de Ajustes_Fevereiro20_Final.xlsx', 'Descritivo Simplificado de Ajustes_Dezembro20_Contabilizaç¦o.xlsx', 'Descritivo Simplificado de Ajustes_Julho20_Contabilizaç¦o.xlsx', 'Descritivo Simplificado de Ajustes_Novembro20_Contabilizaç¦o.xlsx', 'Descritivo Simplificado de Ajustes_Outubro20_Contabilizaç¦o.xlsx', 'Descritivo Simplificado de Ajustes_Setembro20_Contabilizaç¦o.xlsx', 'Descritivo de Ajustes e Impactos aos Agentes - Contab de Abr17.xlsx', 'Descritivo de Ajustes e Impactos aos Agentes - Contab de Out17.xlsx', 'Descritivo de Ajustes e Impactos aos Agentes - Contabilizaç¦o de Maio 2016.xlsx', 'Descritivo de Ajustes e Impactos aos Agentes_Jul19.xlsx', 'Descritivo de Ajustes e Impactos aos Agentes - Contab de Jun17.xlsx', 'Descritivo de Ajustes e Impactos aos Agentes - Contab de Mai17.xlsx', 'Descritivo de Ajustes e Impactos aos Agentes - Contab de Fev17.xlsx', 'Descritivo de Ajustes e Impactos aos Agentes - Contab de Jan17.xlsx', 'Descritivo de Ajustes e Impactos aos Agentes - Contab de Dez16.xlsx', 'Descritivo de Ajustes e Impactos aos Agentes - Contab de Novembro 2016.xlsx', 'Descritivo de Ajustes e Impactos aos Agentes - Contabilizaç¦o de Setembro 2016.xlsx', 'Descritivo de Ajustes e Impactos aos Agentes - Contabilizaç¦o de Agosto 2016.xlsx', 'Descritivo de Ajustes e Impactos aos Agentes - Contabilizaç¦o de Julho 2016.xlsx', 'Descritivo de Ajustes e Impactos aos Agentes - Contabilizaç¦o de Junho 2016.xlsx', 'Descritivo de Ajustes e Impactos aos Agentes - Contab de Set18.xlsx', 'Descritivo de Ajustes e Impactos aos Agentes - Contab de Ago18.xlsx', 'Descritivo de Ajustes e Impactos aos Agentes - Contab de Jun18.xlsx', 'Descritivo de Ajustes e Impactos aos Agentes - Contab de Maio18.xlsx', 'Descritivo de Ajustes e Impactos aos Agentes - Contab de Abr18.xlsx', 'Descritivo de Ajustes e Impactos aos Agentes - Contab de Mar18.xlsx', 'Descritivo de Ajustes e Impactos aos Agentes - Contab de Fev18.xlsx', 'Descritivo de Ajustes e Impactos aos Agentes - Contab de Jan18.xlsx', 'Descritivo de Ajustes e Impactos aos Agentes - Contab de Nov17.xlsx', 'Descritivo de Ajustes e Impactos aos Agentes - Contab de Set17.xlsx', 'Descritivo de Ajustes e Impactos aos Agentes - Contab de Ago17.xlsx', 'Descritivo de Ajustes e Impactos aos Agentes - Contab de Jul17.xlsx', 'Descritivo de Ajustes e Impactos aos Agentes - Contab de Mar17.xlsx', 'Descritivo de Ajustes_Junho20_Contabilizaç¦o.xlsx', 'Descritivo de Ajustes_Maio20_Contabilizaç¦o.xlsx', 'Descritivo de Ajustes_Abril20_Contabilizaç¦o.xlsx', 'Descritivo de Ajustes_Março20_Contabilizaç¦o.xlsx', 'Descritivo de Ajustes e Impactos aos Agentes_Jan20.xlsx', 'Descritivo de Ajustes e Impactos aos Agentes_Dez19.xlsx', 'Descritivo de Ajustes e Impactos aos Agentes_Nov19.xlsx', 'Descritivo de Ajustes e Impactos aos Agentes_Out19.xlsx', 'Descritivo de Ajustes e Impactos aos Agentes_Set19.xlsx', 'Descritivo de Ajustes e Impactos aos Agentes_Ago19.xlsx', 'Descritivo de Ajustes e Impactos aos Agentes_Jun19.xlsx', 'Descritivo de Ajustes e Impactos aos Agentes_Mai19.xlsx', 'Descritivo de Ajustes e Impactos aos Agentes_Abr19.xlsx', 'Descritivo de Ajustes e Impactos aos Agentes_Mar19.xlsx', 'Descritivo de Ajustes e Impactos aos Agentes_Fev19.xlsx', 'Descritivo de Ajustes e Impactos aos Agentes_Dez18.xlsx', 'Descritivo de Ajustes e Impactos aos Agentes_Nov18.xlsx', 'Descritivo de Ajustes e Impactos aos Agentes - Contab de Out18.xlsx', 'Descritivo Simplificado de Ajustes_Agosto20_Contabilizaç¦o.xlsx', 'Descritivo de Ajustes e Impactos aos Agentes - Contab de Dez17.xlsx']\n"
          ],
          "name": "stdout"
        }
      ]
    },
    {
      "cell_type": "code",
      "metadata": {
        "id": "jUpQU2hrvj_s",
        "colab": {
          "base_uri": "https://localhost:8080/"
        },
        "outputId": "502771fd-7e2d-4cf0-d152-8d5ede4e7c71"
      },
      "source": [
        "#Aqui está a leitura\r\n",
        "#primeiros os dados do output\r\n",
        "path_acronimo='https://github.com/treakj/cienciadedados/blob/main/acronimos_rev2.xlsx?raw=true'\r\n",
        "#path_tarifas='https://github.com/treakj/cienciadedados/blob/main/tarifas202019.zip'\r\n",
        "#path_eventos='https://github.com/treakj/cienciadedados/blob/0aeef662bf8c068c218134868ee326c5faad8007/eventos.csv'\r\n",
        "\r\n",
        "\r\n",
        "\r\n",
        "#leitura dos dados de entrada da CCEE\r\n",
        "count=0\r\n",
        "for name in onlyfiles:\r\n",
        "  #na_values=-9999\r\n",
        "  partial=pd.read_excel(f\"{path_ccee}/{name}\", skipfooter=1)\r\n",
        "  if count>0:\r\n",
        "    tot=tot.append(partial)\r\n",
        "  else:\r\n",
        "    tot=partial\r\n",
        "  count+=1\r\n",
        "tot\r\n",
        "\r\n",
        "tot = tot[tot['Unnamed: 0'].notnull()]\r\n",
        "tot.info()"
      ],
      "execution_count": 6,
      "outputs": [
        {
          "output_type": "stream",
          "text": [
            "<class 'pandas.core.frame.DataFrame'>\n",
            "Int64Index: 1770 entries, 0 to 30\n",
            "Data columns (total 6 columns):\n",
            " #   Column                                             Non-Null Count  Dtype  \n",
            "---  ------                                             --------------  -----  \n",
            " 0   Unnamed: 0                                         1770 non-null   float64\n",
            " 1   Título do Ajuste - conforme relatório SUMÁRIO-001  1767 non-null   object \n",
            " 2   Descrição do Ajuste                                1767 non-null   object \n",
            " 3   Descrição de Impacto                               1767 non-null   object \n",
            " 4   Impacto Principal                                  1748 non-null   object \n",
            " 5   Observação                                         624 non-null    object \n",
            "dtypes: float64(1), object(5)\n",
            "memory usage: 96.8+ KB\n"
          ],
          "name": "stdout"
        }
      ]
    },
    {
      "cell_type": "markdown",
      "metadata": {
        "id": "mJ4f3wLUixnH"
      },
      "source": [
        "#### Link para Download do Dataset"
      ]
    },
    {
      "cell_type": "code",
      "metadata": {
        "id": "5LP6CeUbixnH"
      },
      "source": [
        "acronimo = pd.read_excel(path_acronimo)\n",
        "acronimo['Chave']=acronimo['NOME'].apply(lambda x: str(x).replace('(*)','').replace('_','-'))\n",
        "\n",
        "tot['Chave']=tot['Título do Ajuste - conforme relatório SUMÁRIO-001'].apply(lambda x: str(x).replace('(*)','').replace('_','-').replace('                                         ','\\n').split('\\n')[0])\n",
        "\n",
        "merged=tot.merge(acronimo, right_on='Chave', left_on='splitedajuste', how='left')\n",
        "# merged=tot.join(acronimo,how='left', on='Chave')\n",
        "\n",
        "merged['TIPO'].fillna('Sem categoria', inplace=True)\n",
        "merged['Título do Ajuste - conforme relatório SUMÁRIO-001'].fillna('Título inexistente', inplace=True)\n",
        "merged['Descrição do Ajuste'].fillna('', inplace=True)\n",
        "merged['Descrição de Impacto'].fillna('', inplace=True)\n",
        "merged['Impacto Principal'].fillna('', inplace=True)\n",
        "# merged.loc[merged['Título do Ajuste - conforme relatório SUMÁRIO-001'].str.contains('Encargo Liquidação MCP'),'TIPO']='Não considerar'\n",
        "\n",
        "merged.to_excel('saidamerged.xlsx')\n",
        "!cp saidamerged.xlsx \"drive/My Drive/ml/saida\"\n",
        "\n",
        "\n",
        "#pd.read_csv(path_eventos, sep=\";\" ,encoding='utf-8')"
      ],
      "execution_count": 24,
      "outputs": []
    },
    {
      "cell_type": "code",
      "metadata": {
        "colab": {
          "base_uri": "https://localhost:8080/",
          "height": 946
        },
        "id": "I3ydn0aJlpKg",
        "outputId": "80c9a76e-b5d4-4ad7-c837-cdfc7df23b3d"
      },
      "source": [
        "merged['TIPO'].value_counts().plot(kind='bar')\r\n",
        "# acronimo = pd.read_excel(path_acronimo)\r\n",
        "tot.info()\r\n",
        "merged.info()\r\n",
        "# tot.to_excel('teste.xlsx')\r\n",
        "# !cp teste.xlsx \"drive/My Drive/ml/\""
      ],
      "execution_count": 27,
      "outputs": [
        {
          "output_type": "stream",
          "text": [
            "<class 'pandas.core.frame.DataFrame'>\n",
            "Int64Index: 1770 entries, 0 to 30\n",
            "Data columns (total 9 columns):\n",
            " #   Column                                             Non-Null Count  Dtype  \n",
            "---  ------                                             --------------  -----  \n",
            " 0   Unnamed: 0                                         1770 non-null   float64\n",
            " 1   Título do Ajuste - conforme relatório SUMÁRIO-001  1767 non-null   object \n",
            " 2   Descrição do Ajuste                                1767 non-null   object \n",
            " 3   Descrição de Impacto                               1767 non-null   object \n",
            " 4   Impacto Principal                                  1748 non-null   object \n",
            " 5   Observação                                         624 non-null    object \n",
            " 6   splitedajuste                                      1770 non-null   object \n",
            " 7   Key                                                1770 non-null   object \n",
            " 8   Chave                                              1770 non-null   object \n",
            "dtypes: float64(1), object(8)\n",
            "memory usage: 138.3+ KB\n",
            "<class 'pandas.core.frame.DataFrame'>\n",
            "Int64Index: 1770 entries, 0 to 1769\n",
            "Data columns (total 12 columns):\n",
            " #   Column                                             Non-Null Count  Dtype  \n",
            "---  ------                                             --------------  -----  \n",
            " 0   Unnamed: 0                                         1770 non-null   float64\n",
            " 1   Título do Ajuste - conforme relatório SUMÁRIO-001  1770 non-null   object \n",
            " 2   Descrição do Ajuste                                1770 non-null   object \n",
            " 3   Descrição de Impacto                               1770 non-null   object \n",
            " 4   Impacto Principal                                  1770 non-null   object \n",
            " 5   Observação                                         624 non-null    object \n",
            " 6   splitedajuste                                      1770 non-null   object \n",
            " 7   Key                                                1770 non-null   object \n",
            " 8   Chave_x                                            1770 non-null   object \n",
            " 9   TIPO                                               1770 non-null   object \n",
            " 10  NOME                                               1693 non-null   object \n",
            " 11  Chave_y                                            1693 non-null   object \n",
            "dtypes: float64(1), object(11)\n",
            "memory usage: 179.8+ KB\n"
          ],
          "name": "stdout"
        },
        {
          "output_type": "display_data",
          "data": {
            "image/png": "[encoded data removed]",
            "text/plain": [
              "<Figure size 432x288 with 1 Axes>"
            ]
          },
          "metadata": {
            "tags": [],
            "needs_background": "light"
          }
        }
      ]
    },
    {
      "cell_type": "code",
      "metadata": {
        "id": "cDRS5B5X4nnp"
      },
      "source": [
        "from sklearn.feature_extraction.text import CountVectorizer\r\n",
        "from sklearn.feature_extraction.text import TfidfTransformer\r\n",
        "from sklearn.linear_model import SGDClassifier\r\n",
        "from sklearn.model_selection import GridSearchCV\r\n",
        "from sklearn.pipeline import Pipeline\r\n",
        "pipeline = Pipeline([\r\n",
        "    ('vect', CountVectorizer(max_df=1.0, max_features=50000,ngram_range=(1,2))),\r\n",
        "    ('tfidf', TfidfTransformer(use_idf=True,norm='l2')),\r\n",
        "    ('clf', SGDClassifier(loss='log',alpha=1e-06, penalty='elasticnet')), # default hinge. to get proba=log or modified_huber\r\n",
        "])"
      ],
      "execution_count": 29,
      "outputs": []
    },
    {
      "cell_type": "code",
      "metadata": {
        "id": "79TPXISpVDOh"
      },
      "source": [
        "merged['todas_as_colunas']=merged['Título do Ajuste - conforme relatório SUMÁRIO-001']+merged['Descrição do Ajuste']+merged['Descrição de Impacto']+merged['Impacto Principal']\r\n",
        "\r\n",
        "from sklearn.model_selection import train_test_split\r\n",
        "X_train, X_test, y_train, y_test = train_test_split(merged['todas_as_colunas'], merged['TIPO'], test_size=0.2, \r\n",
        "                                                    stratify=merged['TIPO'],random_state=1)"
      ],
      "execution_count": 43,
      "outputs": []
    },
    {
      "cell_type": "code",
      "metadata": {
        "colab": {
          "base_uri": "https://localhost:8080/"
        },
        "id": "9dhE5ZJ1VFX5",
        "outputId": "811fc119-5592-4a77-fab2-50d5cda1dee5"
      },
      "source": [
        "classificador = pipeline.fit(X_train, y_train)\r\n",
        "classificador.score(X_test,y_test)"
      ],
      "execution_count": 44,
      "outputs": [
        {
          "output_type": "execute_result",
          "data": {
            "text/plain": [
              "0.9661016949152542"
            ]
          },
          "metadata": {
            "tags": []
          },
          "execution_count": 44
        }
      ]
    },
    {
      "cell_type": "code",
      "metadata": {
        "colab": {
          "base_uri": "https://localhost:8080/",
          "height": 296
        },
        "id": "gmJ2q6ufWtW9",
        "outputId": "ee9df34a-4cf6-4dde-9843-c3be97ff9b76"
      },
      "source": [
        "from sklearn.metrics import plot_confusion_matrix\r\n",
        "plot_confusion_matrix(classificador, X_test, y_test, values_format='d')"
      ],
      "execution_count": 45,
      "outputs": [
        {
          "output_type": "execute_result",
          "data": {
            "text/plain": [
              "<sklearn.metrics._plot.confusion_matrix.ConfusionMatrixDisplay at 0x7f85fc7d4690>"
            ]
          },
          "metadata": {
            "tags": []
          },
          "execution_count": 45
        },
        {
          "output_type": "display_data",
          "data": {
            "image/png": "[encoded data removed]",
            "text/plain": [
              "<Figure size 432x288 with 2 Axes>"
            ]
          },
          "metadata": {
            "tags": [],
            "needs_background": "light"
          }
        }
      ]
    },
    {
      "cell_type": "markdown",
      "metadata": {
        "id": "5uv8MUp-VGBv"
      },
      "source": [
        ""
      ]
    },
    {
      "cell_type": "markdown",
      "metadata": {
        "id": "WO21SaWFxGvk"
      },
      "source": [
        ""
      ]
    }
  ]
}