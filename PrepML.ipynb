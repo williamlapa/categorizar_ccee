{
  "nbformat": 4,
  "nbformat_minor": 0,
  "metadata": {
    "celltoolbar": "Create Assignment",
    "colab": {
      "name": "PrepML.ipynb",
      "provenance": [],
      "collapsed_sections": [],
      "include_colab_link": true
    },
    "kernelspec": {
      "display_name": "Python 3",
      "language": "python",
      "name": "python3"
    },
    "language_info": {
      "codemirror_mode": {
        "name": "ipython",
        "version": 3
      },
      "file_extension": ".py",
      "mimetype": "text/x-python",
      "name": "python",
      "nbconvert_exporter": "python",
      "pygments_lexer": "ipython3",
      "version": "3.8.3"
    }
  },
  "cells": [
    {
      "cell_type": "markdown",
      "metadata": {
        "id": "view-in-github",
        "colab_type": "text"
      },
      "source": [
        "<a href=\"https://colab.research.google.com/github/williamlapa/categorizar_ccee/blob/master/PrepML.ipynb\" target=\"_parent\"><img src=\"https://colab.research.google.com/assets/colab-badge.svg\" alt=\"Open In Colab\"/></a>"
      ]
    },
    {
      "cell_type": "markdown",
      "metadata": {
        "id": "ep-5rQE_ixm_"
      },
      "source": [
        "## Machine Learning\r\n"
      ]
    },
    {
      "cell_type": "code",
      "metadata": {
        "colab": {
          "base_uri": "https://localhost:8080/"
        },
        "id": "e2RcG65Oqo_o",
        "outputId": "596a1e0e-3661-4604-dd38-579cf4406701"
      },
      "source": [
        "# from google.colab import drive\n",
        "# drive.mount('/content/drive')\n"
      ],
      "execution_count": 1,
      "outputs": [
        {
          "output_type": "stream",
          "text": [
            "Mounted at /content/drive\n"
          ],
          "name": "stdout"
        }
      ]
    },
    {
      "cell_type": "markdown",
      "metadata": {
        "id": "a2SXfK9WixnF"
      },
      "source": [
        "### Apresentação do Dataset"
      ]
    },
    {
      "cell_type": "code",
      "metadata": {
        "colab": {
          "base_uri": "https://localhost:8080/"
        },
        "id": "mFpII-RsixnG",
        "outputId": "797824d8-e988-4f8c-e20c-52f4767d6934"
      },
      "source": [
        "\n",
        "# # leitura de todos os csvs\n",
        "\n",
        "# path_ccee='/content/drive/MyDrive/ml/entrada'\n",
        "# # path_ccee='https://github.com/williamlapa/categorizar_ccee/blob/master/ml/entrada'\n",
        "# import pandas as pd\n",
        "# import numpy as np\n",
        "# from os import listdir\n",
        "# from os.path import isfile\n",
        "# from os.path import join\n",
        "\n",
        "# onlyfiles =  ([f\"{f}\" for f in listdir(path_ccee) if isfile(join(path_ccee, f))])\n",
        "# # onlyfiles= ['Descritivo Simplificado de Ajustes_Fevereiro20_Final.xlsx', 'Descritivo Simplificado de Ajustes_Dezembro20_Contabilizaç¦o.xlsx', 'Descritivo Simplificado de Ajustes_Julho20_Contabilizaç¦o.xlsx', 'Descritivo Simplificado de Ajustes_Novembro20_Contabilizaç¦o.xlsx', 'Descritivo Simplificado de Ajustes_Outubro20_Contabilizaç¦o.xlsx', 'Descritivo Simplificado de Ajustes_Setembro20_Contabilizaç¦o.xlsx', 'Descritivo de Ajustes e Impactos aos Agentes - Contab de Abr17.xlsx', 'Descritivo de Ajustes e Impactos aos Agentes - Contab de Out17.xlsx', 'Descritivo de Ajustes e Impactos aos Agentes - Contabilizaç¦o de Maio 2016.xlsx', 'Descritivo de Ajustes e Impactos aos Agentes_Jul19.xlsx', 'Descritivo de Ajustes e Impactos aos Agentes - Contab de Jun17.xlsx', 'Descritivo de Ajustes e Impactos aos Agentes - Contab de Mai17.xlsx', 'Descritivo de Ajustes e Impactos aos Agentes - Contab de Fev17.xlsx', 'Descritivo de Ajustes e Impactos aos Agentes - Contab de Jan17.xlsx', 'Descritivo de Ajustes e Impactos aos Agentes - Contab de Dez16.xlsx', 'Descritivo de Ajustes e Impactos aos Agentes - Contab de Novembro 2016.xlsx', 'Descritivo de Ajustes e Impactos aos Agentes - Contabilizaç¦o de Setembro 2016.xlsx', 'Descritivo de Ajustes e Impactos aos Agentes - Contabilizaç¦o de Agosto 2016.xlsx', 'Descritivo de Ajustes e Impactos aos Agentes - Contabilizaç¦o de Julho 2016.xlsx', 'Descritivo de Ajustes e Impactos aos Agentes - Contabilizaç¦o de Junho 2016.xlsx', 'Descritivo de Ajustes e Impactos aos Agentes - Contab de Set18.xlsx', 'Descritivo de Ajustes e Impactos aos Agentes - Contab de Ago18.xlsx', 'Descritivo de Ajustes e Impactos aos Agentes - Contab de Jun18.xlsx', 'Descritivo de Ajustes e Impactos aos Agentes - Contab de Maio18.xlsx', 'Descritivo de Ajustes e Impactos aos Agentes - Contab de Abr18.xlsx', 'Descritivo de Ajustes e Impactos aos Agentes - Contab de Mar18.xlsx', 'Descritivo de Ajustes e Impactos aos Agentes - Contab de Fev18.xlsx', 'Descritivo de Ajustes e Impactos aos Agentes - Contab de Jan18.xlsx', 'Descritivo de Ajustes e Impactos aos Agentes - Contab de Nov17.xlsx', 'Descritivo de Ajustes e Impactos aos Agentes - Contab de Set17.xlsx', 'Descritivo de Ajustes e Impactos aos Agentes - Contab de Ago17.xlsx', 'Descritivo de Ajustes e Impactos aos Agentes - Contab de Jul17.xlsx', 'Descritivo de Ajustes e Impactos aos Agentes - Contab de Mar17.xlsx', 'Descritivo de Ajustes_Junho20_Contabilizaç¦o.xlsx', 'Descritivo de Ajustes_Maio20_Contabilizaç¦o.xlsx', 'Descritivo de Ajustes_Abril20_Contabilizaç¦o.xlsx', 'Descritivo de Ajustes_Março20_Contabilizaç¦o.xlsx', 'Descritivo de Ajustes e Impactos aos Agentes_Jan20.xlsx', 'Descritivo de Ajustes e Impactos aos Agentes_Dez19.xlsx', 'Descritivo de Ajustes e Impactos aos Agentes_Nov19.xlsx', 'Descritivo de Ajustes e Impactos aos Agentes_Out19.xlsx', 'Descritivo de Ajustes e Impactos aos Agentes_Set19.xlsx', 'Descritivo de Ajustes e Impactos aos Agentes_Ago19.xlsx', 'Descritivo de Ajustes e Impactos aos Agentes_Jun19.xlsx', 'Descritivo de Ajustes e Impactos aos Agentes_Mai19.xlsx', 'Descritivo de Ajustes e Impactos aos Agentes_Abr19.xlsx', 'Descritivo de Ajustes e Impactos aos Agentes_Mar19.xlsx', 'Descritivo de Ajustes e Impactos aos Agentes_Fev19.xlsx', 'Descritivo de Ajustes e Impactos aos Agentes_Dez18.xlsx', 'Descritivo de Ajustes e Impactos aos Agentes_Nov18.xlsx', 'Descritivo de Ajustes e Impactos aos Agentes - Contab de Out18.xlsx', 'Descritivo Simplificado de Ajustes_Agosto20_Contabilizaç¦o.xlsx', 'Descritivo de Ajustes e Impactos aos Agentes - Contab de Dez17.xlsx']\n",
        "# print(onlyfiles)\n",
        "# # ?raw=true"
      ],
      "execution_count": 2,
      "outputs": [
        {
          "output_type": "stream",
          "text": [
            "['Descritivo Simplificado de Ajustes_Fevereiro20_Final.xlsx', 'Descritivo Simplificado de Ajustes_Dezembro20_Contabilizaç¦o.xlsx', 'Descritivo Simplificado de Ajustes_Julho20_Contabilizaç¦o.xlsx', 'Descritivo Simplificado de Ajustes_Novembro20_Contabilizaç¦o.xlsx', 'Descritivo Simplificado de Ajustes_Outubro20_Contabilizaç¦o.xlsx', 'Descritivo Simplificado de Ajustes_Setembro20_Contabilizaç¦o.xlsx', 'Descritivo de Ajustes e Impactos aos Agentes - Contab de Abr17.xlsx', 'Descritivo de Ajustes e Impactos aos Agentes - Contab de Out17.xlsx', 'Descritivo de Ajustes e Impactos aos Agentes - Contabilizaç¦o de Maio 2016.xlsx', 'Descritivo de Ajustes e Impactos aos Agentes_Jul19.xlsx', 'Descritivo de Ajustes e Impactos aos Agentes - Contab de Jun17.xlsx', 'Descritivo de Ajustes e Impactos aos Agentes - Contab de Mai17.xlsx', 'Descritivo de Ajustes e Impactos aos Agentes - Contab de Fev17.xlsx', 'Descritivo de Ajustes e Impactos aos Agentes - Contab de Jan17.xlsx', 'Descritivo de Ajustes e Impactos aos Agentes - Contab de Dez16.xlsx', 'Descritivo de Ajustes e Impactos aos Agentes - Contab de Novembro 2016.xlsx', 'Descritivo de Ajustes e Impactos aos Agentes - Contabilizaç¦o de Setembro 2016.xlsx', 'Descritivo de Ajustes e Impactos aos Agentes - Contabilizaç¦o de Agosto 2016.xlsx', 'Descritivo de Ajustes e Impactos aos Agentes - Contabilizaç¦o de Julho 2016.xlsx', 'Descritivo de Ajustes e Impactos aos Agentes - Contabilizaç¦o de Junho 2016.xlsx', 'Descritivo de Ajustes e Impactos aos Agentes - Contab de Set18.xlsx', 'Descritivo de Ajustes e Impactos aos Agentes - Contab de Ago18.xlsx', 'Descritivo de Ajustes e Impactos aos Agentes - Contab de Jun18.xlsx', 'Descritivo de Ajustes e Impactos aos Agentes - Contab de Maio18.xlsx', 'Descritivo de Ajustes e Impactos aos Agentes - Contab de Abr18.xlsx', 'Descritivo de Ajustes e Impactos aos Agentes - Contab de Mar18.xlsx', 'Descritivo de Ajustes e Impactos aos Agentes - Contab de Fev18.xlsx', 'Descritivo de Ajustes e Impactos aos Agentes - Contab de Jan18.xlsx', 'Descritivo de Ajustes e Impactos aos Agentes - Contab de Nov17.xlsx', 'Descritivo de Ajustes e Impactos aos Agentes - Contab de Set17.xlsx', 'Descritivo de Ajustes e Impactos aos Agentes - Contab de Ago17.xlsx', 'Descritivo de Ajustes e Impactos aos Agentes - Contab de Jul17.xlsx', 'Descritivo de Ajustes e Impactos aos Agentes - Contab de Mar17.xlsx', 'Descritivo de Ajustes_Junho20_Contabilizaç¦o.xlsx', 'Descritivo de Ajustes_Maio20_Contabilizaç¦o.xlsx', 'Descritivo de Ajustes_Abril20_Contabilizaç¦o.xlsx', 'Descritivo de Ajustes_Março20_Contabilizaç¦o.xlsx', 'Descritivo de Ajustes e Impactos aos Agentes_Jan20.xlsx', 'Descritivo de Ajustes e Impactos aos Agentes_Dez19.xlsx', 'Descritivo de Ajustes e Impactos aos Agentes_Nov19.xlsx', 'Descritivo de Ajustes e Impactos aos Agentes_Out19.xlsx', 'Descritivo de Ajustes e Impactos aos Agentes_Set19.xlsx', 'Descritivo de Ajustes e Impactos aos Agentes_Ago19.xlsx', 'Descritivo de Ajustes e Impactos aos Agentes_Jun19.xlsx', 'Descritivo de Ajustes e Impactos aos Agentes_Mai19.xlsx', 'Descritivo de Ajustes e Impactos aos Agentes_Abr19.xlsx', 'Descritivo de Ajustes e Impactos aos Agentes_Mar19.xlsx', 'Descritivo de Ajustes e Impactos aos Agentes_Fev19.xlsx', 'Descritivo de Ajustes e Impactos aos Agentes_Dez18.xlsx', 'Descritivo de Ajustes e Impactos aos Agentes_Nov18.xlsx', 'Descritivo de Ajustes e Impactos aos Agentes - Contab de Out18.xlsx', 'Descritivo Simplificado de Ajustes_Agosto20_Contabilizaç¦o.xlsx', 'Descritivo de Ajustes e Impactos aos Agentes - Contab de Dez17.xlsx']\n"
          ],
          "name": "stdout"
        }
      ]
    },
    {
      "cell_type": "code",
      "metadata": {
        "id": "jUpQU2hrvj_s",
        "colab": {
          "base_uri": "https://localhost:8080/"
        },
        "outputId": "aa21eef2-d7ca-403e-93a3-9511cdb6df5b"
      },
      "source": [
        "#Aqui está a leitura\r\n",
        "#primeiros os dados do output\r\n",
        "path_acronimo='https://github.com/treakj/cienciadedados/blob/main/acronimos_rev2.xlsx?raw=true'\r\n",
        "#path_tarifas='https://github.com/treakj/cienciadedados/blob/main/tarifas202019.zip'\r\n",
        "#path_eventos='https://github.com/treakj/cienciadedados/blob/0aeef662bf8c068c218134868ee326c5faad8007/eventos.csv'\r\n",
        "\r\n",
        "\r\n",
        "\r\n",
        "# #leitura dos dados de entrada da CCEE\r\n",
        "# count=0\r\n",
        "# for name in onlyfiles:\r\n",
        "#   #na_values=-9999\r\n",
        "#   partial=pd.read_excel(f\"{path_ccee}/{name}\", skipfooter=1)\r\n",
        "#   if count>0:\r\n",
        "#     tot=tot.append(partial)\r\n",
        "#   else:\r\n",
        "#     tot=partial\r\n",
        "#   count+=1\r\n",
        "# tot\r\n",
        "\r\n",
        "# tot = tot[tot['Unnamed: 0'].notnull()]\r\n",
        "# tot.info()\r\n",
        "\r\n"
      ],
      "execution_count": 3,
      "outputs": [
        {
          "output_type": "stream",
          "text": [
            "<class 'pandas.core.frame.DataFrame'>\n",
            "Int64Index: 1770 entries, 0 to 30\n",
            "Data columns (total 6 columns):\n",
            " #   Column                                             Non-Null Count  Dtype  \n",
            "---  ------                                             --------------  -----  \n",
            " 0   Unnamed: 0                                         1770 non-null   float64\n",
            " 1   Título do Ajuste - conforme relatório SUMÁRIO-001  1767 non-null   object \n",
            " 2   Descrição do Ajuste                                1767 non-null   object \n",
            " 3   Descrição de Impacto                               1767 non-null   object \n",
            " 4   Impacto Principal                                  1748 non-null   object \n",
            " 5   Observação                                         624 non-null    object \n",
            "dtypes: float64(1), object(5)\n",
            "memory usage: 96.8+ KB\n"
          ],
          "name": "stdout"
        }
      ]
    },
    {
      "cell_type": "code",
      "metadata": {
        "id": "q9jGuEAZ-uo4"
      },
      "source": [
        "# tot.to_excel('entradaempilhada.xlsx')\r\n",
        "# !cp entradaempilhada.xlsx \"drive/My Drive/ml/saida\""
      ],
      "execution_count": 4,
      "outputs": []
    },
    {
      "cell_type": "markdown",
      "metadata": {
        "id": "mJ4f3wLUixnH"
      },
      "source": [
        "##### Projeto começa daqui\r\n"
      ]
    },
    {
      "cell_type": "code",
      "metadata": {
        "id": "5LP6CeUbixnH"
      },
      "source": [
        "\n",
        "#começa daqui\n",
        "path_acronimo='https://github.com/treakj/cienciadedados/blob/main/acronimos_rev2.xlsx?raw=true'\n",
        "path_total='https://github.com/williamlapa/categorizar_ccee/blob/master/saidamerged.xlsx?raw=true'\n",
        " \n",
        "total = pd.read_excel(path_total)\n",
        "acronimo = pd.read_excel(path_acronimo)\n",
        "acronimo['Chave']=acronimo['NOME'].apply(lambda x: str(x).replace('(*)','').replace('_','-'))\n",
        "\n",
        "tot['Chave']=tot['Título do Ajuste - conforme relatório SUMÁRIO-001'].apply(lambda x: str(x).replace('(*)','').replace('_','-').replace('                                         ','\\n').split('\\n')[0])\n",
        "\n",
        "merged=tot.merge(acronimo, right_on='Chave', left_on='Chave', how='left')\n",
        "# merged=tot.join(acronimo,how='left', on='Chave')\n",
        "\n",
        "merged['TIPO'].fillna('Sem categoria', inplace=True)\n",
        "merged['Título do Ajuste - conforme relatório SUMÁRIO-001'].fillna('Título inexistente', inplace=True)\n",
        "merged['Descrição do Ajuste'].fillna('', inplace=True)\n",
        "merged['Descrição de Impacto'].fillna('', inplace=True)\n",
        "merged['Impacto Principal'].fillna('', inplace=True)\n",
        "# merged.loc[merged['Título do Ajuste - conforme relatório SUMÁRIO-001'].str.contains('Encargo Liquidação MCP'),'TIPO']='Não considerar'\n",
        "\n",
        "# merged.to_excel('saidamerged.xlsx')\n",
        "# !cp saidamerged.xlsx \"drive/My Drive/ml/saida\"\n",
        "\n",
        "\n",
        "#pd.read_csv(path_eventos, sep=\";\" ,encoding='utf-8')"
      ],
      "execution_count": 6,
      "outputs": []
    },
    {
      "cell_type": "code",
      "metadata": {
        "colab": {
          "base_uri": "https://localhost:8080/",
          "height": 845
        },
        "id": "I3ydn0aJlpKg",
        "outputId": "737f0fab-5cff-4609-ffde-8b9392db7cc0"
      },
      "source": [
        "merged['TIPO'].value_counts().plot(kind='bar')\r\n",
        "# acronimo = pd.read_excel(path_acronimo)\r\n",
        "tot.info()\r\n",
        "merged.info()\r\n",
        "# tot.to_excel('teste.xlsx')\r\n",
        "# !cp teste.xlsx \"drive/My Drive/ml/\""
      ],
      "execution_count": 6,
      "outputs": [
        {
          "output_type": "stream",
          "text": [
            "<class 'pandas.core.frame.DataFrame'>\n",
            "Int64Index: 1770 entries, 0 to 30\n",
            "Data columns (total 7 columns):\n",
            " #   Column                                             Non-Null Count  Dtype  \n",
            "---  ------                                             --------------  -----  \n",
            " 0   Unnamed: 0                                         1770 non-null   float64\n",
            " 1   Título do Ajuste - conforme relatório SUMÁRIO-001  1767 non-null   object \n",
            " 2   Descrição do Ajuste                                1767 non-null   object \n",
            " 3   Descrição de Impacto                               1767 non-null   object \n",
            " 4   Impacto Principal                                  1748 non-null   object \n",
            " 5   Observação                                         624 non-null    object \n",
            " 6   Chave                                              1770 non-null   object \n",
            "dtypes: float64(1), object(6)\n",
            "memory usage: 110.6+ KB\n",
            "<class 'pandas.core.frame.DataFrame'>\n",
            "Int64Index: 1770 entries, 0 to 1769\n",
            "Data columns (total 9 columns):\n",
            " #   Column                                             Non-Null Count  Dtype  \n",
            "---  ------                                             --------------  -----  \n",
            " 0   Unnamed: 0                                         1770 non-null   float64\n",
            " 1   Título do Ajuste - conforme relatório SUMÁRIO-001  1770 non-null   object \n",
            " 2   Descrição do Ajuste                                1770 non-null   object \n",
            " 3   Descrição de Impacto                               1770 non-null   object \n",
            " 4   Impacto Principal                                  1770 non-null   object \n",
            " 5   Observação                                         624 non-null    object \n",
            " 6   Chave                                              1770 non-null   object \n",
            " 7   TIPO                                               1770 non-null   object \n",
            " 8   NOME                                               1693 non-null   object \n",
            "dtypes: float64(1), object(8)\n",
            "memory usage: 138.3+ KB\n"
          ],
          "name": "stdout"
        },
        {
          "output_type": "display_data",
          "data": {
            "image/png": "[encoded data removed]",
            "text/plain": [
              "<Figure size 432x288 with 1 Axes>"
            ]
          },
          "metadata": {
            "tags": [],
            "needs_background": "light"
          }
        }
      ]
    },
    {
      "cell_type": "code",
      "metadata": {
        "id": "cDRS5B5X4nnp"
      },
      "source": [
        "from sklearn.feature_extraction.text import CountVectorizer\r\n",
        "from sklearn.feature_extraction.text import TfidfTransformer\r\n",
        "from sklearn.linear_model import SGDClassifier\r\n",
        "from sklearn.model_selection import GridSearchCV\r\n",
        "from sklearn.pipeline import Pipeline\r\n",
        "pipeline = Pipeline([\r\n",
        "    ('vect', CountVectorizer(max_df=1.0, max_features=50000,ngram_range=(1,2))),\r\n",
        "    ('tfidf', TfidfTransformer(use_idf=True,norm='l2')),\r\n",
        "    ('clf', SGDClassifier(loss='log',alpha=1e-06, penalty='elasticnet')), # default hinge. to get proba=log or modified_huber\r\n",
        "])"
      ],
      "execution_count": 7,
      "outputs": []
    },
    {
      "cell_type": "code",
      "metadata": {
        "id": "79TPXISpVDOh"
      },
      "source": [
        "merged['todas_as_colunas']=merged['Título do Ajuste - conforme relatório SUMÁRIO-001']+merged['Descrição do Ajuste']+merged['Descrição de Impacto']+merged['Impacto Principal']\r\n",
        "\r\n",
        "from sklearn.model_selection import train_test_split\r\n",
        "X_train, X_test, y_train, y_test = train_test_split(merged['todas_as_colunas'], merged['TIPO'], test_size=0.2, \r\n",
        "                                                    stratify=merged['TIPO'],random_state=42)"
      ],
      "execution_count": 8,
      "outputs": []
    },
    {
      "cell_type": "code",
      "metadata": {
        "colab": {
          "base_uri": "https://localhost:8080/"
        },
        "id": "9dhE5ZJ1VFX5",
        "outputId": "37be3bc8-ef59-46ba-8629-a9283708037b"
      },
      "source": [
        "classificador = pipeline.fit(X_train, y_train)\r\n",
        "classificador.score(X_test,y_test)"
      ],
      "execution_count": 9,
      "outputs": [
        {
          "output_type": "execute_result",
          "data": {
            "text/plain": [
              "0.9717514124293786"
            ]
          },
          "metadata": {
            "tags": []
          },
          "execution_count": 9
        }
      ]
    },
    {
      "cell_type": "code",
      "metadata": {
        "id": "2Nn_hx4EKikI"
      },
      "source": [
        "# teste mais generalizado com seeds até 100\r\n",
        "avaliacao=[]\r\n",
        "for i in range(1,200):\r\n",
        "  X_train, X_test, y_train, y_test = train_test_split(merged['todas_as_colunas'], merged['TIPO'], test_size=0.8,  \r\n",
        "                                                      stratify=merged['TIPO'],random_state=i)\r\n",
        "  classificador = pipeline.fit(X_train, y_train)\r\n",
        "  score = classificador.score(X_test,y_test)\r\n",
        "  avaliacao.append({\"score\":score, \"seed\": i})\r\n",
        "\r\n",
        "\r\n",
        "\r\n"
      ],
      "execution_count": 18,
      "outputs": []
    },
    {
      "cell_type": "code",
      "metadata": {
        "id": "i1vssylo-I6R"
      },
      "source": [
        "\r\n",
        "from sklearn.model_selection import StratifiedShuffleSplit"
      ],
      "execution_count": 20,
      "outputs": []
    },
    {
      "cell_type": "code",
      "metadata": {
        "id": "IyANn0FkLbwd",
        "outputId": "61d9de8f-ba45-4ca7-b8a5-8d479dddf045",
        "colab": {
          "base_uri": "https://localhost:8080/",
          "height": 552
        }
      },
      "source": [
        "# grafico da avaliaçao de seed\r\n",
        "import seaborn as sns\r\n",
        "sns.lineplot(data = pd.DataFrame(avaliacao), x='seed', y='score')\r\n",
        "pd.DataFrame(avaliacao).describe()"
      ],
      "execution_count": 21,
      "outputs": [
        {
          "output_type": "execute_result",
          "data": {
            "text/html": [
              "<div>\n",
              "<style scoped>\n",
              "    .dataframe tbody tr th:only-of-type {\n",
              "        vertical-align: middle;\n",
              "    }\n",
              "\n",
              "    .dataframe tbody tr th {\n",
              "        vertical-align: top;\n",
              "    }\n",
              "\n",
              "    .dataframe thead th {\n",
              "        text-align: right;\n",
              "    }\n",
              "</style>\n",
              "<table border=\"1\" class=\"dataframe\">\n",
              "  <thead>\n",
              "    <tr style=\"text-align: right;\">\n",
              "      <th></th>\n",
              "      <th>score</th>\n",
              "      <th>seed</th>\n",
              "    </tr>\n",
              "  </thead>\n",
              "  <tbody>\n",
              "    <tr>\n",
              "      <th>count</th>\n",
              "      <td>199.000000</td>\n",
              "      <td>199.000000</td>\n",
              "    </tr>\n",
              "    <tr>\n",
              "      <th>mean</th>\n",
              "      <td>0.940245</td>\n",
              "      <td>100.000000</td>\n",
              "    </tr>\n",
              "    <tr>\n",
              "      <th>std</th>\n",
              "      <td>0.008335</td>\n",
              "      <td>57.590508</td>\n",
              "    </tr>\n",
              "    <tr>\n",
              "      <th>min</th>\n",
              "      <td>0.911723</td>\n",
              "      <td>1.000000</td>\n",
              "    </tr>\n",
              "    <tr>\n",
              "      <th>25%</th>\n",
              "      <td>0.934675</td>\n",
              "      <td>50.500000</td>\n",
              "    </tr>\n",
              "    <tr>\n",
              "      <th>50%</th>\n",
              "      <td>0.941384</td>\n",
              "      <td>100.000000</td>\n",
              "    </tr>\n",
              "    <tr>\n",
              "      <th>75%</th>\n",
              "      <td>0.946328</td>\n",
              "      <td>149.500000</td>\n",
              "    </tr>\n",
              "    <tr>\n",
              "      <th>max</th>\n",
              "      <td>0.959040</td>\n",
              "      <td>199.000000</td>\n",
              "    </tr>\n",
              "  </tbody>\n",
              "</table>\n",
              "</div>"
            ],
            "text/plain": [
              "            score        seed\n",
              "count  199.000000  199.000000\n",
              "mean     0.940245  100.000000\n",
              "std      0.008335   57.590508\n",
              "min      0.911723    1.000000\n",
              "25%      0.934675   50.500000\n",
              "50%      0.941384  100.000000\n",
              "75%      0.946328  149.500000\n",
              "max      0.959040  199.000000"
            ]
          },
          "metadata": {
            "tags": []
          },
          "execution_count": 21
        },
        {
          "output_type": "display_data",
          "data": {
            "image/png": "[encoded data removed]",
            "text/plain": [
              "<Figure size 432x288 with 1 Axes>"
            ]
          },
          "metadata": {
            "tags": [],
            "needs_background": "light"
          }
        }
      ]
    },
    {
      "cell_type": "code",
      "metadata": {
        "colab": {
          "base_uri": "https://localhost:8080/",
          "height": 296
        },
        "id": "gmJ2q6ufWtW9",
        "outputId": "3af26818-1914-4f4c-a784-f00c52fe3953"
      },
      "source": [
        "from sklearn.metrics import plot_confusion_matrix\r\n",
        "plot_confusion_matrix(classificador, X_test, y_test, values_format='d')"
      ],
      "execution_count": 22,
      "outputs": [
        {
          "output_type": "execute_result",
          "data": {
            "text/plain": [
              "<sklearn.metrics._plot.confusion_matrix.ConfusionMatrixDisplay at 0x7f7b4cdc34d0>"
            ]
          },
          "metadata": {
            "tags": []
          },
          "execution_count": 22
        },
        {
          "output_type": "display_data",
          "data": {
            "image/png": "[encoded data removed]",
            "text/plain": [
              "<Figure size 432x288 with 2 Axes>"
            ]
          },
          "metadata": {
            "tags": [],
            "needs_background": "light"
          }
        }
      ]
    },
    {
      "cell_type": "markdown",
      "metadata": {
        "id": "5uv8MUp-VGBv"
      },
      "source": [
        ""
      ]
    },
    {
      "cell_type": "markdown",
      "metadata": {
        "id": "WO21SaWFxGvk"
      },
      "source": [
        ""
      ]
    }
  ]
}