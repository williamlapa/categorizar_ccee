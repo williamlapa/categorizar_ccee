{
 "cells": [
  {
   "cell_type": "markdown",
   "metadata": {
    "colab_type": "text",
    "id": "view-in-github"
   },
   "source": [
    "<a href=\"https://colab.research.google.com/github/williamlapa/categorizar_ccee/blob/master/PrepML.ipynb\" target=\"_parent\"><img src=\"https://colab.research.google.com/assets/colab-badge.svg\" alt=\"Open In Colab\"/></a>"
   ]
  },
  {
   "cell_type": "markdown",
   "metadata": {
    "id": "ep-5rQE_ixm_"
   },
   "source": [
    "## Machine Learning\n"
   ]
  },
  {
   "cell_type": "code",
   "execution_count": 1,
   "metadata": {
    "colab": {
     "base_uri": "https://localhost:8080/"
    },
    "id": "e2RcG65Oqo_o",
    "outputId": "596a1e0e-3661-4604-dd38-579cf4406701"
   },
   "outputs": [],
   "source": [
    "# from google.colab import drive\n",
    "# drive.mount('/content/drive')\n"
   ]
  },
<<<<<<< HEAD
  {
   "cell_type": "markdown",
   "metadata": {
    "id": "a2SXfK9WixnF"
   },
   "source": [
    "### Apresentação do Dataset"
   ]
  },
  {
   "cell_type": "code",
   "execution_count": 7,
   "metadata": {
    "colab": {
     "base_uri": "https://localhost:8080/"
    },
    "id": "mFpII-RsixnG",
    "outputId": "797824d8-e988-4f8c-e20c-52f4767d6934"
   },
   "outputs": [],
   "source": [
    "\n",
    "# leitura de todos os csvs\n",
    "\n",
    "# path_ccee='/content/drive/MyDrive/ml/entrada'\n",
    "# # path_ccee='https://github.com/williamlapa/categorizar_ccee/blob/master/ml/entrada'\n",
    "import pandas as pd\n",
    "import numpy as np\n",
    "# from os import listdir\n",
    "# from os.path import isfile\n",
    "# from os.path import join\n",
    "\n",
    "# onlyfiles =  ([f\"{f}\" for f in listdir(path_ccee) if isfile(join(path_ccee, f))])\n",
    "# # onlyfiles= ['Descritivo Simplificado de Ajustes_Fevereiro20_Final.xlsx', 'Descritivo Simplificado de Ajustes_Dezembro20_Contabilizaç¦o.xlsx', 'Descritivo Simplificado de Ajustes_Julho20_Contabilizaç¦o.xlsx', 'Descritivo Simplificado de Ajustes_Novembro20_Contabilizaç¦o.xlsx', 'Descritivo Simplificado de Ajustes_Outubro20_Contabilizaç¦o.xlsx', 'Descritivo Simplificado de Ajustes_Setembro20_Contabilizaç¦o.xlsx', 'Descritivo de Ajustes e Impactos aos Agentes - Contab de Abr17.xlsx', 'Descritivo de Ajustes e Impactos aos Agentes - Contab de Out17.xlsx', 'Descritivo de Ajustes e Impactos aos Agentes - Contabilizaç¦o de Maio 2016.xlsx', 'Descritivo de Ajustes e Impactos aos Agentes_Jul19.xlsx', 'Descritivo de Ajustes e Impactos aos Agentes - Contab de Jun17.xlsx', 'Descritivo de Ajustes e Impactos aos Agentes - Contab de Mai17.xlsx', 'Descritivo de Ajustes e Impactos aos Agentes - Contab de Fev17.xlsx', 'Descritivo de Ajustes e Impactos aos Agentes - Contab de Jan17.xlsx', 'Descritivo de Ajustes e Impactos aos Agentes - Contab de Dez16.xlsx', 'Descritivo de Ajustes e Impactos aos Agentes - Contab de Novembro 2016.xlsx', 'Descritivo de Ajustes e Impactos aos Agentes - Contabilizaç¦o de Setembro 2016.xlsx', 'Descritivo de Ajustes e Impactos aos Agentes - Contabilizaç¦o de Agosto 2016.xlsx', 'Descritivo de Ajustes e Impactos aos Agentes - Contabilizaç¦o de Julho 2016.xlsx', 'Descritivo de Ajustes e Impactos aos Agentes - Contabilizaç¦o de Junho 2016.xlsx', 'Descritivo de Ajustes e Impactos aos Agentes - Contab de Set18.xlsx', 'Descritivo de Ajustes e Impactos aos Agentes - Contab de Ago18.xlsx', 'Descritivo de Ajustes e Impactos aos Agentes - Contab de Jun18.xlsx', 'Descritivo de Ajustes e Impactos aos Agentes - Contab de Maio18.xlsx', 'Descritivo de Ajustes e Impactos aos Agentes - Contab de Abr18.xlsx', 'Descritivo de Ajustes e Impactos aos Agentes - Contab de Mar18.xlsx', 'Descritivo de Ajustes e Impactos aos Agentes - Contab de Fev18.xlsx', 'Descritivo de Ajustes e Impactos aos Agentes - Contab de Jan18.xlsx', 'Descritivo de Ajustes e Impactos aos Agentes - Contab de Nov17.xlsx', 'Descritivo de Ajustes e Impactos aos Agentes - Contab de Set17.xlsx', 'Descritivo de Ajustes e Impactos aos Agentes - Contab de Ago17.xlsx', 'Descritivo de Ajustes e Impactos aos Agentes - Contab de Jul17.xlsx', 'Descritivo de Ajustes e Impactos aos Agentes - Contab de Mar17.xlsx', 'Descritivo de Ajustes_Junho20_Contabilizaç¦o.xlsx', 'Descritivo de Ajustes_Maio20_Contabilizaç¦o.xlsx', 'Descritivo de Ajustes_Abril20_Contabilizaç¦o.xlsx', 'Descritivo de Ajustes_Março20_Contabilizaç¦o.xlsx', 'Descritivo de Ajustes e Impactos aos Agentes_Jan20.xlsx', 'Descritivo de Ajustes e Impactos aos Agentes_Dez19.xlsx', 'Descritivo de Ajustes e Impactos aos Agentes_Nov19.xlsx', 'Descritivo de Ajustes e Impactos aos Agentes_Out19.xlsx', 'Descritivo de Ajustes e Impactos aos Agentes_Set19.xlsx', 'Descritivo de Ajustes e Impactos aos Agentes_Ago19.xlsx', 'Descritivo de Ajustes e Impactos aos Agentes_Jun19.xlsx', 'Descritivo de Ajustes e Impactos aos Agentes_Mai19.xlsx', 'Descritivo de Ajustes e Impactos aos Agentes_Abr19.xlsx', 'Descritivo de Ajustes e Impactos aos Agentes_Mar19.xlsx', 'Descritivo de Ajustes e Impactos aos Agentes_Fev19.xlsx', 'Descritivo de Ajustes e Impactos aos Agentes_Dez18.xlsx', 'Descritivo de Ajustes e Impactos aos Agentes_Nov18.xlsx', 'Descritivo de Ajustes e Impactos aos Agentes - Contab de Out18.xlsx', 'Descritivo Simplificado de Ajustes_Agosto20_Contabilizaç¦o.xlsx', 'Descritivo de Ajustes e Impactos aos Agentes - Contab de Dez17.xlsx']\n",
    "# print(onlyfiles)\n",
    "# # ?raw=true"
   ]
  },
  {
   "cell_type": "code",
   "execution_count": 3,
   "metadata": {
    "colab": {
     "base_uri": "https://localhost:8080/"
    },
    "id": "jUpQU2hrvj_s",
    "outputId": "a6a13f42-b75d-4c7a-fa0c-233f68b46acb"
   },
   "outputs": [],
   "source": [
    "# #Aqui está a leitura\n",
    "# #primeiros os dados do output\n",
    "# path_acronimo='https://github.com/treakj/cienciadedados/blob/main/acronimos_rev2.xlsx?raw=true'\n",
    "# #path_tarifas='https://github.com/treakj/cienciadedados/blob/main/tarifas202019.zip'\n",
    "# #path_eventos='https://github.com/treakj/cienciadedados/blob/0aeef662bf8c068c218134868ee326c5faad8007/eventos.csv'\n",
    "\n",
    "\n",
    "\n",
    "# #leitura dos dados de entrada da CCEE\n",
    "# count=0\n",
    "# for name in onlyfiles:\n",
    "#   #na_values=-9999\n",
    "#   partial=pd.read_excel(f\"{path_ccee}/{name}\", skipfooter=1)\n",
    "#   if count>0:\n",
    "#     tot=tot.append(partial)\n",
    "#   else:\n",
    "#     tot=partial\n",
    "#   count+=1\n",
    "# tot\n",
    "\n",
    "# tot = tot[tot['Unnamed: 0'].notnull()]\n",
    "# tot.info()\n",
    "\n"
   ]
  },
  {
   "cell_type": "code",
   "execution_count": 4,
   "metadata": {
    "id": "q9jGuEAZ-uo4"
   },
   "outputs": [],
   "source": [
    "# tot.to_excel('entradaempilhada.xlsx')\n",
    "# !cp entradaempilhada.xlsx \"drive/My Drive/ml/saida\""
   ]
  },
  {
   "cell_type": "code",
   "execution_count": 5,
   "metadata": {
    "id": "5LP6CeUbixnH"
   },
   "outputs": [],
   "source": [
    "\n",
    "# #começa daqui\n",
    "# path_acronimo='https://github.com/treakj/cienciadedados/blob/main/acronimos_rev2.xlsx?raw=true'\n",
    "# # path_total='https://github.com/williamlapa/categorizar_ccee/blob/master/saidamerged.xlsx?raw=true'\n",
    " \n",
    "# # tot = pd.read_excel(path_total)\n",
    "# acronimo = pd.read_excel(path_acronimo)\n",
    "# acronimo['Chave']=acronimo['NOME'].apply(lambda x: str(x).replace('(*)','').replace('_','-'))\n",
    "\n",
    "# tot['Chave']=tot['Título do Ajuste - conforme relatório SUMÁRIO-001'].apply(lambda x: str(x).replace('(*)','').replace('_','-').replace('                                         ','\\n').split('\\n')[0])\n",
    "\n",
    "# merged=tot.merge(acronimo, right_on='Chave', left_on='Chave', how='left')\n",
    "# # merged=tot.join(acronimo,how='left', on='Chave')\n",
    "\n",
    "# merged['TIPO'].fillna('Sem categoria', inplace=True)\n",
    "# merged['Título do Ajuste - conforme relatório SUMÁRIO-001'].fillna('', inplace=True)\n",
    "# merged['Descrição do Ajuste'].fillna('', inplace=True)\n",
    "# merged['Descrição de Impacto'].fillna('', inplace=True)\n",
    "# merged['Impacto Principal'].fillna('', inplace=True)\n",
    "# # merged.loc[merged['Título do Ajuste - conforme relatório SUMÁRIO-001'].str.contains('Encargo Liquidação MCP'),'TIPO']='Não considerar'\n",
    "\n",
    "# merged.to_excel('saidamerged.xlsx')\n",
    "# !cp saidamerged.xlsx \"drive/My Drive/ml/saida\"\n",
    "\n",
    "\n",
    "#pd.read_csv(path_eventos, sep=\";\" ,encoding='utf-8')"
   ]
  },
  {
   "cell_type": "markdown",
   "metadata": {
    "id": "mJ4f3wLUixnH"
   },
   "source": [
    "##### Projeto começa daqui\n"
   ]
  },
  {
   "cell_type": "code",
   "execution_count": 9,
   "metadata": {
    "colab": {
     "base_uri": "https://localhost:8080/",
     "height": 862
=======
  "cells": [
    {
      "cell_type": "markdown",
      "metadata": {
        "id": "view-in-github",
        "colab_type": "text"
      },
      "source": [
        "<a href=\"https://colab.research.google.com/github/williamlapa/categorizar_ccee/blob/master/PrepML.ipynb\" target=\"_parent\"><img src=\"https://colab.research.google.com/assets/colab-badge.svg\" alt=\"Open In Colab\"/></a>"
      ]
    },
    {
      "cell_type": "markdown",
      "metadata": {
        "id": "ep-5rQE_ixm_"
      },
      "source": [
        "## Machine Learning\r\n"
      ]
    },
    {
      "cell_type": "code",
      "metadata": {
        "colab": {
          "base_uri": "https://localhost:8080/"
        },
        "id": "e2RcG65Oqo_o",
        "outputId": "596a1e0e-3661-4604-dd38-579cf4406701"
      },
      "source": [
        "# from google.colab import drive\n",
        "# drive.mount('/content/drive')\n"
      ],
      "execution_count": null,
      "outputs": [
        {
          "output_type": "stream",
          "text": [
            "Mounted at /content/drive\n"
          ],
          "name": "stdout"
        }
      ]
    },
    {
      "cell_type": "markdown",
      "metadata": {
        "id": "a2SXfK9WixnF"
      },
      "source": [
        "### Apresentação do Dataset"
      ]
    },
    {
      "cell_type": "code",
      "metadata": {
        "id": "mFpII-RsixnG"
      },
      "source": [
        "\n",
        "# leitura de todos os csvs\n",
        "\n",
        "# path_ccee='/content/drive/MyDrive/ml/entrada'\n",
        "# # path_ccee='https://github.com/williamlapa/categorizar_ccee/blob/master/ml/entrada'\n",
        "import pandas as pd\n",
        "import numpy as np\n",
        "# from os import listdir\n",
        "# from os.path import isfile\n",
        "# from os.path import join\n",
        "\n",
        "# onlyfiles =  ([f\"{f}\" for f in listdir(path_ccee) if isfile(join(path_ccee, f))])\n",
        "# # onlyfiles= ['Descritivo Simplificado de Ajustes_Fevereiro20_Final.xlsx', 'Descritivo Simplificado de Ajustes_Dezembro20_Contabilizaç¦o.xlsx', 'Descritivo Simplificado de Ajustes_Julho20_Contabilizaç¦o.xlsx', 'Descritivo Simplificado de Ajustes_Novembro20_Contabilizaç¦o.xlsx', 'Descritivo Simplificado de Ajustes_Outubro20_Contabilizaç¦o.xlsx', 'Descritivo Simplificado de Ajustes_Setembro20_Contabilizaç¦o.xlsx', 'Descritivo de Ajustes e Impactos aos Agentes - Contab de Abr17.xlsx', 'Descritivo de Ajustes e Impactos aos Agentes - Contab de Out17.xlsx', 'Descritivo de Ajustes e Impactos aos Agentes - Contabilizaç¦o de Maio 2016.xlsx', 'Descritivo de Ajustes e Impactos aos Agentes_Jul19.xlsx', 'Descritivo de Ajustes e Impactos aos Agentes - Contab de Jun17.xlsx', 'Descritivo de Ajustes e Impactos aos Agentes - Contab de Mai17.xlsx', 'Descritivo de Ajustes e Impactos aos Agentes - Contab de Fev17.xlsx', 'Descritivo de Ajustes e Impactos aos Agentes - Contab de Jan17.xlsx', 'Descritivo de Ajustes e Impactos aos Agentes - Contab de Dez16.xlsx', 'Descritivo de Ajustes e Impactos aos Agentes - Contab de Novembro 2016.xlsx', 'Descritivo de Ajustes e Impactos aos Agentes - Contabilizaç¦o de Setembro 2016.xlsx', 'Descritivo de Ajustes e Impactos aos Agentes - Contabilizaç¦o de Agosto 2016.xlsx', 'Descritivo de Ajustes e Impactos aos Agentes - Contabilizaç¦o de Julho 2016.xlsx', 'Descritivo de Ajustes e Impactos aos Agentes - Contabilizaç¦o de Junho 2016.xlsx', 'Descritivo de Ajustes e Impactos aos Agentes - Contab de Set18.xlsx', 'Descritivo de Ajustes e Impactos aos Agentes - Contab de Ago18.xlsx', 'Descritivo de Ajustes e Impactos aos Agentes - Contab de Jun18.xlsx', 'Descritivo de Ajustes e Impactos aos Agentes - Contab de Maio18.xlsx', 'Descritivo de Ajustes e Impactos aos Agentes - Contab de Abr18.xlsx', 'Descritivo de Ajustes e Impactos aos Agentes - Contab de Mar18.xlsx', 'Descritivo de Ajustes e Impactos aos Agentes - Contab de Fev18.xlsx', 'Descritivo de Ajustes e Impactos aos Agentes - Contab de Jan18.xlsx', 'Descritivo de Ajustes e Impactos aos Agentes - Contab de Nov17.xlsx', 'Descritivo de Ajustes e Impactos aos Agentes - Contab de Set17.xlsx', 'Descritivo de Ajustes e Impactos aos Agentes - Contab de Ago17.xlsx', 'Descritivo de Ajustes e Impactos aos Agentes - Contab de Jul17.xlsx', 'Descritivo de Ajustes e Impactos aos Agentes - Contab de Mar17.xlsx', 'Descritivo de Ajustes_Junho20_Contabilizaç¦o.xlsx', 'Descritivo de Ajustes_Maio20_Contabilizaç¦o.xlsx', 'Descritivo de Ajustes_Abril20_Contabilizaç¦o.xlsx', 'Descritivo de Ajustes_Março20_Contabilizaç¦o.xlsx', 'Descritivo de Ajustes e Impactos aos Agentes_Jan20.xlsx', 'Descritivo de Ajustes e Impactos aos Agentes_Dez19.xlsx', 'Descritivo de Ajustes e Impactos aos Agentes_Nov19.xlsx', 'Descritivo de Ajustes e Impactos aos Agentes_Out19.xlsx', 'Descritivo de Ajustes e Impactos aos Agentes_Set19.xlsx', 'Descritivo de Ajustes e Impactos aos Agentes_Ago19.xlsx', 'Descritivo de Ajustes e Impactos aos Agentes_Jun19.xlsx', 'Descritivo de Ajustes e Impactos aos Agentes_Mai19.xlsx', 'Descritivo de Ajustes e Impactos aos Agentes_Abr19.xlsx', 'Descritivo de Ajustes e Impactos aos Agentes_Mar19.xlsx', 'Descritivo de Ajustes e Impactos aos Agentes_Fev19.xlsx', 'Descritivo de Ajustes e Impactos aos Agentes_Dez18.xlsx', 'Descritivo de Ajustes e Impactos aos Agentes_Nov18.xlsx', 'Descritivo de Ajustes e Impactos aos Agentes - Contab de Out18.xlsx', 'Descritivo Simplificado de Ajustes_Agosto20_Contabilizaç¦o.xlsx', 'Descritivo de Ajustes e Impactos aos Agentes - Contab de Dez17.xlsx']\n",
        "# print(onlyfiles)\n",
        "# # ?raw=true"
      ],
      "execution_count": 1,
      "outputs": []
    },
    {
      "cell_type": "code",
      "metadata": {
        "id": "jUpQU2hrvj_s",
        "colab": {
          "base_uri": "https://localhost:8080/"
        },
        "outputId": "a6a13f42-b75d-4c7a-fa0c-233f68b46acb"
      },
      "source": [
        "# #Aqui está a leitura\r\n",
        "# #primeiros os dados do output\r\n",
        "# path_acronimo='https://github.com/treakj/cienciadedados/blob/main/acronimos_rev2.xlsx?raw=true'\r\n",
        "# #path_tarifas='https://github.com/treakj/cienciadedados/blob/main/tarifas202019.zip'\r\n",
        "# #path_eventos='https://github.com/treakj/cienciadedados/blob/0aeef662bf8c068c218134868ee326c5faad8007/eventos.csv'\r\n",
        "\r\n",
        "\r\n",
        "\r\n",
        "# #leitura dos dados de entrada da CCEE\r\n",
        "# count=0\r\n",
        "# for name in onlyfiles:\r\n",
        "#   #na_values=-9999\r\n",
        "#   partial=pd.read_excel(f\"{path_ccee}/{name}\", skipfooter=1)\r\n",
        "#   if count>0:\r\n",
        "#     tot=tot.append(partial)\r\n",
        "#   else:\r\n",
        "#     tot=partial\r\n",
        "#   count+=1\r\n",
        "# tot\r\n",
        "\r\n",
        "# tot = tot[tot['Unnamed: 0'].notnull()]\r\n",
        "# tot.info()\r\n",
        "\r\n"
      ],
      "execution_count": null,
      "outputs": [
        {
          "output_type": "stream",
          "text": [
            "<class 'pandas.core.frame.DataFrame'>\n",
            "Int64Index: 1770 entries, 0 to 30\n",
            "Data columns (total 6 columns):\n",
            " #   Column                                             Non-Null Count  Dtype  \n",
            "---  ------                                             --------------  -----  \n",
            " 0   Unnamed: 0                                         1770 non-null   float64\n",
            " 1   Título do Ajuste - conforme relatório SUMÁRIO-001  1767 non-null   object \n",
            " 2   Descrição do Ajuste                                1767 non-null   object \n",
            " 3   Descrição de Impacto                               1767 non-null   object \n",
            " 4   Impacto Principal                                  1748 non-null   object \n",
            " 5   Observação                                         624 non-null    object \n",
            "dtypes: float64(1), object(5)\n",
            "memory usage: 96.8+ KB\n"
          ],
          "name": "stdout"
        }
      ]
    },
    {
      "cell_type": "code",
      "metadata": {
        "id": "q9jGuEAZ-uo4"
      },
      "source": [
        "# tot.to_excel('entradaempilhada.xlsx')\r\n",
        "# !cp entradaempilhada.xlsx \"drive/My Drive/ml/saida\""
      ],
      "execution_count": null,
      "outputs": []
    },
    {
      "cell_type": "code",
      "metadata": {
        "id": "5LP6CeUbixnH"
      },
      "source": [
        "\n",
        "# #começa daqui\n",
        "# path_acronimo='https://github.com/treakj/cienciadedados/blob/main/acronimos_rev2.xlsx?raw=true'\n",
        "# # path_total='https://github.com/williamlapa/categorizar_ccee/blob/master/saidamerged.xlsx?raw=true'\n",
        " \n",
        "# # tot = pd.read_excel(path_total)\n",
        "# acronimo = pd.read_excel(path_acronimo)\n",
        "# acronimo['Chave']=acronimo['NOME'].apply(lambda x: str(x).replace('(*)','').replace('_','-'))\n",
        "\n",
        "# tot['Chave']=tot['Título do Ajuste - conforme relatório SUMÁRIO-001'].apply(lambda x: str(x).replace('(*)','').replace('_','-').replace('                                         ','\\n').split('\\n')[0])\n",
        "\n",
        "# merged=tot.merge(acronimo, right_on='Chave', left_on='Chave', how='left')\n",
        "# # merged=tot.join(acronimo,how='left', on='Chave')\n",
        "\n",
        "# merged['TIPO'].fillna('Sem categoria', inplace=True)\n",
        "# merged['Título do Ajuste - conforme relatório SUMÁRIO-001'].fillna('', inplace=True)\n",
        "# merged['Descrição do Ajuste'].fillna('', inplace=True)\n",
        "# merged['Descrição de Impacto'].fillna('', inplace=True)\n",
        "# merged['Impacto Principal'].fillna('', inplace=True)\n",
        "# # merged.loc[merged['Título do Ajuste - conforme relatório SUMÁRIO-001'].str.contains('Encargo Liquidação MCP'),'TIPO']='Não considerar'\n",
        "\n",
        "# merged.to_excel('saidamerged.xlsx')\n",
        "# !cp saidamerged.xlsx \"drive/My Drive/ml/saida\"\n",
        "\n",
        "\n",
        "#pd.read_csv(path_eventos, sep=\";\" ,encoding='utf-8')"
      ],
      "execution_count": null,
      "outputs": []
    },
    {
      "cell_type": "markdown",
      "metadata": {
        "id": "mJ4f3wLUixnH"
      },
      "source": [
        "##### Projeto começa daqui\r\n"
      ]
    },
    {
      "cell_type": "code",
      "metadata": {
        "colab": {
          "base_uri": "https://localhost:8080/",
          "height": 622
        },
        "id": "I3ydn0aJlpKg",
        "outputId": "f27c1204-fcc2-41cb-8691-64433a14af2e"
      },
      "source": [
        "\r\n",
        "path_merged='https://github.com/williamlapa/categorizar_ccee/blob/master/saidamerged.xlsx?raw=true'\r\n",
        "merged = pd.read_excel(path_merged)\r\n",
        "merged['TIPO'].value_counts().plot(kind='bar')\r\n",
        "# acronimo = pd.read_excel(path_acronimo)\r\n",
        "merged['TIPO'].fillna('Sem categoria', inplace=True)\r\n",
        "merged['Título do Ajuste - conforme relatório SUMÁRIO-001'].fillna('', inplace=True)\r\n",
        "merged['Descrição do Ajuste'].fillna('', inplace=True)\r\n",
        "merged['Descrição de Impacto'].fillna('', inplace=True)\r\n",
        "merged['Impacto Principal'].fillna('', inplace=True)\r\n",
        "merged.info()\r\n",
        "# tot.to_excel('teste.xlsx')\r\n",
        "# !cp teste.xlsx \"drive/My Drive/ml/\""
      ],
      "execution_count": 6,
      "outputs": [
        {
          "output_type": "stream",
          "text": [
            "<class 'pandas.core.frame.DataFrame'>\n",
            "RangeIndex: 1770 entries, 0 to 1769\n",
            "Data columns (total 10 columns):\n",
            " #   Column                                             Non-Null Count  Dtype \n",
            "---  ------                                             --------------  ----- \n",
            " 0   Unnamed: 0                                         1770 non-null   int64 \n",
            " 1   Unnamed: 0.1                                       1770 non-null   int64 \n",
            " 2   Título do Ajuste - conforme relatório SUMÁRIO-001  1770 non-null   object\n",
            " 3   Descrição do Ajuste                                1770 non-null   object\n",
            " 4   Descrição de Impacto                               1770 non-null   object\n",
            " 5   Impacto Principal                                  1770 non-null   object\n",
            " 6   Observação                                         624 non-null    object\n",
            " 7   Chave                                              1755 non-null   object\n",
            " 8   TIPO                                               1770 non-null   object\n",
            " 9   NOME                                               1693 non-null   object\n",
            "dtypes: int64(2), object(8)\n",
            "memory usage: 138.4+ KB\n"
          ],
          "name": "stdout"
        },
        {
          "output_type": "display_data",
          "data": {
            "image/png": "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\n",
            "text/plain": [
              "<Figure size 432x288 with 1 Axes>"
            ]
          },
          "metadata": {
            "tags": [],
            "needs_background": "light"
          }
        }
      ]
    },
    {
      "cell_type": "code",
      "metadata": {
        "id": "cDRS5B5X4nnp"
      },
      "source": [
        "from sklearn.feature_extraction.text import CountVectorizer\r\n",
        "from sklearn.feature_extraction.text import TfidfTransformer\r\n",
        "from sklearn.linear_model import SGDClassifier\r\n",
        "from sklearn.model_selection import GridSearchCV\r\n",
        "from sklearn.pipeline import Pipeline\r\n",
        "# pipeline = Pipeline([\r\n",
        "#     ('vect', CountVectorizer(max_df=1.0, max_features=50000,ngram_range=(1,2))),\r\n",
        "#     ('tfidf', TfidfTransformer(use_idf=True,norm='l2')),\r\n",
        "#     ('clf', SGDClassifier(loss='log',alpha=1e-06, penalty='elasticnet')), # default hinge. to get proba=log or modified_huber\r\n",
        "# ])\r\n",
        "pipeline = Pipeline([\r\n",
        "    ('vect', CountVectorizer(max_df=1.0, max_features=50000,ngram_range=(1,2))),\r\n",
        "    ('tfidf', TfidfTransformer(use_idf=True,norm='l2')),\r\n",
        "    ('clf', SGDClassifier(loss='hinge',alpha=1e-06, penalty='elasticnet')), # default hinge. to get proba=log or modified_huber\r\n",
        "])\r\n",
        "\r\n",
        "# parametro loss é uma função que vai computar o erro num teste de classificação.\r\n",
        "# parametro penalty define como o algoritmo de treinamento vai tratar o erro, o elasticnet pode usar uma rede elástica, podendo zerar features com contribuição baixa (nem precisa usar o stopwords)\r\n",
        "# alpha é a intensidade da alteração. como é que posso dizer, é o learning rate, o ritmo de aprendizado do algorítimo. "
      ],
      "execution_count": 3,
      "outputs": []
    },
    {
      "cell_type": "code",
      "metadata": {
        "id": "79TPXISpVDOh"
      },
      "source": [
        "merged['todas_as_colunas']=merged['Título do Ajuste - conforme relatório SUMÁRIO-001']+merged['Descrição do Ajuste']+merged['Descrição de Impacto']+merged['Impacto Principal']\r\n",
        "\r\n",
        "from sklearn.model_selection import train_test_split\r\n",
        "X_train, X_test, y_train, y_test = train_test_split(merged['todas_as_colunas'], merged['TIPO'], test_size=0.2, \r\n",
        "                                                    stratify=merged['TIPO'],random_state=42)"
      ],
      "execution_count": 7,
      "outputs": []
>>>>>>> 2031463a9a3c186f8c79c31a711fd96d773d40c4
    },
    "id": "I3ydn0aJlpKg",
    "outputId": "d60ee964-5a50-4865-93d9-eeb80b3ff6e0"
   },
   "outputs": [
    {
     "name": "stdout",
     "output_type": "stream",
     "text": [
      "<class 'pandas.core.frame.DataFrame'>\n",
      "RangeIndex: 1770 entries, 0 to 1769\n",
      "Data columns (total 10 columns):\n",
      " #   Column                                             Non-Null Count  Dtype \n",
      "---  ------                                             --------------  ----- \n",
      " 0   Unnamed: 0                                         1770 non-null   int64 \n",
      " 1   Unnamed: 0.1                                       1770 non-null   int64 \n",
      " 2   Título do Ajuste - conforme relatório SUMÁRIO-001  1767 non-null   object\n",
      " 3   Descrição do Ajuste                                1767 non-null   object\n",
      " 4   Descrição de Impacto                               1767 non-null   object\n",
      " 5   Impacto Principal                                  1748 non-null   object\n",
      " 6   Observação                                         624 non-null    object\n",
      " 7   Chave                                              1755 non-null   object\n",
      " 8   TIPO                                               1770 non-null   object\n",
      " 9   NOME                                               1693 non-null   object\n",
      "dtypes: int64(2), object(8)\n",
      "memory usage: 138.4+ KB\n"
     ]
    },
    {
<<<<<<< HEAD
     "data": {
      "image/png": "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\n",
      "text/plain": [
       "<Figure size 432x288 with 1 Axes>"
=======
      "cell_type": "code",
      "metadata": {
        "colab": {
          "base_uri": "https://localhost:8080/"
        },
        "id": "9dhE5ZJ1VFX5",
        "outputId": "06a0eb3f-0355-4d55-93de-80661f5ef3e9"
      },
      "source": [
        "classificador = pipeline.fit(X_train, y_train)\r\n",
        "classificador.score(X_test,y_test)"
      ],
      "execution_count": 8,
      "outputs": [
        {
          "output_type": "execute_result",
          "data": {
            "text/plain": [
              "0.9717514124293786"
            ]
          },
          "metadata": {
            "tags": []
          },
          "execution_count": 8
        }
>>>>>>> 2031463a9a3c186f8c79c31a711fd96d773d40c4
      ]
     },
     "metadata": {
      "needs_background": "light"
     },
     "output_type": "display_data"
    }
   ],
   "source": [
    "\n",
    "path_merged='https://github.com/williamlapa/categorizar_ccee/blob/master/saidamerged.xlsx?raw=true'\n",
    "merged = pd.read_excel(path_merged)\n",
    "merged['TIPO'].value_counts().plot(kind='bar')\n",
    "# acronimo = pd.read_excel(path_acronimo)\n",
    "merged.info()\n",
    "# tot.to_excel('teste.xlsx')\n",
    "# !cp teste.xlsx \"drive/My Drive/ml/\""
   ]
  },
  {
   "cell_type": "code",
   "execution_count": 10,
   "metadata": {
    "id": "cDRS5B5X4nnp"
   },
   "outputs": [],
   "source": [
    "from sklearn.feature_extraction.text import CountVectorizer\n",
    "from sklearn.feature_extraction.text import TfidfTransformer\n",
    "from sklearn.linear_model import SGDClassifier\n",
    "from sklearn.model_selection import GridSearchCV\n",
    "from sklearn.pipeline import Pipeline\n",
    "# pipeline = Pipeline([\n",
    "#     ('vect', CountVectorizer(max_df=1.0, max_features=50000,ngram_range=(1,2))),\n",
    "#     ('tfidf', TfidfTransformer(use_idf=True,norm='l2')),\n",
    "#     ('clf', SGDClassifier(loss='log',alpha=1e-06, penalty='elasticnet')), # default hinge. to get proba=log or modified_huber\n",
    "# ])\n",
    "pipeline = Pipeline([\n",
    "    ('vect', CountVectorizer(max_df=1.0, max_features=50000,ngram_range=(1,2))),\n",
    "    ('tfidf', TfidfTransformer(use_idf=True,norm='l2')),\n",
    "    ('clf', SGDClassifier(loss='hinge',alpha=1e-06, penalty='elasticnet')), # default hinge. to get proba=log or modified_huber\n",
    "])\n",
    "\n",
    "# parametro loss é uma função que vai computar o erro num teste de classificação.\n",
    "# parametro penalty define como o algoritmo de treinamento vai tratar o erro, o elasticnet pode usar uma rede elástica, podendo zerar features com contribuição baixa (nem precisa usar o stopwords)\n",
    "# alpha é a intensidade da alteração. como é que posso dizer, é o learning rate, o ritmo de aprendizado do algorítimo. "
   ]
  },
  {
   "cell_type": "code",
   "execution_count": 11,
   "metadata": {
    "id": "79TPXISpVDOh"
   },
   "outputs": [],
   "source": [
    "merged['todas_as_colunas']=merged['Título do Ajuste - conforme relatório SUMÁRIO-001']+merged['Descrição do Ajuste']+merged['Descrição de Impacto']+merged['Impacto Principal']\n",
    "\n",
    "from sklearn.model_selection import train_test_split\n",
    "X_train, X_test, y_train, y_test = train_test_split(merged['todas_as_colunas'], merged['TIPO'], test_size=0.2, \n",
    "                                                    stratify=merged['TIPO'],random_state=42)"
   ]
  },
  {
   "cell_type": "markdown",
   "metadata": {
    "id": "Weh3PcLCA4CU"
   },
   "source": []
  },
  {
   "cell_type": "code",
   "execution_count": 12,
   "metadata": {
    "colab": {
     "base_uri": "https://localhost:8080/"
    },
    "id": "9dhE5ZJ1VFX5",
    "outputId": "4f7cc2f6-cbc9-4a2b-aa9c-16857f01b80b"
   },
   "outputs": [
    {
<<<<<<< HEAD
     "ename": "ValueError",
     "evalue": "np.nan is an invalid document, expected byte or unicode string.",
     "output_type": "error",
     "traceback": [
      "\u001b[1;31m---------------------------------------------------------------------------\u001b[0m",
      "\u001b[1;31mValueError\u001b[0m                                Traceback (most recent call last)",
      "\u001b[1;32m<ipython-input-12-e4afc362afd7>\u001b[0m in \u001b[0;36m<module>\u001b[1;34m\u001b[0m\n\u001b[1;32m----> 1\u001b[1;33m \u001b[0mclassificador\u001b[0m \u001b[1;33m=\u001b[0m \u001b[0mpipeline\u001b[0m\u001b[1;33m.\u001b[0m\u001b[0mfit\u001b[0m\u001b[1;33m(\u001b[0m\u001b[0mX_train\u001b[0m\u001b[1;33m,\u001b[0m \u001b[0my_train\u001b[0m\u001b[1;33m)\u001b[0m\u001b[1;33m\u001b[0m\u001b[1;33m\u001b[0m\u001b[0m\n\u001b[0m\u001b[0;32m      2\u001b[0m \u001b[0mclassificador\u001b[0m\u001b[1;33m.\u001b[0m\u001b[0mscore\u001b[0m\u001b[1;33m(\u001b[0m\u001b[0mX_test\u001b[0m\u001b[1;33m,\u001b[0m\u001b[0my_test\u001b[0m\u001b[1;33m)\u001b[0m\u001b[1;33m\u001b[0m\u001b[1;33m\u001b[0m\u001b[0m\n",
      "\u001b[1;32mC:\\ProgramData\\Anaconda3\\lib\\site-packages\\sklearn\\pipeline.py\u001b[0m in \u001b[0;36mfit\u001b[1;34m(self, X, y, **fit_params)\u001b[0m\n\u001b[0;32m    328\u001b[0m         \"\"\"\n\u001b[0;32m    329\u001b[0m         \u001b[0mfit_params_steps\u001b[0m \u001b[1;33m=\u001b[0m \u001b[0mself\u001b[0m\u001b[1;33m.\u001b[0m\u001b[0m_check_fit_params\u001b[0m\u001b[1;33m(\u001b[0m\u001b[1;33m**\u001b[0m\u001b[0mfit_params\u001b[0m\u001b[1;33m)\u001b[0m\u001b[1;33m\u001b[0m\u001b[1;33m\u001b[0m\u001b[0m\n\u001b[1;32m--> 330\u001b[1;33m         \u001b[0mXt\u001b[0m \u001b[1;33m=\u001b[0m \u001b[0mself\u001b[0m\u001b[1;33m.\u001b[0m\u001b[0m_fit\u001b[0m\u001b[1;33m(\u001b[0m\u001b[0mX\u001b[0m\u001b[1;33m,\u001b[0m \u001b[0my\u001b[0m\u001b[1;33m,\u001b[0m \u001b[1;33m**\u001b[0m\u001b[0mfit_params_steps\u001b[0m\u001b[1;33m)\u001b[0m\u001b[1;33m\u001b[0m\u001b[1;33m\u001b[0m\u001b[0m\n\u001b[0m\u001b[0;32m    331\u001b[0m         with _print_elapsed_time('Pipeline',\n\u001b[0;32m    332\u001b[0m                                  self._log_message(len(self.steps) - 1)):\n",
      "\u001b[1;32mC:\\ProgramData\\Anaconda3\\lib\\site-packages\\sklearn\\pipeline.py\u001b[0m in \u001b[0;36m_fit\u001b[1;34m(self, X, y, **fit_params_steps)\u001b[0m\n\u001b[0;32m    290\u001b[0m                 \u001b[0mcloned_transformer\u001b[0m \u001b[1;33m=\u001b[0m \u001b[0mclone\u001b[0m\u001b[1;33m(\u001b[0m\u001b[0mtransformer\u001b[0m\u001b[1;33m)\u001b[0m\u001b[1;33m\u001b[0m\u001b[1;33m\u001b[0m\u001b[0m\n\u001b[0;32m    291\u001b[0m             \u001b[1;31m# Fit or load from cache the current transformer\u001b[0m\u001b[1;33m\u001b[0m\u001b[1;33m\u001b[0m\u001b[1;33m\u001b[0m\u001b[0m\n\u001b[1;32m--> 292\u001b[1;33m             X, fitted_transformer = fit_transform_one_cached(\n\u001b[0m\u001b[0;32m    293\u001b[0m                 \u001b[0mcloned_transformer\u001b[0m\u001b[1;33m,\u001b[0m \u001b[0mX\u001b[0m\u001b[1;33m,\u001b[0m \u001b[0my\u001b[0m\u001b[1;33m,\u001b[0m \u001b[1;32mNone\u001b[0m\u001b[1;33m,\u001b[0m\u001b[1;33m\u001b[0m\u001b[1;33m\u001b[0m\u001b[0m\n\u001b[0;32m    294\u001b[0m                 \u001b[0mmessage_clsname\u001b[0m\u001b[1;33m=\u001b[0m\u001b[1;34m'Pipeline'\u001b[0m\u001b[1;33m,\u001b[0m\u001b[1;33m\u001b[0m\u001b[1;33m\u001b[0m\u001b[0m\n",
      "\u001b[1;32mC:\\ProgramData\\Anaconda3\\lib\\site-packages\\joblib\\memory.py\u001b[0m in \u001b[0;36m__call__\u001b[1;34m(self, *args, **kwargs)\u001b[0m\n\u001b[0;32m    350\u001b[0m \u001b[1;33m\u001b[0m\u001b[0m\n\u001b[0;32m    351\u001b[0m     \u001b[1;32mdef\u001b[0m \u001b[0m__call__\u001b[0m\u001b[1;33m(\u001b[0m\u001b[0mself\u001b[0m\u001b[1;33m,\u001b[0m \u001b[1;33m*\u001b[0m\u001b[0margs\u001b[0m\u001b[1;33m,\u001b[0m \u001b[1;33m**\u001b[0m\u001b[0mkwargs\u001b[0m\u001b[1;33m)\u001b[0m\u001b[1;33m:\u001b[0m\u001b[1;33m\u001b[0m\u001b[1;33m\u001b[0m\u001b[0m\n\u001b[1;32m--> 352\u001b[1;33m         \u001b[1;32mreturn\u001b[0m \u001b[0mself\u001b[0m\u001b[1;33m.\u001b[0m\u001b[0mfunc\u001b[0m\u001b[1;33m(\u001b[0m\u001b[1;33m*\u001b[0m\u001b[0margs\u001b[0m\u001b[1;33m,\u001b[0m \u001b[1;33m**\u001b[0m\u001b[0mkwargs\u001b[0m\u001b[1;33m)\u001b[0m\u001b[1;33m\u001b[0m\u001b[1;33m\u001b[0m\u001b[0m\n\u001b[0m\u001b[0;32m    353\u001b[0m \u001b[1;33m\u001b[0m\u001b[0m\n\u001b[0;32m    354\u001b[0m     \u001b[1;32mdef\u001b[0m \u001b[0mcall_and_shelve\u001b[0m\u001b[1;33m(\u001b[0m\u001b[0mself\u001b[0m\u001b[1;33m,\u001b[0m \u001b[1;33m*\u001b[0m\u001b[0margs\u001b[0m\u001b[1;33m,\u001b[0m \u001b[1;33m**\u001b[0m\u001b[0mkwargs\u001b[0m\u001b[1;33m)\u001b[0m\u001b[1;33m:\u001b[0m\u001b[1;33m\u001b[0m\u001b[1;33m\u001b[0m\u001b[0m\n",
      "\u001b[1;32mC:\\ProgramData\\Anaconda3\\lib\\site-packages\\sklearn\\pipeline.py\u001b[0m in \u001b[0;36m_fit_transform_one\u001b[1;34m(transformer, X, y, weight, message_clsname, message, **fit_params)\u001b[0m\n\u001b[0;32m    738\u001b[0m     \u001b[1;32mwith\u001b[0m \u001b[0m_print_elapsed_time\u001b[0m\u001b[1;33m(\u001b[0m\u001b[0mmessage_clsname\u001b[0m\u001b[1;33m,\u001b[0m \u001b[0mmessage\u001b[0m\u001b[1;33m)\u001b[0m\u001b[1;33m:\u001b[0m\u001b[1;33m\u001b[0m\u001b[1;33m\u001b[0m\u001b[0m\n\u001b[0;32m    739\u001b[0m         \u001b[1;32mif\u001b[0m \u001b[0mhasattr\u001b[0m\u001b[1;33m(\u001b[0m\u001b[0mtransformer\u001b[0m\u001b[1;33m,\u001b[0m \u001b[1;34m'fit_transform'\u001b[0m\u001b[1;33m)\u001b[0m\u001b[1;33m:\u001b[0m\u001b[1;33m\u001b[0m\u001b[1;33m\u001b[0m\u001b[0m\n\u001b[1;32m--> 740\u001b[1;33m             \u001b[0mres\u001b[0m \u001b[1;33m=\u001b[0m \u001b[0mtransformer\u001b[0m\u001b[1;33m.\u001b[0m\u001b[0mfit_transform\u001b[0m\u001b[1;33m(\u001b[0m\u001b[0mX\u001b[0m\u001b[1;33m,\u001b[0m \u001b[0my\u001b[0m\u001b[1;33m,\u001b[0m \u001b[1;33m**\u001b[0m\u001b[0mfit_params\u001b[0m\u001b[1;33m)\u001b[0m\u001b[1;33m\u001b[0m\u001b[1;33m\u001b[0m\u001b[0m\n\u001b[0m\u001b[0;32m    741\u001b[0m         \u001b[1;32melse\u001b[0m\u001b[1;33m:\u001b[0m\u001b[1;33m\u001b[0m\u001b[1;33m\u001b[0m\u001b[0m\n\u001b[0;32m    742\u001b[0m             \u001b[0mres\u001b[0m \u001b[1;33m=\u001b[0m \u001b[0mtransformer\u001b[0m\u001b[1;33m.\u001b[0m\u001b[0mfit\u001b[0m\u001b[1;33m(\u001b[0m\u001b[0mX\u001b[0m\u001b[1;33m,\u001b[0m \u001b[0my\u001b[0m\u001b[1;33m,\u001b[0m \u001b[1;33m**\u001b[0m\u001b[0mfit_params\u001b[0m\u001b[1;33m)\u001b[0m\u001b[1;33m.\u001b[0m\u001b[0mtransform\u001b[0m\u001b[1;33m(\u001b[0m\u001b[0mX\u001b[0m\u001b[1;33m)\u001b[0m\u001b[1;33m\u001b[0m\u001b[1;33m\u001b[0m\u001b[0m\n",
      "\u001b[1;32mC:\\ProgramData\\Anaconda3\\lib\\site-packages\\sklearn\\feature_extraction\\text.py\u001b[0m in \u001b[0;36mfit_transform\u001b[1;34m(self, raw_documents, y)\u001b[0m\n\u001b[0;32m   1196\u001b[0m         \u001b[0mmax_features\u001b[0m \u001b[1;33m=\u001b[0m \u001b[0mself\u001b[0m\u001b[1;33m.\u001b[0m\u001b[0mmax_features\u001b[0m\u001b[1;33m\u001b[0m\u001b[1;33m\u001b[0m\u001b[0m\n\u001b[0;32m   1197\u001b[0m \u001b[1;33m\u001b[0m\u001b[0m\n\u001b[1;32m-> 1198\u001b[1;33m         vocabulary, X = self._count_vocab(raw_documents,\n\u001b[0m\u001b[0;32m   1199\u001b[0m                                           self.fixed_vocabulary_)\n\u001b[0;32m   1200\u001b[0m \u001b[1;33m\u001b[0m\u001b[0m\n",
      "\u001b[1;32mC:\\ProgramData\\Anaconda3\\lib\\site-packages\\sklearn\\feature_extraction\\text.py\u001b[0m in \u001b[0;36m_count_vocab\u001b[1;34m(self, raw_documents, fixed_vocab)\u001b[0m\n\u001b[0;32m   1108\u001b[0m         \u001b[1;32mfor\u001b[0m \u001b[0mdoc\u001b[0m \u001b[1;32min\u001b[0m \u001b[0mraw_documents\u001b[0m\u001b[1;33m:\u001b[0m\u001b[1;33m\u001b[0m\u001b[1;33m\u001b[0m\u001b[0m\n\u001b[0;32m   1109\u001b[0m             \u001b[0mfeature_counter\u001b[0m \u001b[1;33m=\u001b[0m \u001b[1;33m{\u001b[0m\u001b[1;33m}\u001b[0m\u001b[1;33m\u001b[0m\u001b[1;33m\u001b[0m\u001b[0m\n\u001b[1;32m-> 1110\u001b[1;33m             \u001b[1;32mfor\u001b[0m \u001b[0mfeature\u001b[0m \u001b[1;32min\u001b[0m \u001b[0manalyze\u001b[0m\u001b[1;33m(\u001b[0m\u001b[0mdoc\u001b[0m\u001b[1;33m)\u001b[0m\u001b[1;33m:\u001b[0m\u001b[1;33m\u001b[0m\u001b[1;33m\u001b[0m\u001b[0m\n\u001b[0m\u001b[0;32m   1111\u001b[0m                 \u001b[1;32mtry\u001b[0m\u001b[1;33m:\u001b[0m\u001b[1;33m\u001b[0m\u001b[1;33m\u001b[0m\u001b[0m\n\u001b[0;32m   1112\u001b[0m                     \u001b[0mfeature_idx\u001b[0m \u001b[1;33m=\u001b[0m \u001b[0mvocabulary\u001b[0m\u001b[1;33m[\u001b[0m\u001b[0mfeature\u001b[0m\u001b[1;33m]\u001b[0m\u001b[1;33m\u001b[0m\u001b[1;33m\u001b[0m\u001b[0m\n",
      "\u001b[1;32mC:\\ProgramData\\Anaconda3\\lib\\site-packages\\sklearn\\feature_extraction\\text.py\u001b[0m in \u001b[0;36m_analyze\u001b[1;34m(doc, analyzer, tokenizer, ngrams, preprocessor, decoder, stop_words)\u001b[0m\n\u001b[0;32m     97\u001b[0m \u001b[1;33m\u001b[0m\u001b[0m\n\u001b[0;32m     98\u001b[0m     \u001b[1;32mif\u001b[0m \u001b[0mdecoder\u001b[0m \u001b[1;32mis\u001b[0m \u001b[1;32mnot\u001b[0m \u001b[1;32mNone\u001b[0m\u001b[1;33m:\u001b[0m\u001b[1;33m\u001b[0m\u001b[1;33m\u001b[0m\u001b[0m\n\u001b[1;32m---> 99\u001b[1;33m         \u001b[0mdoc\u001b[0m \u001b[1;33m=\u001b[0m \u001b[0mdecoder\u001b[0m\u001b[1;33m(\u001b[0m\u001b[0mdoc\u001b[0m\u001b[1;33m)\u001b[0m\u001b[1;33m\u001b[0m\u001b[1;33m\u001b[0m\u001b[0m\n\u001b[0m\u001b[0;32m    100\u001b[0m     \u001b[1;32mif\u001b[0m \u001b[0manalyzer\u001b[0m \u001b[1;32mis\u001b[0m \u001b[1;32mnot\u001b[0m \u001b[1;32mNone\u001b[0m\u001b[1;33m:\u001b[0m\u001b[1;33m\u001b[0m\u001b[1;33m\u001b[0m\u001b[0m\n\u001b[0;32m    101\u001b[0m         \u001b[0mdoc\u001b[0m \u001b[1;33m=\u001b[0m \u001b[0manalyzer\u001b[0m\u001b[1;33m(\u001b[0m\u001b[0mdoc\u001b[0m\u001b[1;33m)\u001b[0m\u001b[1;33m\u001b[0m\u001b[1;33m\u001b[0m\u001b[0m\n",
      "\u001b[1;32mC:\\ProgramData\\Anaconda3\\lib\\site-packages\\sklearn\\feature_extraction\\text.py\u001b[0m in \u001b[0;36mdecode\u001b[1;34m(self, doc)\u001b[0m\n\u001b[0;32m    217\u001b[0m \u001b[1;33m\u001b[0m\u001b[0m\n\u001b[0;32m    218\u001b[0m         \u001b[1;32mif\u001b[0m \u001b[0mdoc\u001b[0m \u001b[1;32mis\u001b[0m \u001b[0mnp\u001b[0m\u001b[1;33m.\u001b[0m\u001b[0mnan\u001b[0m\u001b[1;33m:\u001b[0m\u001b[1;33m\u001b[0m\u001b[1;33m\u001b[0m\u001b[0m\n\u001b[1;32m--> 219\u001b[1;33m             raise ValueError(\"np.nan is an invalid document, expected byte or \"\n\u001b[0m\u001b[0;32m    220\u001b[0m                              \"unicode string.\")\n\u001b[0;32m    221\u001b[0m \u001b[1;33m\u001b[0m\u001b[0m\n",
      "\u001b[1;31mValueError\u001b[0m: np.nan is an invalid document, expected byte or unicode string."
     ]
    }
   ],
   "source": [
    "classificador = pipeline.fit(X_train, y_train)\n",
    "classificador.score(X_test,y_test)"
   ]
  },
  {
   "cell_type": "code",
   "execution_count": 23,
   "metadata": {
    "id": "2Nn_hx4EKikI"
   },
   "outputs": [],
   "source": [
    "# teste mais generalizado com seeds até 100\n",
    "avaliacao=[]\n",
    "for i in range(1,200):\n",
    "  X_train, X_test, y_train, y_test = train_test_split(merged['todas_as_colunas'], merged['TIPO'], test_size=0.8,  \n",
    "                                                      stratify=merged['TIPO'],random_state=i)\n",
    "  classificador = pipeline.fit(X_train, y_train)\n",
    "  score = classificador.score(X_test,y_test)\n",
    "  avaliacao.append({\"score\":score, \"seed\": i})\n",
    "\n",
    "\n",
    "\n"
   ]
  },
  {
   "cell_type": "code",
   "execution_count": 20,
   "metadata": {
    "id": "i1vssylo-I6R"
   },
   "outputs": [],
   "source": [
    "\n",
    "from sklearn.model_selection import StratifiedShuffleSplit"
   ]
  },
  {
   "cell_type": "code",
   "execution_count": 14,
   "metadata": {
    "colab": {
     "base_uri": "https://localhost:8080/",
     "height": 557
=======
      "cell_type": "code",
      "metadata": {
        "id": "2Nn_hx4EKikI"
      },
      "source": [
        "# teste mais generalizado com seeds até 100\r\n",
        "avaliacao=[]\r\n",
        "for i in range(1,200):\r\n",
        "  X_train, X_test, y_train, y_test = train_test_split(merged['todas_as_colunas'], merged['TIPO'], test_size=0.8,  \r\n",
        "                                                      stratify=merged['TIPO'],random_state=i)\r\n",
        "  classificador = pipeline.fit(X_train, y_train)\r\n",
        "  score = classificador.score(X_test,y_test)\r\n",
        "  avaliacao.append({\"score\":score, \"seed\": i})\r\n",
        "\r\n",
        "\r\n",
        "\r\n"
      ],
      "execution_count": null,
      "outputs": []
    },
    {
      "cell_type": "code",
      "metadata": {
        "id": "i1vssylo-I6R"
      },
      "source": [
        "\r\n",
        "from sklearn.model_selection import StratifiedShuffleSplit"
      ],
      "execution_count": null,
      "outputs": []
>>>>>>> 2031463a9a3c186f8c79c31a711fd96d773d40c4
    },
    "id": "IyANn0FkLbwd",
    "outputId": "8892b21d-1d67-42bb-b609-c20389962415"
   },
   "outputs": [
    {
     "data": {
      "text/html": [
       "<div>\n",
       "<style scoped>\n",
       "    .dataframe tbody tr th:only-of-type {\n",
       "        vertical-align: middle;\n",
       "    }\n",
       "\n",
       "    .dataframe tbody tr th {\n",
       "        vertical-align: top;\n",
       "    }\n",
       "\n",
       "    .dataframe thead th {\n",
       "        text-align: right;\n",
       "    }\n",
       "</style>\n",
       "<table border=\"1\" class=\"dataframe\">\n",
       "  <thead>\n",
       "    <tr style=\"text-align: right;\">\n",
       "      <th></th>\n",
       "      <th>score</th>\n",
       "      <th>seed</th>\n",
       "    </tr>\n",
       "  </thead>\n",
       "  <tbody>\n",
       "    <tr>\n",
       "      <th>count</th>\n",
       "      <td>199.000000</td>\n",
       "      <td>199.000000</td>\n",
       "    </tr>\n",
       "    <tr>\n",
       "      <th>mean</th>\n",
       "      <td>0.940188</td>\n",
       "      <td>100.000000</td>\n",
       "    </tr>\n",
       "    <tr>\n",
       "      <th>std</th>\n",
       "      <td>0.008902</td>\n",
       "      <td>57.590508</td>\n",
       "    </tr>\n",
       "    <tr>\n",
       "      <th>min</th>\n",
       "      <td>0.904661</td>\n",
       "      <td>1.000000</td>\n",
       "    </tr>\n",
       "    <tr>\n",
       "      <th>25%</th>\n",
       "      <td>0.935028</td>\n",
       "      <td>50.500000</td>\n",
       "    </tr>\n",
       "    <tr>\n",
       "      <th>50%</th>\n",
       "      <td>0.940678</td>\n",
       "      <td>100.000000</td>\n",
       "    </tr>\n",
       "    <tr>\n",
       "      <th>75%</th>\n",
       "      <td>0.946328</td>\n",
       "      <td>149.500000</td>\n",
       "    </tr>\n",
       "    <tr>\n",
       "      <th>max</th>\n",
       "      <td>0.960452</td>\n",
       "      <td>199.000000</td>\n",
       "    </tr>\n",
       "  </tbody>\n",
       "</table>\n",
       "</div>"
      ],
<<<<<<< HEAD
      "text/plain": [
       "            score        seed\n",
       "count  199.000000  199.000000\n",
       "mean     0.940188  100.000000\n",
       "std      0.008902   57.590508\n",
       "min      0.904661    1.000000\n",
       "25%      0.935028   50.500000\n",
       "50%      0.940678  100.000000\n",
       "75%      0.946328  149.500000\n",
       "max      0.960452  199.000000"
=======
      "execution_count": null,
      "outputs": [
        {
          "output_type": "execute_result",
          "data": {
            "text/html": [
              "<div>\n",
              "<style scoped>\n",
              "    .dataframe tbody tr th:only-of-type {\n",
              "        vertical-align: middle;\n",
              "    }\n",
              "\n",
              "    .dataframe tbody tr th {\n",
              "        vertical-align: top;\n",
              "    }\n",
              "\n",
              "    .dataframe thead th {\n",
              "        text-align: right;\n",
              "    }\n",
              "</style>\n",
              "<table border=\"1\" class=\"dataframe\">\n",
              "  <thead>\n",
              "    <tr style=\"text-align: right;\">\n",
              "      <th></th>\n",
              "      <th>score</th>\n",
              "      <th>seed</th>\n",
              "    </tr>\n",
              "  </thead>\n",
              "  <tbody>\n",
              "    <tr>\n",
              "      <th>count</th>\n",
              "      <td>199.000000</td>\n",
              "      <td>199.000000</td>\n",
              "    </tr>\n",
              "    <tr>\n",
              "      <th>mean</th>\n",
              "      <td>0.940188</td>\n",
              "      <td>100.000000</td>\n",
              "    </tr>\n",
              "    <tr>\n",
              "      <th>std</th>\n",
              "      <td>0.008902</td>\n",
              "      <td>57.590508</td>\n",
              "    </tr>\n",
              "    <tr>\n",
              "      <th>min</th>\n",
              "      <td>0.904661</td>\n",
              "      <td>1.000000</td>\n",
              "    </tr>\n",
              "    <tr>\n",
              "      <th>25%</th>\n",
              "      <td>0.935028</td>\n",
              "      <td>50.500000</td>\n",
              "    </tr>\n",
              "    <tr>\n",
              "      <th>50%</th>\n",
              "      <td>0.940678</td>\n",
              "      <td>100.000000</td>\n",
              "    </tr>\n",
              "    <tr>\n",
              "      <th>75%</th>\n",
              "      <td>0.946328</td>\n",
              "      <td>149.500000</td>\n",
              "    </tr>\n",
              "    <tr>\n",
              "      <th>max</th>\n",
              "      <td>0.960452</td>\n",
              "      <td>199.000000</td>\n",
              "    </tr>\n",
              "  </tbody>\n",
              "</table>\n",
              "</div>"
            ],
            "text/plain": [
              "            score        seed\n",
              "count  199.000000  199.000000\n",
              "mean     0.940188  100.000000\n",
              "std      0.008902   57.590508\n",
              "min      0.904661    1.000000\n",
              "25%      0.935028   50.500000\n",
              "50%      0.940678  100.000000\n",
              "75%      0.946328  149.500000\n",
              "max      0.960452  199.000000"
            ]
          },
          "metadata": {
            "tags": []
          },
          "execution_count": 14
        },
        {
          "output_type": "display_data",
          "data": {
            "image/png": "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\n",
            "text/plain": [
              "<Figure size 432x288 with 1 Axes>"
            ]
          },
          "metadata": {
            "tags": [],
            "needs_background": "light"
          }
        }
>>>>>>> 2031463a9a3c186f8c79c31a711fd96d773d40c4
      ]
     },
     "execution_count": 14,
     "metadata": {
      "tags": []
     },
     "output_type": "execute_result"
    },
    {
<<<<<<< HEAD
     "data": {
      "image/png": "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\n",
      "text/plain": [
       "<Figure size 432x288 with 1 Axes>"
=======
      "cell_type": "code",
      "metadata": {
        "colab": {
          "base_uri": "https://localhost:8080/",
          "height": 296
        },
        "id": "gmJ2q6ufWtW9",
        "outputId": "e255a992-dd09-4c1a-8922-4277460c4ff4"
      },
      "source": [
        "from sklearn.metrics import plot_confusion_matrix\r\n",
        "plot_confusion_matrix(classificador, X_test, y_test, values_format='d')"
      ],
      "execution_count": null,
      "outputs": [
        {
          "output_type": "execute_result",
          "data": {
            "text/plain": [
              "<sklearn.metrics._plot.confusion_matrix.ConfusionMatrixDisplay at 0x7f125717f210>"
            ]
          },
          "metadata": {
            "tags": []
          },
          "execution_count": 16
        },
        {
          "output_type": "display_data",
          "data": {
            "image/png": "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\n",
            "text/plain": [
              "<Figure size 432x288 with 2 Axes>"
            ]
          },
          "metadata": {
            "tags": [],
            "needs_background": "light"
          }
        }
>>>>>>> 2031463a9a3c186f8c79c31a711fd96d773d40c4
      ]
     },
     "metadata": {
      "needs_background": "light",
      "tags": []
     },
     "output_type": "display_data"
    }
   ],
   "source": [
    "# grafico da avaliaçao de seed\n",
    "import seaborn as sns\n",
    "sns.lineplot(data = pd.DataFrame(avaliacao), x='seed', y='score')\n",
    "pd.DataFrame(avaliacao).describe()"
   ]
  },
  {
   "cell_type": "code",
   "execution_count": 16,
   "metadata": {
    "colab": {
     "base_uri": "https://localhost:8080/",
     "height": 296
    },
    "id": "gmJ2q6ufWtW9",
    "outputId": "e255a992-dd09-4c1a-8922-4277460c4ff4"
   },
   "outputs": [
    {
     "data": {
      "text/plain": [
       "<sklearn.metrics._plot.confusion_matrix.ConfusionMatrixDisplay at 0x7f125717f210>"
      ]
     },
     "execution_count": 16,
     "metadata": {
      "tags": []
     },
     "output_type": "execute_result"
    },
    {
     "data": {
      "image/png": "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\n",
      "text/plain": [
       "<Figure size 432x288 with 2 Axes>"
      ]
     },
     "metadata": {
      "needs_background": "light",
      "tags": []
     },
     "output_type": "display_data"
    }
   ],
   "source": [
    "from sklearn.metrics import plot_confusion_matrix\n",
    "plot_confusion_matrix(classificador, X_test, y_test, values_format='d')"
   ]
  },
  {
   "cell_type": "markdown",
   "metadata": {
    "id": "5uv8MUp-VGBv"
   },
   "source": []
  },
  {
   "cell_type": "markdown",
   "metadata": {
    "id": "WO21SaWFxGvk"
   },
   "source": []
  }
 ],
 "metadata": {
  "celltoolbar": "Create Assignment",
  "colab": {
   "collapsed_sections": [],
   "include_colab_link": true,
   "name": "PrepML.ipynb",
   "provenance": []
  },
  "kernelspec": {
   "display_name": "Python 3",
   "language": "python",
   "name": "python3"
  },
  "language_info": {
   "codemirror_mode": {
    "name": "ipython",
    "version": 3
   },
   "file_extension": ".py",
   "mimetype": "text/x-python",
   "name": "python",
   "nbconvert_exporter": "python",
   "pygments_lexer": "ipython3",
   "version": "3.8.3"
  }
 },
 "nbformat": 4,
 "nbformat_minor": 1
}
