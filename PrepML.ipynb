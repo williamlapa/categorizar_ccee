{
  "nbformat": 4,
  "nbformat_minor": 0,
  "metadata": {
    "celltoolbar": "Create Assignment",
    "colab": {
      "name": "PrepML.ipynb",
      "provenance": [],
      "collapsed_sections": [],
      "include_colab_link": true
    },
    "kernelspec": {
      "display_name": "Python 3",
      "language": "python",
      "name": "python3"
    },
    "language_info": {
      "codemirror_mode": {
        "name": "ipython",
        "version": 3
      },
      "file_extension": ".py",
      "mimetype": "text/x-python",
      "name": "python",
      "nbconvert_exporter": "python",
      "pygments_lexer": "ipython3",
      "version": "3.8.3"
    }
  },
  "cells": [
    {
      "cell_type": "markdown",
      "metadata": {
        "id": "view-in-github",
        "colab_type": "text"
      },
      "source": [
        "<a href=\"https://colab.research.google.com/github/williamlapa/categorizar_ccee/blob/master/PrepML.ipynb\" target=\"_parent\"><img src=\"https://colab.research.google.com/assets/colab-badge.svg\" alt=\"Open In Colab\"/></a>"
      ]
    },
    {
      "cell_type": "markdown",
      "metadata": {
        "id": "ep-5rQE_ixm_"
      },
      "source": [
        "## Machine Learning\n"
      ]
    },
    {
      "cell_type": "code",
      "metadata": {
        "colab": {
          "base_uri": "https://localhost:8080/"
        },
        "id": "e2RcG65Oqo_o",
        "outputId": "596a1e0e-3661-4604-dd38-579cf4406701"
      },
      "source": [
        "# from google.colab import drive\n",
        "# drive.mount('/content/drive')\n"
      ],
      "execution_count": null,
      "outputs": [
        {
          "output_type": "stream",
          "text": [
            "Mounted at /content/drive\n"
          ],
          "name": "stdout"
        }
      ]
    },
    {
      "cell_type": "markdown",
      "metadata": {
        "id": "a2SXfK9WixnF"
      },
      "source": [
        "### Apresentação do Dataset"
      ]
    },
    {
      "cell_type": "code",
      "metadata": {
        "id": "mFpII-RsixnG"
      },
      "source": [
        "\n",
        "# leitura de todos os csvs\n",
        "\n",
        "# path_ccee='/content/drive/MyDrive/ml/entrada'\n",
        "# # path_ccee='https://github.com/williamlapa/categorizar_ccee/blob/master/ml/entrada'\n",
        "import pandas as pd\n",
        "import numpy as np\n",
        "# from os import listdir\n",
        "# from os.path import isfile\n",
        "# from os.path import join\n",
        "\n",
        "# onlyfiles =  ([f\"{f}\" for f in listdir(path_ccee) if isfile(join(path_ccee, f))])\n",
        "# # onlyfiles= ['Descritivo Simplificado de Ajustes_Fevereiro20_Final.xlsx', 'Descritivo Simplificado de Ajustes_Dezembro20_Contabilizaç¦o.xlsx', 'Descritivo Simplificado de Ajustes_Julho20_Contabilizaç¦o.xlsx', 'Descritivo Simplificado de Ajustes_Novembro20_Contabilizaç¦o.xlsx', 'Descritivo Simplificado de Ajustes_Outubro20_Contabilizaç¦o.xlsx', 'Descritivo Simplificado de Ajustes_Setembro20_Contabilizaç¦o.xlsx', 'Descritivo de Ajustes e Impactos aos Agentes - Contab de Abr17.xlsx', 'Descritivo de Ajustes e Impactos aos Agentes - Contab de Out17.xlsx', 'Descritivo de Ajustes e Impactos aos Agentes - Contabilizaç¦o de Maio 2016.xlsx', 'Descritivo de Ajustes e Impactos aos Agentes_Jul19.xlsx', 'Descritivo de Ajustes e Impactos aos Agentes - Contab de Jun17.xlsx', 'Descritivo de Ajustes e Impactos aos Agentes - Contab de Mai17.xlsx', 'Descritivo de Ajustes e Impactos aos Agentes - Contab de Fev17.xlsx', 'Descritivo de Ajustes e Impactos aos Agentes - Contab de Jan17.xlsx', 'Descritivo de Ajustes e Impactos aos Agentes - Contab de Dez16.xlsx', 'Descritivo de Ajustes e Impactos aos Agentes - Contab de Novembro 2016.xlsx', 'Descritivo de Ajustes e Impactos aos Agentes - Contabilizaç¦o de Setembro 2016.xlsx', 'Descritivo de Ajustes e Impactos aos Agentes - Contabilizaç¦o de Agosto 2016.xlsx', 'Descritivo de Ajustes e Impactos aos Agentes - Contabilizaç¦o de Julho 2016.xlsx', 'Descritivo de Ajustes e Impactos aos Agentes - Contabilizaç¦o de Junho 2016.xlsx', 'Descritivo de Ajustes e Impactos aos Agentes - Contab de Set18.xlsx', 'Descritivo de Ajustes e Impactos aos Agentes - Contab de Ago18.xlsx', 'Descritivo de Ajustes e Impactos aos Agentes - Contab de Jun18.xlsx', 'Descritivo de Ajustes e Impactos aos Agentes - Contab de Maio18.xlsx', 'Descritivo de Ajustes e Impactos aos Agentes - Contab de Abr18.xlsx', 'Descritivo de Ajustes e Impactos aos Agentes - Contab de Mar18.xlsx', 'Descritivo de Ajustes e Impactos aos Agentes - Contab de Fev18.xlsx', 'Descritivo de Ajustes e Impactos aos Agentes - Contab de Jan18.xlsx', 'Descritivo de Ajustes e Impactos aos Agentes - Contab de Nov17.xlsx', 'Descritivo de Ajustes e Impactos aos Agentes - Contab de Set17.xlsx', 'Descritivo de Ajustes e Impactos aos Agentes - Contab de Ago17.xlsx', 'Descritivo de Ajustes e Impactos aos Agentes - Contab de Jul17.xlsx', 'Descritivo de Ajustes e Impactos aos Agentes - Contab de Mar17.xlsx', 'Descritivo de Ajustes_Junho20_Contabilizaç¦o.xlsx', 'Descritivo de Ajustes_Maio20_Contabilizaç¦o.xlsx', 'Descritivo de Ajustes_Abril20_Contabilizaç¦o.xlsx', 'Descritivo de Ajustes_Março20_Contabilizaç¦o.xlsx', 'Descritivo de Ajustes e Impactos aos Agentes_Jan20.xlsx', 'Descritivo de Ajustes e Impactos aos Agentes_Dez19.xlsx', 'Descritivo de Ajustes e Impactos aos Agentes_Nov19.xlsx', 'Descritivo de Ajustes e Impactos aos Agentes_Out19.xlsx', 'Descritivo de Ajustes e Impactos aos Agentes_Set19.xlsx', 'Descritivo de Ajustes e Impactos aos Agentes_Ago19.xlsx', 'Descritivo de Ajustes e Impactos aos Agentes_Jun19.xlsx', 'Descritivo de Ajustes e Impactos aos Agentes_Mai19.xlsx', 'Descritivo de Ajustes e Impactos aos Agentes_Abr19.xlsx', 'Descritivo de Ajustes e Impactos aos Agentes_Mar19.xlsx', 'Descritivo de Ajustes e Impactos aos Agentes_Fev19.xlsx', 'Descritivo de Ajustes e Impactos aos Agentes_Dez18.xlsx', 'Descritivo de Ajustes e Impactos aos Agentes_Nov18.xlsx', 'Descritivo de Ajustes e Impactos aos Agentes - Contab de Out18.xlsx', 'Descritivo Simplificado de Ajustes_Agosto20_Contabilizaç¦o.xlsx', 'Descritivo de Ajustes e Impactos aos Agentes - Contab de Dez17.xlsx']\n",
        "# print(onlyfiles)\n",
        "# # ?raw=true"
      ],
      "execution_count": 2,
      "outputs": []
    },
    {
      "cell_type": "code",
      "metadata": {
        "colab": {
          "base_uri": "https://localhost:8080/"
        },
        "id": "jUpQU2hrvj_s",
        "outputId": "a6a13f42-b75d-4c7a-fa0c-233f68b46acb"
      },
      "source": [
        "# #Aqui está a leitura\n",
        "# #primeiros os dados do output\n",
        "# path_acronimo='https://github.com/treakj/cienciadedados/blob/main/acronimos_rev2.xlsx?raw=true'\n",
        "# #path_tarifas='https://github.com/treakj/cienciadedados/blob/main/tarifas202019.zip'\n",
        "# #path_eventos='https://github.com/treakj/cienciadedados/blob/0aeef662bf8c068c218134868ee326c5faad8007/eventos.csv'\n",
        "\n",
        "\n",
        "\n",
        "# #leitura dos dados de entrada da CCEE\n",
        "# count=0\n",
        "# for name in onlyfiles:\n",
        "#   #na_values=-9999\n",
        "#   partial=pd.read_excel(f\"{path_ccee}/{name}\", skipfooter=1)\n",
        "#   if count>0:\n",
        "#     tot=tot.append(partial)\n",
        "#   else:\n",
        "#     tot=partial\n",
        "#   count+=1\n",
        "# tot\n",
        "\n",
        "# tot = tot[tot['Unnamed: 0'].notnull()]\n",
        "# tot.info()\n",
        "\n"
      ],
      "execution_count": null,
      "outputs": [
        {
          "output_type": "stream",
          "text": [
            "<class 'pandas.core.frame.DataFrame'>\n",
            "Int64Index: 1770 entries, 0 to 30\n",
            "Data columns (total 6 columns):\n",
            " #   Column                                             Non-Null Count  Dtype  \n",
            "---  ------                                             --------------  -----  \n",
            " 0   Unnamed: 0                                         1770 non-null   float64\n",
            " 1   Título do Ajuste - conforme relatório SUMÁRIO-001  1767 non-null   object \n",
            " 2   Descrição do Ajuste                                1767 non-null   object \n",
            " 3   Descrição de Impacto                               1767 non-null   object \n",
            " 4   Impacto Principal                                  1748 non-null   object \n",
            " 5   Observação                                         624 non-null    object \n",
            "dtypes: float64(1), object(5)\n",
            "memory usage: 96.8+ KB\n"
          ],
          "name": "stdout"
        }
      ]
    },
    {
      "cell_type": "code",
      "metadata": {
        "id": "q9jGuEAZ-uo4"
      },
      "source": [
        "# tot.to_excel('entradaempilhada.xlsx')\n",
        "# !cp entradaempilhada.xlsx \"drive/My Drive/ml/saida\""
      ],
      "execution_count": null,
      "outputs": []
    },
    {
      "cell_type": "code",
      "metadata": {
        "id": "5LP6CeUbixnH"
      },
      "source": [
        "\n",
        "# #começa daqui\n",
        "# path_acronimo='https://github.com/treakj/cienciadedados/blob/main/acronimos_rev2.xlsx?raw=true'\n",
        "# # path_total='https://github.com/williamlapa/categorizar_ccee/blob/master/saidamerged.xlsx?raw=true'\n",
        " \n",
        "# # tot = pd.read_excel(path_total)\n",
        "# acronimo = pd.read_excel(path_acronimo)\n",
        "# acronimo['Chave']=acronimo['NOME'].apply(lambda x: str(x).replace('(*)','').replace('_','-'))\n",
        "\n",
        "# tot['Chave']=tot['Título do Ajuste - conforme relatório SUMÁRIO-001'].apply(lambda x: str(x).replace('(*)','').replace('_','-').replace('                                         ','\\n').split('\\n')[0])\n",
        "\n",
        "# merged=tot.merge(acronimo, right_on='Chave', left_on='Chave', how='left')\n",
        "# # merged=tot.join(acronimo,how='left', on='Chave')\n",
        "\n",
        "# merged['TIPO'].fillna('Sem categoria', inplace=True)\n",
        "# merged['Título do Ajuste - conforme relatório SUMÁRIO-001'].fillna('', inplace=True)\n",
        "# merged['Descrição do Ajuste'].fillna('', inplace=True)\n",
        "# merged['Descrição de Impacto'].fillna('', inplace=True)\n",
        "# merged['Impacto Principal'].fillna('', inplace=True)\n",
        "# # merged.loc[merged['Título do Ajuste - conforme relatório SUMÁRIO-001'].str.contains('Encargo Liquidação MCP'),'TIPO']='Não considerar'\n",
        "\n",
        "# merged.to_excel('saidamerged.xlsx')\n",
        "# !cp saidamerged.xlsx \"drive/My Drive/ml/saida\"\n",
        "\n",
        "\n",
        "#pd.read_csv(path_eventos, sep=\";\" ,encoding='utf-8')"
      ],
      "execution_count": null,
      "outputs": []
    },
    {
      "cell_type": "markdown",
      "metadata": {
        "id": "mJ4f3wLUixnH"
      },
      "source": [
        "##### Projeto começa daqui\n"
      ]
    },
    {
      "cell_type": "code",
      "metadata": {
        "colab": {
          "base_uri": "https://localhost:8080/",
          "height": 622
        },
        "id": "I3ydn0aJlpKg",
        "outputId": "886fd70e-5b3c-48d3-bc63-6f8edefd3505"
      },
      "source": [
        "\n",
        "import pandas as pd\n",
        "import numpy as np\n",
        "path_merged='https://github.com/williamlapa/categorizar_ccee/blob/master/saidamerged.xlsx?raw=true'\n",
        "merged = pd.read_excel(path_merged)\n",
        "merged['TIPO'].value_counts().plot(kind='bar')\n",
        "# acronimo = pd.read_excel(path_acronimo)\n",
        "merged['TIPO'].fillna('Sem categoria', inplace=True)\n",
        "merged['Título do Ajuste - conforme relatório SUMÁRIO-001'].fillna('', inplace=True)\n",
        "merged['Descrição do Ajuste'].fillna('', inplace=True)\n",
        "merged['Descrição de Impacto'].fillna('', inplace=True)\n",
        "merged['Impacto Principal'].fillna('', inplace=True)\n",
        "merged.info()\n",
        "# tot.to_excel('teste.xlsx')\n",
        "# !cp teste.xlsx \"drive/My Drive/ml/\""
      ],
      "execution_count": 3,
      "outputs": [
        {
          "output_type": "stream",
          "text": [
            "<class 'pandas.core.frame.DataFrame'>\n",
            "RangeIndex: 1770 entries, 0 to 1769\n",
            "Data columns (total 10 columns):\n",
            " #   Column                                             Non-Null Count  Dtype \n",
            "---  ------                                             --------------  ----- \n",
            " 0   Unnamed: 0                                         1770 non-null   int64 \n",
            " 1   Unnamed: 0.1                                       1770 non-null   int64 \n",
            " 2   Título do Ajuste - conforme relatório SUMÁRIO-001  1770 non-null   object\n",
            " 3   Descrição do Ajuste                                1770 non-null   object\n",
            " 4   Descrição de Impacto                               1770 non-null   object\n",
            " 5   Impacto Principal                                  1770 non-null   object\n",
            " 6   Observação                                         624 non-null    object\n",
            " 7   Chave                                              1755 non-null   object\n",
            " 8   TIPO                                               1770 non-null   object\n",
            " 9   NOME                                               1693 non-null   object\n",
            "dtypes: int64(2), object(8)\n",
            "memory usage: 138.4+ KB\n"
          ],
          "name": "stdout"
        },
        {
          "output_type": "display_data",
          "data": {
            "image/png": "[encoded data removed]",
            "text/plain": [
              "<Figure size 432x288 with 1 Axes>"
            ]
          },
          "metadata": {
            "tags": [],
            "needs_background": "light"
          }
        }
      ]
    },
    {
      "cell_type": "code",
      "metadata": {
        "id": "cDRS5B5X4nnp"
      },
      "source": [
        "from sklearn.feature_extraction.text import CountVectorizer\n",
        "from sklearn.feature_extraction.text import TfidfTransformer\n",
        "from sklearn.linear_model import SGDClassifier\n",
        "from sklearn.model_selection import GridSearchCV\n",
        "from sklearn.pipeline import Pipeline\n",
        "# pipeline = Pipeline([\n",
        "#     ('vect', CountVectorizer(max_df=1.0, max_features=50000,ngram_range=(1,2))),\n",
        "#     ('tfidf', TfidfTransformer(use_idf=True,norm='l2')),\n",
        "#     ('clf', SGDClassifier(loss='log',alpha=1e-06, penalty='elasticnet')), # default hinge. to get proba=log or modified_huber\n",
        "# ])\n",
        "pipeline = Pipeline([\n",
        "    ('vect', CountVectorizer(max_df=1.0, max_features=50000,ngram_range=(1,2))),\n",
        "    ('tfidf', TfidfTransformer(use_idf=True,norm='l2')),\n",
        "    ('clf', SGDClassifier(loss='hinge',alpha=1e-06, penalty='elasticnet')), # default hinge. to get proba=log or modified_huber\n",
        "])\n",
        "\n",
        "# parametro loss é uma função que vai computar o erro num teste de classificação.\n",
        "# parametro penalty define como o algoritmo de treinamento vai tratar o erro, o elasticnet pode usar uma rede elástica, podendo zerar features com contribuição baixa (nem precisa usar o stopwords)\n",
        "# alpha é a intensidade da alteração. como é que posso dizer, é o learning rate, o ritmo de aprendizado do algorítimo. "
      ],
      "execution_count": 6,
      "outputs": []
    },
    {
      "cell_type": "code",
      "metadata": {
        "id": "79TPXISpVDOh"
      },
      "source": [
        "merged['todas_as_colunas']=merged['Título do Ajuste - conforme relatório SUMÁRIO-001']+merged['Descrição do Ajuste']+merged['Descrição de Impacto']+merged['Impacto Principal']\n",
        "\n",
        "from sklearn.model_selection import train_test_split\n",
        "X_train, X_test, y_train, y_test = train_test_split(merged['todas_as_colunas'], merged['TIPO'], test_size=0.2, \n",
        "                                                    stratify=merged['TIPO'],random_state=42)"
      ],
      "execution_count": 7,
      "outputs": []
    },
    {
      "cell_type": "markdown",
      "metadata": {
        "id": "Weh3PcLCA4CU"
      },
      "source": [
        ""
      ]
    },
    {
      "cell_type": "code",
      "metadata": {
        "id": "p3i1EOOmM1iq"
      },
      "source": [
        "from sklearn.linear_model import LogisticRegression\r\n",
        "from sklearn.model_selection import cross_val_score\r\n"
      ],
      "execution_count": 9,
      "outputs": []
    },
    {
      "cell_type": "code",
      "metadata": {
        "colab": {
          "base_uri": "https://localhost:8080/"
        },
        "id": "9dhE5ZJ1VFX5",
        "outputId": "0dc729fa-2643-4892-cddc-dd1f1338758c"
      },
      "source": [
        "classificador = pipeline.fit(X_train, y_train)\n",
        "print(classificador.score(X_test,y_test))\n",
        "\n",
        "cv_result = cross_val_score(classificador, X_train, y_train, cv=3, scoring='accuracy')\n",
        "print(cv_result.mean())\n"
      ],
      "execution_count": 16,
      "outputs": [
        {
          "output_type": "stream",
          "text": [
            "0.9717514124293786\n",
            "0.9512711864406779\n"
          ],
          "name": "stdout"
        },
        {
          "output_type": "execute_result",
          "data": {
            "text/plain": [
              "array([0.94067797, 0.96610169, 0.9470339 ])"
            ]
          },
          "metadata": {
            "tags": []
          },
          "execution_count": 16
        }
      ]
    },
    {
      "cell_type": "code",
      "metadata": {
        "id": "2Nn_hx4EKikI"
      },
      "source": [
        "# teste mais generalizado com seeds até 100\n",
        "avaliacao=[]\n",
        "for i in range(1,200):\n",
        "  X_train, X_test, y_train, y_test = train_test_split(merged['todas_as_colunas'], merged['TIPO'], test_size=0.2,  \n",
        "                                                      stratify=merged['TIPO'],random_state=i)\n",
        "  classificador = pipeline.fit(X_train, y_train)\n",
        "  score = classificador.score(X_test,y_test)\n",
        "  avaliacao.append({\"score\":score, \"seed\": i})\n",
        "\n",
        "\n",
        "\n"
      ],
      "execution_count": null,
      "outputs": []
    },
    {
      "cell_type": "code",
      "metadata": {
        "id": "i1vssylo-I6R"
      },
      "source": [
        "\n",
        "from sklearn.model_selection import StratifiedShuffleSplit"
      ],
      "execution_count": null,
      "outputs": []
    },
    {
      "cell_type": "code",
      "metadata": {
        "colab": {
          "base_uri": "https://localhost:8080/",
          "height": 557
        },
        "id": "IyANn0FkLbwd",
        "outputId": "695f6b2a-79b5-49b5-d5bb-47281af42a38"
      },
      "source": [
        "# grafico da avaliaçao de seed\n",
        "import seaborn as sns\n",
        "sns.lineplot(data = pd.DataFrame(avaliacao), x='seed', y='score')\n",
        "pd.DataFrame(avaliacao).describe()"
      ],
      "execution_count": null,
      "outputs": [
        {
          "output_type": "execute_result",
          "data": {
            "text/html": [
              "<div>\n",
              "<style scoped>\n",
              "    .dataframe tbody tr th:only-of-type {\n",
              "        vertical-align: middle;\n",
              "    }\n",
              "\n",
              "    .dataframe tbody tr th {\n",
              "        vertical-align: top;\n",
              "    }\n",
              "\n",
              "    .dataframe thead th {\n",
              "        text-align: right;\n",
              "    }\n",
              "</style>\n",
              "<table border=\"1\" class=\"dataframe\">\n",
              "  <thead>\n",
              "    <tr style=\"text-align: right;\">\n",
              "      <th></th>\n",
              "      <th>score</th>\n",
              "      <th>seed</th>\n",
              "    </tr>\n",
              "  </thead>\n",
              "  <tbody>\n",
              "    <tr>\n",
              "      <th>count</th>\n",
              "      <td>199.000000</td>\n",
              "      <td>199.000000</td>\n",
              "    </tr>\n",
              "    <tr>\n",
              "      <th>mean</th>\n",
              "      <td>0.960651</td>\n",
              "      <td>100.000000</td>\n",
              "    </tr>\n",
              "    <tr>\n",
              "      <th>std</th>\n",
              "      <td>0.009302</td>\n",
              "      <td>57.590508</td>\n",
              "    </tr>\n",
              "    <tr>\n",
              "      <th>min</th>\n",
              "      <td>0.935028</td>\n",
              "      <td>1.000000</td>\n",
              "    </tr>\n",
              "    <tr>\n",
              "      <th>25%</th>\n",
              "      <td>0.954802</td>\n",
              "      <td>50.500000</td>\n",
              "    </tr>\n",
              "    <tr>\n",
              "      <th>50%</th>\n",
              "      <td>0.960452</td>\n",
              "      <td>100.000000</td>\n",
              "    </tr>\n",
              "    <tr>\n",
              "      <th>75%</th>\n",
              "      <td>0.967514</td>\n",
              "      <td>149.500000</td>\n",
              "    </tr>\n",
              "    <tr>\n",
              "      <th>max</th>\n",
              "      <td>0.983051</td>\n",
              "      <td>199.000000</td>\n",
              "    </tr>\n",
              "  </tbody>\n",
              "</table>\n",
              "</div>"
            ],
            "text/plain": [
              "            score        seed\n",
              "count  199.000000  199.000000\n",
              "mean     0.960651  100.000000\n",
              "std      0.009302   57.590508\n",
              "min      0.935028    1.000000\n",
              "25%      0.954802   50.500000\n",
              "50%      0.960452  100.000000\n",
              "75%      0.967514  149.500000\n",
              "max      0.983051  199.000000"
            ]
          },
          "metadata": {
            "tags": []
          },
          "execution_count": 12
        },
        {
          "output_type": "display_data",
          "data": {
            "image/png": "[encoded data removed]",
            "text/plain": [
              "<Figure size 432x288 with 1 Axes>"
            ]
          },
          "metadata": {
            "tags": [],
            "needs_background": "light"
          }
        }
      ]
    },
    {
      "cell_type": "code",
      "metadata": {
        "colab": {
          "base_uri": "https://localhost:8080/",
          "height": 296
        },
        "id": "gmJ2q6ufWtW9",
        "outputId": "e255a992-dd09-4c1a-8922-4277460c4ff4"
      },
      "source": [
        "from sklearn.metrics import plot_confusion_matrix\n",
        "plot_confusion_matrix(classificador, X_test, y_test, values_format='d')"
      ],
      "execution_count": null,
      "outputs": [
        {
          "output_type": "execute_result",
          "data": {
            "text/plain": [
              "<sklearn.metrics._plot.confusion_matrix.ConfusionMatrixDisplay at 0x7f125717f210>"
            ]
          },
          "metadata": {
            "tags": []
          },
          "execution_count": 16
        },
        {
          "output_type": "display_data",
          "data": {
            "image/png": "[encoded data removed]",
            "text/plain": [
              "<Figure size 432x288 with 2 Axes>"
            ]
          },
          "metadata": {
            "tags": [],
            "needs_background": "light"
          }
        }
      ]
    },
    {
      "cell_type": "markdown",
      "metadata": {
        "id": "5uv8MUp-VGBv"
      },
      "source": [
        ""
      ]
    },
    {
      "cell_type": "markdown",
      "metadata": {
        "id": "WO21SaWFxGvk"
      },
      "source": [
        ""
      ]
    }
  ]
}