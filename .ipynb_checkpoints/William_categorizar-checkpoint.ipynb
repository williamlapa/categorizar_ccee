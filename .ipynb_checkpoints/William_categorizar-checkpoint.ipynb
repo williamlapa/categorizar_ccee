{
 "cells": [
  {
   "cell_type": "markdown",
   "metadata": {
    "id": "ep-5rQE_ixm_"
   },
   "source": [
    "## Machine Learning\n"
   ]
  },
  {
   "cell_type": "markdown",
   "metadata": {
    "id": "a2SXfK9WixnF"
   },
   "source": [
    "## Importando as bibliotecas para o projeto"
   ]
  },
  {
   "cell_type": "code",
   "execution_count": 17,
   "metadata": {},
   "outputs": [
    {
     "name": "stdout",
     "output_type": "stream",
     "text": [
      "Automatically created module for IPython interactive environment\n"
     ]
    }
   ],
   "source": [
    "# # Importar bibliotecas\n",
    "\n",
    "# execute a linha abaixo apenas se não tiver o Sweetviz\n",
    "# ! pip install sweetviz\n",
    "\n",
    "%matplotlib inline\n",
    "from pprint import pprint\n",
    "from time import time\n",
    "import logging\n",
    "import pandas as pd\n",
    "import numpy as np\n",
    "from sklearn.feature_extraction.text import TfidfVectorizer\n",
    "from sklearn.feature_extraction.text import CountVectorizer\n",
    "from sklearn.feature_extraction.text import TfidfTransformer\n",
    "from sklearn.linear_model import SGDClassifier\n",
    "from sklearn.model_selection import GridSearchCV\n",
    "from sklearn.pipeline import Pipeline\n",
    "import sweetviz as sv\n",
    "from joblib import dump, load\n",
    "from sklearn.model_selection import KFold\n",
    "from sklearn.model_selection import StratifiedKFold\n",
    "from sklearn.model_selection import cross_validate\n",
    "\n",
    "print(__doc__)\n",
    "# Display progress logs on stdout\n",
    "logging.basicConfig(level=logging.INFO,format='%(asctime)s %(levelname)s %(message)s')"
   ]
  },
  {
   "cell_type": "markdown",
   "metadata": {
    "id": "mJ4f3wLUixnH"
   },
   "source": [
    "## Importação e tratamento do Dataset"
   ]
  },
  {
   "cell_type": "code",
   "execution_count": 2,
   "metadata": {},
   "outputs": [
    {
     "name": "stderr",
     "output_type": "stream",
     "text": [
      "2021-03-14 15:21:20,985 INFO NumExpr defaulting to 8 threads.\n"
     ]
    },
    {
     "name": "stdout",
     "output_type": "stream",
     "text": [
      "<class 'pandas.core.frame.DataFrame'>\n",
      "RangeIndex: 1770 entries, 0 to 1769\n",
      "Data columns (total 8 columns):\n",
      " #   Column                                             Non-Null Count  Dtype \n",
      "---  ------                                             --------------  ----- \n",
      " 0   Título do Ajuste - conforme relatório SUMÁRIO-001  1770 non-null   object\n",
      " 1   Descrição do Ajuste                                1770 non-null   object\n",
      " 2   Descrição de Impacto                               1770 non-null   object\n",
      " 3   Impacto Principal                                  1770 non-null   object\n",
      " 4   Observação                                         624 non-null    object\n",
      " 5   TIPO                                               1770 non-null   object\n",
      " 6   NOME                                               1693 non-null   object\n",
      " 7   todas_as_colunas                                   1770 non-null   object\n",
      "dtypes: object(8)\n",
      "memory usage: 110.8+ KB\n"
     ]
    },
    {
     "data": {
      "image/png": "[encoded data removed]",
      "text/plain": [
       "<Figure size 432x288 with 1 Axes>"
      ]
     },
     "metadata": {
      "needs_background": "light"
     },
     "output_type": "display_data"
    }
   ],
   "source": [
    "# Importando arquivo \"saidamerged.xlsx\"\n",
    "merged = pd.read_excel('saidamerged.xlsx', usecols=['Título do Ajuste - conforme relatório SUMÁRIO-001',\n",
    "       'Descrição do Ajuste', 'Descrição de Impacto', 'Impacto Principal',\n",
    "       'Observação', 'NOME', 'TIPO'])\n",
    "\n",
    "# Plotando os principais tipos de categoria para análise de balanceamento\n",
    "merged['TIPO'].value_counts().plot(kind='bar')\n",
    "\n",
    "# Substituindo o NaN pelo \" \" a fim de poder usar a a biblioteca TfidfVectorizer\n",
    "merged['TIPO'].fillna('Sem categoria', inplace=True)\n",
    "merged['Título do Ajuste - conforme relatório SUMÁRIO-001'].fillna('', inplace=True)\n",
    "merged['Descrição do Ajuste'].fillna('', inplace=True)\n",
    "merged['Descrição de Impacto'].fillna('', inplace=True)\n",
    "merged['Impacto Principal'].fillna('', inplace=True)\n",
    "\n",
    "# cria novas colunas concatenando todas colunas de texto do Dataframe\n",
    "# Esta é a coluna da variável X (INDEPENDENTE)\n",
    "merged['todas_as_colunas']=merged['Título do Ajuste - conforme relatório SUMÁRIO-001']+merged['Descrição do Ajuste']+merged['Descrição de Impacto']+merged['Impacto Principal']\n",
    "\n",
    "# Mostrando o Dataset final\n",
    "merged.info()"
   ]
  },
  {
   "cell_type": "markdown",
   "metadata": {},
   "source": [
    "### Análise Exploratória utilizando biblioteca SWEETVIZ"
   ]
  },
  {
   "cell_type": "code",
   "execution_count": 3,
   "metadata": {},
   "outputs": [
    {
     "data": {
      "application/vnd.jupyter.widget-view+json": {
       "model_id": "212b2b3a8fe643f18322796df2c06839",
       "version_major": 2,
       "version_minor": 0
      },
      "text/plain": [
       "HBox(children=(FloatProgress(value=0.0, layout=Layout(flex='2'), max=9.0), HTML(value='')), layout=Layout(disp…"
      ]
     },
     "metadata": {},
     "output_type": "display_data"
    },
    {
     "name": "stdout",
     "output_type": "stream",
     "text": [
      "\n",
      "Report Advertising.html was generated! NOTEBOOK/COLAB USERS: the web browser MAY not pop up, regardless, the report IS saved in your notebook/colab files.\n"
     ]
    }
   ],
   "source": [
    "#analyzing the dataset\n",
    "advert_report = sv.analyze(merged)\n",
    "#display the report\n",
    "advert_report.show_html('Advertising.html')"
   ]
  },
  {
   "cell_type": "code",
   "execution_count": 4,
   "metadata": {},
   "outputs": [
    {
     "data": {
      "text/plain": [
       "0"
      ]
     },
     "execution_count": 4,
     "metadata": {},
     "output_type": "execute_result"
    }
   ],
   "source": [
    "# Verificando se a coluna da variável independente ainda tem NaN:\n",
    "merged['todas_as_colunas'].isna().sum()"
   ]
  },
  {
   "cell_type": "code",
   "execution_count": 5,
   "metadata": {
    "collapsed": true
   },
   "outputs": [
    {
     "name": "stdout",
     "output_type": "stream",
     "text": [
      "Vocabulário: \n",
      "{'encargo': 1410, 'liquidação': 1903, 'mcp': 2004, 'original': 2184, 'principal': 2353, 'inadimplência': 1700, 'do': 1341, 'mercado': 2018, 'de': 1200, 'curto': 1181, 'prazo': 2339, 'janeiro': 1787, '2020são': 385, 'impactados': 1685, 'os': 2187, 'agentes': 701, 'inadimplentes': 1699, 'da': 1189, '2020': 381, 'em': 1399, 'posição': 2331, 'devedora': 1256, 'ou': 2188, 'credora': 1165, 'estorno': 1465, 'celesc': 1007, 'dist': 1329, 'vibeoli': 2794, 'ceramica': 1017, 'dos': 1345, 'devido': 1263, 'aos': 827, 'parcelamentos': 2249, 'deliberação': 1220, '1217': 198, 'cad': 955, '1025ª': 173, '0055': 76, '1098ª': 183, 'respectivamente': 2480, 'impactando': 1687, 'débito': 1352, 'credores': 1166, 'contabilização': 1122, 'juros': 1874, 'lançamento': 1880, 'sobre': 2639, 'dezembro': 1310, '2019': 375, 'período': 2303, '10': 150, '03': 99, 'até': 890, '06': 126, '04': 115, '2020este': 383, 'ajuste': 779, 'impacta': 1682, 'crédito': 1176, 'que': 2388, 'possuem': 2332, 'valores': 2776, 'decorrentes': 1206, 'gsf': 1633, 'parcelamento': 2248, 'atualização': 886, 'monetária': 2041, 'porém': 2329, 'para': 2242, 'este': 1459, 'mês': 2069, 'não': 2147, 'teve': 2706, 'pois': 2322, 'igp': 1671, 'foi': 1567, 'negativo': 2081, '11ª': 195, 'recontabilização': 2432, '2016': 341, 'fevereiro': 1537, '10ª': 186, 'março': 1992, '8ª': 584, '2018': 370, '5ª': 528, '7ª': 566, 'abril': 669, '4ª': 509, '2ª': 440, 'junho': 1869, '2019ajustes': 376, 'relativos': 2458, 'impactos': 1690, 'financeiros': 1552, 'das': 1199, 'recontabilizações': 2433, 'estes': 1460, 'ajustes': 781, 'impactam': 1686, 'participantes': 2261, '2019todos': 380, 'uma': 2750, 'saldo': 2539, 'remanescente': 2461, 'princ': 2351, 'atm': 868, 'celescestes': 1008, 'visam': 2801, 'atender': 865, '025ª': 98, 'agente': 699, 'operacionalização': 2175, 'dando': 1197, 'um': 2749, 'no': 2090, 'ao': 826, 'ceramicaestes': 1018, '098ª': 148, 'despacho': 1240, 'aneel': 814, 'nº': 2141, '1146': 192, '18_fev20atendimento': 276, '146': 219, 'pedido': 2283, 'saesa': 2536, 'relação': 2460, 'fator': 1492, 'indisponibilidade': 1711, 'fid': 1543, 'mre': 2058, 'esse': 1451, 'refere': 2446, 'se': 2556, '20ª': 389, 'parcela': 2247, '36': 482, 'impacto': 1689, '18_mar': 282, 'jul20atendimento': 1830, 'antecipação': 821, 'parcelas': 2250, 'ii': 1676, 'santo': 2548, 'antonio': 824, '21': 390, '25': 401, 'meses': 2020, 'julho': 1835, 'desp': 1237, '1911': 297, 'ref': 2445, 'fev20atendimento': 1531, '911': 586, 'realização': 2412, 'cálculo': 1188, 'disponibilidade': 1326, 'máxima': 2066, 'contratual': 1137, 'dispobilidade': 1325, 'total': 2719, 'reclassificação': 2426, 'modalidade': 2029, 'tipo': 2710, 'aeste': 691, 'erb': 1440, 'aratinga': 847, 'compradores': 1088, '18º': 293, 'leilão': 1883, 'energia': 1420, 'nova': 2135, 'na': 2075, 'proporção': 2367, 'seus': 2621, 'contratos': 1136, 'compra': 1086, 'resolução': 2478, '545': 519, '13': 210, 'itajai': 1745, 'biogas': 928, 'fev20resolução': 1536, 'determina': 1249, 'criação': 1169, 'perfil': 2296, 'específico': 1446, 'qual': 2383, 'permaneça': 2301, 'vinculados': 2799, 'empreendimentos': 1406, 'geração': 1608, 'desligado': 1234, 'como': 1076, '17': 248, 'caso': 981, 'valor': 2771, 'repassado': 2469, 'conta': 1120, 'específica': 1445, 'completar': 1084, 'totalidade': 2720, 'dívida': 1355, 'ser': 2572, 'quando': 2384, 'sai': 2538, 'devedor': 1255, 'por': 2324, 'consumo': 1119, 'gerado': 1596, 'rateado': 2395, 'todos': 2717, 'referido': 2450, 'geraes': 1601, 'energetica': 1419, 'maio': 1947, '19': 295, 'houver': 1665, 'resultado': 2494, 'financeiro': 1551, 'votos': 2808, 'referentes': 2448, 'débitos': 1353, 'foram': 1571, 'sucedidos': 2656, 'primo': 2348, 'quitação': 2393, 'ecp': 1365, '003': 62, '2015': 331, 'cláusula': 1057, 'fev20aplicação': 1530, 'tc': 2682, 'teles': 2689, 'pires': 2313, 'gráfica': 1632, 'apurada': 841, 'conforme': 1104, '3ª': 491, 'terá': 2703, 'seu': 2620, 'montante': 2046, 'reduzido': 2441, 'mensalmente': 2016, 'pela': 2285, 'ccee': 992, 'meio': 2011, 'alocação': 790, 'às': 2818, 'compradoras': 1087, 'eventual': 1472, 'exposição': 1479, 'positiva': 2330, 'uhe': 2747, 'quantidade': 2386, 'contratadaeste': 1132, '11º': 196, 'nível': 2148, 'contratação': 1134, 'ccears': 991, 'distribuidoras': 1334, 'res': 2475, '684': 544, '15': 223, 'liminar': 1893, 'abragel': 666, 'fev20os': 1535, 'colocam': 1067, 'as': 857, 'usinas': 2761, 'essas': 1450, 'aderiram': 684, 'repactuação': 2467, 'portanto': 2325, 'são': 2672, 'consideradas': 1109, 'via': 2793, 'mecanismo': 2006, 'auxiliar': 900, 'mac': 1912, 'risco': 2524, 'hidrológicoeste': 1658, 'repactuaram': 2466, 'força': 1574, 'estão': 1470, 'distribuidores': 1335, '67918': 542, '16': 235, '401': 494, '3400': 462, 'fev20esse': 1533, 'visa': 2800, 'decisão': 1203, 'judicial': 1800, 'suspende': 2664, 'efeitos': 1373, '264': 413, 'exclusão': 1475, 'algumas': 783, 'mreincluímos': 2059, 'voltam': 2807, 'realizamos': 2410, 'recebida': 2422, 'entregue': 1434, 'demais': 1223, 'sua': 2648, 'garantia': 1590, 'física': 1583, 'modulada': 2031, 'ajustada': 777, 'gfis_3': 1617, 'cada': 956, 'usina': 2758, '1006114': 160, '01': 81, 'fev20': 1529, '1003712': 158, '83': 570, '0000': 2, '1002903': 156, '93': 592, '1006358': 161, '66': 540, '0091325': 80, '85': 574, '2014': 326, 'portaria': 2326, 'spe': 2643, 'mme': 2026, '12': 197, '58': 522, '31': 445, '14': 216, '178': 250, 'redução': 2444, 'usinaé': 2763, 'acrescentado': 678, 'plural': 2318, 'ecovida': 1364, 'scp': 2555, 'elejor': 1382, 'rio': 2523, 'paranapan': 2246, 'espora': 1448, 'alterando': 794, 'gfis_2': 1616, 'consequência': 1106, 'destas': 1243, 'alterado': 793, 'ação': 903, '00138561920174013800': 57, 'risoleta': 2525, 'neves': 2087, 'fev20deliberação': 1532, '0338': 101, '0925ª': 146, '2017': 357, 'determinou': 1253, 'item': 1750, 'modo': 2030, 'considerar': 1113, 'participante': 2260, 'efetiva': 1374, 'mas': 1993, 'sem': 2567, 'limitar': 1897, 'taxas': 2681, 'equivalentes': 1439, 'indisponibilidades': 1712, 'forçada': 1575, 'teif': 2685, 'programada': 2362, 'teip': 2687, 'novos': 2138, 'candonga': 973, 'enviados': 1435, 'pelo': 2287, 'ons': 2171, 'cumprimento': 1179, 'afetam': 694, 'consequentemente': 1105, 'considerada': 1108, 'desta': 1242, 'aliança': 786, 'cvrd': 1185, 'pie': 2309, '1008485': 162, 'altera': 791, 'situação': 2636, 'operativa': 2177, 'unidades': 2753, 'geradoras': 1598, 'ug3': 2745, 'ug4': 2746, 'itiquira': 1751, 'operação': 2178, 'com': 1070, 'limitação': 1899, 'potência': 2338, 'alterada': 792, '5044708': 514, '77': 559, '7100': 550, 'atribuí': 875, 'signatárias': 2625, 'ccear': 990, 'firmados': 1557, 'pch': 2276, 'morro': 2054, 'grande': 1623, '0043973': 70, '000_fev20aplicação': 37, 'obtida': 2153, 'grupo': 1630, 'visando': 2802, 'pagamento': 2234, 'decorrente': 1205, 'descolamento': 1227, 'entre': 1433, 'cmo': 1058, 'pldesse': 2316, 'amparados': 810, 'anace': 813, 'custo': 1183, 'deslocamento': 1236, 'e_desc': 1356, 'enquadram': 1430, 'condição': 1100, 'pld': 2315, 'inc': 1702, 'devolvido': 1268, 'forma': 1572, 'proporcional': 2366, 'nenhuma': 2082, 'oficio': 2167, '020': 97, 'srg': 2644, 'jan20este': 1784, 'ofício': 2168, 'alterações': 797, 'cvu': 1186, 'ute': 2764, 'porto': 2328, 'pecém': 2281, 'atendimento': 867, 'majoração': 1953, 'pagadores': 2233, 'encargos': 1411, 'serão': 2580, 'variação': 2778, 'nos': 2095, 'pagamentos': 2235, 'além': 801, 'disso': 1328, 'efeito': 1372, 'germat': 1609, '0673': 128, '1144ª': 191, '07': 129, '2021': 386, '08': 137, '02': 96, '2021são': 387, '1ª': 307, '2020ajustes': 382, 'dez20atendimento': 1304, 'aj': 776, '2002': 310, 'dez20o': 1307, 'representa': 2474, 'aplicação': 835, '2008': 312, 'operador': 2176, 'nacional': 2076, 'sistema': 2634, 'elétrico': 1398, 'considere': 1115, 'térmicas': 2742, 'acordo': 675, 'ordem': 2182, 'mérito': 2068, 'limite': 1900, 'realizado': 2409, 'petrobras': 2306, 'gerar': 1604, 'maior': 1952, 'despachadas': 1239, 'calculada': 963, 'diferença': 1319, 'despachada': 1238, 'efetivamente': 1376, 'gerou': 1611, 'inserido': 1718, 'trc_ess': 2736, 'serviço': 2576, 'germatestes': 1610, '144ª': 218, 'novembro': 2136, 'dez20resolução': 1309, 'dez20os': 1308, 'dez20esse': 1306, 'dez20': 1303, 'dez20deliberação': 1305, '000_dez20aplicação': 35, '1036394': 178, '91': 585, '0000_dez20esse': 8, 'teifa': 2686, 'antônio': 825, 'jari': 1788, 'considerando': 1112, 'expurgos': 1482, 'concedidos': 1098, 'âmbito': 2819, 'judicialsão': 1803, 'ceja': 1004, 'rrh': 2530, 'repactuou': 2468, 'alteração': 796, 'fins': 1553, 'est': 1452, 'único': 2825, 'referente': 2447, 'liminares': 1894, 'retroativas': 2501, 'mar15': 1961, 'out19': 2210, 'limita': 1895, 'considerado': 1110, '95': 598, '100': 151, 'define': 1209, 'participação': 2264, 'rateioesse': 2398, 'limitando': 1896, 'ajuste_mre': 780, 'decisões': 1204, 'judiciais': 1799, 'contra': 1130, 'rateio': 2397, 'adicional': 686, 'gsfatualização': 1634, 'principalatualização': 2354, 'açãoimpacto': 904, 'dif': 1316, 'contabilizaçãodiferença': 1123, 'financeira': 1549, 'monetáriaajuste': 2042, 'balancear': 907, 'eventuais': 1471, 'diferenças': 1320, 'distinção': 1330, 'critérios': 1172, 'aplicada': 831, '2020estorno': 384, '05': 121, '09': 144, 'agosto': 736, 'setembro': 2615, 'outubro': 2229, 'prt': 2375, '418': 497, 'comp': 1078, 'sin_jul20atendimento': 2631, 'prevê': 2343, 'diretrizes': 1324, 'exportação': 1478, 'elétricaeste': 1396, 'geradores': 1599, 'atenderam': 866, 'mínimo': 2070, '97': 602, 'destinada': 1246, 'maneira': 1955, 'recebem': 2419, 'compensar': 1079, 'consumidores': 1118, 'vez': 2791, 'créditos': 1178, 'ess': 1449, 'jul20resolução': 1834, 'jul20aplicação': 1829, '18_mai': 280, 'jun21': 1868, 'compleatendimento': 1081, 'últimas': 2822, '35': 480, 'complementar': 1082, 'ficam': 1540, 'suspensos': 2669, 'jul20os': 1833, 'jul20esse': 1832, 'jul20': 1828, 'jul20deliberação': 1831, '000_jul20aplicação': 41, '077': 136, 'mai19': 1933, 'mai19este': 1937, 'ofícios': 2169, 'reverter': 2511, 'abarcado': 628, 'valoração': 2775, 'preço': 2344, 'ofertado': 2166, 'reserva': 2476, 'ene': 1414, 'pece': 2279, '5ln12': 527, 'mpx': 2057, 'pecii': 2280, '7len': 565, '0000_jul20esse': 10, 'denovembro': 1225, '9ª': 605, '2013': 319, '12ª': 208, '13ª': 215, '2015ajustes': 332, 'nov20atendimento': 2130, '0871': 142, '20': 309, 'rtr': 2532, '3968': 490, 'set': 2581, 'dez15': 1272, '160ª': 236, 'reunião': 2505, 'diferido': 1321, 'tendo': 2692, 'vista': 2803, 'subsidiário': 2655, 'sustentável': 2671, 'brasil': 941, 'esbr': 1441, 'deverá': 1260, 'apreciado': 836, 'processo': 2360, 'específicoeste': 1447, 'cemig': 1011, 'geracao': 1595, 'nov20resolução': 2134, 'nov20aplicação': 2129, 'nov20os': 2133, 'nov20esse': 2132, 'nov20': 2127, 'nov20deliberação': 2131, '000_nov20aplicação': 50, '0000_nov20esse': 17, '1025611': 172, '54': 516, 'jan14': 1758, 'dez14': 1271, 'set15': 2584, 'mudança': 2061, 'aprovada': 838, 'ren': 2462, '870': 581, 'especificamente': 1443, 'perdas': 2295, 'rede': 2439, 'básica': 948, 'ia': 1670, 'iia': 1677, 'compromisso': 1094, 'leilões': 1884, 'após': 844, '2011': 315, 'partir': 2266, '0006706': 28, '23': 397, 'retroativa': 2500, 'abr': 633, 'dez': 1269, 'segurança': 2563, 'energética': 1424, 'seja': 2564, 'líquido': 1910, 'mensal': 2015, 'mai15': 1916, 'dez17': 1282, 'queda': 2389, 'reversão': 2507, '11': 188, 'out20atendimento': 2218, 'penalidade': 2290, 'set20estorno': 2610, 'gold': 1621, 'abarcada': 627, 'recuperação': 2436, 'juducial': 1804, 'agenteeste': 700, 'adébito': 689, 'alívio': 802, 'exposições': 1480, 'ambiente': 806, 'regulado': 2454, 'out20resolução': 2222, 'out20os': 2221, 'out20esse': 2220, 'out20': 2217, 'out20deliberação': 2219, '000_out20aplicação': 52, '0000_out20esse': 19, 'set20atendimento': 2607, 'sin_set20atendimento': 2632, 'set20resolução': 2612, 'set20os': 2611, 'set20esse': 2609, 'set20': 2606, 'set20deliberação': 2608, '000_set20aplicação': 54, '0000_set20esse': 21, '2017são': 367, 'afetados': 693, '17este': 262, '2017ajustes': 358, 'pen': 2289, 'paga': 2232, 'delib': 1217, '575': 521, '2016_reunião': 345, '874ª': 582, 'mai': 1914, '14cad': 220, 'parnaiba': 2255, 'devolução': 1264, 'anteriormente': 822, 'deixam': 1214, 'ter': 2693, 'aliviadas': 787, 'suas': 2649, 'art': 854, 'agua': 742, 'paulistaresolução': 2273, 'ag': 698, 'paulista': 2272, 'ficaram': 1541, 'mar17aplicação': 1965, 'energéticaatendimento': 1425, 'aprovação': 840, 'definitivo': 1213, 'regras': 2453, 'comercialização': 1075, 'realize': 2413, 'base': 914, '2017este': 362, 'leva': 1887, 'consideração': 1114, 'comercializada': 1073, 'últimos': 2823, 'doze': 1349, 'calculado': 964, '831': 572, 'atribuir': 874, 'ressarcimento': 2485, 'araguaia': 845, 'alocado': 789, 'submercado': 2652, 'sudeste': 2658, 'centro': 1014, 'oeste': 2162, 'eletronorte': 1390, 'serviços': 2577, 'abr17os': 643, 'unico': 2751, 'abr17esse': 642, 'incluímos': 1705, 'lim': 1891, '100045203': 152, '0000_70': 3, 'gf': 1615, 'ug': 2744, '_abr17deliberação': 607, '339': 460, '862ª': 578, 'inserção': 1721, 'nas': 2077, 'seguintes': 2560, 'termos': 2702, '49': 508, 'convenção': 1140, 'destinar': 1247, '70': 547, 'comercial': 1072, 'belo': 919, 'monte': 2048, 'celebrados': 1006, 'nesaé': 2085, 'aplicando': 834, 'pimental': 2311, 'valorado': 2774, 'médio': 2067, 'nesa': 2083, 'contratado': 1133, '0000deliberação': 23, '792': 562, '0345ª': 102, 'efetivado': 1375, 'registro': 2451, 'utilizando': 2766, 'venda': 2785, '3º': 492, 'projetos': 2364, 'estruturantes': 1468, 'agr': 739, 'inst': 1722, '36475': 485, '62': 534, 'df': 1311, 'abr17considerar': 641, 'carta': 979, '0118': 87, '400': 493, '2016é': 356, 'afetando': 695, '2009': 314, '00': 0, '047307': 119, 'jan08': 1757, 'fev08': 1506, 'mar08': 1960, 'corr': 1148, 'moratorios': 2052, 'jul09': 1806, 'ago09': 704, 'set09': 2582, 'out09': 2190, 'out09cad': 2191, '927ª': 591, 'suspensão': 2670, 'providências': 2374, 'deliberadas': 1218, '925ª': 589, 'reuniãoimpacta': 2506, 'tradener': 2730, 'nº00076001420174010000': 2142, 'sjoana': 2637, 'jan': 1756, 'fev': 1505, 'mar': 1959, '2016cad': 348, 'atraso': 870, 'apresentado': 837, 'pelas': 2286, 'usinaseste': 2762, 'santoaugusto': 2549, 'iii': 1679, 'iv': 1753, 'santajoana': 2545, 'vii': 2797, '17º': 265, 'outr': 2223, 'dsp': 1350, '4683': 505, 'at': 862, 'monet': 2038, 'out': 2189, 'inad': 1694, '216': 392, 'nov': 2097, 'inadimp': 1698, '14estorno': 221, 'reverta': 2508, 'medidas': 2009, 'operacionais': 2172, 'adotadas': 687, 'operacionalizar': 2174, 'outrora': 2226, 'deferida': 1208, 'questão': 2392, 'restou': 2492, 'revogada': 2515, 'proferida': 2361, '797ª': 564, 'cadeste': 959, 'impacata': 1681, 'eletrogoes': 1389, 'contablizações': 1126, '2017esse': 361, 'cnpe': 1061, 'retroativasesse': 2502, 'razão': 2400, 'p_enc_car': 2230, 'mo': 2028, 'desligamento': 1235, 'descumprimentoalteração': 1230, 'descumprimento': 1229, 'obrigação': 2149, 'seta': 2613, 'itaguassu': 1741, '6ª': 546, 'correção': 1149, 'recontab': 2428, 'abr17ajustes': 640, 'ajustar': 778, 'incluída': 1704, 'recontabilizaçao': 2431, 'importação': 1692, 'eletrobrasatendimento': 1386, '950': 599, 'custos': 1184, 'variáveis': 2779, 'centrais': 1012, 'elétricas': 1397, 'brasileiras': 942, 'eletrobrás': 1387, 'determinado': 1251, 'nª': 2140, 'eletrobras': 1385, 'baseado': 916, 'interligado': 1726, 'sin': 2629, 'biogasresolução': 929, 'for': 1570, '933': 593, 'oesteeste': 2163, '830': 571, 'contabilizar': 1121, 'mauá': 2000, 'diferemça': 1317, 'utilizar': 2767, 'sineste': 2633, 'amazonas': 804, '2913': 435, 'mscd': 2060, 'en': 1407, 'iiatendimento': 1678, '913': 587, 'processamento': 2359, 'cessões': 1034, 'compensação': 1080, 'sobras': 2638, 'défictis': 1354, 'impactará': 1688, 'vendem': 2786, 'compram': 1089, 'considera': 1107, 'oriundas': 2185, 'mcsd': 2005, 'moduladas': 2032, 'flat': 1559, 'valoradas': 2773, 'liquidações': 1904, 'carga': 978, 'cedente': 997, 'out17os': 2202, '501578': 512, '6100esse': 532, 'suspender': 2665, '41': 496, '2017é': 369, 'recalculado': 2417, 'cesp': 1032, 'debito': 1201, '000_out17rateio': 51, 'restrição': 2493, 'cmoesse': 1059, 'out17esse': 2201, 'out17considerar': 2199, 'ago': 703, 'estornos': 1466, 'recálculos': 2438, 'ano': 820, 'out17deliberação': 2200, '0058': 77, 'afeta': 692, '16atualização': 239, 'contabilizações': 1124, 'abr16': 637, '2012': 316, '2013ajustes': 322, '2285': 396, '2590_nov14': 409, '2590_nov14estornos': 410, 'finaceiro': 1546, '2590': 406, 'retroagir': 2499, 'ponto': 2323, 'dados': 1193, 'medição': 2010, 'concessionária': 1099, 'cepisa': 1016, 'conectados': 1101, '2822': 416, '658': 539, '15ajuste': 227, 'regra': 2452, 'algébrica': 784, 'transitória': 2732, 'normativa': 2092, 'trata': 2733, 'divergência': 1338, 'repasse': 2472, 'classe': 1054, 'rt': 2531, 'recebimento': 2424, 'lhes': 1888, 'indevidamente': 1709, 'pelos': 2288, '2745': 414, 'sto': 2647, 'jun': 1839, 'jul': 1805, '15atualização': 229, 'taxa': 2680, 'equivalente': 1438, 'tecneira': 2683, 'embua': 1404, 'tritexalteração': 2739, 'calculo': 966, '710': 549, 'fixo': 1558, '16atendimento': 238, 'incorridos': 1707, 'submercados': 2653, '4402': 500, 'taccumprimento': 2674, 'subcláusula': 2651, 'tac': 2673, 'aprovado': 839, 'parnaib': 2254, '7º': 567, 'nivél': 2089, '006': 78, '2012determina': 318, 'atribua': 872, 'intitulada': 1728, 'necessidade': 2078, 'comprometidas': 1091, 'disponibilidades': 1327, 'proprietário': 2368, 'proprietários': 2369, 'geraram': 1605, 'já': 1876, 'inflexibilidade': 1715, 'comprometidos': 1092, 'citadas': 1051, 'mai16ajuste': 1919, 'respectivos': 2482, '4ªaplicação': 510, 'contratada': 1131, 'tr_ris_mai16a': 2727, 'nº684': 2146, 'rísco': 2534, 'hidrologico': 1656, 'optaram': 2180, 'transferido': 2731, 'sejasm': 2566, 'diretamente': 1323, 'será': 2579, 'necessário': 2080, 'realizar': 2411, 'esta': 1453, 'mai16ver': 1920, 'relatório': 2459, 'ações': 905, 'sum001': 2660, 'maio16': 1948, '1005856': 159, '3400ver': 476, 'copel': 1142, 'get': 1613, 'colider': 1065, '10º': 187, '0023052': 59, 'dfver': 1312, '502308723': 513, 'ai_mai16ver': 754, 'cgtee': 1039, 'ceal': 994, 'celg': 1009, 'ceee': 1000, 'distrib': 1331, 'aii_mai16ver': 770, 'ata': 863, '860': 577, '1º': 308, 'pres': 2341, 'medici': 2008, 'fase': 1491, 'menos': 2014, 'energisa': 1422, 'mg': 2022, 'agravo': 740, 'instrumento': 1724, '0031203': 63, '87': 580, '0000ver': 24, '_mai16ver': 620, 'acep': 673, 'funil': 1579, 'bem': 920, 'cotas': 1154, 'itaipú': 1743, 'também': 2678, 'alivio': 788, 'causa': 985, '71858': 552, 'acara': 671, '0011336': 55, '59': 525, 'ecciv': 1358, 'eccv': 1359, 'eccvi': 1360, 'trind': 2737, '16ver': 246, 'ectrindade': 1366, 'zona': 2816, 'mata': 1994, 'paiol': 2239, 'i5': 1669, 'colino': 1066, 'cpfl': 1163, 'sul': 2659, 'serv': 2574, 'energy': 1423, '2015ver': 340, 'piedade': 2310, 'gt': 1638, 'eletricidade': 1383, 'paraense': 2244, 'jorge': 1794, 'cerp': 1022, 'santa': 2543, 'rosa': 2529, 'electra': 1380, 'azul': 901, 'rvesa': 2533, 'cgh': 1037, 'chapeu': 1044, 'cinco': 1049, 'estrelas': 1467, 'con': 1096, 'isentos': 1738, 'associados': 861, 'abradee': 665, 'chesf': 1046, 'coteminas': 1155, 'sa': 2535, 'ceesam': 1001, 'cersad': 1025, 'geradora': 1597, 'bonito': 933, 'salto': 2540, 'lobo': 1905, 'outros': 2227, 'hydro': 1668, 'kuhlemann': 1877, 'quanta': 2385, 'sta': 2645, 'terezinha': 2695, 'firenze': 1554, 'ferreira': 1503, 'gomes': 1622, 'luzboa': 1908, 'ciab': 1048, 'eletrosul': 1392, 'alianca': 785, 'geraçâo': 1607, 'eciii': 1362, 'cp': 1162, 'matriz_mt': 1996, 'caa': 949, 'yari': 2811, 'ceb': 995, 'saudades': 2552, 'ceriluz': 1019, 'ger': 1592, 'rbe': 2401, 'geratrans': 1606, 'contestado': 1129, 'tambau': 2676, 'anjos': 818, 'service': 2575, 'iluminatti': 1680, 'cachoeirão': 953, 'pesa': 2304, 'costa': 1152, 'rica': 2521, 'sefac': 2559, 'passos': 2270, 'maia': 1946, 'gera': 1593, 'somar': 2642, 'apine': 830, 'cantu2': 975, 'creluz': 1167, 'hge': 1651, 'boa': 932, 'fe': 1496, 'glh': 1619, 'dona': 1342, 'maria': 1990, 'piana': 2308, 'jaguari': 1755, 'outras': 2224, 'eesa': 1371, 'sao': 2551, 'braco': 938, 'lasa': 1881, 'rialma': 2518, 'light': 1890, 'cotaguti': 1153, 'cotsebastiao': 1157, 'cotvalentim': 1158, 'abiape': 631, 'canaa': 970, 'rcesa': 2403, 'jaguarari': 1754, '2016ver': 355, 'cghpcruz': 1038, 'coprel': 1145, 'rastro': 2394, 'auto': 894, 'queluz': 2391, 'lavrinhas': 1882, 'sebastiao': 2557, 'tamboril': 2677, 'coxim': 1161, 'pedacinho': 2282, 'ceu': 1035, 'marombas': 1991, 'sens': 2569, 'morrinhos': 2053, 'opm': 2179, 'bme': 931, 'simple': 2628, 'rondinha': 2527, 'chalana': 1041, 'mauricio': 1999, 'fortuna': 1573, 'america': 808, 'brentech': 944, 'cooperluz': 1141, 'gryps': 1631, 'vermelho': 2790, 'baguari': 906, 'energ': 1417, 'aratu': 848, 'abranjo': 668, 'ematex': 1400, '0013840': 56, '38': 487, 'rialma_mai16ver': 2520, 'antes': 823, 'abr14ver': 635, 'mai16': 1918, 'abr16ver': 638, '0032975': 64, 'autores': 896, 'fé': 1582, '0036225': 65, 'adic': 685, '03_abr13': 106, '2013ver': 325, 'única': 2824, 'abeeolica': 629, 'am': 803, 'potiguar': 2337, 'candeias': 971, 'colorado': 1068, 'eletrocesar': 1388, 'primavera': 2345, 'enguia': 1428, 'arembepe': 851, 'cerradão': 1023, 'bep': 922, 'borborema': 935, 'maracanau': 1989, 'abrace': 663, 'abraget': 667, 'abraceel': 664, 'cassol': 982, 'novo': 2137, 'mundo': 2062, 'ultrapassagem': 2748, 'car': 977, 'cascata': 980, '03_mai13': 111, 'alto': 799, 'alegre': 782, 'delta': 1222, 'tangara': 2679, 'guacu': 1641, 'pequi': 2293, 'atual': 878, 'cowat': 1160, 'vale': 2770, 'tijuco': 2709, 'par': 2241, 'mmrc': 2027, 'mch': 2003, 'cj': 1052, 'mogiana': 2034, '03_junho13': 110, '03_jun13': 109, '03_jul13': 108, 'passo': 2269, 'ferraz': 1502, '03_ago13': 107, '03_set13ver': 113, 'cert': 1026, 'vitorino': 2804, 'elo': 1394, 'grifo': 1628, 'itaguacu': 1740, 'outro': 2225, 'paracatu': 2243, '03_set13': 112, 'ver': 2788, '2014ver': 330, 'mangue': 1956, 'seco': 2558, 'clealco': 1055, 'termocabo': 2698, 'comosa': 1077, 'créditoos': 1177, 'bc': 917, 'prime': 2346, 'rdv': 2404, 'geramamore': 1603, 'asa': 858, 'branca': 939, 'dt': 1351, 'joana': 1793, 'renova': 2463, 'cge': 1036, 'cesar': 1028, 'filho': 1545, 'ventos': 2787, 'cem': 1010, 'manauara': 1954, 'noble': 2091, 'usangelo': 2757, 'eol': 1436, 'embuaca': 1405, 'pca': 2275, 'furnas': 1581, 'inhambu': 1716, 'oer': 2161, 'cacu': 954, 'jbs': 1789, 'fribiu': 1578, 'bergamin': 923, 'honda': 1663, 'salvador': 2541, 'eólicas': 1486, 'bela': 918, 'itapuã': 1747, 'eólica': 1485, 'bons': 934, 'serra': 2573, 'pardo': 2253, 'termoelétrica': 2699, 'silica': 2626, 'verde': 2789, 'arroz': 853, 'juruena': 1875, 'odebrecht': 2160, 'ambiental': 805, 'cachoeiro': 952, 'itapemirim': 1746, 'hacker': 1646, 'industrial': 1713, 'caju': 960, 'candida': 972, 'bioeletricidade': 926, 'iguaçu': 1675, 'borja': 936, 'central': 1013, 'hidreletrica': 1652, 'buritirana': 947, 'hidrelétrica': 1653, 'piabanha': 2307, 'estado': 1455, 'mato': 1995, 'grosso': 1629, 'bioenergia': 927, 'joão': 1796, 'capim': 976, 'dourados': 1346, 'francisco': 1577, 'ceg': 1002, 'varzea': 2780, 'angico': 816, 'maynart': 2001, 'cei': 1003, 'minas': 2024, 'agreste': 741, 'gestamp': 1612, 'pisa': 2314, 'eolica': 1437, 'vacas': 2769, 'utxa': 2768, 'gaeb': 1584, 'rima': 2522, 'cnaa': 1060, 'itt': 1752, 'itb': 1749, 'tropical': 2740, 'inxu': 1730, 'pdee': 2278, 'sigma': 2624, 'testa': 2704, 'helena': 1650, 'barra': 913, 'clara': 1053, 'santaisabel': 2544, 'ccb': 989, 'ectx': 1367, 'jesa': 1790, 'bandacouro': 909, 'baraunas1': 911, 'baraunas2': 912, 'manopla': 1957, 'mbranco1': 2002, 'mussambe': 2063, 'grao': 1627, 'mogol': 2035, 'guatapara': 1643, 'bozel': 937, 'minasligas': 2025, 'ferlig': 1500, 'granha1': 1626, 'inonibras': 1717, 'liasa': 1889, 'branco': 940, 'castman': 983, 'cachoeira': 951, 'cambara': 968, 'pantanal': 2240, 'campo': 969, 'limpo': 1901, 'thor': 2707, 'comercializadora': 1074, 'aes': 690, 'tiete': 2708, 'egerit': 1378, 'mutum': 2064, 'braskem': 943, 'pet': 2305, 'curua': 1182, 'buriti': 946, 'fibra': 1539, 'estação': 1458, 'bh': 924, 'brotas': 945, '2019são': 379, 'principalestorno': 2356, '0496': 120, '059ª': 125, '2019este': 377, '2018ajustes': 371, 'eneestes': 1415, '18_jul19atendimento': 278, 'jul19atendimento': 1822, 'jul19resolução': 1827, 'doxo': 1347, 'jul19aplicação': 1821, 'jul19os': 1826, 'jul19esse': 1824, 'jul19': 1820, '0000_jul19esse': 9, 'ece': 1361, 'jul19deliberação': 1823, '3400_jul19esse': 467, 'mai18': 1927, 'jun19': 1859, '0027095': 60, '92': 588, 'cgtf': 1040, 'possui': 2333, 'protege': 2370, 'quanto': 2387, 'relacionado': 2456, 'falta': 1490, 'combustível': 1071, 'desde': 1231, '18': 266, 'inexigíveis': 1714, 'deveriam': 1259, 'todo': 2716, 'lançado': 1878, '1015553': 168, '26': 411, 'mai19a': 1934, 'possuia': 2334, 'protegia': 2371, 'deste': 1244, 'maio2017': 1951, 'maio17este': 1949, '2017todos': 368, '7770': 560, '68': 543, '2980': 436, 'atmdeliberação': 869, '0053': 75, '938ª': 595, '2980o': 437, 'daia': 1194, '1ld': 306, 'impactado': 1684, 'jun17': 1849, 'retroativasos': 2503, 'jun17esse': 1853, '_jun17deliberação': 618, 'jun17considerar': 1851, 'jun16': 1842, 'jul16': 1809, 'ago16': 707, 'set16': 2585, 'out16': 2195, 'nov16': 2101, 'dez16': 1276, 'jan17': 1761, 'fev17': 1510, 'mar17': 1964, 'abr17': 639, 'mai17': 1921, 'jun17deliberação': 1852, 'cnpe003': 1062, 'copenalteração': 1144, '787': 561, '1787': 251, 'of': 2165, 'dez16determina': 1278, 'definida': 1210, 'excedente': 1473, 'monetáriaatendimento': 2043, '464': 504, 'homologou': 1662, 'revisão': 2514, '933ª': 594, 'rca': 2402, 'determinada': 1250, 'operacionalizada': 2173, 'menor': 2013, 'cadastrado': 957, 'passará': 2268, 'receber': 2420, 'contrário': 1138, '1015': 166, 'ipca_rtr': 1733, '2849_mai': 427, '2013por': 324, 'contabilize': 1125, 'associadas': 860, 'foz': 1576, 'chapecó': 1043, 'líquida': 1909, 'conexão': 1103, 'diante': 1314, 'exposto': 1481, 'cadastro': 958, 'corrigido': 1150, 'aberto': 630, 'interno': 1727, 'ainda': 775, 'montantes': 2047, 'corrigidos': 1151, 'ipcaos': 1736, 'provenientes': 2373, 'atualizados': 884, 'monetariamente': 2040, 'fgv': 1538, 'submódulo': 2654, 'realiza': 2406, '2849': 418, 'ipca': 1732, '0050072': 72, '2013esse': 323, '2015liminar': 339, 'chapeco': 1042, 'revertendo': 2510, 'participam': 2259, 'nº0050072': 2143, 'mai17os': 1926, 'mai17esse': 1924, '_mai17deliberação': 621, 'mai17considerar': 1923, '2016ajustes': 346, '2016todos': 354, '2849_jan': 424, '2849_fev': 423, '2849_mar': 428, '2849_abr': 419, 'fev17o': 1513, 'fev17os': 1514, 'fev17esse': 1512, '_fev17deliberação': 612, '3400deliberação': 474, '1022': 171, '0764ª': 135, 'elétrica': 1395, 'exigibilidade': 1476, 'atrelados': 871, 'haja': 1647, 'definitiva': 1212, 'concatenação': 1097, 'entrada': 1432, 'cataventos': 984, 'finalização': 1548, 'instalações': 1723, 'sentido': 2571, 'contráriodevido': 1139, 'poder': 2320, 'sofrer': 2641, 'sanções': 2550, 'faturamento': 1493, 'fev17considerar': 1511, 'prin': 2350, 'n10017663220164013400_sjoana': 2073, 'jan16': 1760, 'n10017663220164013400_sjoan': 2072, 'prinlim': 2357, 'viii': 2798, 'n10017663220164013400_s': 2071, 'aug': 891, 'fev16': 1508, 'mar16deliberação': 1963, '330': 453, '2016deliberação': 349, 'ela': 1379, 'firmadoeste': 1556, '17deliberação': 260, '252': 402, '0857ª': 141, 'penalidades': 2292, 'face': 1487, 'autoras': 895, 'citada': 1050, 'sendo': 2568, 'hipótese': 1660, 'notificação': 2096, 'deverão': 1261, 'encaminhados': 1409, 'indicação': 1710, 'cobrança': 1063, 'exclusivamente': 1474, 'relacionadas': 2455, 'cerro': 1024, 'chato': 1045, 'vi': 2792, 'trindades': 2738, 'permanecerão': 2300, 'suspensas': 2667, 'ocorra': 2156, 'status': 2646, 'judicialdevido': 1801, 'poderem': 2321, 'sofrem': 2640, '2016são': 353, '16este': 241, 'jan17o': 1764, '042': 116, 'expansão': 1477, 'saesao': 2537, 'scg': 2554, 'sfg': 2623, 'anneleste': 819, 'reduziu': 2443, 'dado': 1192, 'jan17esse': 1763, 'jan17os': 1765, '000_jan17rateio': 38, '_jan17deliberação': 614, 'jan17considerar': 1762, 'procedimento': 2358, 'arbitral': 850, '22': 393, 'inadestorno': 1696, '2014esse': 327, 'reverte': 2509, 'copen': 1143, '2016este': 352, '963': 601, '2016atendimento': 347, 'santarem': 2546, 'norteeste': 2094, 'norte': 2093, 'dez16o': 1280, 'usinaeste': 2759, 'tr_ris_dez16a': 2722, 'hidrológico': 1657, 'sejam': 2565, 'resoluçãoeste': 2479, 'dez16os': 1281, 'dez16esse': 1279, '000_dez16rateio': 33, '_dez16deliberação': 610, 'dez16considerar': 1277, '16deliberação': 240, 'parcialesse': 2252, 'parcial': 2251, '2016esse': 351, '16são': 245, '2849_dez': 422, '2014por': 329, 'nov16o': 2106, '2837': 417, '08o': 143, '837': 573, 'compõe': 1095, 'alterar': 795, 'calculados': 965, '256': 404, 'redistribuir': 2440, 'possuía': 2336, 'oriundos': 2186, 'represados': 2473, 'rateados': 2396, 'devedores': 1257, 'certel': 1027, 'energias': 1421, '2982': 438, 'mora_mar16': 2050, 'mora_set16': 2051, '982': 603, 'mora': 2049, 'protegidos': 2372, 'decidiram': 1202, 'repactuar': 2465, 'desistiram': 1232, 'causado': 986, 'estas': 1456, 'tr_ris_nov16a': 2728, 'observação': 2151, 'memória': 2012, 'encontra': 1413, 'site': 2635, 'espaço': 1442, 'seção': 2622, 'menu': 2017, 'prêmio': 2376, 'resultadosimpacto': 2495, 'nov16os': 2107, 'nov16esse': 2105, '000_nov16rateio': 48, '_nov16deliberação': 625, 'nivel': 2088, '139': 213, '12len_ago15': 203, '12len_set15': 207, '12len_out15': 206, '12len_nov15': 204, '12len_nov15deliberação': 205, '0701ª': 131, 'firmado': 1555, 'valorada': 2772, 'gerados': 1600, 'jirau': 1792, '12º': 209, 'mar16': 1962, 'out16esse': 2196, 'estornar': 1464, '187': 267, 'funilé': 1580, 'nov16considerar': 2103, 'nov2016': 2128, '736': 553, '16juros': 243, 'aplicado': 832, 'segundo': 2562, 'da7ª': 1190, '71': 548, 'pedra': 2284, 'sete': 2614, 'gamel': 1587, 'gameldespacho': 1588, '2015este': 337, 'gameleiras': 1589, '2849_jun': 426, '2849_nov': 429, '2849_ago': 421, '2849_set': 431, '2015despacho': 335, '015': 91, 'ipcaestes': 1735, 'set16ajuste': 2586, '530': 515, '2012ajuste': 317, 'relativo': 2457, 'atribuído': 876, 'eletronuclear': 1391, 'angra': 817, 'parteeste': 2257, 'parte': 2256, '070': 130, 'rea': 2405, 'araguaiaeste': 846, 'oestepagamento': 2164, '767': 557, '2016_fev': 342, '2016_mar': 344, '2016_jun': 343, '15atendimento': 228, 'santaremeste': 2547, 'tr_ris_set16a': 2729, 'set16ver': 2588, 'setembro16este': 2617, 'setembro16esse': 2616, 'setembro16liminar': 2618, 'ord': 2181, 'nº50016397520134047206': 2145, 'sc': 2553, 'jul11': 1807, 'ago11': 705, 'set11': 2583, 'out11': 2192, 'nov11': 2098, 'dez11ver': 1270, 'modulação': 2033, 'proinfa': 2363, '_set16ver': 626, 'atualizacao': 881, 'monetaria': 2039, 'gsfeste': 1636, '16estorno': 242, 'tiveram': 2713, '16quando': 244, 'repassados': 2470, 'tal': 2675, 'impossibilita': 1693, 'destes': 1245, 'causando': 987, 'amparado': 809, 'mone': 2036, '15estorno': 231, 'atualiz': 880, 'ocasionaram': 2155, 'apenas': 829, '2015estorno': 338, '2015cálculo': 334, '15quando': 232, 'inadim': 1697, 'ago15': 706, 'nov15': 2099, 'dez15estorno': 1275, 'dará': 1198, 'estavam': 1457, 'decorrência': 1207, 'onde': 2170, 'dez15este': 1274, 'criado': 1168, 'intuito': 1729, 'repassar': 2471, 'ocorre': 2157, 'cumulativo': 1180, 'edp': 1370, 'enegetica': 1416, 'cotvalentin': 1159, 'coronel': 1147, 'araujo': 849, 'zul': 2817, 'ggh': 1618, 'conenergetica': 1102, 'geraca': 1594, 'eletrobra': 1384, 'mafras': 1913, 'fazenda': 1495, 'velha': 2783, 'cristina': 1171, 'divino': 1339, 'biotermica': 930, 'recreio': 2434, 'benedito': 921, 'crébito': 1175, 'alunorte': 800, 'paragominas': 2245, 'tupi': 2741, 'cristalino': 1170, 'faxinal': 1494, 'guedes': 1644, 'cedromatriz': 999, 'ape': 828, 'cedro': 998, 'fagundes': 1489, 'enc': 1408, 'liq': 1902, 'jun16inadimplência': 1846, 'jun16estorno': 1845, 'jun16lançamento': 1847, 'orig': 2183, '2849_out': 430, '2849_jul': 425, 'jun15': 1840, 'jun15determina': 1841, 'ago16ajuste': 708, 'atribuido': 873, 'del': 1216, '1218': 199, 'ceron': 1020, 'ceronestorno': 1021, '2014este': 328, 'tr_ris_fev16': 2723, 'tr_ris_fev16a': 2724, 'tr_ris_ago16a': 2721, 'fev16ver': 1509, 'agosto16': 737, 'ago16ver': 710, 'jun16ver': 1848, '_ago16ver': 608, '2013_12len_dez15': 320, '2013_12len_dez15ver': 321, '236': 400, 'jul16ver': 1811, 'fidimpacto': 1544, '0042973': 69, '28': 415, 'havan': 1648, '15ver': 233, 'atuali': 879, 'nov15ver': 2100, 'crpédito': 1173, 'azulalteração': 902, 'jan15': 1759, 'abr15': 636, 'jul15': 1808, 'out15': 2193, 'dez15determina': 1273, 'jul16ajuste': 1810, '2016despacho': 350, 'tr_ris_ju16a': 2725, 'julho16': 1836, '000': 1, '_mai16': 619, '_jun16ver': 617, 'particpantes': 2265, 'participates': 2263, '000_jul16ver': 40, 'ai_jun16ver': 751, 'aii_jun16ver': 767, 'ai_abr15': 743, 'ai_mai15': 752, 'ai_jun15': 750, 'ai_jul15': 749, 'ai_ago15': 745, 'ai_set15': 758, 'ai_nov15': 756, 'ai_dez15': 746, 'ai_out15': 757, 'ai_jan16': 748, 'ai_fev16': 747, 'ai_mar16': 755, 'ai_abr16': 744, 'ai_mai16': 753, 'aii_abr15': 759, 'aii_mai15': 768, 'aii_jun15': 766, 'aii_jul15': 765, 'aii_ago15': 761, 'aii_set15': 774, 'aii_out15': 773, 'aii_nov15': 772, 'aii_dez15': 762, 'aii_jan16': 764, 'aii_fev16': 763, 'aii_mar16': 771, 'aii_abr16': 760, 'aii_mai16': 769, '_jul16ver': 616, 'rec': 2416, 'abril16': 670, '2590_abr14': 407, '2590_abr14estornos': 408, 'gaia': 1585, 'cornetaalteração': 1146, 'subclausula': 2650, 'jun16ajuste': 1843, '2849_abri': 420, 'tr_ris_jun16a': 2726, 'junho16': 1870, '_nov15': 624, '_dez15': 609, '_jan16': 613, '_fev16': 611, '_mar16': 622, '_abr16': 606, 'rialma_abr16': 2519, '0040538': 68, '81': 568, '0036282': 66, 'facão': 1488, '0038167': 67, '47': 506, 'abiapever': 632, 'emateximpacto': 1401, 'repactuados': 2464, 'acrédito': 679, '2018são': 373, '2018este': 372, 'participantes8ª': 2262, 'set18atendimento': 2595, 'nº2': 2144, '406': 495, 'cvus': 1187, 'publicados': 2379, '452': 501, 'setembroo': 2619, 'ltda': 1907, 'agentetradener': 702, '3381': 455, '01102': 83, '1019ª': 169, 'dessa': 1241, 'aplicados': 833, 'diminuirá': 1322, 'divinópolis': 1340, 'distribuidora': 1333, 'realocação': 2414, 'ocorrerá': 2158, 'balanço': 908, 'energético': 1426, '3382': 456, '01103': 84, 'eco': 1363, 'vida': 2795, 'cajuru': 961, '3383': 457, '01104': 85, 'florestal': 1561, '3384': 458, '01105': 86, 'samburá': 2542, '3386': 459, 'cel': 1005, 'américo': 812, 'teixeira': 2688, '18atendimento': 290, 'apurado': 842, 'definido': 1211, '462': 503, '17_set18atendimento': 258, '745': 554, '18_set18atendimento': 288, 'set18os': 2598, 'set18esse': 2597, 'acréscimo': 680, '18esse': 291, 'set18deliberação': 2596, '2015atualização': 333, 'set18': 2594, 'considerados': 1111, '17_ago18atendimento': 252, '18_ago18atendimento': 270, 'ago18atendimento': 718, '2201': 394, 'recup': 2435, 'jud': 1797, '018428071201780600001': 95, 'eln': 1393, 'embgen': 1403, 'out17': 2197, 'mecesa': 2007, 'out17atendimento': 2198, '0184280': 94, '0001': 25, 'financeiras': 1550, 'enl': 1429, 'embalagens': 1402, 'vigente': 2796, '1003': 157, '1012ª': 165, '056': 123, 'abr14': 634, 'mai14atendimento': 1915, 'servição': 2578, 'atualizado': 883, 'índice': 2821, 'consumidor': 1117, 'amplo': 811, 'ipcaeste': 1734, 'uruguaiana': 2756, 'aut': 893, '287': 433, 'fev15': 1507, 'mai15atendimento': 1917, 'autorizativa': 899, 'autoriza': 897, 'manutençã': 1958, 'incorrido': 1706, 'unidade': 2752, 'gás': 1645, 'termelétrica': 2696, 'denominada': 1224, 'atualizada': 882, '196': 299, 'estabelece': 1454, 'ressarcimentoeste': 2486, '125': 201, 'fluminenseeste': 1565, 'flu': 1562, 'ago18os': 721, 'ago18esse': 720, 'ago18deliberação': 719, 'agosto18': 738, '102': 170, 'jun18atendimento': 1855, '115': 193, 'jul18atendimento': 1818, '000_ago18rateio': 31, '1015056': 167, '61': 530, 'nov16cad': 2102, '0999ª': 149, 'enquanto': 1431, 'inserir': 1720, 'baseada': 915, 'parâmetros': 2267, 'ip': 1731, 'constantes': 1116, 'portarias': 2327, '119': 194, '156': 226, '18é': 294, '793': 563, 'premier': 2340, 'foodsalteração': 1569, 'foods': 1568, 'cliqccee': 1056, 'deligados': 1221, 'similar': 2627, 'sucessão': 2657, 'metade': 2021, 'perfis': 2297, 'principais': 2352, 'deve': 1254, 'adequação': 683, 'assim': 859, 'terem': 2694, 'participado': 2258, 'podem': 2319, 'obter': 2152, 'dependendo': 1226, 'percentual': 2294, 'credor': 1164, 'ressaltamos': 2483, 'havendo': 1649, 'seguirá': 2561, '17_jun18atendimento': 254, '542': 517, 'determinar': 1252, 'efetue': 1377, 'fluminense': 1564, 'jun18os': 1858, 'jun18esse': 1857, 'jun18deliberação': 1856, 'junho18esse': 1872, 'dejulho': 1215, '076': 134, 'abr18atendimento': 646, '080': 138, 'mai18atendimento': 1929, '000_jun18rateio': 42, 'dez17cad': 1285, 'cepasa': 1015, 'dambroz': 1195, 'mabe': 1911, 'htlalteração': 1667, 'htl': 1666, 'mai18aplicação': 1928, '1414': 217, '17_mai18atendimento': 255, 'mai18os': 1932, 'mai18esse': 1931, 'mai18deliberação': 1930, 'maio18esse': 1950, '071': 132, 'mar18atendimento': 1971, 'ago17cad': 712, 'dambrozalteração': 1196, 'abr18o': 649, 'p_enc_se': 2231, '0001236': 26, '82': 569, '0146': 90, '00015701920178210146': 27, 'jun17atendimento': 1850, 'próxima': 2377, 'judicialeste': 1802, 'hidro': 1654, 'jet': 1791, 'feliz': 1499, 'microinox': 2023, 'abr18aplicação': 645, '958': 600, 'termelétricas': 2697, 'iranduba': 1737, 'flores': 1560, '1032': 177, 'abr18os': 650, 'abr18esse': 648, 'mar18': 1969, 'abr18deliberação': 647, '053': 122, 'fev18atendimento': 1517, '1000755': 155, 'out15esse': 2194, 'colíder': 1069, 'lené': 1886, 'utilizado': 2765, 'neste': 2086, 'contemplar': 1128, 'primeiros': 2347, 'dias': 1315, 'mar18o': 1974, 'mar18aplicação': 1970, 'mar18os': 1975, 'mar18esse': 1973, 'fev18': 1515, 'mar18deliberação': 1972, 'principalesse': 2355, 'restabeleceu': 2490, 'estornando': 1463, 'atualizações': 887, 'monetárias': 2045, '2017neste': 365, 'devolvida': 1267, '045': 118, 'jan18atendimento': 1768, 'leneste': 1885, '3323': 454, 'periodo': 2298, '0395': 105, '989ª': 604, 'contempla': 1127, 'valoreseste': 2777, 'itaituba': 1744, 'outrosalteração': 2228, '628': 535, 'devida': 1262, '3434': 477, '2017atendimento': 359, '434': 499, 'complexo': 1085, 'paulo': 2274, 'afonso': 697, 'moxotó': 2056, 'previsto': 2342, '3231': 449, 'fev18o': 1521, 'fev18aplicação': 1516, '642': 538, 'ccen': 993, '3241': 451, 'pau': 2271, 'ferro': 1504, 'termomanausajuste': 2701, 'tratando': 2734, 'publicação': 2380, '227': 395, 'termomanaus': 2700, 'ambos': 807, 'trazendo': 2735, '3232': 450, 'ditc': 1337, 'zebuajuste': 2813, 'pdc': 2277, 'coelba': 1064, 'integrantes': 1725, 'zebu': 2812, 'residualmente': 2477, 'fev18os': 1522, 'fev18esse': 1520, 'fev18considerar': 1518, 'fev18deliberação': 1519, 'igpm': 1672, '10_2017_4_03_6100': 184, '10_2017_4_03_6100esse': 185, 'respectivas': 2481, 'estornados': 1462, 'época': 2820, 'inseridos': 1719, 'motivador': 2055, 'devolver': 1266, 'permanece': 2299, '031': 100, 'dez17atendimento': 1284, 'itabira': 1739, 'ci': 1047, 'jan18aplicação': 1767, '2002o': 311, '211': 391, 'mai17o': 1925, 'ressarcir': 2487, 'teste': 2705, 'josé': 1795, 'pldeste': 2317, 'jan18os': 1772, 'jan18esse': 1771, 'jan18considerar': 1769, 'jan18deliberação': 1770, '_jan18deliberação': 615, 'prol': 2365, 'editoraalteração': 1369, 'editora': 1368, '17atendimento': 259, '6768': 541, 'art4': 855, 'volta': 2806, 'grandeatendimento': 1624, '768': 558, 'grandeeste': 1625, 'nov17atendimento': 2109, 'nov17os': 2113, '6100': 531, 'ago17': 711, 'set17': 2589, '2017estornados': 363, '2017atualizados': 360, '000_nov17rateio': 49, 'nov17esse': 2112, '17esse': 261, 'nov17considerar': 2110, 'nov17deliberação': 2111, '08027896920138120002': 139, 'retorna': 2497, 'especifico': 1444, 'fernan': 1501, 'impactou': 1691, 'retirada': 2496, '2º': 441, '630': 536, 'set17os': 2593, '000_set17rateio': 53, '1056952': 181, '0100': 82, 'penalidadeeste': 2291, 'piratinga': 2312, 'cruz': 1174, 'rge': 2517, 'retroativo': 2504, 'set17esse': 2592, 'set17considerar': 2590, '191': 296, 'aneelatendimento': 815, 'recalculo': 2418, '0018308': 58, 'restabelece': 2488, 'todas': 2715, 'horizontes': 1664, 'restabelecida': 2491, 'set17deliberação': 2591, 'julho2017': 1838, 'julho17este': 1837, 'descump': 1228, 'acotecnicaalteração': 677, 'acotecnica': 676, 'limianres': 1892, 'realizadas': 2408, 'elegiveis': 1381, 'possuiam': 2335, '5arecnov15': 526, '6arecdez15': 545, '3014': 444, '2015esse': 336, 'cotistas': 1156, 'itaipu': 1742, 'acei': 672, '322': 448, '886': 583, '2608': 412, 'mai17atendimento': 1922, '608': 529, 'mercanismo': 2019, '3156': 446, 'xavantes': 2809, 'únicoprocesso': 2826, 'aruanao': 856, 'estiver': 1461, 'cabe': 950, 'ressaltar': 2484, 'está': 1469, 'comprometida': 1090, 'comprometimento': 1093, 'ago17os': 716, 'ago17esse': 715, '000_ago17rateio': 30, 'ago17considerar': 713, 'ago17deliberação': 714, '58715': 524, '30': 442, '3400este': 475, 'desistência': 1233, 'junho2017': 1873, 'junho17este': 1871, 'voges': 2805, 'tome': 2718, 'caxias': 988, 'tecsis': 2684, '17o': 263, '2998': 439, 'ago16atendimento': 709, '943': 597, 'itaqui': 1748, 'deliberado': 1219, '942ª': 596, '0615': 127, '611': 533, 'jul17os': 1816, 'jul17esse': 1815, 'doppagamento': 1344, 'jul17considerar': 1813, 'jul17deliberação': 1814, '1053_17': 180, 'fluatendimento': 1563, 'mar17os': 1968, 'mar17esse': 1967, '_mar17deliberação': 623, '2062271': 388, '0000cad': 22, '926ª': 590, 'sentença': 2570, 'feito': 1498, 'eneva': 1427, '000_mar17rateio': 45, 'mar17considerar': 1966, 'superintendência': 2661, 'adote': 688, 'necessárias': 2079, 'revogação': 2516, 'supracitado': 2662, 'limitava': 1898, '2008impacta': 313, 'set16deliberação': 2587, '152': 224, '853ª': 576, 'apurados': 843, 'referida': 2449, 'atribuídos': 877, 'geto': 1614, '3000': 443, 'tem': 2690, 'finalidade': 1547, '711': 551, '259': 405, 'afetou': 696, 'zeram': 2814, 'deveria': 1258, 'nulo': 2139, 'revertida': 2513, 'jun16deliberação': 1844, 'recálculo': 2437, '10004520320154010000_70': 153, 'nov16deliberação': 2104, 'nesao': 2084, 'zerar': 2815, 'ro': 2526, '00512540720154013400': 73, '00512540720154013400este': 74, '15este': 230, 'mai20resolução': 1945, 'jun20atendimento': 1864, 'mai20aplicação': 1940, '18_dez20': 274, 'abr21': 662, '34': 461, 'ficou': 1542, 'suspenso': 2668, 'jun20os': 1867, 'jun20esse': 1866, 'jun20': 1863, 'jun20deliberação': 1865, 'abr19': 651, '3627': 483, '3627esse': 484, '000_jun20aplicação': 43, '058': 124, 'mar19': 1976, '074': 133, 'abr19este': 654, '0000_jun20esse': 12, 'jan20': 1778, 'gsfestorno': 1637, 'retorno': 2498, 'inaddiferença': 1695, 'monetáriaestorno': 2044, 'abr20': 656, 'mai20estorno': 1943, 'inadimplênciaestorno': 1701, '18_ago': 269, '29': 434, 'mai20os': 1944, 'mai20esse': 1942, 'mai20': 1939, 'mai20deliberação': 1941, '000_mai20aplicação': 44, '039': 104, 'mar20este': 1986, '044': 117, 'fev19': 1523, 'fev19este': 1527, '0000_mai20esse': 14, 'abr20resolução': 661, 'abr20aplicação': 657, 'abr20os': 660, 'abr20esse': 659, 'abr20deliberação': 658, '000_abr20aplicação': 29, '113': 190, 'dgl': 1313, 'fev20este': 1534, 'reclassificou': 2427, 'dadas': 1191, 'mar20': 1981, '0000_abr20esse': 5, 'mar20atendimento': 1983, 'mar20resolução': 1988, 'mar20aplicação': 1982, 'mar20os': 1987, 'mar20esse': 1985, 'mar20deliberação': 1984, '000_mar20aplicação': 47, '18_jan20atendimento': 277, '19ª': 305, 'jan20atendimento': 1780, '2300': 398, '3691': 486, 'jan19': 1773, 'dez19': 1296, 'dez19atendimento': 1297, 'cessão': 1033, 'roraima': 2528, 'distribuição': 1336, 'receberam': 2421, 'recontabilizado': 2429, 'calendário': 967, '582': 523, 'jan20determina': 1782, '574': 520, '43': 498, 'próximo': 2378, 'jan20resolução': 1786, 'jan20aplicação': 1779, 'jan20os': 1785, 'jan20esse': 1783, 'jan20deliberação': 1781, '000_jan20aplicação': 39, '018': 93, 'set19': 2599, 'nov19': 2120, 'dez19este': 1300, '18_dez19atendimento': 273, '18ª': 292, '3445': 479, '19_dez19atendimento': 300, 'recebidos': 2423, '46': 502, 'dez19resolução': 1302, 'nov19resolução': 2126, 'longo': 1906, 'tempo': 2691, 'vem': 2784, 'acumulando': 681, 'suprir': 2663, 'ocasionado': 2154, 'devolvendo': 1265, 'lançados': 1879, 'dez19os': 1301, 'dez19esse': 1299, 'dez19deliberação': 1298, '3400_dez19esse': 465, '124': 200, 'out19este': 2214, '14ª': 222, '18_nov19atendimento': 285, '17ª': 264, 'cajururesolução': 962, 'nov19atendimento': 2122, 'nov19aplicação': 2121, 'nov19os': 2125, 'nov19esse': 2124, '0000_nov19esse': 16, 'nov19deliberação': 2123, '3400_nov19esse': 471, '18_out19atendimento': 287, '16ª': 247, 'out19resolução': 2216, 'out19atendimento': 2211, 'out19os': 2215, 'out19esse': 2213, '0000_out19esse': 18, 'out19deliberação': 2212, '3400_out19esse': 472, '106': 182, 'ago19este': 726, '18_set19atendimento': 289, '15ª': 234, 'set19resolução': 2605, '2543': 403, 'ago19': 722, '2864': 432, 'set19atendimento': 2601, '543': 518, '864': 579, 'fluminenseestes': 1566, '50003560720198210058': 511, 'guabiju': 1639, 'judical': 1798, 'guabijueste': 1640, 'set19aplicação': 2600, 'set19os': 2604, 'set19esse': 2603, '0000_set19esse': 20, 'set19deliberação': 2602, '3400_set19esse': 473, 'dez18': 1290, 'tirar': 2712, '486': 507, 'recontabilizar': 2430, 'tirando': 2711, 'jan19esse': 1775, 'atualzaição': 888, '017': 92, '037': 103, 'jan19este': 1776, '091': 145, 'jul19este': 1825, '18_ago19atendimento': 271, '19atendimento': 301, 'ago19resolução': 728, 'ago19aplicação': 723, 'ago19os': 727, 'ago19esse': 725, '0000_ago19esse': 6, 'ago19deliberação': 724, '3400_ago19esse': 464, 'jun18': 1854, 'jul18': 1817, 'ago18': 717, 'out18': 2203, 'nov18esse': 2117, '00270959220184013400': 61, 'toda': 2714, 'atualziação': 889, 'ocorrida': 2159, '007': 79, 'nov18este': 2118, '18_jun19atendimento': 279, 'geraesresolução': 1602, 'doxoresolução': 1348, 'jun19os': 1862, 'jun19esse': 1861, '1009710': 163, '32_2018_4_01_0000': 452, '32': 447, 'usinaqueda': 2760, 'hidroelétricas': 1655, 'canoas': 974, '0000_jun19esse': 11, 'jun19deliberação': 1860, '19esse': 302, '3400_jun19esse': 468, 'distribuic': 1332, '0946': 147, '1009ª': 164, '2018todos': 374, 'cebestes': 996, 'energestes': 1418, '18_mai19atendimento': 281, 'mai19os': 1938, 'mai19esse': 1936, '0000_mai19esse': 13, 'mai19deliberação': 1935, '3400_mai19esse': 469, 'gsfesse': 1635, '18_abr19atendimento': 268, '3565': 481, '852': 575, '2019recontabilização': 378, 'realizada': 2407, 'permitindo': 2302, 'bilateral': 925, 'gna': 1620, 'reduzir': 2442, '172': 249, 'mwmed': 2065, 'contrato': 1135, 'garantir': 1591, 'inclusão': 1703, '1385': 212, 'out18atendimento': 2204, '385': 489, 'argentina': 852, 'abr19os': 655, 'abr19esse': 653, '0000_abr19esse': 4, 'abr19deliberação': 652, '3400_abr19esse': 463, '0129': 89, 'dop': 1343, 'reclassif': 2425, 'fev19atendimento': 1524, 'aumenta': 892, 'hidráulico': 1659, 'mar19atendimento': 1977, 'encargosimpacto': 1412, '10310271420198260100': 176, 'qge': 2382, '10310262920198260100': 175, 'cescestes': 1031, 'cesceste': 1030, 'qeg': 2381, 'cesc': 1029, '10006670220198260681': 154, 'ebf': 1357, 'vazeste': 2782, 'vaz': 2781, 'complemento': 1083, '18_mar19atendimento': 283, 'mar19os': 1980, 'mar19esse': 1979, 'jan18': 1766, '0000_mar19esse': 15, 'mar19deliberação': 1978, '3400_mar19esse': 470, '000_mar19aplicação': 46, 'iguacu': 1673, 'iguacuesse': 1674, 'rateioeste': 2399, 'jan19atendimento': 1774, 'primoresolução': 2349, 'jan19pedido': 1777, 'indeferido': 1708, '1043ª': 179, 'guaras': 1642, '17_fev19atendimento': 253, '381': 488, '18_fev19atendimento': 275, '19estorno': 303, '19recalculo': 304, 'fev19os': 1528, 'fev19esse': 1526, 'jul17': 1812, 'nov17': 2108, 'abr18': 644, 'nov18': 2114, 'fev19deliberação': 1525, '3400_fev19esse': 466, '000_fev19aplicação': 36, 'dez18aplicação': 1291, 'dez18atendimento': 1292, '235': 399, 'xxxx': 2810, '193': 298, 'pagas': 2237, '3438': 478, 'jul18este': 1819, 'adequar': 682, 'destinação': 1248, 'pagos': 2238, 'título': 2743, 'alterá': 798, 'atedimento': 864, '18_dez18atendimento': 272, 'dez18os': 1295, 'dez18esse': 1294, '000_dez18aplicação': 34, 'dez18deliberação': 1293, 'nov18atendimento': 2115, 'suspendia': 2666, '2017foi': 364, 'diferenciado': 1318, 'n5015781020174036': 2074, 'atualizar': 885, 'monentariamente': 2037, 'reapuração': 2415, '17_nov18atendimento': 256, '18_nov18atendimento': 284, 'extrajudic': 1483, '11201661120188260100': 189, 'out18estes': 2207, '01269': 88, '1028ª': 174, 'queiroz': 2390, 'galvão': 1586, 'extrajudicialeste': 1484, '126': 202, '082': 140, 'autorizar': 898, 'pagar': 2236, 'nov18os': 2119, 'nov18deliberação': 2116, '138': 211, '155': 225, '166': 237, 'reverterção': 2512, '759': 556, '758': 555, '17_out18atendimento': 257, '18_out18atendimento': 286, 'out18o': 2208, '638': 537, 'out18os': 2209, 'out18esse': 2206, 'out18deliberação': 2205, 'ago20atendimento': 731, 'sin_ago20atendimento': 2630, 'barao': 910, 'mauaatendimento': 1998, 'obrigações': 2150, 'maua': 1997, '13este': 214, 'impactaa': 1683, 'ago20resolução': 735, 'ago20aplicação': 730, 'ago20os': 734, 'ago20esse': 733, 'ago20': 729, 'ago20deliberação': 732, '000_ago20aplicação': 32, '0000_ago20esse': 7, 'unnafibrasalteração': 2755, 'unnafibras': 2754, 'dez17aplicação': 1283, 'dez17os': 1289, 'restabelecer': 2489, '2017suspensão': 366, 'dez17esse': 1288, 'dez17considerar': 1286, 'dez17deliberação': 1287, 'fechamento': 1497, 'histórica': 1661, 'acer': 674, '005': 71, '03esse': 114}\n",
      "\n",
      "Peso de cada palavra do vocabulário: \n",
      "[7.38068735 7.09300528 3.95751106 ... 3.27529295 2.59597725 7.78615246]\n"
     ]
    },
    {
     "name": "stdout",
     "output_type": "stream",
     "text": [
      "\n",
      "Dimensões da matrix: \n",
      "(1770, 2827)\n",
      "\n",
      " Encargo Liquidação MCP - Original - Principal (*)Inadimplência do MCP (Mercado de Curto Prazo) de Janeiro/2020São impactados os Agentes inadimplentes da liquidação do MCP de Janeiro/2020 em posição devedora ou credora.- \n",
      " Encargo Liquidação MCP - Estorno -  Principal (*)Estorno da Inadimplência do MCP (Mercado de Curto Prazo) de Janeiro/2020- (CELESC DIST e VIBEOLI CERAMICA)Estorno da inadimplência dos agentes CELESC DIST e VIBEOLI CERAMICA devido aos parcelamentos (Deliberação 1217 CAd 1025ª e Deliberação 0055 CAd 1098ª, respectivamente) impactando a débito os agentes credores da contabilização de Janeiro/2020.- \n",
      " Encargo Liquidação MCP - Original - Juros (*)Lançamento dos Juros sobre a Inadimplência do MCP (Mercado de Curto Prazo) de Dezembro/2019 do período de 10/03/2020 até 06/04/2020São impactados os Agentes inadimplentes da liquidação do MCP de Janeiro/2020, em posição devedora ou credora.- \n",
      " Encargo Liquidação MCP - Estorno - Juros (*)Estorno dos juros sobre a inadimplência do MCP (Mercado de Curto Prazo) de Janeiro/2020Este ajuste impacta a crédito os agentes que possuem valores decorrentes do GSF e parcelamento e a débito os agentes credores da contabilização de Janeiro/2020- \n",
      " Encargo Liquidação MCP - Original - Atualização Monetária (*)Lançamento da atualização monetária sobre a Inadimplência do MCP (Mercado de Curto Prazo) de Janeiro/2020 do período de 10/03/2020 até 06/04/2020São impactados os Agentes inadimplentes da liquidação do MCP de Janeiro/2020, em posição devedora ou credora, porém para este mês não teve atualização monetária pois o IGP-M foi negativo.- \n",
      "\n"
     ]
    },
    {
     "data": {
      "text/html": [
       "<div>\n",
       "<style scoped>\n",
       "    .dataframe tbody tr th:only-of-type {\n",
       "        vertical-align: middle;\n",
       "    }\n",
       "\n",
       "    .dataframe tbody tr th {\n",
       "        vertical-align: top;\n",
       "    }\n",
       "\n",
       "    .dataframe thead th {\n",
       "        text-align: right;\n",
       "    }\n",
       "</style>\n",
       "<table border=\"1\" class=\"dataframe\">\n",
       "  <thead>\n",
       "    <tr style=\"text-align: right;\">\n",
       "      <th></th>\n",
       "      <th>00</th>\n",
       "      <th>000</th>\n",
       "      <th>0000</th>\n",
       "      <th>0000_70</th>\n",
       "      <th>0000_abr19esse</th>\n",
       "      <th>0000_abr20esse</th>\n",
       "      <th>0000_ago19esse</th>\n",
       "      <th>0000_ago20esse</th>\n",
       "      <th>0000_dez20esse</th>\n",
       "      <th>0000_jul19esse</th>\n",
       "      <th>...</th>\n",
       "      <th>zul</th>\n",
       "      <th>às</th>\n",
       "      <th>âmbito</th>\n",
       "      <th>época</th>\n",
       "      <th>índice</th>\n",
       "      <th>últimas</th>\n",
       "      <th>últimos</th>\n",
       "      <th>única</th>\n",
       "      <th>único</th>\n",
       "      <th>únicoprocesso</th>\n",
       "    </tr>\n",
       "  </thead>\n",
       "  <tbody>\n",
       "    <tr>\n",
       "      <th>0</th>\n",
       "      <td>0.0</td>\n",
       "      <td>0.0</td>\n",
       "      <td>0.0</td>\n",
       "      <td>0.0</td>\n",
       "      <td>0.0</td>\n",
       "      <td>0.0</td>\n",
       "      <td>0.0</td>\n",
       "      <td>0.0</td>\n",
       "      <td>0.0</td>\n",
       "      <td>0.0</td>\n",
       "      <td>...</td>\n",
       "      <td>0.0</td>\n",
       "      <td>0.0</td>\n",
       "      <td>0.0</td>\n",
       "      <td>0.0</td>\n",
       "      <td>0.0</td>\n",
       "      <td>0.0</td>\n",
       "      <td>0.0</td>\n",
       "      <td>0.0</td>\n",
       "      <td>0.000000</td>\n",
       "      <td>0.0</td>\n",
       "    </tr>\n",
       "    <tr>\n",
       "      <th>1</th>\n",
       "      <td>0.0</td>\n",
       "      <td>0.0</td>\n",
       "      <td>0.0</td>\n",
       "      <td>0.0</td>\n",
       "      <td>0.0</td>\n",
       "      <td>0.0</td>\n",
       "      <td>0.0</td>\n",
       "      <td>0.0</td>\n",
       "      <td>0.0</td>\n",
       "      <td>0.0</td>\n",
       "      <td>...</td>\n",
       "      <td>0.0</td>\n",
       "      <td>0.0</td>\n",
       "      <td>0.0</td>\n",
       "      <td>0.0</td>\n",
       "      <td>0.0</td>\n",
       "      <td>0.0</td>\n",
       "      <td>0.0</td>\n",
       "      <td>0.0</td>\n",
       "      <td>0.000000</td>\n",
       "      <td>0.0</td>\n",
       "    </tr>\n",
       "    <tr>\n",
       "      <th>2</th>\n",
       "      <td>0.0</td>\n",
       "      <td>0.0</td>\n",
       "      <td>0.0</td>\n",
       "      <td>0.0</td>\n",
       "      <td>0.0</td>\n",
       "      <td>0.0</td>\n",
       "      <td>0.0</td>\n",
       "      <td>0.0</td>\n",
       "      <td>0.0</td>\n",
       "      <td>0.0</td>\n",
       "      <td>...</td>\n",
       "      <td>0.0</td>\n",
       "      <td>0.0</td>\n",
       "      <td>0.0</td>\n",
       "      <td>0.0</td>\n",
       "      <td>0.0</td>\n",
       "      <td>0.0</td>\n",
       "      <td>0.0</td>\n",
       "      <td>0.0</td>\n",
       "      <td>0.000000</td>\n",
       "      <td>0.0</td>\n",
       "    </tr>\n",
       "    <tr>\n",
       "      <th>3</th>\n",
       "      <td>0.0</td>\n",
       "      <td>0.0</td>\n",
       "      <td>0.0</td>\n",
       "      <td>0.0</td>\n",
       "      <td>0.0</td>\n",
       "      <td>0.0</td>\n",
       "      <td>0.0</td>\n",
       "      <td>0.0</td>\n",
       "      <td>0.0</td>\n",
       "      <td>0.0</td>\n",
       "      <td>...</td>\n",
       "      <td>0.0</td>\n",
       "      <td>0.0</td>\n",
       "      <td>0.0</td>\n",
       "      <td>0.0</td>\n",
       "      <td>0.0</td>\n",
       "      <td>0.0</td>\n",
       "      <td>0.0</td>\n",
       "      <td>0.0</td>\n",
       "      <td>0.000000</td>\n",
       "      <td>0.0</td>\n",
       "    </tr>\n",
       "    <tr>\n",
       "      <th>4</th>\n",
       "      <td>0.0</td>\n",
       "      <td>0.0</td>\n",
       "      <td>0.0</td>\n",
       "      <td>0.0</td>\n",
       "      <td>0.0</td>\n",
       "      <td>0.0</td>\n",
       "      <td>0.0</td>\n",
       "      <td>0.0</td>\n",
       "      <td>0.0</td>\n",
       "      <td>0.0</td>\n",
       "      <td>...</td>\n",
       "      <td>0.0</td>\n",
       "      <td>0.0</td>\n",
       "      <td>0.0</td>\n",
       "      <td>0.0</td>\n",
       "      <td>0.0</td>\n",
       "      <td>0.0</td>\n",
       "      <td>0.0</td>\n",
       "      <td>0.0</td>\n",
       "      <td>0.000000</td>\n",
       "      <td>0.0</td>\n",
       "    </tr>\n",
       "    <tr>\n",
       "      <th>...</th>\n",
       "      <td>...</td>\n",
       "      <td>...</td>\n",
       "      <td>...</td>\n",
       "      <td>...</td>\n",
       "      <td>...</td>\n",
       "      <td>...</td>\n",
       "      <td>...</td>\n",
       "      <td>...</td>\n",
       "      <td>...</td>\n",
       "      <td>...</td>\n",
       "      <td>...</td>\n",
       "      <td>...</td>\n",
       "      <td>...</td>\n",
       "      <td>...</td>\n",
       "      <td>...</td>\n",
       "      <td>...</td>\n",
       "      <td>...</td>\n",
       "      <td>...</td>\n",
       "      <td>...</td>\n",
       "      <td>...</td>\n",
       "      <td>...</td>\n",
       "    </tr>\n",
       "    <tr>\n",
       "      <th>1765</th>\n",
       "      <td>0.0</td>\n",
       "      <td>0.0</td>\n",
       "      <td>0.0</td>\n",
       "      <td>0.0</td>\n",
       "      <td>0.0</td>\n",
       "      <td>0.0</td>\n",
       "      <td>0.0</td>\n",
       "      <td>0.0</td>\n",
       "      <td>0.0</td>\n",
       "      <td>0.0</td>\n",
       "      <td>...</td>\n",
       "      <td>0.0</td>\n",
       "      <td>0.0</td>\n",
       "      <td>0.0</td>\n",
       "      <td>0.0</td>\n",
       "      <td>0.0</td>\n",
       "      <td>0.0</td>\n",
       "      <td>0.0</td>\n",
       "      <td>0.0</td>\n",
       "      <td>0.000000</td>\n",
       "      <td>0.0</td>\n",
       "    </tr>\n",
       "    <tr>\n",
       "      <th>1766</th>\n",
       "      <td>0.0</td>\n",
       "      <td>0.0</td>\n",
       "      <td>0.0</td>\n",
       "      <td>0.0</td>\n",
       "      <td>0.0</td>\n",
       "      <td>0.0</td>\n",
       "      <td>0.0</td>\n",
       "      <td>0.0</td>\n",
       "      <td>0.0</td>\n",
       "      <td>0.0</td>\n",
       "      <td>...</td>\n",
       "      <td>0.0</td>\n",
       "      <td>0.0</td>\n",
       "      <td>0.0</td>\n",
       "      <td>0.0</td>\n",
       "      <td>0.0</td>\n",
       "      <td>0.0</td>\n",
       "      <td>0.0</td>\n",
       "      <td>0.0</td>\n",
       "      <td>0.000000</td>\n",
       "      <td>0.0</td>\n",
       "    </tr>\n",
       "    <tr>\n",
       "      <th>1767</th>\n",
       "      <td>0.0</td>\n",
       "      <td>0.0</td>\n",
       "      <td>0.0</td>\n",
       "      <td>0.0</td>\n",
       "      <td>0.0</td>\n",
       "      <td>0.0</td>\n",
       "      <td>0.0</td>\n",
       "      <td>0.0</td>\n",
       "      <td>0.0</td>\n",
       "      <td>0.0</td>\n",
       "      <td>...</td>\n",
       "      <td>0.0</td>\n",
       "      <td>0.0</td>\n",
       "      <td>0.0</td>\n",
       "      <td>0.0</td>\n",
       "      <td>0.0</td>\n",
       "      <td>0.0</td>\n",
       "      <td>0.0</td>\n",
       "      <td>0.0</td>\n",
       "      <td>0.000000</td>\n",
       "      <td>0.0</td>\n",
       "    </tr>\n",
       "    <tr>\n",
       "      <th>1768</th>\n",
       "      <td>0.0</td>\n",
       "      <td>0.0</td>\n",
       "      <td>0.0</td>\n",
       "      <td>0.0</td>\n",
       "      <td>0.0</td>\n",
       "      <td>0.0</td>\n",
       "      <td>0.0</td>\n",
       "      <td>0.0</td>\n",
       "      <td>0.0</td>\n",
       "      <td>0.0</td>\n",
       "      <td>...</td>\n",
       "      <td>0.0</td>\n",
       "      <td>0.0</td>\n",
       "      <td>0.0</td>\n",
       "      <td>0.0</td>\n",
       "      <td>0.0</td>\n",
       "      <td>0.0</td>\n",
       "      <td>0.0</td>\n",
       "      <td>0.0</td>\n",
       "      <td>0.078879</td>\n",
       "      <td>0.0</td>\n",
       "    </tr>\n",
       "    <tr>\n",
       "      <th>1769</th>\n",
       "      <td>0.0</td>\n",
       "      <td>0.0</td>\n",
       "      <td>0.0</td>\n",
       "      <td>0.0</td>\n",
       "      <td>0.0</td>\n",
       "      <td>0.0</td>\n",
       "      <td>0.0</td>\n",
       "      <td>0.0</td>\n",
       "      <td>0.0</td>\n",
       "      <td>0.0</td>\n",
       "      <td>...</td>\n",
       "      <td>0.0</td>\n",
       "      <td>0.0</td>\n",
       "      <td>0.0</td>\n",
       "      <td>0.0</td>\n",
       "      <td>0.0</td>\n",
       "      <td>0.0</td>\n",
       "      <td>0.0</td>\n",
       "      <td>0.0</td>\n",
       "      <td>0.084882</td>\n",
       "      <td>0.0</td>\n",
       "    </tr>\n",
       "  </tbody>\n",
       "</table>\n",
       "<p>1770 rows × 2827 columns</p>\n",
       "</div>"
      ],
      "text/plain": [
       "       00  000  0000  0000_70  0000_abr19esse  0000_abr20esse  0000_ago19esse  \\\n",
       "0     0.0  0.0   0.0      0.0             0.0             0.0             0.0   \n",
       "1     0.0  0.0   0.0      0.0             0.0             0.0             0.0   \n",
       "2     0.0  0.0   0.0      0.0             0.0             0.0             0.0   \n",
       "3     0.0  0.0   0.0      0.0             0.0             0.0             0.0   \n",
       "4     0.0  0.0   0.0      0.0             0.0             0.0             0.0   \n",
       "...   ...  ...   ...      ...             ...             ...             ...   \n",
       "1765  0.0  0.0   0.0      0.0             0.0             0.0             0.0   \n",
       "1766  0.0  0.0   0.0      0.0             0.0             0.0             0.0   \n",
       "1767  0.0  0.0   0.0      0.0             0.0             0.0             0.0   \n",
       "1768  0.0  0.0   0.0      0.0             0.0             0.0             0.0   \n",
       "1769  0.0  0.0   0.0      0.0             0.0             0.0             0.0   \n",
       "\n",
       "      0000_ago20esse  0000_dez20esse  0000_jul19esse  ...  zul   às  âmbito  \\\n",
       "0                0.0             0.0             0.0  ...  0.0  0.0     0.0   \n",
       "1                0.0             0.0             0.0  ...  0.0  0.0     0.0   \n",
       "2                0.0             0.0             0.0  ...  0.0  0.0     0.0   \n",
       "3                0.0             0.0             0.0  ...  0.0  0.0     0.0   \n",
       "4                0.0             0.0             0.0  ...  0.0  0.0     0.0   \n",
       "...              ...             ...             ...  ...  ...  ...     ...   \n",
       "1765             0.0             0.0             0.0  ...  0.0  0.0     0.0   \n",
       "1766             0.0             0.0             0.0  ...  0.0  0.0     0.0   \n",
       "1767             0.0             0.0             0.0  ...  0.0  0.0     0.0   \n",
       "1768             0.0             0.0             0.0  ...  0.0  0.0     0.0   \n",
       "1769             0.0             0.0             0.0  ...  0.0  0.0     0.0   \n",
       "\n",
       "      época  índice  últimas  últimos  única     único  únicoprocesso  \n",
       "0       0.0     0.0      0.0      0.0    0.0  0.000000            0.0  \n",
       "1       0.0     0.0      0.0      0.0    0.0  0.000000            0.0  \n",
       "2       0.0     0.0      0.0      0.0    0.0  0.000000            0.0  \n",
       "3       0.0     0.0      0.0      0.0    0.0  0.000000            0.0  \n",
       "4       0.0     0.0      0.0      0.0    0.0  0.000000            0.0  \n",
       "...     ...     ...      ...      ...    ...       ...            ...  \n",
       "1765    0.0     0.0      0.0      0.0    0.0  0.000000            0.0  \n",
       "1766    0.0     0.0      0.0      0.0    0.0  0.000000            0.0  \n",
       "1767    0.0     0.0      0.0      0.0    0.0  0.000000            0.0  \n",
       "1768    0.0     0.0      0.0      0.0    0.0  0.078879            0.0  \n",
       "1769    0.0     0.0      0.0      0.0    0.0  0.084882            0.0  \n",
       "\n",
       "[1770 rows x 2827 columns]"
      ]
     },
     "execution_count": 5,
     "metadata": {},
     "output_type": "execute_result"
    }
   ],
   "source": [
    "# Análise inicial do vocabulário encontrado no texto da coluna \"merged['todas_as_colunas']\"\n",
    "\n",
    "text = merged['todas_as_colunas']\n",
    "\n",
    "# instancia o transform TfidfVectorizer\n",
    "tfidf_vectorizer = TfidfVectorizer()\n",
    "\n",
    "# tokeniza e cria o vocabulário\n",
    "tfidf_vectorizer.fit(text)\n",
    "\n",
    "# mostra o vocabulário criado\n",
    "print('Vocabulário: ')\n",
    "print(tfidf_vectorizer.vocabulary_)\n",
    "print('\\nPeso de cada palavra do vocabulário: ')\n",
    "print(tfidf_vectorizer.idf_)\n",
    "\n",
    "# encode document\n",
    "tfidf_vector = tfidf_vectorizer.transform(text)\n",
    "\n",
    "# mostra as dimensões da matrix de frequência\n",
    "print('\\nDimensões da matrix: ')\n",
    "print(tfidf_vector.shape)\n",
    "\n",
    "# mostra os documentos codificados\n",
    "val = tfidf_vectorizer.fit_transform(text)\n",
    "feature_names = tfidf_vectorizer.get_feature_names()\n",
    "print('\\n',text[0],'\\n',text[1],'\\n',text[2],'\\n',text[3],'\\n',text[4],'\\n')\n",
    "pd.DataFrame(val.toarray(), columns = feature_names)\n",
    "# print(tfidf_vector.toarray())"
   ]
  },
  {
   "cell_type": "markdown",
   "metadata": {},
   "source": [
    "# Treinando o Classificador:"
   ]
  },
  {
   "cell_type": "markdown",
   "metadata": {},
   "source": [
    "## Montando o Pipeline com um dos classificadores (nesse foi SGD utilizando Regressão logística)"
   ]
  },
  {
   "cell_type": "code",
   "execution_count": 6,
   "metadata": {},
   "outputs": [],
   "source": [
    "# Define o pipeline incluindo o extrator de 'features do texto e um classificador\n",
    "# No caso abaixo utilizamos:\n",
    "# Bag of words (sklearn CountVectorizer) e TI IDF para identificação de dicionários de texto\n",
    "# Regressão logística dentro do SGD Classifier como algoritmo para obter a acurária do projeto:\n",
    "\n",
    "pipeline = Pipeline([\n",
    "    ('vect', CountVectorizer(max_df=1.0, max_features=50000,ngram_range=(1,2))),\n",
    "    ('tfidf', TfidfTransformer(use_idf=True,norm='l2')),\n",
    "    ('clf', SGDClassifier(loss='log',alpha=1e-06, penalty='elasticnet', max_iter=60)), \n",
    "])\n",
    "\n",
    "# O padrão é hinge, mas utiizamos o 'log'"
   ]
  },
  {
   "cell_type": "markdown",
   "metadata": {},
   "source": [
    "## Técnicas para obtenção de amostras:\n",
    "### 1) HOLD-OUT na proporção 80% e 20% na escolha dos dados de Treino e Teste."
   ]
  },
  {
   "cell_type": "code",
   "execution_count": 7,
   "metadata": {},
   "outputs": [],
   "source": [
    "# Separa os dados de treino e teste (proporção 80/20)\n",
    "# Stratify = pega representante de todas as classes, corrije desbaleamento\n",
    "from sklearn.model_selection import train_test_split\n",
    "\n",
    "# Variável Independente:\n",
    "X = merged['todas_as_colunas']\n",
    "# Variável Dependente (Target)\n",
    "y = merged['TIPO']\n",
    "\n",
    "# Divisão Treino e Teste:\n",
    "X_train, X_test, y_train, y_test = train_test_split(X, y, test_size=0.2, \n",
    "                                                    stratify=y,random_state=42)\n"
   ]
  },
  {
   "cell_type": "code",
   "execution_count": 8,
   "metadata": {
    "id": "WO21SaWFxGvk"
   },
   "outputs": [
    {
     "data": {
      "text/plain": [
       "1386    Ação 1008485- 93.2017.4.01.3400 - Dez19Esse aj...\n",
       "1305    Resolução 545-13 - ITAJAI BIOGAS - Abr20Resolu...\n",
       "465     REN 736/16 - Diferença de Juros - Jun/16\\nREN ...\n",
       "253     Ajuste Único CNPE 03/13 - Ref. Nov/2014Ver rel...\n",
       "1184    Liminar nº 0043973-15.2015.4.01.000_Ago17Ratei...\n",
       "Name: todas_as_colunas, dtype: object"
      ]
     },
     "execution_count": 8,
     "metadata": {},
     "output_type": "execute_result"
    }
   ],
   "source": [
    "X_train[:5]"
   ]
  },
  {
   "cell_type": "code",
   "execution_count": 9,
   "metadata": {},
   "outputs": [
    {
     "name": "stdout",
     "output_type": "stream",
     "text": [
      "TREINO :  (1416,) \n",
      " ENERGIA           0.496469\n",
      "Não considerar    0.249294\n",
      "ESS               0.210452\n",
      "Sem categoria     0.043785\n",
      "Name: TIPO, dtype: float64 \n",
      "\n",
      "TESTE  :  (354,) \n",
      " ENERGIA           0.497175\n",
      "Não considerar    0.248588\n",
      "ESS               0.211864\n",
      "Sem categoria     0.042373\n",
      "Name: TIPO, dtype: float64\n"
     ]
    }
   ],
   "source": [
    "# Confere a proporção das classes nos dados de treino e de teste\n",
    "\n",
    "print('TREINO : ',y_train.shape,'\\n', y_train.value_counts(normalize=True),'\\n')\n",
    "print('TESTE  : ',y_test.shape,'\\n', y_test.value_counts(normalize=True))\n",
    "\n",
    "# Observamos que existe a mesma proporção das variáveis na amostra de treino e de teste,  que ajudará a dar maior pecisão ao modelo."
   ]
  },
  {
   "cell_type": "code",
   "execution_count": 10,
   "metadata": {
    "collapsed": true
   },
   "outputs": [
    {
     "name": "stdout",
     "output_type": "stream",
     "text": [
      "Vocabulário: \n",
      "{'ação': 835, '1008485': 149, '93': 549, '2017': 334, '01': 70, '3400': 431, 'dez19esse': 1217, 'ajuste': 715, 'visa': 2661, 'atender': 798, 'decisão': 1126, 'judicial': 1697, 'que': 2262, 'altera': 727, 'situação': 2501, 'operativa': 2055, 'das': 1122, 'unidades': 2615, 'geradoras': 1506, 'ug3': 2607, 'ug4': 2608, 'da': 1114, 'uhe': 2609, 'itiquira': 1652, 'para': 2116, 'em': 1313, 'operação': 2056, 'com': 1000, 'limitação': 1792, 'de': 1123, 'potência': 2212, 'alterada': 728, 'usina': 2620, 'consequência': 1035, 'resultado': 2365, 'do': 1256, 'mre': 1943, 'desta': 1163, 'alterado': 729, 'impactando': 1589, 'crédito': 1101, 'agente': 642, 'débito': 1266, 'os': 2065, 'demais': 1145, 'participantes': 2135, 'na': 1960, 'proporção': 2241, 'garantia': 1498, 'física': 1491, 'modulada': 1916, 'ajustada': 713, 'gfis_3': 1525, 'cada': 888, 'impacto': 1591, 'no': 1975, 'resolução': 2350, '545': 482, '13': 195, 'itajai': 1646, 'biogas': 860, 'abr20resolução': 609, 'determina': 1169, 'criação': 1094, 'um': 2611, 'perfil': 2170, 'específico': 1359, 'ao': 761, 'qual': 2257, 'permaneça': 2175, 'vinculados': 2660, 'empreendimentos': 1320, 'geração': 1516, 'desligado': 1155, 'como': 1005, 'foi': 1475, 'junho': 1763, '17': 230, 'caso': 911, 'este': 1372, 'valor': 2632, 'repassado': 2341, 'uma': 2612, 'conta': 1047, 'específica': 1358, 'até': 823, 'completar': 1013, 'totalidade': 2584, 'dívida': 1269, 'ser': 2443, 'aos': 762, 'credores': 1091, 'quando': 2258, 'sai': 2409, 'devedor': 1175, 'mcp': 1889, 'por': 2198, 'consumo': 1046, 'gerado': 1504, 'rateado': 2268, 'todos': 2581, 'agentes': 644, 'contabilização': 1049, 'referido': 2323, 'mês': 1954, 'ren': 2335, '736': 514, '16': 217, 'diferença': 1234, 'juros': 1768, 'jun': 1733, 'jul': 1702, '16juros': 225, 'aplicado': 767, 'aderiram': 627, 'parcelamento': 2122, '16este': 223, 'decorrente': 1128, 'segundo': 2433, 'único': 2684, 'cnpe': 991, '03': 88, 'ref': 2318, 'nov': 1982, '2014ver': 307, 'relatório': 2332, 'ajustes': 717, 'relativos': 2331, 'às': 2678, 'ações': 837, 'judiciais': 1696, 'sum001': 2525, 'maio16': 1834, 'impacta': 1584, 'associados': 795, 'única': 2683, 'abeeolica': 582, 'gera': 1501, 'am': 738, 'outros': 2103, 'apine': 765, 'abragel': 613, 'potiguar': 2211, 'candeias': 902, 'ute': 2625, 'colorado': 998, 'eletrocesar': 1302, 'pch': 2150, 'primavera': 2219, 'cascata': 910, 'enguia': 1341, 'arembepe': 786, 'cerradão': 953, 'bep': 854, 'brentech': 876, 'eletrogoes': 1303, 'alto': 734, 'alegre': 718, 'delta': 1144, 'tangara': 2543, 'guacu': 1547, 'pequi': 2167, 'i5': 1572, 'coprel': 1070, 'atual': 811, 'energia': 1333, 'bonito': 865, 'cowat': 1085, 'vale': 2631, 'tijuco': 2573, 'rialma': 2389, 'ceb': 925, 'par': 2115, 'mata': 1879, 'mmrc': 1912, 'mch': 1888, 'cj': 982, 'hydro': 1571, 'borborema': 867, 'maracanau': 1874, 'abrace': 610, 'abraget': 614, 'abraceel': 611, 'cassol': 912, 'outras': 2100, 'passo': 2143, 'ferraz': 1413, 'paracatu': 2117, 'plural': 2192, 'mangue': 1842, 'seco': 2429, 'contestado': 1055, 'primo': 2222, 'cert': 956, 'vitorino': 2665, 'ecovida': 1278, 'itaguacu': 1641, 'grifo': 1534, 'elo': 1308, 'clealco': 985, 'termocabo': 2562, 'comosa': 1006, 'grupo': 1536, 'bc': 849, 'prime': 2220, 'energy': 1336, 'rondinha': 2398, 'rdv': 2277, 'geramamore': 1511, 'asa': 792, 'branca': 871, 'dt': 1265, 'joana': 1690, 'renova': 2336, 'monte': 1933, 'azul': 834, 'cesar': 958, 'filho': 1453, 'novo': 2016, 'mundo': 1947, 'mogiana': 1919, 'rbe': 2274, 'cge': 966, 'ventos': 2648, 'pagadores': 2109, 'encargos': 1325, 'segurança': 2434, 'energética': 1337, 'não': 2026, 'estão': 1383, 'amparados': 745, 'nenhuma': 1967, 'referente': 2320, '2013': 296, 'novembro': 2015, '2014': 303, 'pagamento': 2110, 'liminar': 1786, 'nº': 2020, '0043973': 59, '15': 207, '2015': 308, '000_ago17rateio': 25, 'encargo': 1324, 'restrição': 2364, 'pld': 2189, 'inc': 1604, 'cmoesse': 989, 'pela': 2159, 'anace': 748, 'custo': 1108, 'deslocamento': 1157, 'e_desc': 1270, 'usinas': 2622, 'se': 2427, 'enquadram': 1343, 'condição': 1029, 'cmo': 988, 'esse': 1364, 'devolvido': 1188, 'forma': 1480, 'proporcional': 2240, 'aj': 712, 'despacho': 1161, 'aneel': 749, '2002': 287, 'fev18o': 1431, 'representa': 2346, 'aplicação': 770, '2008': 289, 'operador': 2054, 'nacional': 1961, 'sistema': 2499, 'elétrico': 1312, 'ons': 2049, 'considere': 1042, 'térmicas': 2605, 'acordo': 621, 'ordem': 2060, 'mérito': 1953, 'limite': 1793, 'disponibilidade': 1241, 'realizado': 2282, 'devido': 1183, 'petrobras': 2180, 'gerar': 1512, 'cvu': 1111, 'maior': 1838, 'as': 791, 'despachadas': 1160, 'portanto': 2199, 'calculado': 895, 'entre': 1346, 'despachada': 1159, 'efetivamente': 1290, 'gerou': 1519, 'inserido': 1619, 'p_enc_se': 2107, 'serviço': 2447, 'est': 1365, 'dezembro': 1225, 'cem': 940, 'manauara': 1840, '0042973': 58, '28': 386, '2016': 318, '3400ver': 442, 'agosto16': 674, 'havan': 1553, 'débitos': 1267, 'cpfl': 1088, 'brasil': 873, 'são': 2536, 'mauricio': 1884, 'fortuna': 1481, 'comercializadora': 1003, 'liminares': 1787, 'gsf': 1539, 'dez': 1189, '2015ver': 317, 'julho16': 1730, 'pelas': 2160, 'piedade': 2184, 'canaa': 901, 'boa': 864, 'fe': 1408, 'braco': 870, 'firenze': 1462, 'light': 1783, 'rvesa': 2404, 'ceriluz': 949, 'ger': 1500, 'cghpcruz': 968, 'ceee': 930, 'gt': 1544, 'salto': 2411, 'lobo': 1798, 'saudades': 2423, 'sao': 2422, 'jorge': 1691, 'cgh': 967, 'rio': 2394, 'chapeu': 974, 'celesc': 937, 'geracao': 1503, 'rastro': 2267, 'auto': 827, 'cotaguti': 1078, 'queluz': 2265, 'lavrinhas': 1776, 'kuhlemann': 1771, 'chesf': 976, 'caa': 881, 'yari': 2671, 'luzboa': 1801, 'germat': 1517, 'sebastiao': 2428, 'eletricidade': 1297, 'paraense': 2118, 'tamboril': 2541, 'coxim': 1086, 'pedacinho': 2156, 'ceu': 965, 'hge': 1556, 'celg': 939, 'geratrans': 1514, 'marombas': 1876, 'sens': 2440, 'con': 1025, 'energetica': 1332, 'morrinhos': 1938, 'cerp': 952, 'santa': 2414, 'rosa': 2400, 'opm': 2057, 'electra': 1294, 'bme': 863, 'eletrobras': 1299, 'cinco': 979, 'estrelas': 1380, 'simple': 2495, 'decisões': 1127, 'contra': 1056, 'redução': 2317, 'ou': 2066, 'rateio': 2270, 'adicional': 629, 'isentos': 1639, 'abiape': 584, 'ceesam': 931, 'jaguari': 1656, 'chalana': 971, 'eletrosul': 1306, 'eesa': 1285, 'quanta': 2259, 'eletronorte': 1304, 'ferreira': 1414, 'gomes': 1530, 'abradee': 612, 'cesp': 962, 'sta': 2510, 'terezinha': 2559, 'eciii': 1276, 'ciab': 978, 'energisa': 1335, 'cersad': 955, 'geradora': 1505, 'america': 743, 'coteminas': 1080, 'sa': 2406, 'cp': 1087, 'matriz_mt': 1881, 'dona': 1257, 'maria': 1875, 'piana': 2182, 'tradener': 2593, 'creluz': 1092, 'alianca': 721, 'cooperluz': 1067, 'gryps': 1537, 'vermelho': 2651, 'baguari': 838, 'energ': 1331, 'iluminatti': 1583, 'anjos': 753, 'cemig': 941, 'geraçâo': 1515, 'service': 2446, 'amazonas': 739, 'cachoeirão': 885, 'pesa': 2178, 'costa': 1077, 'rica': 2392, 'teles': 2553, 'pires': 2187, 'sefac': 2430, 'passos': 2144, 'maia': 1832, 'santo': 2419, 'antonio': 759, 'somar': 2507, 'cantu2': 905, 'glh': 1527, 'scp': 2426, 'aratu': 783, 'lasa': 1775, 'edp': 1284, 'enegetica': 1330, 'liquidação': 1796, 'estorno': 1378, 'dos': 1260, 'sobre': 2504, 'inadimplência': 1602, 'setembro': 2482, '2018este': 347, 'possuem': 2206, 'valores': 2637, 'decorrentes': 1129, '2018': 345, 'atm': 801, 'inad': 1596, 'ago': 646, 'set': 2452, 'out': 2067, 'atualização': 819, 'monet': 1923, 'período': 2177, 'ocasionaram': 2034, 'apenas': 764, 'efeitos': 1287, 'original': 2062, 'principal': 2227, 'mercado': 1903, 'curto': 1106, 'prazo': 2213, 'janeiro': 1684, '2019são': 354, 'impactados': 1587, 'inadimplentes': 1601, '2019': 350, 'posição': 2205, 'devedora': 1176, 'credora': 1090, '5044708': 477, '77': 518, '04': 103, '7100': 511, 'set19esse': 2471, 'atribuí': 808, 'distribuidoras': 1249, 'signatárias': 2492, 'ccear': 920, 'firmados': 1465, 'morro': 1939, 'grande': 1531, 'seus': 2488, 'compradoras': 1016, '18º': 270, 'leilão': 1777, 'nova': 2014, 'nivél': 1974, 'contratação': 1060, 'ccears': 921, 'ofício': 2046, '006': 67, '2012determina': 295, 'ccee': 922, 'atribua': 805, 'intitulada': 1629, 'pelo': 2161, 'necessidade': 1963, 'comprometidas': 1020, 'disponibilidades': 1242, 'proprietário': 2242, 'destas': 1164, 'usinaseste': 2623, 'proprietários': 2243, 'geraram': 1513, 'atendimento': 800, 'sua': 2513, 'já': 1770, 'atenderam': 799, 'compromisso': 1023, 'contratual': 1063, 'inflexibilidade': 1616, 'distribuidores': 1250, 'comprometidos': 1021, 'citadas': 981, 'nos': 1980, 'leilões': 1778, 'seu': 2487, 'serão': 2451, 'razão': 2273, 'jan': 1657, '2016ver': 332, 'junho16': 1764, 'noble': 1976, 'usangelo': 2619, 'eol': 1349, 'embuaca': 1319, 'belo': 851, 'aliança': 722, 'pca': 2149, 'inhambu': 1617, 'oer': 2040, 'cacu': 886, 'jbs': 1686, 'fribiu': 1486, 'pie': 2183, 'bergamin': 855, 'furnas': 1489, 'centrais': 942, 'elétricas': 1311, 'honda': 1566, 'salvador': 2412, 'eólicas': 1398, 'bela': 850, 'vista': 2664, 'itapuã': 1648, 'eólica': 1397, 'bons': 866, 'serra': 2444, 'pardo': 2127, 'termoelétrica': 2563, 'silica': 2493, 'verde': 2650, 'arroz': 788, 'juruena': 1769, 'odebrecht': 2039, 'ambiental': 740, 'cachoeiro': 884, 'itapemirim': 1647, 'hacker': 1551, 'industrial': 1614, 'caju': 891, 'candida': 903, 'ii': 1579, 'bioeletricidade': 858, 'iguaçu': 1578, 'borja': 868, 'central': 943, 'hidreletrica': 1557, 'buritirana': 879, 'hidrelétrica': 1558, 'piabanha': 2181, 'estado': 1368, 'mato': 1880, 'grosso': 1535, 'bioenergia': 859, 'joão': 1693, 'capim': 906, 'dourados': 1261, 'francisco': 1485, 'ceg': 932, 'cei': 933, 'minas': 1909, 'varzea': 2641, 'angico': 751, 'maynart': 1886, 'agreste': 677, 'gestamp': 1520, 'pisa': 2188, 'eolica': 1350, 'vacas': 2630, 'utxa': 2629, 'gaeb': 1492, 'bandacouro': 841, 'baraunas1': 843, 'baraunas2': 844, 'manopla': 1843, 'mbranco1': 1887, 'mussambe': 1948, 'grao': 1533, 'mogol': 1920, 'guatapara': 1548, 'bozel': 869, 'minasligas': 1910, 'ferlig': 1411, 'granha1': 1532, 'inonibras': 1618, 'liasa': 1782, 'branco': 872, 'rima': 2393, 'cnaa': 990, 'itt': 1653, 'itb': 1650, 'tropical': 2603, 'inxu': 1631, 'pdee': 2152, 'sigma': 2491, 'testa': 2568, 'iii': 1582, 'helena': 1555, 'barra': 845, 'clara': 983, 'castman': 913, 'cachoeira': 883, 'cambara': 899, 'santaisabel': 2415, 'ccb': 919, 'ectx': 1281, 'pantanal': 2114, 'campo': 900, 'limpo': 1794, 'thor': 2571, 'aes': 633, 'tiete': 2572, 'abranjo': 615, 'spe': 2508, 'cristina': 1096, 'divino': 1254, '1005856': 146, '20': 286, 'jun16': 1736, 'jul16': 1706, 'ago16': 650, 'set16deliberação': 2458, '152': 208, 'cad': 887, '853ª': 534, 'determinou': 1173, 'item': 1651, 'apurados': 778, 'partir': 2140, 'cumprimento': 1104, 'citada': 980, 'enquanto': 1344, 'vigente': 2657, 'referida': 2322, 'deverão': 1181, 'atribuídos': 810, 'copel': 1068, 'geto': 1522, 'processo': 2234, '3000': 414, 'tem': 2554, 'finalidade': 1455, 'alterar': 731, 'montante': 1931, 'regulado': 2327, 'conforme': 1033, 'normativa': 1977, '711': 512, '259': 378, 'afetou': 639, 'contratos': 1062, 'zeram': 2674, 'efeito': 1286, 'financeiro': 1459, 'recontabilização': 2305, 'deveria': 1178, 'nulo': 2018, 'estes': 1373, 'saldo': 2410, 'remanescente': 2334, 'princ': 2225, 'germatestes': 1518, 'visam': 2662, 'deliberação': 1142, '0673': 116, '144ª': 203, 'operacionalização': 2053, 'dando': 1120, 'monetária': 1926, '2020': 356, '67918': 503, '401': 459, 'fev18esse': 1430, 'suspende': 2529, '264': 384, 'relação': 2333, 'exclusão': 1387, 'algumas': 719, 'mreincluímos': 1944, 'voltam': 2667, 'realizamos': 2283, 'cálculo': 1113, 'recebida': 2295, 'entregue': 1347, '1006114': 147, '25': 374, 'jan20': 1676, '1003712': 145, '83': 528, '0000': 2, '1002903': 143, '1006358': 148, '66': 502, '0091325': 69, '85': 532, 'jan20esse': 1680, 'portaria': 2200, 'mme': 1911, '12': 182, '58': 485, '31': 416, '14': 201, '178': 232, 'usinaé': 2624, 'acrescentado': 622, 'elejor': 1296, 'paranapan': 2120, 'espora': 1361, 'alterando': 730, 'gfis_2': 1524, 'art': 789, 'agua': 678, 'paulistaresolução': 2147, '17este': 242, 'ag': 641, 'paulista': 2146, '11ª': 180, 'fevereiro': 1446, '10ª': 171, 'março': 1877, '8ª': 541, '5ª': 491, '7ª': 524, 'abril': 616, '4ª': 472, '2ª': 411, '2019ajustes': 351, 'impactos': 1592, 'financeiros': 1460, 'recontabilizações': 2306, 'impactam': 1588, '2019todos': 355, 'oficio': 2045, '191': 273, 'srg': 2509, 'aneelatendimento': 750, 'majoração': 1839, 'variação': 2639, 'pagamentos': 2111, 'lançamento': 1774, '07': 117, '10': 137, '09': 131, '11': 173, '2020são': 360, '1146': 177, '18_nov19atendimento': 263, '146': 204, 'pedido': 2157, 'saesa': 2407, 'fator': 1404, 'indisponibilidade': 1612, 'fid': 1452, 'refere': 2319, '17ª': 244, 'parcela': 2121, '36': 447, 'unico': 2613, 'jun17esse': 1747, 'rtr': 2403, '3241': 422, 'pau': 2145, 'ferro': 1415, 'termomanausajuste': 2565, 'tratando': 2597, 'publicação': 2254, '227': 369, 'termomanaus': 2564, 'sendo': 2439, 'ambos': 742, 'via': 2654, 'mac': 1805, 'trazendo': 2598, 'âmbito': 2679, '100045203': 139, '0000ver': 20, 'nesa': 1968, 'compradores': 1017, '3º': 457, 'projetos': 2238, 'estruturantes': 1381, '00138561920174013800': 48, 'risoleta': 2396, 'neves': 1972, 'dez18deliberação': 1211, '0338': 90, '0925ª': 133, 'modo': 1915, 'considerar': 1041, 'participante': 2134, 'efetiva': 1288, 'mas': 1878, 'sem': 2438, 'limitar': 1790, 'taxas': 2545, 'equivalentes': 1352, 'indisponibilidades': 1613, 'forçada': 1483, 'teif': 2549, 'programada': 2236, 'teip': 2551, 'novos': 2017, 'candonga': 904, 'enviados': 1348, 'carta': 909, '0058': 66, '400': 458, '2017são': 342, 'consideradas': 1038, 'afetam': 637, 'consequentemente': 1034, 'considerada': 1037, 'cvrd': 1110, 'biogasresolução': 861, 'for': 1478, 'votos': 2668, 'referentes': 2321, 'julho': 1729, 'maio': 1833, '2018ajustes': 346, '1036394': 165, '91': 542, '0000_nov19esse': 13, 'teifa': 2550, 'antônio': 760, 'jari': 1685, 'considerando': 1040, 'expurgos': 1394, 'concedidos': 1027, 'judicialsão': 1700, 'ece': 1275, 'reversão': 2378, '15quando': 215, 'possui': 2207, 'relativo': 2330, 'esta': 1366, 'tal': 2539, 'impossibilita': 1595, 'cobrança': 993, 'destes': 1166, 'causando': 917, 'amparado': 744, 'dejulho': 1137, 'mai': 1807, 'mafras': 1806, 'ematex': 1314, 'ficaram': 1450, 'repasse': 2344, 'inadim': 1599, 'ago15': 649, 'set15': 2455, 'nov15': 1984, 'dez15estorno': 1195, 'dará': 1121, 'estavam': 1370, 'decorrência': 1130, 'exclusivamente': 1386, 'contrário': 1064, 'onde': 2048, 'menor': 1898, '0000_set20esse': 17, 'ceja': 934, 'ecp': 1279, '003': 53, 'cláusula': 987, 'nov20aplicação': 2008, 'tc': 2546, 'gráfica': 1538, 'apurada': 776, '3ª': 456, 'terá': 2567, 'reduzido': 2314, 'mensalmente': 1901, 'meio': 1896, 'alocação': 726, 'eventual': 1385, 'exposição': 1391, 'positiva': 2204, 'quantidade': 2260, 'contratadaeste': 1058, '11º': 181, 'compra': 1015, 'nível': 2027, 'jul20': 1722, 'jul20esse': 1726, 'mone': 1921, 'res': 2347, '684': 505, 'mar20os': 1872, 'colocam': 997, 'essas': 1363, 'repactuação': 2339, 'mecanismo': 1891, 'auxiliar': 833, 'risco': 2395, 'hidrológicoeste': 1562, 'repactuaram': 2338, 'força': 1482, 'lim': 1784, '10004520320154010000_70': 140, 'gf': 1523, 'ug': 2606, 'mai16': 1811, 'set16': 2456, 'out16': 2073, 'nov16deliberação': 1989, '339': 430, '862ª': 536, 'inserção': 1622, 'nas': 1962, 'seguintes': 2431, 'termos': 2566, '49': 471, 'convenção': 1066, 'comercialização': 1004, 'fins': 1461, 'destinar': 1168, '70': 508, 'comercial': 1002, 'celebrados': 936, 'nesao': 1969, 'nº0050072': 2022, 'ipca': 1633, 'fev': 1416, 'mar': 1845, 'abr': 585, 'setembro16liminar': 2485, 'foz': 1484, 'chapeco': 972, '1015': 153, 'revertendo': 2381, '2849': 389, 'créditoos': 1102, 'agosto': 673, '000_dez18aplicação': 29, 'obtida': 2032, 'visando': 2663, 'descolamento': 1149, 'pldesse': 2190, 'desligamento': 1156, 'mabe': 1804, 'htlalteração': 1570, 'descumprimento': 1150, 'obrigação': 2028, 'htl': 1569, 'cliqccee': 986, 'realiza': 2279, 'deligados': 1143, 'similar': 2494, 'sucessão': 2522, 'seja': 2435, 'metade': 1906, 'devedores': 1177, 'participam': 2133, 'perfis': 2171, 'principais': 2226, 'porém': 2203, 'deve': 1174, 'maneira': 1841, 'adequação': 626, 'deste': 1165, 'assim': 793, 'recebem': 2292, 'terem': 2558, 'participado': 2132, 'podem': 2193, 'obter': 2031, 'dependendo': 1148, 'percentual': 2168, 'credor': 1089, 'ago16ver': 653, 'zona': 2676, 'paiol': 2113, 'acep': 620, 'colino': 996, 'sul': 2524, 'serv': 2445, 'nov18os': 2002, 'vibeoli': 2655, 'ceramica': 947, '0055': 65, '1098ª': 168, 'get': 1521, 'colider': 995, '10º': 172, 'jul16ver': 1707, '2020este': 358, 'nov18deliberação': 1999, 'jan18': 1666, 'jan18esse': 1670, '0000_mar19esse': 12, 'mai20esse': 1828, 'importação': 1594, 'fev18atendimento': 1428, '642': 500, 'ressarcimento': 2357, 'custos': 1109, 'variáveis': 2640, 'brasileiras': 874, 'eletrobrás': 1301, 'elétricaeste': 1310, 'determinado': 1171, 'nª': 2019, 'considerado': 1039, 'serviços': 2448, 'trc_ess': 2599, 'outubro': 2105, '05': 109, 'rrh': 2401, 'ago18esse': 662, 'usinaeste': 2621, 'repactuou': 2340, 'teve': 2570, 'acréscimo': 624, 'setembro16este': 2484, 'egerit': 1292, 'mutum': 1949, 'estação': 1371, 'bh': 856, 'curua': 1107, 'buriti': 878, 'fibra': 1448, 'brotas': 877, 'alunorte': 735, 'paragominas': 2119, 'tupi': 2604, 'biotermica': 862, 'recreio': 2307, 'cristalino': 1095, 'faxinal': 1406, 'guedes': 1549, 'cedromatriz': 929, 'ape': 763, 'cedro': 928, 'benedito': 853, 'fagundes': 1401, 'desp': 1158, '831': 530, 'atribuir': 807, 'araguaia': 780, 'alocado': 725, 'submercado': 2517, 'sudeste': 2523, 'centro': 944, 'oeste': 2041, 'consumidores': 1045, 'retroativas': 2372, 'principalesse': 2229, 'restabeleceu': 2362, 'limita': 1788, '95': 555, 'estornando': 1376, 'atualizações': 820, 'monetárias': 1930, 'calculados': 896, '958': 557, 'mar18atendimento': 1856, 'termelétricas': 2561, 'iranduba': 1638, 'flores': 1468, 'jan18aplicação': 1667, '71858': 513, '23': 371, 'tecneira': 2547, 'acara': 618, '12ª': 193, '06': 114, '2018são': 348, 'rt': 2402, '2822': 387, '658': 501, 'regra': 2325, 'algébrica': 720, 'transitória': 2595, 'trata': 2596, 'divergência': 1253, 'classe': 984, 'recebimento': 2297, 'lhes': 1781, 'indevidamente': 1610, 'pelos': 2162, 'geradores': 1507, 'out19esse': 2091, 'emateximpacto': 1315, 'atualizacao': 814, 'monetaria': 1924, '15ver': 216, 'tiveram': 2577, 'revogada': 2386, 'mai20aplicação': 1827, 'jul20deliberação': 1725, 'dez18aplicação': 1209, 'rec': 2289, 'extrajudic': 1395, '11201661120188260100': 174, 'qge': 2256, 'out18': 2081, 'cesc': 959, 'out18estes': 2085, '01269': 77, '1028ª': 161, 'queiroz': 2264, 'galvão': 1494, 'recuperação': 2309, 'extrajudicialeste': 1396, 'financeira': 1457, 'qeg': 2255, 'afetados': 636, '196': 276, 'estabelece': 1367, 'ressarcimentoeste': 2358, 'dif': 1231, 'contabilizaçãodiferença': 1050, 'monetáriaajuste': 1927, 'balancear': 839, 'eventuais': 1384, 'diferenças': 1235, 'distinção': 1245, 'critérios': 1097, 'aplicada': 766, 'abr17esse': 594, 'jul19esse': 1718, '6ª': 507, '1ª': 284, 'reapuração': 2288, '18_out18atendimento': 264, '15atualização': 212, '2015este': 314, 'ago17esse': 657, 'n5015781020174036': 1959, '08': 124, '17esse': 241, 'estornar': 1377, 'atualizar': 818, 'monentariamente': 1922, 'suspendia': 2531, '41': 461, '2017foi': 339, 'realizada': 2280, 'diferenciado': 1233, '100': 138, 'define': 1132, 'participação': 2138, 'rateioesse': 2271, 'limitando': 1789, 'ajuste_mre': 716, '15estorno': 214, 'atualiz': 813, '542': 480, 'iv': 1654, '18atendimento': 267, 'determinar': 1172, 'efetue': 1291, 'termelétrica': 2560, 'norte': 1978, 'fluminense': 1472, 'flu': 1470, 'dez18esse': 1212, 'eletrobra': 1298, '3381': 425, '17_set18atendimento': 238, '745': 515, 'nov18esse': 2000, 'abr20esse': 608, '1009710': 150, '32': 418, 'fev19': 1433, 'fev19esse': 1436, 'jul19': 1715, '0013840': 47, '38': 452, 'rialma_abr16': 2390, 'rialma_mai16ver': 2391, 'antes': 758, 'fev17esse': 1423, '16quando': 226, 'causado': 916, 'suas': 2514, 'ano': 755, 'jesa': 1687, 'braskem': 875, 'pet': 2179, '3400_abr19esse': 432, 'tr_ris_dez16a': 2586, 'hidrológico': 1561, 'optaram': 2058, 'transferido': 2594, 'regras': 2326, 'sejam': 2436, 'diretamente': 1238, 'será': 2450, 'necessário': 1965, 'realizar': 2284, 'resoluçãoeste': 2351, 'créditos': 1103, '18_set18atendimento': 266, '056': 111, 'abr14': 586, 'mai14atendimento': 1808, 'servição': 2449, 'ess': 1362, 'atualizado': 816, 'índice': 2681, 'preço': 2218, 'consumidor': 1044, 'amplo': 746, 'ipcaeste': 1635, 'uruguaiana': 2618, 'monetariamente': 1925, 'igpm': 1575, 'mar17aplicação': 1851, 'energéticaatendimento': 1338, 'aprovação': 775, 'definitivo': 1135, 'realize': 2286, 'base': 846, 'líquido': 1803, 'mensal': 1900, '2017este': 338, '2019este': 352, '792': 521, '0345ª': 91, 'efetivado': 1289, 'registro': 2324, 'ambiente': 741, '2017ajustes': 335, '2017todos': 343, 'dez18': 1208, '17_out18atendimento': 237, 'dez17esse': 1206, '16ver': 228, '501578': 475, '6100esse': 495, 'restabelecer': 2361, 'suspender': 2530, '2017suspensão': 341, '7770': 519, '68': 504, '2980': 407, 'atmdeliberação': 802, '0053': 64, '938ª': 552, '2980o': 408, 'daia': 1118, '1ld': 283, 'impactado': 1586, 'meses': 1905, '2016ajustes': 323, 'enc': 1322, 'liq': 1795, 'jun16inadimplência': 1740, '2016são': 330, 'nº00076001420174010000': 2021, 'sjoana': 2502, '2016cad': 325, '927ª': 548, 'atraso': 803, 'apresentado': 772, 'santoaugusto': 2420, 'santajoana': 2416, 'vii': 2658, '17º': 245, '0011336': 46, '59': 488, 'ecciv': 1272, 'eccv': 1273, 'eccvi': 1274, 'trind': 2600, '17deliberação': 240, '252': 375, '0857ª': 128, 'penalidades': 2166, 'face': 1399, 'autoras': 828, 'hipótese': 1564, 'penalidade': 2164, 'respectivos': 2354, 'notificação': 1981, 'encaminhados': 1323, 'indicação': 1611, 'relacionadas': 2328, 'cerro': 954, 'chato': 975, 'vi': 2653, 'trindades': 2601, 'permanecerão': 2174, 'suspensas': 2532, 'ocorra': 2035, 'alteração': 732, 'status': 2511, 'judicialdevido': 1698, 'ectrindade': 1280, 'poderem': 2195, 'sofrem': 2505, 'sanções': 2421, 'todo': 2580, 'vendem': 2647, 'faturamento': 1405, 'contratado': 1059, 'fev18os': 1432, 'adic': 628, '03_ago13': 96, '03_set13': 100, 'ver': 2649, 'outro': 2101, 'ultrapassagem': 2610, 'car': 907, 'cotsebastiao': 1082, 'cotvalentin': 1084, 'coronel': 1072, 'araujo': 784, 'zul': 2677, 'dsp': 1264, '1053_17': 166, 'fluatendimento': 1471, '053': 110, '16estorno': 224, 'contabilizações': 1051, 'abril16': 617, '2020estorno': 359, '18_mai19atendimento': 260, 'mo': 1913, '2015cálculo': 311, '9ª': 562, 'participantes8ª': 2136, 'cebestes': 926, '0946': 134, '1009ª': 151, 'distribuic': 1247, 'ceramicaestes': 948, '098ª': 135, 'principalestorno': 2230, 'dist': 1244, 'parcelamentos': 2123, '1217': 183, '1025ª': 160, 'mai16ver': 1812, 'funil': 1487, 'bem': 852, 'cotas': 1079, 'itaipú': 1644, 'também': 2542, 'alivio': 724, 'causa': 915, '0000deliberação': 19, 'utilizando': 2627, 'venda': 2646, 'valorado': 2635, 'médio': 1952, 'nivel': 1973, 'set18atendimento': 2465, 'nº2': 2023, '406': 460, 'cvus': 1112, 'publicados': 2253, '2017esse': 337, 'dez17os': 1207, 'at': 796, 'revertida': 2384, 'agr': 675, 'inst': 1623, '36475': 450, '62': 497, 'df': 1226, 'mai17considerar': 1815, '0118': 76, '2016é': 333, 'afetando': 638, '091': 132, 'jul19este': 1719, 'alterações': 733, 'porto': 2202, 'pecém': 2155, 'além': 736, 'disso': 1243, 'out20': 2095, 'out20esse': 2098, 'out18os': 2087, 'ago19esse': 664, '18_jul19atendimento': 257, '13ª': 200, 'abr20': 605, 'mai20estorno': 1829, 'inadimplênciaestorno': 1603, 'retorno': 2369, 'mar18esse': 1858, '2017neste': 340, 'devolvida': 1187, 'geraca': 1502, '020': 86, 'jan20este': 1681, '3400deliberação': 440, '1022': 158, '0764ª': 122, 'elétrica': 1309, 'diante': 1229, 'exigibilidade': 1388, 'montantes': 1932, 'atrelados': 804, '02': 85, '2011': 292, 'haja': 1552, 'definitiva': 1134, 'concatenação': 1026, 'entrada': 1345, 'cataventos': 914, 'finalização': 1456, 'instalações': 1624, 'sentido': 2442, 'contráriodevido': 1065, 'poder': 2194, 'sofrer': 2506, 'estornos': 1379, 'recálculos': 2311, 'retroativasesse': 2373, 'dez19resolução': 1220, '18': 246, '01102': 72, '1019ª': 156, 'reunião': 2376, 'dessa': 1162, 'aplicados': 768, 'diminuirá': 1237, 'divinópolis': 1255, 'distribuidora': 1248, 'distrib': 1246, 'impactará': 1590, 'realocação': 2287, 'ocorrerá': 2037, 'balanço': 840, 'energético': 1339, 'nov18': 1997, 'dez15': 1192, 'nov15ver': 1985, '502308723': 476, 'ai_jun16ver': 687, 'cgtee': 969, 'ceal': 924, 'cepisa': 946, '18_dez18atendimento': 252, 'jun18deliberação': 1750, '18esse': 268, '1385': 197, '19': 272, 'set18': 2464, 'out18atendimento': 2082, '385': 454, 'autoriza': 830, 'argentina': 787, 'set18esse': 2466, 'nov20deliberação': 2010, 'ipca_rtr': 1634, '2849_mai': 398, '2849_set': 402, '2849_out': 401, '2849_nov': 400, '2849_dez': 393, '2849_jul': 396, '2849_jun': 397, '2015despacho': 312, '015': 80, 'ipcaestes': 1636, 'pois': 2196, 'jun20esse': 1760, 'ago18atendimento': 660, '2201': 368, '759': 516, '830': 529, 'contabilize': 1052, 'apurado': 777, 'definido': 1133, '462': 468, 'mai18esse': 1821, 'correção': 1074, '452': 466, '19recalculo': 281, 'realização': 2285, 'máxima': 1951, 'dispobilidade': 1240, 'total': 2583, 'reclassificação': 2299, 'modalidade': 1914, 'tipo': 2574, 'aeste': 634, 'erb': 1353, 'aratinga': 782, 'out17considerar': 2077, 'jun16ver': 1742, '767': 517, '2016_fev': 319, '2016_mar': 321, '2016_jun': 320, '15atendimento': 211, 'santaremeste': 2418, 'santarem': 2417, '18_ago': 249, 'nov20': 2007, 'compleatendimento': 1010, 'antecipação': 756, 'parcelas': 2124, '26': 382, '29': 405, 'complementar': 1011, 'ficam': 1449, 'suspensos': 2533, '10006670220198260681': 141, 'ebf': 1271, 'vazeste': 2643, 'judical': 1695, 'vaz': 2642, '1056952': 167, '0100': 71, 'reverte': 2380, 'suspensão': 2534, 'penalidadeeste': 2165, 'piratinga': 2186, 'cruz': 1099, 'rge': 2388, 'devolução': 1184, 'paga': 2108, 'anteriormente': 757, 'alívio': 737, 'retroativo': 2375, '3232': 421, 'ditc': 1252, 'zebuajuste': 2673, 'pdc': 2151, 'submódulo': 2519, 'coelba': 994, 'integrantes': 1626, 'zebu': 2672, 'residualmente': 2349, 'rede': 2312, 'básica': 880, '0023052': 50, '35': 445, 'dfver': 1227, 'fev17o': 1424, 'p_enc_car': 2106, '18_out19atendimento': 265, '16ª': 229, 'jan16': 1661, 'fev16': 1419, 'mar16': 1848, 'abr16': 589, 'out16esse': 2074, '187': 247, '2017é': 344, 'recalculado': 2290, 'debito': 1124, '4402': 465, 'tac': 2537, 'subclausula': 2515, 'taccumprimento': 2538, 'subcláusula': 2516, 'aprovado': 774, 'parnaib': 2128, '7º': 525, 'abr17considerar': 593, '963': 558, '2016atendimento': 324, '0496': 108, '059ª': 113, 'fev20esse': 1442, '0129': 78, 'dop': 1258, 'reclassif': 2298, 'fev19atendimento': 1434, 'reclassificou': 2300, '044': 105, 'aumenta': 825, 'hidráulico': 1563, '2015atualização': 310, 'itaituba': 1645, 'outrosalteração': 2104, 'dez16considerar': 1197, '000_jan20aplicação': 34, 'maio2017': 1837, 'igp': 1574, 'negativo': 1966, 'set16ver': 2459, 'setembro16esse': 2483, 'abr19esse': 603, '0050072': 61, '2013esse': 300, '2015liminar': 316, '2012': 293, '2009': 291, '00': 0, '047307': 107, 'jan08': 1658, 'fev08': 1417, 'mar08': 1846, 'corr': 1073, 'moratorios': 1937, 'jul09': 1703, 'ago09': 647, 'set09': 2453, 'out09': 2068, 'out09cad': 2069, '925ª': 546, 'superintendência': 2526, 'adote': 631, 'medidas': 1894, 'necessárias': 1964, 'revogação': 2387, 'supracitado': 2527, 'limitava': 1791, '2008impacta': 290, 'ago20esse': 671, '058': 112, 'mar19atendimento': 1862, 'ene': 1328, 'pece': 2153, '5ln12': 490, 'mpx': 1942, 'pecii': 2154, '7len': 523, 'encargosimpacto': 1326, 'celescestes': 938, '025ª': 87, 'maio18esse': 1836, 'fazenda': 1407, 'velha': 2644, '19esse': 279, '18_jan20atendimento': 256, '19ª': 282, '3383': 427, '01104': 74, 'florestal': 1469, 'jun19esse': 1755, '19atendimento': 278, 'nov19esse': 2005, 'eletrobrasatendimento': 1300, '950': 556, 'baseado': 848, 'interligado': 1627, 'sin': 2496, 'jun15': 1734, 'fev19este': 1437, 'reverter': 2382, 'abarcado': 581, 'valoração': 2636, 'ofertado': 2044, 'reserva': 2348, 'geraes': 1509, 'out19resolução': 2094, 'houver': 1568, 'foram': 1479, 'sucedidos': 2521, 'quitação': 2266, '2016esse': 328, '2002o': 288, 'nov16esse': 1990, 'incluímos': 1607, 'atuali': 812, '077': 123, 'mai19': 1823, 'mai19este': 1826, 'ofícios': 2047, '3400_mai19esse': 436, 'agravo': 676, 'instrumento': 1625, '2062271': 363, '21': 365, '0000cad': 18, '926ª': 547, 'reverta': 2379, 'operacionais': 2050, 'adotadas': 630, 'operacionalizar': 2052, 'outrora': 2102, 'deferida': 1131, 'sentença': 2441, 'arbitral': 785, 'proferida': 2235, 'feito': 1409, '22': 367, 'eneva': 1340, 'copen': 1069, 'aii_jun16ver': 703, '3400_jul19esse': 434, '2913': 406, 'mscd': 1945, 'en': 1321, 'iiatendimento': 1581, '913': 544, 'processamento': 2233, 'cessões': 964, 'mercanismo': 1904, 'compensação': 1009, 'sobras': 2503, 'défictis': 1268, 'compram': 1018, 'considera': 1036, 'oriundas': 2063, 'mcsd': 1890, 'moduladas': 1917, 'flat': 1467, 'valoradas': 2634, 'liquidações': 1797, 'carga': 908, 'cedente': 927, 'descumprimentoalteração': 1151, 'procedimento': 2232, 'inadestorno': 1598, '2014esse': 304, 'out18o': 2086, 'ago17os': 658, '080': 125, 'mai18atendimento': 1820, 'jun16estorno': 1739, 'providências': 2248, 'deliberadas': 1140, 'reuniãoimpacta': 2377, 'tr_ris_jun16a': 2590, 'nº684': 2025, 'rísco': 2405, 'hidrologico': 1560, 'sejasm': 2437, 'set17esse': 2463, 'out17deliberação': 2078, 'afeta': 635, 'jun17considerar': 1745, 'mar18deliberação': 1857, '0000_70': 3, '_jun17deliberação': 572, 'nesaé': 1970, 'aplicando': 769, 'pimental': 2185, '005': 60, 'nov17': 1992, 'out17atendimento': 2076, 'dez16esse': 1198, '933': 550, 'oesteeste': 2042, 'denovembro': 1147, 'mar19': 1861, '074': 121, 'abr19': 601, 'abr19este': 604, '15este': 213, 'desistência': 1154, 'queda': 2263, 'gsfeste': 1542, '16são': 227, '1911': 274, 'mar20atendimento': 1868, '911': 543, '000_jun20aplicação': 37, 'jan19esse': 1674, 'tirar': 2576, 'atualzaição': 821, '3627': 448, 'aberto': 583, '486': 470, 'recontabilizar': 2303, 'tirando': 2575, 'neste': 1971, '1144ª': 176, '000_jul20aplicação': 35, 'rcesa': 2276, 'cotvalentim': 1083, 'jaguarari': 1655, 'tambau': 2540, '042': 104, 'expansão': 1389, 'saesao': 2408, 'scg': 2425, 'sfg': 2490, 'anneleste': 754, 'reduziu': 2316, 'dado': 1116, '17_jun18atendimento': 235, '1000755': 142, 'retroativa': 2371, 'firmado': 1463, 'colíder': 999, 'leneste': 1779, 'set19os': 2472, 'jun18esse': 1751, 'ago20aplicação': 668, 'julho2017': 1732, 'jan20resolução': 1683, 'julho17este': 1731, 'recup': 2308, '50003560720198210058': 474, 'guabiju': 1545, 'ago19este': 665, 'guabijueste': 1546, 'prin': 2224, 'n10017663220164013400_sjoana': 1958, 'n10017663220164013400_sjoan': 1957, 'prinlim': 2231, 'viii': 2659, 'n10017663220164013400_s': 1956, 'aug': 824, 'mar16deliberação': 1849, '330': 423, '03_mai13': 99, '2013ver': 302, '10310271420198260100': 163, '10310262920198260100': 162, 'cescestes': 961, 'cesceste': 960, 'ago18deliberação': 661, '530': 478, '2012ajuste': 294, 'atribuido': 806, 'eletronuclear': 1305, 'angra': 752, 'parte': 2130, 'mai18aplicação': 1819, '3323': 424, 'periodo': 2172, '0395': 94, '989ª': 561, 'contempla': 1053, 'valoreseste': 2638, 'ago19resolução': 666, 'nov17considerar': 1994, 'out19os': 2093, 'nov17atendimento': 1993, '018': 82, 'set19': 2467, 'nov19': 2003, 'dez19este': 1218, 'out15esse': 2072, 'lené': 1780, 'utilizado': 2626, 'contemplar': 1054, 'primeiros': 2221, 'dias': 1230, 'jud': 1694, '018428071201780600001': 84, 'eln': 1307, 'embgen': 1317, 'out17': 2075, 'mecesa': 1892, '0184280': 83, '71': 509, '0001': 21, 'exposições': 1392, 'financeiras': 1458, 'enl': 1342, 'embalagens': 1316, '1003': 144, '1012ª': 152, '322': 419, '0000_set19esse': 16, '000_nov17rateio': 40, 'mai20resolução': 1831, '000_set20aplicação': 45, '18_nov18atendimento': 262, '03_junho13': 98, '000_nov20aplicação': 41, 'out17os': 2080, 'recálculo': 2310, '2016todos': 331, 'ago20': 667, '_abr17deliberação': 564, 'inseridos': 1620, 'motivador': 1940, 'devolver': 1186, 'permanece': 2173, 'jun18': 1748, 'jul18': 1713, 'ago18': 659, 'jun19os': 1756, 'recontab': 2301, 'abr17ajustes': 592, 'ajustar': 714, 'incluída': 1606, 'recontabilizaçao': 2304, '2020ajustes': 357, 'dez16o': 1199, 'cnpe003': 992, 'jan19': 1672, 'set20esse': 2476, 'out18deliberação': 2083, 'mai15': 1809, 'dez17': 1200, '3400_jun19esse': 435, '0032975': 55, 'autores': 829, 'fé': 1490, 'abr18o': 599, 'calculada': 894, 'ata': 797, '860': 535, 'aii_abr15': 695, 'aii_mai15': 704, 'aii_jun15': 702, 'aii_jul15': 701, 'aii_ago15': 697, 'aii_set15': 710, 'aii_out15': 709, 'aii_nov15': 708, 'aii_dez15': 698, 'aii_jan16': 700, 'aii_fev16': 699, 'aii_mar16': 707, 'aii_abr16': 696, 'aii_mai16': 705, '1º': 285, 'pres': 2215, 'medici': 1893, 'fase': 1403, 'menos': 1899, 'mg': 1907, 'jun20deliberação': 1759, 'jun17': 1743, 'out19': 2088, 'set19resolução': 2473, 'reverterção': 2383, '000_out20aplicação': 43, '000_fev20aplicação': 32, 'ago17deliberação': 656, 'voges': 2666, 'tome': 2582, 'caxias': 918, 'tecsis': 2548, 'nov16': 1986, 'dez16': 1196, 'fev17': 1421, 'abr17': 591, 'mai17': 1813, 'jul17': 1708, 'ago17': 654, 'set17': 2460, 'abr18': 596, 'mai18': 1818, '039': 93, 'mar20este': 1871, '0027095': 51, '92': 545, 'cgtf': 970, 'protege': 2244, 'quanto': 2261, 'relacionado': 2329, 'falta': 1402, 'combustível': 1001, 'desde': 1152, 'inexigíveis': 1615, 'deveriam': 1179, 'ter': 2557, 'lançado': 1772, 'jan20aplicação': 1677, '113': 175, 'dgl': 1228, 'fev20este': 1443, 'dadas': 1115, '031': 89, 'jul19deliberação': 1717, 'nov20esse': 2011, 'gsfatualização': 1540, 'principalatualização': 2228, 'açãoimpacto': 836, '0000_abr19esse': 4, '000_out17rateio': 42, 'abr17os': 595, '_fev17deliberação': 568, '16atualização': 221, '000_ago18rateio': 26, 'fev20deliberação': 1441, 'orig': 2061, 'jun16lançamento': 1741, 'mar20deliberação': 1869, '007': 68, 'nov18atendimento': 1998, '2608': 383, 'jan17': 1662, 'mai17atendimento': 1814, '608': 492, '18_mai': 259, 'jun21': 1762, 'últimas': 2682, '2021': 361, 'jul19atendimento': 1716, 'dez17atendimento': 1202, 'out19deliberação': 2090, 'nov19resolução': 2006, 'gaia': 1493, 'cornetaalteração': 1071, 'jan18considerar': 1669, '2300': 372, '3691': 451, 'dez19': 1214, 'dez19atendimento': 1215, 'cessão': 963, 'roraima': 2399, 'distribuição': 1251, 'sineste': 2498, 'receberam': 2294, 'recontabilizado': 2302, 'calendário': 898, 'itabira': 1640, 'ci': 977, '193': 275, 'fluminenseeste': 1473, 'dez15este': 1194, 'criado': 1093, 'intuito': 1630, 'repassar': 2343, 'ocorre': 2036, 'cumulativo': 1105, '139': 198, '12len_ago15': 188, '12len_set15': 192, '12len_out15': 191, '12len_nov15': 189, '12len_nov15deliberação': 190, '0701ª': 119, 'parcial': 2125, 'esbr': 1354, 'valorada': 2633, 'gerados': 1508, 'jirau': 1689, '12º': 194, 'jul19os': 1720, 'set19aplicação': 2468, '4ªaplicação': 473, 'contratada': 1057, 'fev17considerar': 1422, 'ggh': 1526, 'conenergetica': 1031, 'premier': 2214, 'foodsalteração': 1477, 'foods': 1476, 'ressaltamos': 2355, 'havendo': 1554, 'seguirá': 2432, 'mar17considerar': 1852, 'unnafibrasalteração': 2617, 'unnafibras': 2616, '18_ago19atendimento': 251, '14ª': 206, 'abr18esse': 598, '2014por': 306, 'perdas': 2169, 'associadas': 794, 'chapecó': 973, 'ponto': 2197, 'medição': 1895, 'líquida': 1802, 'conexão': 1032, 'exposto': 1393, 'cadastro': 890, 'corrigido': 1075, 'interno': 1628, 'ainda': 711, 'corrigidos': 1076, 'provenientes': 2247, 'atualizados': 817, 'fgv': 1447, 'dez20esse': 1223, 'nov20os': 2012, '0031203': 54, '87': 538, 'out18esse': 2084, 'ai_abr15': 679, 'ai_mai15': 688, 'ai_jun15': 686, 'ai_jul15': 685, 'ai_ago15': 681, 'ai_set15': 694, 'ai_nov15': 692, 'ai_dez15': 682, 'ai_out15': 693, 'ai_jan16': 684, 'ai_fev16': 683, 'ai_mar16': 691, 'ai_abr16': 680, 'ai_mai16': 689, '2015ajustes': 309, 'abr14ver': 587, '0000_nov20esse': 14, 'gsfestorno': 1543, 'jan17considerar': 1663, 'cajururesolução': 893, 'cajuru': 892, 'dez20deliberação': 1222, '2016este': 329, '115': 178, 'jul18atendimento': 1714, '3382': 426, '01103': 73, 'eco': 1277, 'vida': 2656, '710': 510, 'fixo': 1466, '16atendimento': 220, 'incorridos': 1609, 'prt': 2249, 'submercados': 2518, 'nov17deliberação': 1995, 'jan20os': 1682, 'set20': 2474, 'retroativasos': 2374, '17atendimento': 239, 'ago16ajuste': 651, '070': 118, 'rea': 2278, 'araguaiaeste': 781, 'oestepagamento': 2043, 'jun18os': 1752, 'jul20os': 1727, '082': 127, 'autorizar': 831, 'pagar': 2112, 'jul17esse': 1711, 'setembroo': 2486, 'ltda': 1800, 'agentetradener': 645, '3384': 428, '01105': 75, 'samburá': 2413, '2013por': 301, 'ipcaos': 1637, 'dez17deliberação': 1205, '0000_mai20esse': 11, 'fev18deliberação': 1429, 'jul20resolução': 1728, 'aii_mai16ver': 706, 'fev19os': 1438, '03_set13ver': 101, '000': 1, '_nov15': 578, '_dez15': 565, '_jan16': 569, '_fev16': 567, '_mar16': 576, '_abr16': 563, '_mai16': 573, '_jun16ver': 571, 'particpantes': 2139, 'participates': 2137, '2013ajustes': 299, 'jan18os': 1671, 'fev19deliberação': 1435, '1032': 164, 'jun19deliberação': 1754, '381': 453, '3400_mar19esse': 437, '19estorno': 280, 'fev17os': 1425, 'jun16deliberação': 1738, 'dez20os': 1224, '000_mar17rateio': 38, 'abr20deliberação': 607, 'mai18os': 1822, '3156': 417, 'xavantes': 2669, 'únicoprocesso': 2685, '156': 210, 'recalculo': 2291, 'aruanao': 790, 'estiver': 1374, 'cabe': 882, 'ressaltar': 2356, 'está': 1382, 'comprometida': 1019, 'atribuído': 809, 'comprometimento': 1022, 'tr_ris_ago16a': 2585, '2998': 410, 'ago16atendimento': 652, '943': 554, 'itaqui': 1649, 'deliberado': 1141, '942ª': 553, '0615': 115, 'determinada': 1170, 'operacionalizada': 2051, '126': 187, 'junho2017': 1767, 'ago20deliberação': 670, '582': 486, 'jan20determina': 1679, '574': 483, '43': 463, 'próximo': 2252, 'ai_mai16ver': 690, '3400_nov19esse': 438, 'inaddiferença': 1597, 'monetáriaestorno': 1929, '611': 496, '2017atendimento': 336, '18_ago18atendimento': 250, '000_jun18rateio': 36, '000_jan17rateio': 33, 'funilé': 1488, 'repassados': 2342, '2849_ago': 392, '2849_abri': 391, '138': 196, '155': 209, '166': 219, 'mar19esse': 1864, 'set19deliberação': 2470, 'iguacu': 1576, 'iguacuesse': 1577, 'rateioeste': 2272, '_mai16ver': 574, 'dez18os': 1213, 'contabilizar': 1048, 'mauá': 1885, 'diferemça': 1232, 'utilizar': 2628, '418': 462, 'comp': 1007, 'sin_ago20atendimento': 2497, 'prevê': 2217, 'diretrizes': 1239, 'exportação': 1390, 'mínimo': 1955, '97': 559, 'destinada': 1167, 'compensar': 1008, 'vez': 2652, 'mar17esse': 1853, '0000_ago20esse': 7, 'fev20resolução': 1445, '5arecnov15': 489, '6arecdez15': 506, '3014': 415, '2015esse': 313, 'cotistas': 1081, 'itaipu': 1643, 'acei': 619, '2982': 409, 'mora_mar16': 1935, 'mora_set16': 1936, '982': 560, 'mora': 1934, 'protegidos': 2246, 'decidiram': 1125, 'repactuar': 2337, 'desistiram': 1153, 'estas': 1369, 'abr20aplicação': 606, 'set16ajuste': 2457, 'out20deliberação': 2097, '03_jul13': 97, 'set20os': 2478, '3386': 429, 'cel': 935, 'américo': 747, 'teixeira': 2552, 'doxo': 1262, 'mar19os': 1865, '17_nov18atendimento': 236, 'ord': 2059, 'nº50016397520134047206': 2024, 'sc': 2424, 'jul11': 1704, 'ago11': 648, 'set11': 2454, 'out11': 2070, 'nov11': 1983, 'dez11ver': 1190, 'modulação': 1918, 'proinfa': 2237, '10_2017_4_03_6100': 169, 'devida': 1182, '58715': 487, '30': 413, '3400este': 441, 'certel': 957, 'redistribuir': 2313, 'energias': 1334, 'possuía': 2210, 'oriundos': 2064, 'represados': 2345, 'rateados': 2269, '0001236': 22, '82': 527, '0146': 79, '00015701920178210146': 23, 'jun17atendimento': 1744, 'próxima': 2251, 'judicialeste': 1699, 'hidro': 1559, 'jet': 1688, 'feliz': 1410, 'microinox': 1908, '2745': 385, 'sto': 2512, 'taxa': 2544, 'equivalente': 1351, 'norteeste': 1979, 'dez19deliberação': 1216, 'monetáriaatendimento': 1928, '464': 469, 'homologou': 1565, 'revisão': 2385, '933ª': 551, 'rca': 2275, 'cadastrado': 889, 'passará': 2142, 'receber': 2293, '787': 520, '1787': 233, 'outr': 2099, '102': 157, 'jun18atendimento': 1749, 'pen': 2163, 'delib': 1139, '575': 484, '2016_reunião': 322, '874ª': 540, '14cad': 205, 'parnaiba': 2129, 'deixam': 1136, 'aliviadas': 723, '000_ago20aplicação': 27, 'dez19os': 1219, 'cepasa': 945, 'dambroz': 1119, '1015056': 154, '61': 493, 'nov16cad': 1987, '0999ª': 136, 'inserir': 1621, 'baseada': 847, 'parâmetros': 2141, 'ip': 1632, 'constantes': 1043, 'portarias': 2201, '119': 179, '18é': 271, '793': 522, 'jun20os': 1761, '_nov16deliberação': 579, 'jan17esse': 1664, 'embua': 1318, 'tritexalteração': 2602, 'calculo': 897, 'jun15determina': 1735, '0018308': 49, 'restabelece': 2360, 'todas': 2579, 'horizontes': 1567, 'restabelecida': 2363, 'junho17este': 1765, 'crébito': 1100, '1025611': 159, '54': 479, 'jan14': 1659, 'dez14': 1191, 'mudança': 1946, 'aprovada': 773, '870': 539, 'especificamente': 1356, 'ia': 1573, 'iia': 1580, 'após': 779, '2018todos': 349, '0040538': 57, '81': 526, 'out17esse': 2079, '3445': 444, '19_dez19atendimento': 277, 'recebidos': 2296, '46': 467, '17o': 243, 'set17deliberação': 2462, 'del': 1138, '1218': 184, 'ceron': 950, 'ceronestorno': 951, '2014este': 305, 'ago17considerar': 655, 'aut': 826, '287': 404, 'fev15': 1418, 'mar15': 1847, 'abr15': 588, 'mai15atendimento': 1810, 'autorizativa': 832, 'manutençã': 1844, 'incorrido': 1608, 'unidade': 2614, 'gás': 1550, 'denominada': 1146, 'atualizada': 815, 'jan17o': 1665, 'pedra': 2158, 'sete': 2481, 'gamel': 1495, 'gameldespacho': 1496, 'gameleiras': 1497, '628': 498, 'jan18atendimento': 1668, 'fev20': 1439, 'jul20aplicação': 1723, '2016deliberação': 326, 'ela': 1293, 'firmadoeste': 1464, '2013_12len_dez15': 297, '2013_12len_dez15ver': 298, 'fev16ver': 1420, '18_dez19atendimento': 253, '18ª': 269, 'jun19': 1753, 'tr_ris_nov16a': 2591, 'observação': 2030, 'memória': 1897, 'encontra': 1327, 'site': 2500, 'espaço': 1355, 'seção': 2489, 'menu': 1902, 'prêmio': 2250, 'resultadosimpacto': 2366, 'mar20esse': 1870, '124': 185, 'out19este': 2092, 'abr18os': 600, '3434': 443, 'previsto': 2216, '3231': 420, 'complexo': 1014, 'paulo': 2148, 'afonso': 640, 'nov19deliberação': 2004, 'mar20aplicação': 1867, 'gsfesse': 1541, 'seta': 2480, 'itaguassu': 1642, 'eneestes': 1329, 'jul17considerar': 1709, 'jun20': 1757, '3627esse': 449, 'jan20atendimento': 1678, 'mar18': 1855, '18_jun19atendimento': 258, '2285': 370, '2590_abr14': 380, '2590_abr14estornos': 381, 'finaceiro': 1454, '2590': 379, 'retroagir': 2370, 'dados': 1117, 'respectivamente': 2352, 'concessionária': 1028, 'conectados': 1030, 'jul17deliberação': 1710, '0871': 129, '3968': 455, '160ª': 218, 'diferido': 1236, 'tendo': 2556, 'subsidiário': 2520, 'sustentável': 2535, 'deverá': 1180, 'apreciado': 771, 'específicoeste': 1360, 'jul19resolução': 1721, '0000_jun20esse': 9, 'dez17cad': 1203, 'ago20resolução': 672, 'primoresolução': 2223, 'doxoresolução': 1263, 'geraesresolução': 1510, 'parteeste': 2131, '1015553': 155, 'mai19a': 1824, 'possuia': 2208, 'protegia': 2245, 'dez20atendimento': 1221, 'out20atendimento': 2096, 'mai17esse': 1816, 'crpédito': 1098, 'mar20': 1866, '0000_abr20esse': 5, '000_dez20aplicação': 30, 'tr_ris_set16a': 2592, '03esse': 102, 'ro': 2397, '00512540720154013400': 62, '00512540720154013400este': 63, '2837': 388, '08o': 130, '837': 531, 'compõe': 1024, '256': 377, 'possuiam': 2209, '638': 499, 'mar18o': 1859, 'mar18os': 1860, '3400_dez19esse': 433, 'jun20atendimento': 1758, '434': 464, 'moxotó': 1941, 'inadimp': 1600, '10_2017_4_03_6100esse': 170, 'respectivas': 2353, 'estornados': 1375, 'época': 2680, '00270959220184013400': 52, 'toda': 2578, 'atualziação': 822, 'ocorrida': 2038, 'ficou': 1451, 'longo': 1799, 'tempo': 2555, 'vem': 2645, 'acumulando': 625, 'suprir': 2528, 'ocasionado': 2033, 'devolvendo': 1185, 'lançados': 1773, 'set20estorno': 2477, 'gold': 1529, 'abarcada': 580, 'juducial': 1701, 'agenteeste': 643, 'adébito': 632, '3400_out19esse': 439, '3565': 446, '852': 533, '2019recontabilização': 353, 'permitindo': 2176, 'bilateral': 857, 'gna': 1528, 'reduzir': 2315, '172': 231, 'mwmed': 1950, 'contrato': 1061, 'garantir': 1499, 'inclusão': 1605, 'nov20resolução': 2013, 'nov16considerar': 1988, '0036282': 56, 'facão': 1400, 'barao': 842, 'mauaatendimento': 1883, 'obrigações': 2029, 'maua': 1882, '13este': 199, 'impactaa': 1585, 'complemento': 1012, '0000_mai19esse': 10, '2849_fev': 394, '2849_mar': 399, '2849_abr': 390, '2849_jan': 395, '2016despacho': 327, '16deliberação': 222, '17_fev19atendimento': 234, '2021são': 362, '1414': 202, 'abr16ver': 590, 'prol': 2239, 'editoraalteração': 1283, 'editora': 1282, '_mar17deliberação': 577, '000_fev19aplicação': 31, 'mar19deliberação': 1863, 'ccen': 923, 'dez17considerar': 1204, 'mai19esse': 1825, 'retirada': 2367, '2º': 412, 'mar17': 1850, 'limianres': 1785, 'realizadas': 2281, 'elegiveis': 1295, '000_set17rateio': 44, '125': 186, 'mai20os': 1830, '017': 81, '037': 92, 'jan19este': 1675, '0000_dez20esse': 8, 'jun17deliberação': 1746, 'nov20atendimento': 2009, 'out19atendimento': 2089, 'dez18atendimento': 1210, '235': 373, 'xxxx': 2670, 'set20deliberação': 2475, 'acrédito': 623, 'junho18esse': 1766, 'nov16o': 1991, '211': 366, 'mai17o': 1817, 'ressarcir': 2359, 'teste': 2569, 'josé': 1692, 'pldeste': 2191, '6100': 494, 'zerar': 2675, '18_abr19atendimento': 248, '2015estorno': 315, '071': 120, 'set17considerar': 2461, 'jul20atendimento': 1724, '0000_out19esse': 15, 'ago20atendimento': 669, 'abr19deliberação': 602, 'parcialesse': 2126, '000_mar19aplicação': 39, '18_fev19atendimento': 254, '03_abr13': 95, '18_mar': 261, '08027896920138120002': 126, 'nov17esse': 1996, 'retorna': 2368, 'especifico': 1357, 'fernan': 1412, 'impactou': 1593, '_dez16deliberação': 566, 'fev20aplicação': 1440, 'mar20resolução': 1873, 'tr_ris_ju16a': 2589, 'tr_ris_fev16': 2587, 'tr_ris_fev16a': 2588, 'maio17este': 1835, 'nov18este': 2001, 'out15': 2071, 'fev18': 1426, '0000_ago19esse': 6, 'jun16ajuste': 1737, '18_fev20atendimento': 255, '20ª': 364, '0006706': 24, 'fev18aplicação': 1427, 'doppagamento': 1259, 'jan15': 1660, 'jul15': 1705, 'dez15determina': 1193, 'set20resolução': 2479, 'mar17os': 1854, 'abr18deliberação': 597, '2543': 376, 'ago19': 663, '2864': 403, 'set19atendimento': 2469, '543': 481, '864': 537, 'fluminenseestes': 1474, '_jan18deliberação': 570, '_mai17deliberação': 575, 'jul17os': 1712, 'fev20os': 1444, 'dez17aplicação': 1201, '045': 106, 'jan19atendimento': 1673, '000_dez16rateio': 28}\n"
     ]
    },
    {
     "name": "stdout",
     "output_type": "stream",
     "text": [
      "\n",
      "Dimensões da matrix: \n",
      "(1416, 2686)\n"
     ]
    }
   ],
   "source": [
    "# Com o dataframe já dividido entre Treino e Teste, iremos obter o vocabulário apenas dos dados de TREINO:\n",
    "\n",
    "# instancia o transform CountVectorizer\n",
    "tfidf_vectorizer = TfidfVectorizer()\n",
    "# # tokeniza e cria o vocabulário\n",
    "tfidf_vectorizer.fit(X_train)\n",
    "# # mostra o vocabulário criado\n",
    "print('Vocabulário: ')\n",
    "print(tfidf_vectorizer.vocabulary_)\n",
    "\n",
    "# encode document\n",
    "tfidf_vector = tfidf_vectorizer.transform(X_train)\n",
    "# mostra as dimensões da matrix de frequência\n",
    "print('\\nDimensões da matrix: ')\n",
    "print(tfidf_vector.shape)"
   ]
  },
  {
   "cell_type": "code",
   "execution_count": 11,
   "metadata": {},
   "outputs": [
    {
     "name": "stdout",
     "output_type": "stream",
     "text": [
      "Wall time: 0 ns\n",
      "Train score: 1.0\n",
      "Test score: 0.9717514124293786\n"
     ]
    }
   ],
   "source": [
    "# Treinando o modelo e obtendo o tempo do processamento:\n",
    "%time\n",
    "classificador = pipeline.fit(X_train, y_train)\n",
    "\n",
    "# Acurácia do modelo nos dados de treino\n",
    "train_score = classificador.score(X_train, y_train)\n",
    "\n",
    "# Acurácia do modelo nos dados de teste \n",
    "test_score = classificador.score(X_test, y_test)\n",
    "\n",
    "print(\"Train score: {}\".format(train_score))\n",
    "print(\"Test score: {}\".format(test_score))"
   ]
  },
  {
   "cell_type": "code",
   "execution_count": 12,
   "metadata": {},
   "outputs": [],
   "source": [
    "# Predição nos dados de teste (utilizaremos para o cálculo do erro)\n",
    "predicted = classificador.predict(X_test)"
   ]
  },
  {
   "cell_type": "code",
   "execution_count": 24,
   "metadata": {},
   "outputs": [
    {
     "data": {
      "text/plain": [
       "0.9707253373050531"
      ]
     },
     "execution_count": 24,
     "metadata": {},
     "output_type": "execute_result"
    }
   ],
   "source": [
    "# Mostra o f1 score do modelo nos dados de teste (usado quando as classes estão desbalanceadas)\n",
    "# No caso em análise as classes estão balanceadas, ainda é necessário fazer essa análise ??\n",
    "\n",
    "from sklearn.metrics import f1_score\n",
    "f1_score(y_test, predicted, average='weighted') "
   ]
  },
  {
   "cell_type": "code",
   "execution_count": 25,
   "metadata": {},
   "outputs": [
    {
     "name": "stdout",
     "output_type": "stream",
     "text": [
      "                precision    recall  f1-score   support\n",
      "\n",
      "       ENERGIA       0.98      0.98      0.98       176\n",
      "           ESS       0.97      1.00      0.99        75\n",
      "Não considerar       0.97      0.99      0.98        88\n",
      " Sem categoria       0.83      0.67      0.74        15\n",
      "\n",
      "      accuracy                           0.97       354\n",
      "     macro avg       0.94      0.91      0.92       354\n",
      "  weighted avg       0.97      0.97      0.97       354\n",
      "\n"
     ]
    }
   ],
   "source": [
    "# avalie o modelo usando 'classification_report' do sklearn\n",
    "from sklearn import metrics\n",
    "print(metrics.classification_report(y_test, predicted))"
   ]
  },
  {
   "cell_type": "code",
   "execution_count": 26,
   "metadata": {},
   "outputs": [
    {
     "data": {
      "text/plain": [
       "<sklearn.metrics._plot.confusion_matrix.ConfusionMatrixDisplay at 0x2398051eee0>"
      ]
     },
     "execution_count": 26,
     "metadata": {},
     "output_type": "execute_result"
    },
    {
     "data": {
      "image/png": "[encoded data removed]",
      "text/plain": [
       "<Figure size 432x288 with 2 Axes>"
      ]
     },
     "metadata": {
      "needs_background": "light"
     },
     "output_type": "display_data"
    }
   ],
   "source": [
    "# mostrar a matrix de confusão do modelo sobre todo o dataset\n",
    "from sklearn.metrics import plot_confusion_matrix\n",
    "plot_confusion_matrix(classificador, X_test, y_test, values_format='d')"
   ]
  },
  {
   "cell_type": "code",
   "execution_count": 27,
   "metadata": {},
   "outputs": [
    {
     "data": {
      "text/plain": [
       "<bound method Pipeline.get_params of Pipeline(steps=[('vect',\n",
       "                 CountVectorizer(max_features=50000, ngram_range=(1, 2))),\n",
       "                ('tfidf', TfidfTransformer()),\n",
       "                ('clf',\n",
       "                 SGDClassifier(alpha=1e-06, loss='log', max_iter=60,\n",
       "                               penalty='elasticnet'))])>"
      ]
     },
     "execution_count": 27,
     "metadata": {},
     "output_type": "execute_result"
    }
   ],
   "source": [
    "# Mostra os hiperparâmetros usados para treinar o modelo\n",
    "classificador.get_params"
   ]
  },
  {
   "cell_type": "markdown",
   "metadata": {},
   "source": [
    "### 2) CROSS VALIDATION com N-Folds a critério do usuário"
   ]
  },
  {
   "cell_type": "code",
   "execution_count": 22,
   "metadata": {},
   "outputs": [
    {
     "name": "stdout",
     "output_type": "stream",
     "text": [
      "Select your item: 5\n",
      "Acurácia média: 0.942373 (Desvio Padrão: 0.013793)\n"
     ]
    }
   ],
   "source": [
    "# validando o modelo usando a quantidade de folds do usuário  no cross-validation:\n",
    "\n",
    "folds = int(input(\"Select your item: \"))\n",
    "\n",
    "# Parâmetros opcionais:\n",
    "#kfold = KFold(n_splits=folds, shuffle=True, random_state=42)\n",
    "#skfold = StratifiedKFold(n_splits=folds, shuffle=True, random_state=42)\n",
    "\n",
    "# Aqui uma dúvida: no argumento do cross_validate precisa inserir X/y ou X_train/y_train ??\n",
    "results = cross_validate(classificador, X, y, cv=folds, return_train_score=True, return_estimator=True)\n",
    "print(\"Acurácia média: %f (Desvio Padrão: %f)\" %(results['test_score'].mean(), results['test_score'].std()))\n"
   ]
  },
  {
   "cell_type": "code",
   "execution_count": 28,
   "metadata": {},
   "outputs": [],
   "source": [
    "# Faça a predição nos dados de teste \n",
    "predicted = classificador.predict(X)"
   ]
  },
  {
   "cell_type": "code",
   "execution_count": 29,
   "metadata": {},
   "outputs": [
    {
     "data": {
      "text/plain": [
       "0.9926103486340989"
      ]
     },
     "execution_count": 29,
     "metadata": {},
     "output_type": "execute_result"
    }
   ],
   "source": [
    "# Mostra o f1 score do modelo nos dados de teste (usado quando as classes estão desbalanceadas)\n",
    "from sklearn.metrics import f1_score\n",
    "f1_score(y, predicted, average='weighted') "
   ]
  },
  {
   "cell_type": "code",
   "execution_count": 30,
   "metadata": {},
   "outputs": [
    {
     "name": "stdout",
     "output_type": "stream",
     "text": [
      "                precision    recall  f1-score   support\n",
      "\n",
      "       ENERGIA       0.99      1.00      0.99       879\n",
      "           ESS       0.99      0.98      0.99       373\n",
      "Não considerar       1.00      1.00      1.00       441\n",
      " Sem categoria       1.00      0.94      0.97        77\n",
      "\n",
      "      accuracy                           0.99      1770\n",
      "     macro avg       0.99      0.98      0.99      1770\n",
      "  weighted avg       0.99      0.99      0.99      1770\n",
      "\n"
     ]
    }
   ],
   "source": [
    "# avalie o modelo usando 'classification_report' do sklearn\n",
    "from sklearn import metrics\n",
    "print(metrics.classification_report(y, predicted))"
   ]
  },
  {
   "cell_type": "code",
   "execution_count": 23,
   "metadata": {},
   "outputs": [
    {
     "name": "stdout",
     "output_type": "stream",
     "text": [
      "accuracy\n",
      "[0.9519774011299436, 0.9378531073446328, 0.9491525423728814, 0.9463276836158192, 0.963276836158192]\n",
      "0.9497175141242937\n"
     ]
    }
   ],
   "source": [
    "# AQUI OUTRA FORMA DE CALCULAR (MAIS TRABALHOSA QUE O CROSS VALIDATE):\n",
    "\n",
    "# Abaixo fazemos a separação do nosso dataset três vezes (n_folds=3),\n",
    "# para cada iteração realizamos o treino do modelo (model.fit(data_train, target_train)), \n",
    "# e a predição dos exemplos separados como teste (model.predict(data_test)), \n",
    "# por fim calculamos a acurácia e adicionamos em um array. \n",
    "\n",
    "# Ao final das iterações a média das acurácias (np.average(results_accuracy)), \n",
    "# representa uma métrica mais confiável e menos passiva de variância.\n",
    "\n",
    "# Neste exemplo utilizamos a técnica de amostragem estratificada, presente no sklearn, \n",
    "# com intuito de preservar o balanceamento das classes.\n",
    "\n",
    "# Fonte: https://joorgelm.medium.com/valida%C3%A7%C3%A3o-cruzada-cross-validation-avaliando-seu-modelo-de-forma-clara-e-concisa-10d27fa4efb8\n",
    "\n",
    "from sklearn.model_selection import StratifiedKFold\n",
    "from sklearn.metrics import accuracy_score\n",
    "def k_fold_cross_validation(model, x, y, n_folds=3):\n",
    "    \n",
    "    kf = StratifiedKFold(n_splits=n_folds)\n",
    "    \n",
    "    results_accuracy = []\n",
    "    \n",
    "    for train, test in kf.split(x, y):\n",
    "        data_train, target_train = x[train], y[train]\n",
    "        data_test, target_test   = x[test], y[test]\n",
    "        \n",
    "        model = model.fit(data_train, target_train)\n",
    "        out = model.predict(data_test)\n",
    "        \n",
    "        accuracy = accuracy_score(target_test, out)\n",
    "        results_accuracy.append(accuracy)\n",
    "        \n",
    "    print('accuracy')\n",
    "    print(results_accuracy)\n",
    "    print(np.average(results_accuracy))\n",
    "\n",
    "k_fold_cross_validation(classificador, X, y, n_folds=5)"
   ]
  },
  {
   "cell_type": "code",
   "execution_count": null,
   "metadata": {},
   "outputs": [],
   "source": []
  }
 ],
 "metadata": {
  "celltoolbar": "Create Assignment",
  "colab": {
   "collapsed_sections": [],
   "name": "PrepML.ipynb",
   "provenance": []
  },
  "kernelspec": {
   "display_name": "Python 3",
   "language": "python",
   "name": "python3"
  },
  "language_info": {
   "codemirror_mode": {
    "name": "ipython",
    "version": 3
   },
   "file_extension": ".py",
   "mimetype": "text/x-python",
   "name": "python",
   "nbconvert_exporter": "python",
   "pygments_lexer": "ipython3",
   "version": "3.8.3"
  }
 },
 "nbformat": 4,
 "nbformat_minor": 1
}
