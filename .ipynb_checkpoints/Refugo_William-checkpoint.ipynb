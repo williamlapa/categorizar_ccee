{
 "cells": [
  {
   "cell_type": "code",
   "execution_count": null,
   "metadata": {},
   "outputs": [],
   "source": [
    "# AQUI OUTRA FORMA DE CALCULAR (MAIS TRABALHOSA QUE O CROSS VALIDATE):\n",
    "\n",
    "# Abaixo fazemos a separação do nosso dataset três vezes (n_folds=3),\n",
    "# para cada iteração realizamos o treino do modelo (model.fit(data_train, target_train)), \n",
    "# e a predição dos exemplos separados como teste (model.predict(data_test)), \n",
    "# por fim calculamos a acurácia e adicionamos em um array. \n",
    "\n",
    "# Ao final das iterações a média das acurácias (np.average(results_accuracy)), \n",
    "# representa uma métrica mais confiável e menos passiva de variância.\n",
    "\n",
    "# Neste exemplo utilizamos a técnica de amostragem estratificada, presente no sklearn, \n",
    "# com intuito de preservar o balanceamento das classes.\n",
    "\n",
    "# Fonte: https://joorgelm.medium.com/valida%C3%A7%C3%A3o-cruzada-cross-validation-avaliando-seu-modelo-de-forma-clara-e-concisa-10d27fa4efb8\n",
    "\n",
    "from sklearn.model_selection import StratifiedKFold\n",
    "from sklearn.metrics import accuracy_score\n",
    "def k_fold_cross_validation(model, x, y, n_folds=3):\n",
    "    \n",
    "    kf = StratifiedKFold(n_splits=n_folds)\n",
    "    \n",
    "    results_accuracy = []\n",
    "    \n",
    "    for train, test in kf.split(x, y):\n",
    "        data_train, target_train = x[train], y[train]\n",
    "        data_test, target_test   = x[test], y[test]\n",
    "        \n",
    "        model = model.fit(data_train, target_train)\n",
    "        out = model.predict(data_test)\n",
    "        \n",
    "        accuracy = accuracy_score(target_test, out)\n",
    "        results_accuracy.append(accuracy)\n",
    "        \n",
    "    print('accuracy')\n",
    "    print(results_accuracy)\n",
    "    print(np.average(results_accuracy))\n",
    "\n",
    "k_fold_cross_validation(classificador, X, y, n_folds=5)"
   ]
  },
  {
   "cell_type": "code",
   "execution_count": null,
   "metadata": {},
   "outputs": [],
   "source": [
    "# Cria variáveis com nomes e classes dos estimadores (classificadores)\n",
    "names = [\"SGD com Regressão Logistica\", \"KNn com 3 vizinhos\", \"SGD com Hinge\"]\n",
    "\n",
    "classifiers = [\n",
    "    pipelineLog,\n",
    "    pipelineKNN3,\n",
    "    pipelineHinge]"
   ]
  },
  {
   "cell_type": "code",
   "execution_count": null,
   "metadata": {},
   "outputs": [],
   "source": [
    "# Loop para treinamento (fit) de todos os classificadores e imprime a respectiva acurácia.\n",
    "\n",
    "start = time.time()\n",
    "for name, classifier in zip(names, classifiers):\n",
    "    clf = classifier.fit(X_train, y_train)\n",
    "    score = clf.score(X_test, y_test)\n",
    "    print(\"{} score: {}\".format(name, score))\n",
    "print('\\n')\n",
    "end = time.time()\n",
    "print(end - start)"
   ]
  }
 ],
 "metadata": {
  "kernelspec": {
   "display_name": "Python 3",
   "language": "python",
   "name": "python3"
  },
  "language_info": {
   "codemirror_mode": {
    "name": "ipython",
    "version": 3
   },
   "file_extension": ".py",
   "mimetype": "text/x-python",
   "name": "python",
   "nbconvert_exporter": "python",
   "pygments_lexer": "ipython3",
   "version": "3.8.3"
  }
 },
 "nbformat": 4,
 "nbformat_minor": 4
}
