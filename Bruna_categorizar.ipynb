{
  "nbformat": 4,
  "nbformat_minor": 0,
  "metadata": {
    "colab": {
      "name": "Bruna_categorizar.ipynb",
      "provenance": [],
      "authorship_tag": "ABX9TyMlVpddB2Rf8XSxhklquSC5",
      "include_colab_link": true
    },
    "kernelspec": {
      "name": "python3",
      "display_name": "Python 3"
    }
  },
  "cells": [
    {
      "cell_type": "markdown",
      "metadata": {
        "id": "view-in-github",
        "colab_type": "text"
      },
      "source": [
        "<a href=\"https://colab.research.google.com/github/williamlapa/categorizar_ccee/blob/master/Bruna_categorizar.ipynb\" target=\"_parent\"><img src=\"https://colab.research.google.com/assets/colab-badge.svg\" alt=\"Open In Colab\"/></a>"
      ]
    },
    {
      "cell_type": "markdown",
      "metadata": {
        "id": "wqfQlTjmLE0G"
      },
      "source": [
        "Teste"
      ]
    },
    {
      "cell_type": "code",
      "metadata": {
        "id": "bCB_DdpUKzVd"
      },
      "source": [
        "import pandas as pd\n",
        "import spacy\n"
      ],
      "execution_count": null,
      "outputs": []
    },
    {
      "cell_type": "code",
      "metadata": {
        "id": "gXo4LlOgbAZG"
      },
      "source": [
        "!pip install -U pip setuptools wheel\n",
        "!pip install -U spacy\n",
        "!python -m spacy download pt_core_news_sm"
      ],
      "execution_count": null,
      "outputs": []
    },
    {
      "cell_type": "code",
      "metadata": {
        "id": "_2-JnpYqXlA_"
      },
      "source": [
        "nlp = spacy.load(\"pt_core_news_sm\")\n"
      ],
      "execution_count": null,
      "outputs": []
    },
    {
      "cell_type": "code",
      "metadata": {
        "colab": {
          "base_uri": "https://localhost:8080/",
          "height": 606
        },
        "id": "a068QIaWfyPr",
        "outputId": "68ef609b-7f42-42de-c866-efaff4e8ad8a"
      },
      "source": [
        "merged = pd.read_excel('https://github.com/williamlapa/categorizar_ccee/blob/master/saidamerged.xlsx?raw=true', usecols=['Título do Ajuste - conforme relatório SUMÁRIO-001',\n",
        "       'Descrição do Ajuste', 'Descrição de Impacto', 'Impacto Principal',\n",
        "       'Observação', 'NOME', 'TIPO'])\n",
        "\n",
        "\n",
        "merged['TIPO'].fillna('Sem categoria', inplace=True)\n",
        "merged['Título do Ajuste - conforme relatório SUMÁRIO-001'].fillna('', inplace=True)\n",
        "merged['Descrição do Ajuste'].fillna('', inplace=True)\n",
        "merged['Descrição de Impacto'].fillna('', inplace=True)\n",
        "merged['Impacto Principal'].fillna('', inplace=True)\n",
        "\n",
        "# cria novas colunas concatenando todas colunas de texto do Dataframe\n",
        "# Esta é a coluna da variável X (INDEPENDENTE)\n",
        "merged['todas_as_colunas']=merged['Título do Ajuste - conforme relatório SUMÁRIO-001']+merged['Descrição do Ajuste']+merged['Descrição de Impacto']+merged['Impacto Principal']\n",
        "merged"
      ],
      "execution_count": 24,
      "outputs": [
        {
          "output_type": "execute_result",
          "data": {
            "text/html": [
              "<div>\n",
              "<style scoped>\n",
              "    .dataframe tbody tr th:only-of-type {\n",
              "        vertical-align: middle;\n",
              "    }\n",
              "\n",
              "    .dataframe tbody tr th {\n",
              "        vertical-align: top;\n",
              "    }\n",
              "\n",
              "    .dataframe thead th {\n",
              "        text-align: right;\n",
              "    }\n",
              "</style>\n",
              "<table border=\"1\" class=\"dataframe\">\n",
              "  <thead>\n",
              "    <tr style=\"text-align: right;\">\n",
              "      <th></th>\n",
              "      <th>Título do Ajuste - conforme relatório SUMÁRIO-001</th>\n",
              "      <th>Descrição do Ajuste</th>\n",
              "      <th>Descrição de Impacto</th>\n",
              "      <th>Impacto Principal</th>\n",
              "      <th>Observação</th>\n",
              "      <th>TIPO</th>\n",
              "      <th>NOME</th>\n",
              "      <th>todas_as_colunas</th>\n",
              "    </tr>\n",
              "  </thead>\n",
              "  <tbody>\n",
              "    <tr>\n",
              "      <th>0</th>\n",
              "      <td>Encargo Liquidação MCP - Original - Principal (*)</td>\n",
              "      <td>Inadimplência do MCP (Mercado de Curto Prazo) ...</td>\n",
              "      <td>São impactados os Agentes inadimplentes da liq...</td>\n",
              "      <td>-</td>\n",
              "      <td>-</td>\n",
              "      <td>Não considerar</td>\n",
              "      <td>Encargo Liquidação MCP - Original - Principal</td>\n",
              "      <td>Encargo Liquidação MCP - Original - Principal ...</td>\n",
              "    </tr>\n",
              "    <tr>\n",
              "      <th>1</th>\n",
              "      <td>Encargo Liquidação MCP - Estorno -  Principal (*)</td>\n",
              "      <td>Estorno da Inadimplência do MCP (Mercado de Cu...</td>\n",
              "      <td>Estorno da inadimplência dos agentes CELESC DI...</td>\n",
              "      <td>-</td>\n",
              "      <td>-</td>\n",
              "      <td>Não considerar</td>\n",
              "      <td>Encargo Liquidação MCP - Estorno -  Principal</td>\n",
              "      <td>Encargo Liquidação MCP - Estorno -  Principal ...</td>\n",
              "    </tr>\n",
              "    <tr>\n",
              "      <th>2</th>\n",
              "      <td>Encargo Liquidação MCP - Original - Juros (*)</td>\n",
              "      <td>Lançamento dos Juros sobre a Inadimplência do ...</td>\n",
              "      <td>São impactados os Agentes inadimplentes da liq...</td>\n",
              "      <td>-</td>\n",
              "      <td>-</td>\n",
              "      <td>Não considerar</td>\n",
              "      <td>Encargo Liquidação MCP - Original - Juros</td>\n",
              "      <td>Encargo Liquidação MCP - Original - Juros (*)L...</td>\n",
              "    </tr>\n",
              "    <tr>\n",
              "      <th>3</th>\n",
              "      <td>Encargo Liquidação MCP - Estorno - Juros (*)</td>\n",
              "      <td>Estorno dos juros sobre a inadimplência do MCP...</td>\n",
              "      <td>Este ajuste impacta a crédito os agentes que p...</td>\n",
              "      <td>-</td>\n",
              "      <td>-</td>\n",
              "      <td>Não considerar</td>\n",
              "      <td>Encargo Liquidação MCP - Estorno - Juros</td>\n",
              "      <td>Encargo Liquidação MCP - Estorno - Juros (*)Es...</td>\n",
              "    </tr>\n",
              "    <tr>\n",
              "      <th>4</th>\n",
              "      <td>Encargo Liquidação MCP - Original - Atualizaçã...</td>\n",
              "      <td>Lançamento da atualização monetária sobre a In...</td>\n",
              "      <td>São impactados os Agentes inadimplentes da liq...</td>\n",
              "      <td>-</td>\n",
              "      <td>-</td>\n",
              "      <td>Não considerar</td>\n",
              "      <td>Encargo Liquidação MCP - Original - Atualizaçã...</td>\n",
              "      <td>Encargo Liquidação MCP - Original - Atualizaçã...</td>\n",
              "    </tr>\n",
              "    <tr>\n",
              "      <th>...</th>\n",
              "      <td>...</td>\n",
              "      <td>...</td>\n",
              "      <td>...</td>\n",
              "      <td>...</td>\n",
              "      <td>...</td>\n",
              "      <td>...</td>\n",
              "      <td>...</td>\n",
              "      <td>...</td>\n",
              "    </tr>\n",
              "    <tr>\n",
              "      <th>1764</th>\n",
              "      <td>Atualização Monetária da Atm Inad Jul e Ago/20...</td>\n",
              "      <td>Atualização monetária do ajuste \"Reversão da a...</td>\n",
              "      <td>Este ajuste impacta a crédito os credores da c...</td>\n",
              "      <td>-</td>\n",
              "      <td>NaN</td>\n",
              "      <td>ENERGIA</td>\n",
              "      <td>Atualização Monetária da Atm Inad Jul e Ago/2015</td>\n",
              "      <td>Atualização Monetária da Atm Inad Jul e Ago/20...</td>\n",
              "    </tr>\n",
              "    <tr>\n",
              "      <th>1765</th>\n",
              "      <td>Repasse da Atm da inadim GSF Jul e Ago15\\nRepa...</td>\n",
              "      <td>Este ajuste foi criado com o intuito de repass...</td>\n",
              "      <td>Se o valor do ajuste \"Atualização Monetária Pr...</td>\n",
              "      <td>-</td>\n",
              "      <td>NaN</td>\n",
              "      <td>ENERGIA</td>\n",
              "      <td>Repasse da Atm da inadim GSF Jul e Ago15</td>\n",
              "      <td>Repasse da Atm da inadim GSF Jul e Ago15\\nRepa...</td>\n",
              "    </tr>\n",
              "    <tr>\n",
              "      <th>1766</th>\n",
              "      <td>Oficio 005/2018-SRG/ANEEL-Nov17\\nOficio 005/20...</td>\n",
              "      <td>Atendimento ao Ofício nº 005/2018, que visa o ...</td>\n",
              "      <td>Os agentes serão impactados devido ao efeito d...</td>\n",
              "      <td></td>\n",
              "      <td>NaN</td>\n",
              "      <td>ENERGIA</td>\n",
              "      <td>Oficio 005/2018-SRG/ANEEL-Nov17</td>\n",
              "      <td>Oficio 005/2018-SRG/ANEEL-Nov17\\nOficio 005/20...</td>\n",
              "    </tr>\n",
              "    <tr>\n",
              "      <th>1767</th>\n",
              "      <td>Est Ajuste Único CNPE 03/13 - (retroativas de ...</td>\n",
              "      <td>Esse ajuste, visa reverter a decisão judicial ...</td>\n",
              "      <td>Reversão de todos os ajustes de CNPE 03/13 a p...</td>\n",
              "      <td>Pagamento de encargos por segurança energética.</td>\n",
              "      <td>NaN</td>\n",
              "      <td>ESS</td>\n",
              "      <td>Est Ajuste Único CNPE 03/13 - (retroativas de ...</td>\n",
              "      <td>Est Ajuste Único CNPE 03/13 - (retroativas de ...</td>\n",
              "    </tr>\n",
              "    <tr>\n",
              "      <th>1768</th>\n",
              "      <td>ATM-Est - Ajuste Único CNPE 03/13\\nEst - Atm D...</td>\n",
              "      <td>Esse ajuste, visa atualizar monetariamente a q...</td>\n",
              "      <td>Atualização monetária do valor principal e das...</td>\n",
              "      <td>Pagamento de encargos por segurança energética.</td>\n",
              "      <td>NaN</td>\n",
              "      <td>ESS</td>\n",
              "      <td>ATM-Est - Ajuste Único CNPE 03/13</td>\n",
              "      <td>ATM-Est - Ajuste Único CNPE 03/13\\nEst - Atm D...</td>\n",
              "    </tr>\n",
              "  </tbody>\n",
              "</table>\n",
              "<p>1769 rows × 8 columns</p>\n",
              "</div>"
            ],
            "text/plain": [
              "      Título do Ajuste - conforme relatório SUMÁRIO-001  ...                                   todas_as_colunas\n",
              "0     Encargo Liquidação MCP - Original - Principal (*)  ...  Encargo Liquidação MCP - Original - Principal ...\n",
              "1     Encargo Liquidação MCP - Estorno -  Principal (*)  ...  Encargo Liquidação MCP - Estorno -  Principal ...\n",
              "2         Encargo Liquidação MCP - Original - Juros (*)  ...  Encargo Liquidação MCP - Original - Juros (*)L...\n",
              "3          Encargo Liquidação MCP - Estorno - Juros (*)  ...  Encargo Liquidação MCP - Estorno - Juros (*)Es...\n",
              "4     Encargo Liquidação MCP - Original - Atualizaçã...  ...  Encargo Liquidação MCP - Original - Atualizaçã...\n",
              "...                                                 ...  ...                                                ...\n",
              "1764  Atualização Monetária da Atm Inad Jul e Ago/20...  ...  Atualização Monetária da Atm Inad Jul e Ago/20...\n",
              "1765  Repasse da Atm da inadim GSF Jul e Ago15\\nRepa...  ...  Repasse da Atm da inadim GSF Jul e Ago15\\nRepa...\n",
              "1766  Oficio 005/2018-SRG/ANEEL-Nov17\\nOficio 005/20...  ...  Oficio 005/2018-SRG/ANEEL-Nov17\\nOficio 005/20...\n",
              "1767  Est Ajuste Único CNPE 03/13 - (retroativas de ...  ...  Est Ajuste Único CNPE 03/13 - (retroativas de ...\n",
              "1768  ATM-Est - Ajuste Único CNPE 03/13\\nEst - Atm D...  ...  ATM-Est - Ajuste Único CNPE 03/13\\nEst - Atm D...\n",
              "\n",
              "[1769 rows x 8 columns]"
            ]
          },
          "metadata": {
            "tags": []
          },
          "execution_count": 24
        }
      ]
    },
    {
      "cell_type": "code",
      "metadata": {
        "colab": {
          "base_uri": "https://localhost:8080/"
        },
        "id": "LQ25mJbKhCqT",
        "outputId": "d50346e5-288b-409d-cdd8-ae59be3dcfc1"
      },
      "source": [
        "text = merged['todas_as_colunas'].map(lambda x: nlp(x))\n",
        "text"
      ],
      "execution_count": 30,
      "outputs": [
        {
          "output_type": "execute_result",
          "data": {
            "text/plain": [
              "0       (Encargo, Liquidação, MCP, -, Original, -, Pri...\n",
              "1       (Encargo, Liquidação, MCP, -, Estorno, -,  , P...\n",
              "2       (Encargo, Liquidação, MCP, -, Original, -, Jur...\n",
              "3       (Encargo, Liquidação, MCP, -, Estorno, -, Juro...\n",
              "4       (Encargo, Liquidação, MCP, -, Original, -, Atu...\n",
              "                              ...                        \n",
              "1764    (Atualização, Monetária, da, Atm, Inad, Jul, e...\n",
              "1765    (Repasse, da, Atm, da, inadim, GSF, Jul, e, Ag...\n",
              "1766    (Oficio, 005/, 2018-SRG, /, ANEEL-Nov17, \\n, O...\n",
              "1767    (Est, Ajuste, Único, CNPE, 03/13, -, (, retroa...\n",
              "1768    (ATM-Est, -, Ajuste, Único, CNPE, 03/13, \\n, E...\n",
              "Name: todas_as_colunas, Length: 1769, dtype: object"
            ]
          },
          "metadata": {
            "tags": []
          },
          "execution_count": 30
        }
      ]
    },
    {
      "cell_type": "code",
      "metadata": {
        "colab": {
          "base_uri": "https://localhost:8080/"
        },
        "id": "XkQrt-90fN_2",
        "outputId": "41f70e22-edf0-4930-f9d4-717a6b765517"
      },
      "source": [
        "print(f\"Token \\t\\tLemma \\t\\tStopword\".format('Token', 'Lemma', 'Stopword'))\n",
        "print(\"-\"*40)\n",
        "for token in text[0]:\n",
        "    print(f\"{str(token)}\\t\\t{token.lemma_}\\t\\t{token.is_stop}\")"
      ],
      "execution_count": 32,
      "outputs": [
        {
          "output_type": "stream",
          "text": [
            "Token \t\tLemma \t\tStopword\n",
            "----------------------------------------\n",
            "Encargo\t\tEncargo\t\tFalse\n",
            "Liquidação\t\tLiquidação\t\tFalse\n",
            "MCP\t\tMCP\t\tFalse\n",
            "-\t\t-\t\tFalse\n",
            "Original\t\tOriginal\t\tFalse\n",
            "-\t\t-\t\tFalse\n",
            "Principal\t\tPrincipal\t\tFalse\n",
            "(\t\t(\t\tFalse\n",
            "*\t\t*\t\tFalse\n",
            ")\t\t)\t\tFalse\n",
            "Inadimplência\t\tInadimplência\t\tFalse\n",
            "do\t\tdo\t\tTrue\n",
            "MCP\t\tMCP\t\tFalse\n",
            "(\t\t(\t\tFalse\n",
            "Mercado\t\tMercado\t\tFalse\n",
            "de\t\tde\t\tTrue\n",
            "Curto\t\tCurto\t\tFalse\n",
            "Prazo\t\tPrazo\t\tFalse\n",
            ")\t\t)\t\tFalse\n",
            "de\t\tde\t\tTrue\n",
            "Janeiro/2020São\t\tJaneiro/2020São\t\tFalse\n",
            "impactados\t\timpactar\t\tFalse\n",
            "os\t\to\t\tTrue\n",
            "Agentes\t\tAgentes\t\tFalse\n",
            "inadimplentes\t\tinadimplentes\t\tFalse\n",
            "da\t\tda\t\tTrue\n",
            "liquidação\t\tliquidação\t\tFalse\n",
            "do\t\tdo\t\tTrue\n",
            "MCP\t\tMCP\t\tFalse\n",
            "de\t\tde\t\tTrue\n",
            "Janeiro/2020\t\tJaneiro/2020\t\tFalse\n",
            "em\t\tem\t\tTrue\n",
            "posição\t\tposição\t\tTrue\n",
            "devedora\t\tdevedor\t\tFalse\n",
            "ou\t\tou\t\tTrue\n",
            "credora.-\t\tcredora.-\t\tFalse\n"
          ],
          "name": "stdout"
        }
      ]
    }
  ]
}