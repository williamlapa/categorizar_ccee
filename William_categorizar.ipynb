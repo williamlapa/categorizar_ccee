{
 "cells": [
  {
   "cell_type": "markdown",
   "metadata": {
    "id": "ep-5rQE_ixm_"
   },
   "source": [
    "## Machine Learning\n"
   ]
  },
  {
   "cell_type": "markdown",
   "metadata": {
    "id": "a2SXfK9WixnF"
   },
   "source": [
    "### Apresentação do Dataset"
   ]
  },
  {
   "cell_type": "code",
   "execution_count": 1,
   "metadata": {},
   "outputs": [],
   "source": [
    "import pandas as pd\n",
    "import numpy as np\n",
    "# execute a linha abaixo apenas se não tiver o Sweetviz\n",
    "# ! pip install sweetviz\n"
   ]
  },
  {
   "cell_type": "markdown",
   "metadata": {
    "id": "mJ4f3wLUixnH"
   },
   "source": [
    "#### Link para Download do Dataset"
   ]
  },
  {
   "cell_type": "code",
   "execution_count": 2,
   "metadata": {},
   "outputs": [
    {
     "data": {
      "text/html": [
       "<div>\n",
       "<style scoped>\n",
       "    .dataframe tbody tr th:only-of-type {\n",
       "        vertical-align: middle;\n",
       "    }\n",
       "\n",
       "    .dataframe tbody tr th {\n",
       "        vertical-align: top;\n",
       "    }\n",
       "\n",
       "    .dataframe thead th {\n",
       "        text-align: right;\n",
       "    }\n",
       "</style>\n",
       "<table border=\"1\" class=\"dataframe\">\n",
       "  <thead>\n",
       "    <tr style=\"text-align: right;\">\n",
       "      <th></th>\n",
       "      <th>Título do Ajuste - conforme relatório SUMÁRIO-001</th>\n",
       "      <th>Descrição do Ajuste</th>\n",
       "      <th>Descrição de Impacto</th>\n",
       "      <th>Impacto Principal</th>\n",
       "      <th>Observação</th>\n",
       "      <th>splitedajuste</th>\n",
       "      <th>NOME</th>\n",
       "      <th>TIPO</th>\n",
       "      <th>Justificativa</th>\n",
       "    </tr>\n",
       "  </thead>\n",
       "  <tbody>\n",
       "    <tr>\n",
       "      <th>0</th>\n",
       "      <td>Encargo Liquidação MCP - Original - Principal (*)</td>\n",
       "      <td>Inadimplência do MCP (Mercado de Curto Prazo) ...</td>\n",
       "      <td>São impactados os Agentes inadimplentes da liq...</td>\n",
       "      <td>-</td>\n",
       "      <td>-</td>\n",
       "      <td>Encargo Liquidação MCP - Original - Principal</td>\n",
       "      <td>NaN</td>\n",
       "      <td>Sem categoria</td>\n",
       "      <td>NaN</td>\n",
       "    </tr>\n",
       "    <tr>\n",
       "      <th>1</th>\n",
       "      <td>Encargo Liquidação MCP - Estorno -  Principal (*)</td>\n",
       "      <td>Estorno da Inadimplência do MCP (Mercado de Cu...</td>\n",
       "      <td>Estorno da inadimplência dos agentes CELESC DI...</td>\n",
       "      <td>-</td>\n",
       "      <td>-</td>\n",
       "      <td>Encargo Liquidação MCP - Estorno -  Principal</td>\n",
       "      <td>NaN</td>\n",
       "      <td>Sem categoria</td>\n",
       "      <td>NaN</td>\n",
       "    </tr>\n",
       "    <tr>\n",
       "      <th>2</th>\n",
       "      <td>Encargo Liquidação MCP - Original - Juros (*)</td>\n",
       "      <td>Lançamento dos Juros sobre a Inadimplência do ...</td>\n",
       "      <td>São impactados os Agentes inadimplentes da liq...</td>\n",
       "      <td>-</td>\n",
       "      <td>-</td>\n",
       "      <td>Encargo Liquidação MCP - Original - Juros</td>\n",
       "      <td>NaN</td>\n",
       "      <td>Sem categoria</td>\n",
       "      <td>NaN</td>\n",
       "    </tr>\n",
       "    <tr>\n",
       "      <th>3</th>\n",
       "      <td>Encargo Liquidação MCP - Estorno - Juros (*)</td>\n",
       "      <td>Estorno dos juros sobre a inadimplência do MCP...</td>\n",
       "      <td>Este ajuste impacta a crédito os agentes que p...</td>\n",
       "      <td>-</td>\n",
       "      <td>-</td>\n",
       "      <td>Encargo Liquidação MCP - Estorno - Juros</td>\n",
       "      <td>NaN</td>\n",
       "      <td>Sem categoria</td>\n",
       "      <td>NaN</td>\n",
       "    </tr>\n",
       "    <tr>\n",
       "      <th>4</th>\n",
       "      <td>Encargo Liquidação MCP - Original - Atualizaçã...</td>\n",
       "      <td>Lançamento da atualização monetária sobre a In...</td>\n",
       "      <td>São impactados os Agentes inadimplentes da liq...</td>\n",
       "      <td>-</td>\n",
       "      <td>-</td>\n",
       "      <td>Encargo Liquidação MCP - Original - Atualizaçã...</td>\n",
       "      <td>NaN</td>\n",
       "      <td>Sem categoria</td>\n",
       "      <td>NaN</td>\n",
       "    </tr>\n",
       "  </tbody>\n",
       "</table>\n",
       "</div>"
      ],
      "text/plain": [
       "   Título do Ajuste - conforme relatório SUMÁRIO-001  \\\n",
       "0  Encargo Liquidação MCP - Original - Principal (*)   \n",
       "1  Encargo Liquidação MCP - Estorno -  Principal (*)   \n",
       "2      Encargo Liquidação MCP - Original - Juros (*)   \n",
       "3       Encargo Liquidação MCP - Estorno - Juros (*)   \n",
       "4  Encargo Liquidação MCP - Original - Atualizaçã...   \n",
       "\n",
       "                                 Descrição do Ajuste  \\\n",
       "0  Inadimplência do MCP (Mercado de Curto Prazo) ...   \n",
       "1  Estorno da Inadimplência do MCP (Mercado de Cu...   \n",
       "2  Lançamento dos Juros sobre a Inadimplência do ...   \n",
       "3  Estorno dos juros sobre a inadimplência do MCP...   \n",
       "4  Lançamento da atualização monetária sobre a In...   \n",
       "\n",
       "                                Descrição de Impacto Impacto Principal  \\\n",
       "0  São impactados os Agentes inadimplentes da liq...                 -   \n",
       "1  Estorno da inadimplência dos agentes CELESC DI...                 -   \n",
       "2  São impactados os Agentes inadimplentes da liq...                 -   \n",
       "3  Este ajuste impacta a crédito os agentes que p...                 -   \n",
       "4  São impactados os Agentes inadimplentes da liq...                 -   \n",
       "\n",
       "  Observação                                      splitedajuste NOME  \\\n",
       "0          -     Encargo Liquidação MCP - Original - Principal   NaN   \n",
       "1          -     Encargo Liquidação MCP - Estorno -  Principal   NaN   \n",
       "2          -         Encargo Liquidação MCP - Original - Juros   NaN   \n",
       "3          -          Encargo Liquidação MCP - Estorno - Juros   NaN   \n",
       "4          -  Encargo Liquidação MCP - Original - Atualizaçã...  NaN   \n",
       "\n",
       "            TIPO Justificativa  \n",
       "0  Sem categoria           NaN  \n",
       "1  Sem categoria           NaN  \n",
       "2  Sem categoria           NaN  \n",
       "3  Sem categoria           NaN  \n",
       "4  Sem categoria           NaN  "
      ]
     },
     "execution_count": 2,
     "metadata": {},
     "output_type": "execute_result"
    }
   ],
   "source": [
    "df = pd.read_excel('saidamerged.xlsx', usecols=['Título do Ajuste - conforme relatório SUMÁRIO-001',\n",
    "       'Descrição do Ajuste', 'Descrição de Impacto', 'Impacto Principal',\n",
    "       'Observação', 'splitedajuste', 'NOME', 'TIPO', 'Justificativa'])\n",
    "df.head()"
   ]
  },
  {
   "cell_type": "code",
   "execution_count": 3,
   "metadata": {},
   "outputs": [
    {
     "data": {
      "text/plain": [
       "Index(['Título do Ajuste - conforme relatório SUMÁRIO-001',\n",
       "       'Descrição do Ajuste', 'Descrição de Impacto', 'Impacto Principal',\n",
       "       'Observação', 'splitedajuste', 'NOME', 'TIPO', 'Justificativa'],\n",
       "      dtype='object')"
      ]
     },
     "execution_count": 3,
     "metadata": {},
     "output_type": "execute_result"
    }
   ],
   "source": [
    "df.columns"
   ]
  },
  {
   "cell_type": "code",
   "execution_count": 4,
   "metadata": {},
   "outputs": [
    {
     "data": {
      "application/vnd.jupyter.widget-view+json": {
       "model_id": "959f0020de484250acab800a1a0f6266",
       "version_major": 2,
       "version_minor": 0
      },
      "text/plain": [
       "HBox(children=(FloatProgress(value=0.0, layout=Layout(flex='2'), max=10.0), HTML(value='')), layout=Layout(dis…"
      ]
     },
     "metadata": {},
     "output_type": "display_data"
    },
    {
     "name": "stdout",
     "output_type": "stream",
     "text": [
      "\n",
      "Report Advertising.html was generated! NOTEBOOK/COLAB USERS: the web browser MAY not pop up, regardless, the report IS saved in your notebook/colab files.\n"
     ]
    }
   ],
   "source": [
    "# importing sweetviz\n",
    "import sweetviz as sv\n",
    "#analyzing the dataset\n",
    "advert_report = sv.analyze(df)\n",
    "#display the report\n",
    "advert_report.show_html('Advertising.html')"
   ]
  },
  {
   "cell_type": "code",
   "execution_count": 11,
   "metadata": {},
   "outputs": [
    {
     "data": {
      "text/plain": [
       "ENERGIA           663\n",
       "Sem categoria     571\n",
       "ESS               325\n",
       "Não considerar    211\n",
       "Name: TIPO, dtype: int64"
      ]
     },
     "execution_count": 11,
     "metadata": {},
     "output_type": "execute_result"
    }
   ],
   "source": [
    "df.TIPO.value_counts()"
   ]
  },
  {
   "cell_type": "code",
   "execution_count": 6,
   "metadata": {},
   "outputs": [
    {
     "data": {
      "text/plain": [
       "array(['-', 'Todos os impactos decorrentes de uma recontabilização',\n",
       "       'Impacto no MRE',\n",
       "       'Nível de contratação (CCEARs) das distribuidoras. ',\n",
       "       'Nível de contratação (CCEARs) das distribuidoras ',\n",
       "       'Nivél de contratação (CCEARs) das distribuidoras. ', nan,\n",
       "       'Pagamento de encargos por segurança energética.',\n",
       "       'Pagamento de encargos', 'Encargos',\n",
       "       'Todos os impactos decorrentes de uma recontabilização .',\n",
       "       'Perdas de rede básica.', 'Contratação por disponibilidade.',\n",
       "       'Pagamento de encargos.', 'Encargos.',\n",
       "       'Rateio para pagamento de encargo por restrição de operação quando PLD<INC<=CMO.',\n",
       "       'Nível de contratação (CCEN) das distribuidoras ',\n",
       "       'Impacto no RRH',\n",
       "       'Nivel de contratação (CCEARs) das distribuidoras ',\n",
       "       'Balanço Energético e MRE', 'Balanço Energético',\n",
       "       'Nivél de contratação (CCEARs) das distribuidoras ',\n",
       "       'Pagamento de encargos por segurança energética',\n",
       "       'Impacto Encargos'], dtype=object)"
      ]
     },
     "execution_count": 6,
     "metadata": {},
     "output_type": "execute_result"
    }
   ],
   "source": [
    "df['Impacto Principal'].unique()"
   ]
  },
  {
   "cell_type": "markdown",
   "metadata": {
    "id": "WO21SaWFxGvk"
   },
   "source": []
  }
 ],
 "metadata": {
  "celltoolbar": "Create Assignment",
  "colab": {
   "collapsed_sections": [],
   "name": "PrepML.ipynb",
   "provenance": []
  },
  "kernelspec": {
   "display_name": "Python 3",
   "language": "python",
   "name": "python3"
  },
  "language_info": {
   "codemirror_mode": {
    "name": "ipython",
    "version": 3
   },
   "file_extension": ".py",
   "mimetype": "text/x-python",
   "name": "python",
   "nbconvert_exporter": "python",
   "pygments_lexer": "ipython3",
   "version": "3.8.3"
  }
 },
 "nbformat": 4,
 "nbformat_minor": 1
}
