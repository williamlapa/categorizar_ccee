{
 "cells": [
  {
   "cell_type": "markdown",
   "metadata": {
    "id": "ep-5rQE_ixm_"
   },
   "source": [
    "## Machine Learning\n"
   ]
  },
  {
   "cell_type": "markdown",
   "metadata": {
    "id": "a2SXfK9WixnF"
   },
   "source": [
    "## Importando as bibliotecas para o projeto"
   ]
  },
  {
   "cell_type": "code",
   "execution_count": 64,
   "metadata": {},
   "outputs": [
    {
     "name": "stdout",
     "output_type": "stream",
     "text": [
      "Automatically created module for IPython interactive environment\n"
     ]
    }
   ],
   "source": [
    "# # Importar bibliotecas\n",
    "\n",
    "# execute a linha abaixo apenas se não tiver o Sweetviz\n",
    "# ! pip install sweetviz\n",
    "\n",
    "%matplotlib inline\n",
    "from pprint import pprint\n",
    "from time import time\n",
    "import logging\n",
    "import pandas as pd\n",
    "import numpy as np\n",
    "from sklearn.feature_extraction.text import TfidfVectorizer\n",
    "from sklearn.feature_extraction.text import CountVectorizer\n",
    "from sklearn.feature_extraction.text import TfidfTransformer\n",
    "from sklearn.linear_model import SGDClassifier\n",
    "from sklearn.model_selection import GridSearchCV\n",
    "from sklearn.pipeline import Pipeline\n",
    "import sweetviz as sv\n",
    "from joblib import dump, load\n",
    "from sklearn.model_selection import KFold\n",
    "from sklearn.model_selection import cross_validate\n",
    "\n",
    "print(__doc__)\n",
    "# Display progress logs on stdout\n",
    "logging.basicConfig(level=logging.INFO,format='%(asctime)s %(levelname)s %(message)s')"
   ]
  },
  {
   "cell_type": "markdown",
   "metadata": {
    "id": "mJ4f3wLUixnH"
   },
   "source": [
    "## Importação e tratamento do Dataset"
   ]
  },
  {
   "cell_type": "code",
   "execution_count": 29,
   "metadata": {},
   "outputs": [
    {
     "name": "stdout",
     "output_type": "stream",
     "text": [
      "<class 'pandas.core.frame.DataFrame'>\n",
      "RangeIndex: 1770 entries, 0 to 1769\n",
      "Data columns (total 8 columns):\n",
      " #   Column                                             Non-Null Count  Dtype \n",
      "---  ------                                             --------------  ----- \n",
      " 0   Título do Ajuste - conforme relatório SUMÁRIO-001  1770 non-null   object\n",
      " 1   Descrição do Ajuste                                1770 non-null   object\n",
      " 2   Descrição de Impacto                               1770 non-null   object\n",
      " 3   Impacto Principal                                  1770 non-null   object\n",
      " 4   Observação                                         624 non-null    object\n",
      " 5   TIPO                                               1770 non-null   object\n",
      " 6   NOME                                               1693 non-null   object\n",
      " 7   todas_as_colunas                                   1770 non-null   object\n",
      "dtypes: object(8)\n",
      "memory usage: 110.8+ KB\n"
     ]
    },
    {
     "data": {
      "image/png": "[encoded data removed]",
      "text/plain": [
       "<Figure size 600x400 with 1 Axes>"
      ]
     },
     "metadata": {},
     "output_type": "display_data"
    }
   ],
   "source": [
    "# Importando arquivo \"saidamerged.xlsx\"\n",
    "merged = pd.read_excel('saidamerged.xlsx', usecols=['Título do Ajuste - conforme relatório SUMÁRIO-001',\n",
    "       'Descrição do Ajuste', 'Descrição de Impacto', 'Impacto Principal',\n",
    "       'Observação', 'NOME', 'TIPO'])\n",
    "\n",
    "# Plotando os principais tipos de categoria para análise de balanceamento\n",
    "merged['TIPO'].value_counts().plot(kind='bar')\n",
    "\n",
    "# Substituindo o NaN pelo \" \" a fim de poder usar a a biblioteca TfidfVectorizer\n",
    "merged['TIPO'].fillna('Sem categoria', inplace=True)\n",
    "merged['Título do Ajuste - conforme relatório SUMÁRIO-001'].fillna('', inplace=True)\n",
    "merged['Descrição do Ajuste'].fillna('', inplace=True)\n",
    "merged['Descrição de Impacto'].fillna('', inplace=True)\n",
    "merged['Impacto Principal'].fillna('', inplace=True)\n",
    "\n",
    "# cria novas colunas concatenando todas colunas de texto do Dataframe\n",
    "# Esta é a coluna da variável X (INDEPENDENTE)\n",
    "merged['todas_as_colunas']=merged['Título do Ajuste - conforme relatório SUMÁRIO-001']+merged['Descrição do Ajuste']+merged['Descrição de Impacto']+merged['Impacto Principal']\n",
    "\n",
    "# Mostrando o Dataset final\n",
    "merged.info()"
   ]
  },
  {
   "cell_type": "markdown",
   "metadata": {},
   "source": [
    "### Análise Exploratória utilizando biblioteca SWEETVIZ"
   ]
  },
  {
   "cell_type": "code",
   "execution_count": 30,
   "metadata": {},
   "outputs": [
    {
     "data": {
      "application/vnd.jupyter.widget-view+json": {
       "model_id": "9b365d5affbc495694a9c5c5a5ed2aa8",
       "version_major": 2,
       "version_minor": 0
      },
      "text/plain": [
       "HBox(children=(FloatProgress(value=0.0, layout=Layout(flex='2'), max=9.0), HTML(value='')), layout=Layout(disp…"
      ]
     },
     "metadata": {},
     "output_type": "display_data"
    },
    {
     "name": "stdout",
     "output_type": "stream",
     "text": [
      "\n",
      "Report Advertising.html was generated! NOTEBOOK/COLAB USERS: the web browser MAY not pop up, regardless, the report IS saved in your notebook/colab files.\n"
     ]
    }
   ],
   "source": [
    "#analyzing the dataset\n",
    "advert_report = sv.analyze(merged)\n",
    "#display the report\n",
    "advert_report.show_html('Advertising.html')"
   ]
  },
  {
   "cell_type": "code",
   "execution_count": 25,
   "metadata": {},
   "outputs": [
    {
     "data": {
      "text/plain": [
       "0"
      ]
     },
     "execution_count": 25,
     "metadata": {},
     "output_type": "execute_result"
    }
   ],
   "source": [
    "# Verificando se a coluna da variável independente ainda tem NaN:\n",
    "merged['todas_as_colunas'].isna().sum()"
   ]
  },
  {
   "cell_type": "code",
   "execution_count": 27,
   "metadata": {},
   "outputs": [
    {
     "name": "stdout",
     "output_type": "stream",
     "text": [
      "Vocabulário: \n",
      "{'encargo': 1410, 'liquidação': 1903, 'mcp': 2004, 'original': 2184, 'principal': 2353, 'inadimplência': 1700, 'do': 1341, 'mercado': 2018, 'de': 1200, 'curto': 1181, 'prazo': 2339, 'janeiro': 1787, '2020são': 385, 'impactados': 1685, 'os': 2187, 'agentes': 701, 'inadimplentes': 1699, 'da': 1189, '2020': 381, 'em': 1399, 'posição': 2331, 'devedora': 1256, 'ou': 2188, 'credora': 1165, 'estorno': 1465, 'celesc': 1007, 'dist': 1329, 'vibeoli': 2794, 'ceramica': 1017, 'dos': 1345, 'devido': 1263, 'aos': 827, 'parcelamentos': 2249, 'deliberação': 1220, '1217': 198, 'cad': 955, '1025ª': 173, '0055': 76, '1098ª': 183, 'respectivamente': 2480, 'impactando': 1687, 'débito': 1352, 'credores': 1166, 'contabilização': 1122, 'juros': 1874, 'lançamento': 1880, 'sobre': 2639, 'dezembro': 1310, '2019': 375, 'período': 2303, '10': 150, '03': 99, 'até': 890, '06': 126, '04': 115, '2020este': 383, 'ajuste': 779, 'impacta': 1682, 'crédito': 1176, 'que': 2388, 'possuem': 2332, 'valores': 2776, 'decorrentes': 1206, 'gsf': 1633, 'parcelamento': 2248, 'atualização': 886, 'monetária': 2041, 'porém': 2329, 'para': 2242, 'este': 1459, 'mês': 2069, 'não': 2147, 'teve': 2706, 'pois': 2322, 'igp': 1671, 'foi': 1567, 'negativo': 2081, '11ª': 195, 'recontabilização': 2432, '2016': 341, 'fevereiro': 1537, '10ª': 186, 'março': 1992, '8ª': 584, '2018': 370, '5ª': 528, '7ª': 566, 'abril': 669, '4ª': 509, '2ª': 440, 'junho': 1869, '2019ajustes': 376, 'relativos': 2458, 'impactos': 1690, 'financeiros': 1552, 'das': 1199, 'recontabilizações': 2433, 'estes': 1460, 'ajustes': 781, 'impactam': 1686, 'participantes': 2261, '2019todos': 380, 'uma': 2750, 'saldo': 2539, 'remanescente': 2461, 'princ': 2351, 'atm': 868, 'celescestes': 1008, 'visam': 2801, 'atender': 865, '025ª': 98, 'agente': 699, 'operacionalização': 2175, 'dando': 1197, 'um': 2749, 'no': 2090, 'ao': 826, 'ceramicaestes': 1018, '098ª': 148, 'despacho': 1240, 'aneel': 814, 'nº': 2141, '1146': 192, '18_fev20atendimento': 276, '146': 219, 'pedido': 2283, 'saesa': 2536, 'relação': 2460, 'fator': 1492, 'indisponibilidade': 1711, 'fid': 1543, 'mre': 2058, 'esse': 1451, 'refere': 2446, 'se': 2556, '20ª': 389, 'parcela': 2247, '36': 482, 'impacto': 1689, '18_mar': 282, 'jul20atendimento': 1830, 'antecipação': 821, 'parcelas': 2250, 'ii': 1676, 'santo': 2548, 'antonio': 824, '21': 390, '25': 401, 'meses': 2020, 'julho': 1835, 'desp': 1237, '1911': 297, 'ref': 2445, 'fev20atendimento': 1531, '911': 586, 'realização': 2412, 'cálculo': 1188, 'disponibilidade': 1326, 'máxima': 2066, 'contratual': 1137, 'dispobilidade': 1325, 'total': 2719, 'reclassificação': 2426, 'modalidade': 2029, 'tipo': 2710, 'aeste': 691, 'erb': 1440, 'aratinga': 847, 'compradores': 1088, '18º': 293, 'leilão': 1883, 'energia': 1420, 'nova': 2135, 'na': 2075, 'proporção': 2367, 'seus': 2621, 'contratos': 1136, 'compra': 1086, 'resolução': 2478, '545': 519, '13': 210, 'itajai': 1745, 'biogas': 928, 'fev20resolução': 1536, 'determina': 1249, 'criação': 1169, 'perfil': 2296, 'específico': 1446, 'qual': 2383, 'permaneça': 2301, 'vinculados': 2799, 'empreendimentos': 1406, 'geração': 1608, 'desligado': 1234, 'como': 1076, '17': 248, 'caso': 981, 'valor': 2771, 'repassado': 2469, 'conta': 1120, 'específica': 1445, 'completar': 1084, 'totalidade': 2720, 'dívida': 1355, 'ser': 2572, 'quando': 2384, 'sai': 2538, 'devedor': 1255, 'por': 2324, 'consumo': 1119, 'gerado': 1596, 'rateado': 2395, 'todos': 2717, 'referido': 2450, 'geraes': 1601, 'energetica': 1419, 'maio': 1947, '19': 295, 'houver': 1665, 'resultado': 2494, 'financeiro': 1551, 'votos': 2808, 'referentes': 2448, 'débitos': 1353, 'foram': 1571, 'sucedidos': 2656, 'primo': 2348, 'quitação': 2393, 'ecp': 1365, '003': 62, '2015': 331, 'cláusula': 1057, 'fev20aplicação': 1530, 'tc': 2682, 'teles': 2689, 'pires': 2313, 'gráfica': 1632, 'apurada': 841, 'conforme': 1104, '3ª': 491, 'terá': 2703, 'seu': 2620, 'montante': 2046, 'reduzido': 2441, 'mensalmente': 2016, 'pela': 2285, 'ccee': 992, 'meio': 2011, 'alocação': 790, 'às': 2818, 'compradoras': 1087, 'eventual': 1472, 'exposição': 1479, 'positiva': 2330, 'uhe': 2747, 'quantidade': 2386, 'contratadaeste': 1132, '11º': 196, 'nível': 2148, 'contratação': 1134, 'ccears': 991, 'distribuidoras': 1334, 'res': 2475, '684': 544, '15': 223, 'liminar': 1893, 'abragel': 666, 'fev20os': 1535, 'colocam': 1067, 'as': 857, 'usinas': 2761, 'essas': 1450, 'aderiram': 684, 'repactuação': 2467, 'portanto': 2325, 'são': 2672, 'consideradas': 1109, 'via': 2793, 'mecanismo': 2006, 'auxiliar': 900, 'mac': 1912, 'risco': 2524, 'hidrológicoeste': 1658, 'repactuaram': 2466, 'força': 1574, 'estão': 1470, 'distribuidores': 1335, '67918': 542, '16': 235, '401': 494, '3400': 462, 'fev20esse': 1533, 'visa': 2800, 'decisão': 1203, 'judicial': 1800, 'suspende': 2664, 'efeitos': 1373, '264': 413, 'exclusão': 1475, 'algumas': 783, 'mreincluímos': 2059, 'voltam': 2807, 'realizamos': 2410, 'recebida': 2422, 'entregue': 1434, 'demais': 1223, 'sua': 2648, 'garantia': 1590, 'física': 1583, 'modulada': 2031, 'ajustada': 777, 'gfis_3': 1617, 'cada': 956, 'usina': 2758, '1006114': 160, '01': 81, 'fev20': 1529, '1003712': 158, '83': 570, '0000': 2, '1002903': 156, '93': 592, '1006358': 161, '66': 540, '0091325': 80, '85': 574, '2014': 326, 'portaria': 2326, 'spe': 2643, 'mme': 2026, '12': 197, '58': 522, '31': 445, '14': 216, '178': 250, 'redução': 2444, 'usinaé': 2763, 'acrescentado': 678, 'plural': 2318, 'ecovida': 1364, 'scp': 2555, 'elejor': 1382, 'rio': 2523, 'paranapan': 2246, 'espora': 1448, 'alterando': 794, 'gfis_2': 1616, 'consequência': 1106, 'destas': 1243, 'alterado': 793, 'ação': 903, '00138561920174013800': 57, 'risoleta': 2525, 'neves': 2087, 'fev20deliberação': 1532, '0338': 101, '0925ª': 146, '2017': 357, 'determinou': 1253, 'item': 1750, 'modo': 2030, 'considerar': 1113, 'participante': 2260, 'efetiva': 1374, 'mas': 1993, 'sem': 2567, 'limitar': 1897, 'taxas': 2681, 'equivalentes': 1439, 'indisponibilidades': 1712, 'forçada': 1575, 'teif': 2685, 'programada': 2362, 'teip': 2687, 'novos': 2138, 'candonga': 973, 'enviados': 1435, 'pelo': 2287, 'ons': 2171, 'cumprimento': 1179, 'afetam': 694, 'consequentemente': 1105, 'considerada': 1108, 'desta': 1242, 'aliança': 786, 'cvrd': 1185, 'pie': 2309, '1008485': 162, 'altera': 791, 'situação': 2636, 'operativa': 2177, 'unidades': 2753, 'geradoras': 1598, 'ug3': 2745, 'ug4': 2746, 'itiquira': 1751, 'operação': 2178, 'com': 1070, 'limitação': 1899, 'potência': 2338, 'alterada': 792, '5044708': 514, '77': 559, '7100': 550, 'atribuí': 875, 'signatárias': 2625, 'ccear': 990, 'firmados': 1557, 'pch': 2276, 'morro': 2054, 'grande': 1623, '0043973': 70, '000_fev20aplicação': 37, 'obtida': 2153, 'grupo': 1630, 'visando': 2802, 'pagamento': 2234, 'decorrente': 1205, 'descolamento': 1227, 'entre': 1433, 'cmo': 1058, 'pldesse': 2316, 'amparados': 810, 'anace': 813, 'custo': 1183, 'deslocamento': 1236, 'e_desc': 1356, 'enquadram': 1430, 'condição': 1100, 'pld': 2315, 'inc': 1702, 'devolvido': 1268, 'forma': 1572, 'proporcional': 2366, 'nenhuma': 2082, 'oficio': 2167, '020': 97, 'srg': 2644, 'jan20este': 1784, 'ofício': 2168, 'alterações': 797, 'cvu': 1186, 'ute': 2764, 'porto': 2328, 'pecém': 2281, 'atendimento': 867, 'majoração': 1953, 'pagadores': 2233, 'encargos': 1411, 'serão': 2580, 'variação': 2778, 'nos': 2095, 'pagamentos': 2235, 'além': 801, 'disso': 1328, 'efeito': 1372, 'germat': 1609, '0673': 128, '1144ª': 191, '07': 129, '2021': 386, '08': 137, '02': 96, '2021são': 387, '1ª': 307, '2020ajustes': 382, 'dez20atendimento': 1304, 'aj': 776, '2002': 310, 'dez20o': 1307, 'representa': 2474, 'aplicação': 835, '2008': 312, 'operador': 2176, 'nacional': 2076, 'sistema': 2634, 'elétrico': 1398, 'considere': 1115, 'térmicas': 2742, 'acordo': 675, 'ordem': 2182, 'mérito': 2068, 'limite': 1900, 'realizado': 2409, 'petrobras': 2306, 'gerar': 1604, 'maior': 1952, 'despachadas': 1239, 'calculada': 963, 'diferença': 1319, 'despachada': 1238, 'efetivamente': 1376, 'gerou': 1611, 'inserido': 1718, 'trc_ess': 2736, 'serviço': 2576, 'germatestes': 1610, '144ª': 218, 'novembro': 2136, 'dez20resolução': 1309, 'dez20os': 1308, 'dez20esse': 1306, 'dez20': 1303, 'dez20deliberação': 1305, '000_dez20aplicação': 35, '1036394': 178, '91': 585, '0000_dez20esse': 8, 'teifa': 2686, 'antônio': 825, 'jari': 1788, 'considerando': 1112, 'expurgos': 1482, 'concedidos': 1098, 'âmbito': 2819, 'judicialsão': 1803, 'ceja': 1004, 'rrh': 2530, 'repactuou': 2468, 'alteração': 796, 'fins': 1553, 'est': 1452, 'único': 2825, 'referente': 2447, 'liminares': 1894, 'retroativas': 2501, 'mar15': 1961, 'out19': 2210, 'limita': 1895, 'considerado': 1110, '95': 598, '100': 151, 'define': 1209, 'participação': 2264, 'rateioesse': 2398, 'limitando': 1896, 'ajuste_mre': 780, 'decisões': 1204, 'judiciais': 1799, 'contra': 1130, 'rateio': 2397, 'adicional': 686, 'gsfatualização': 1634, 'principalatualização': 2354, 'açãoimpacto': 904, 'dif': 1316, 'contabilizaçãodiferença': 1123, 'financeira': 1549, 'monetáriaajuste': 2042, 'balancear': 907, 'eventuais': 1471, 'diferenças': 1320, 'distinção': 1330, 'critérios': 1172, 'aplicada': 831, '2020estorno': 384, '05': 121, '09': 144, 'agosto': 736, 'setembro': 2615, 'outubro': 2229, 'prt': 2375, '418': 497, 'comp': 1078, 'sin_jul20atendimento': 2631, 'prevê': 2343, 'diretrizes': 1324, 'exportação': 1478, 'elétricaeste': 1396, 'geradores': 1599, 'atenderam': 866, 'mínimo': 2070, '97': 602, 'destinada': 1246, 'maneira': 1955, 'recebem': 2419, 'compensar': 1079, 'consumidores': 1118, 'vez': 2791, 'créditos': 1178, 'ess': 1449, 'jul20resolução': 1834, 'jul20aplicação': 1829, '18_mai': 280, 'jun21': 1868, 'compleatendimento': 1081, 'últimas': 2822, '35': 480, 'complementar': 1082, 'ficam': 1540, 'suspensos': 2669, 'jul20os': 1833, 'jul20esse': 1832, 'jul20': 1828, 'jul20deliberação': 1831, '000_jul20aplicação': 41, '077': 136, 'mai19': 1933, 'mai19este': 1937, 'ofícios': 2169, 'reverter': 2511, 'abarcado': 628, 'valoração': 2775, 'preço': 2344, 'ofertado': 2166, 'reserva': 2476, 'ene': 1414, 'pece': 2279, '5ln12': 527, 'mpx': 2057, 'pecii': 2280, '7len': 565, '0000_jul20esse': 10, 'denovembro': 1225, '9ª': 605, '2013': 319, '12ª': 208, '13ª': 215, '2015ajustes': 332, 'nov20atendimento': 2130, '0871': 142, '20': 309, 'rtr': 2532, '3968': 490, 'set': 2581, 'dez15': 1272, '160ª': 236, 'reunião': 2505, 'diferido': 1321, 'tendo': 2692, 'vista': 2803, 'subsidiário': 2655, 'sustentável': 2671, 'brasil': 941, 'esbr': 1441, 'deverá': 1260, 'apreciado': 836, 'processo': 2360, 'específicoeste': 1447, 'cemig': 1011, 'geracao': 1595, 'nov20resolução': 2134, 'nov20aplicação': 2129, 'nov20os': 2133, 'nov20esse': 2132, 'nov20': 2127, 'nov20deliberação': 2131, '000_nov20aplicação': 50, '0000_nov20esse': 17, '1025611': 172, '54': 516, 'jan14': 1758, 'dez14': 1271, 'set15': 2584, 'mudança': 2061, 'aprovada': 838, 'ren': 2462, '870': 581, 'especificamente': 1443, 'perdas': 2295, 'rede': 2439, 'básica': 948, 'ia': 1670, 'iia': 1677, 'compromisso': 1094, 'leilões': 1884, 'após': 844, '2011': 315, 'partir': 2266, '0006706': 28, '23': 397, 'retroativa': 2500, 'abr': 633, 'dez': 1269, 'segurança': 2563, 'energética': 1424, 'seja': 2564, 'líquido': 1910, 'mensal': 2015, 'mai15': 1916, 'dez17': 1282, 'queda': 2389, 'reversão': 2507, '11': 188, 'out20atendimento': 2218, 'penalidade': 2290, 'set20estorno': 2610, 'gold': 1621, 'abarcada': 627, 'recuperação': 2436, 'juducial': 1804, 'agenteeste': 700, 'adébito': 689, 'alívio': 802, 'exposições': 1480, 'ambiente': 806, 'regulado': 2454, 'out20resolução': 2222, 'out20os': 2221, 'out20esse': 2220, 'out20': 2217, 'out20deliberação': 2219, '000_out20aplicação': 52, '0000_out20esse': 19, 'set20atendimento': 2607, 'sin_set20atendimento': 2632, 'set20resolução': 2612, 'set20os': 2611, 'set20esse': 2609, 'set20': 2606, 'set20deliberação': 2608, '000_set20aplicação': 54, '0000_set20esse': 21, '2017são': 367, 'afetados': 693, '17este': 262, '2017ajustes': 358, 'pen': 2289, 'paga': 2232, 'delib': 1217, '575': 521, '2016_reunião': 345, '874ª': 582, 'mai': 1914, '14cad': 220, 'parnaiba': 2255, 'devolução': 1264, 'anteriormente': 822, 'deixam': 1214, 'ter': 2693, 'aliviadas': 787, 'suas': 2649, 'art': 854, 'agua': 742, 'paulistaresolução': 2273, 'ag': 698, 'paulista': 2272, 'ficaram': 1541, 'mar17aplicação': 1965, 'energéticaatendimento': 1425, 'aprovação': 840, 'definitivo': 1213, 'regras': 2453, 'comercialização': 1075, 'realize': 2413, 'base': 914, '2017este': 362, 'leva': 1887, 'consideração': 1114, 'comercializada': 1073, 'últimos': 2823, 'doze': 1349, 'calculado': 964, '831': 572, 'atribuir': 874, 'ressarcimento': 2485, 'araguaia': 845, 'alocado': 789, 'submercado': 2652, 'sudeste': 2658, 'centro': 1014, 'oeste': 2162, 'eletronorte': 1390, 'serviços': 2577, 'abr17os': 643, 'unico': 2751, 'abr17esse': 642, 'incluímos': 1705, 'lim': 1891, '100045203': 152, '0000_70': 3, 'gf': 1615, 'ug': 2744, '_abr17deliberação': 607, '339': 460, '862ª': 578, 'inserção': 1721, 'nas': 2077, 'seguintes': 2560, 'termos': 2702, '49': 508, 'convenção': 1140, 'destinar': 1247, '70': 547, 'comercial': 1072, 'belo': 919, 'monte': 2048, 'celebrados': 1006, 'nesaé': 2085, 'aplicando': 834, 'pimental': 2311, 'valorado': 2774, 'médio': 2067, 'nesa': 2083, 'contratado': 1133, '0000deliberação': 23, '792': 562, '0345ª': 102, 'efetivado': 1375, 'registro': 2451, 'utilizando': 2766, 'venda': 2785, '3º': 492, 'projetos': 2364, 'estruturantes': 1468, 'agr': 739, 'inst': 1722, '36475': 485, '62': 534, 'df': 1311, 'abr17considerar': 641, 'carta': 979, '0118': 87, '400': 493, '2016é': 356, 'afetando': 695, '2009': 314, '00': 0, '047307': 119, 'jan08': 1757, 'fev08': 1506, 'mar08': 1960, 'corr': 1148, 'moratorios': 2052, 'jul09': 1806, 'ago09': 704, 'set09': 2582, 'out09': 2190, 'out09cad': 2191, '927ª': 591, 'suspensão': 2670, 'providências': 2374, 'deliberadas': 1218, '925ª': 589, 'reuniãoimpacta': 2506, 'tradener': 2730, 'nº00076001420174010000': 2142, 'sjoana': 2637, 'jan': 1756, 'fev': 1505, 'mar': 1959, '2016cad': 348, 'atraso': 870, 'apresentado': 837, 'pelas': 2286, 'usinaseste': 2762, 'santoaugusto': 2549, 'iii': 1679, 'iv': 1753, 'santajoana': 2545, 'vii': 2797, '17º': 265, 'outr': 2223, 'dsp': 1350, '4683': 505, 'at': 862, 'monet': 2038, 'out': 2189, 'inad': 1694, '216': 392, 'nov': 2097, 'inadimp': 1698, '14estorno': 221, 'reverta': 2508, 'medidas': 2009, 'operacionais': 2172, 'adotadas': 687, 'operacionalizar': 2174, 'outrora': 2226, 'deferida': 1208, 'questão': 2392, 'restou': 2492, 'revogada': 2515, 'proferida': 2361, '797ª': 564, 'cadeste': 959, 'impacata': 1681, 'eletrogoes': 1389, 'contablizações': 1126, '2017esse': 361, 'cnpe': 1061, 'retroativasesse': 2502, 'razão': 2400, 'p_enc_car': 2230, 'mo': 2028, 'desligamento': 1235, 'descumprimentoalteração': 1230, 'descumprimento': 1229, 'obrigação': 2149, 'seta': 2613, 'itaguassu': 1741, '6ª': 546, 'correção': 1149, 'recontab': 2428, 'abr17ajustes': 640, 'ajustar': 778, 'incluída': 1704, 'recontabilizaçao': 2431, 'importação': 1692, 'eletrobrasatendimento': 1386, '950': 599, 'custos': 1184, 'variáveis': 2779, 'centrais': 1012, 'elétricas': 1397, 'brasileiras': 942, 'eletrobrás': 1387, 'determinado': 1251, 'nª': 2140, 'eletrobras': 1385, 'baseado': 916, 'interligado': 1726, 'sin': 2629, 'biogasresolução': 929, 'for': 1570, '933': 593, 'oesteeste': 2163, '830': 571, 'contabilizar': 1121, 'mauá': 2000, 'diferemça': 1317, 'utilizar': 2767, 'sineste': 2633, 'amazonas': 804, '2913': 435, 'mscd': 2060, 'en': 1407, 'iiatendimento': 1678, '913': 587, 'processamento': 2359, 'cessões': 1034, 'compensação': 1080, 'sobras': 2638, 'défictis': 1354, 'impactará': 1688, 'vendem': 2786, 'compram': 1089, 'considera': 1107, 'oriundas': 2185, 'mcsd': 2005, 'moduladas': 2032, 'flat': 1559, 'valoradas': 2773, 'liquidações': 1904, 'carga': 978, 'cedente': 997, 'out17os': 2202, '501578': 512, '6100esse': 532, 'suspender': 2665, '41': 496, '2017é': 369, 'recalculado': 2417, 'cesp': 1032, 'debito': 1201, '000_out17rateio': 51, 'restrição': 2493, 'cmoesse': 1059, 'out17esse': 2201, 'out17considerar': 2199, 'ago': 703, 'estornos': 1466, 'recálculos': 2438, 'ano': 820, 'out17deliberação': 2200, '0058': 77, 'afeta': 692, '16atualização': 239, 'contabilizações': 1124, 'abr16': 637, '2012': 316, '2013ajustes': 322, '2285': 396, '2590_nov14': 409, '2590_nov14estornos': 410, 'finaceiro': 1546, '2590': 406, 'retroagir': 2499, 'ponto': 2323, 'dados': 1193, 'medição': 2010, 'concessionária': 1099, 'cepisa': 1016, 'conectados': 1101, '2822': 416, '658': 539, '15ajuste': 227, 'regra': 2452, 'algébrica': 784, 'transitória': 2732, 'normativa': 2092, 'trata': 2733, 'divergência': 1338, 'repasse': 2472, 'classe': 1054, 'rt': 2531, 'recebimento': 2424, 'lhes': 1888, 'indevidamente': 1709, 'pelos': 2288, '2745': 414, 'sto': 2647, 'jun': 1839, 'jul': 1805, '15atualização': 229, 'taxa': 2680, 'equivalente': 1438, 'tecneira': 2683, 'embua': 1404, 'tritexalteração': 2739, 'calculo': 966, '710': 549, 'fixo': 1558, '16atendimento': 238, 'incorridos': 1707, 'submercados': 2653, '4402': 500, 'taccumprimento': 2674, 'subcláusula': 2651, 'tac': 2673, 'aprovado': 839, 'parnaib': 2254, '7º': 567, 'nivél': 2089, '006': 78, '2012determina': 318, 'atribua': 872, 'intitulada': 1728, 'necessidade': 2078, 'comprometidas': 1091, 'disponibilidades': 1327, 'proprietário': 2368, 'proprietários': 2369, 'geraram': 1605, 'já': 1876, 'inflexibilidade': 1715, 'comprometidos': 1092, 'citadas': 1051, 'mai16ajuste': 1919, 'respectivos': 2482, '4ªaplicação': 510, 'contratada': 1131, 'tr_ris_mai16a': 2727, 'nº684': 2146, 'rísco': 2534, 'hidrologico': 1656, 'optaram': 2180, 'transferido': 2731, 'sejasm': 2566, 'diretamente': 1323, 'será': 2579, 'necessário': 2080, 'realizar': 2411, 'esta': 1453, 'mai16ver': 1920, 'relatório': 2459, 'ações': 905, 'sum001': 2660, 'maio16': 1948, '1005856': 159, '3400ver': 476, 'copel': 1142, 'get': 1613, 'colider': 1065, '10º': 187, '0023052': 59, 'dfver': 1312, '502308723': 513, 'ai_mai16ver': 754, 'cgtee': 1039, 'ceal': 994, 'celg': 1009, 'ceee': 1000, 'distrib': 1331, 'aii_mai16ver': 770, 'ata': 863, '860': 577, '1º': 308, 'pres': 2341, 'medici': 2008, 'fase': 1491, 'menos': 2014, 'energisa': 1422, 'mg': 2022, 'agravo': 740, 'instrumento': 1724, '0031203': 63, '87': 580, '0000ver': 24, '_mai16ver': 620, 'acep': 673, 'funil': 1579, 'bem': 920, 'cotas': 1154, 'itaipú': 1743, 'também': 2678, 'alivio': 788, 'causa': 985, '71858': 552, 'acara': 671, '0011336': 55, '59': 525, 'ecciv': 1358, 'eccv': 1359, 'eccvi': 1360, 'trind': 2737, '16ver': 246, 'ectrindade': 1366, 'zona': 2816, 'mata': 1994, 'paiol': 2239, 'i5': 1669, 'colino': 1066, 'cpfl': 1163, 'sul': 2659, 'serv': 2574, 'energy': 1423, '2015ver': 340, 'piedade': 2310, 'gt': 1638, 'eletricidade': 1383, 'paraense': 2244, 'jorge': 1794, 'cerp': 1022, 'santa': 2543, 'rosa': 2529, 'electra': 1380, 'azul': 901, 'rvesa': 2533, 'cgh': 1037, 'chapeu': 1044, 'cinco': 1049, 'estrelas': 1467, 'con': 1096, 'isentos': 1738, 'associados': 861, 'abradee': 665, 'chesf': 1046, 'coteminas': 1155, 'sa': 2535, 'ceesam': 1001, 'cersad': 1025, 'geradora': 1597, 'bonito': 933, 'salto': 2540, 'lobo': 1905, 'outros': 2227, 'hydro': 1668, 'kuhlemann': 1877, 'quanta': 2385, 'sta': 2645, 'terezinha': 2695, 'firenze': 1554, 'ferreira': 1503, 'gomes': 1622, 'luzboa': 1908, 'ciab': 1048, 'eletrosul': 1392, 'alianca': 785, 'geraçâo': 1607, 'eciii': 1362, 'cp': 1162, 'matriz_mt': 1996, 'caa': 949, 'yari': 2811, 'ceb': 995, 'saudades': 2552, 'ceriluz': 1019, 'ger': 1592, 'rbe': 2401, 'geratrans': 1606, 'contestado': 1129, 'tambau': 2676, 'anjos': 818, 'service': 2575, 'iluminatti': 1680, 'cachoeirão': 953, 'pesa': 2304, 'costa': 1152, 'rica': 2521, 'sefac': 2559, 'passos': 2270, 'maia': 1946, 'gera': 1593, 'somar': 2642, 'apine': 830, 'cantu2': 975, 'creluz': 1167, 'hge': 1651, 'boa': 932, 'fe': 1496, 'glh': 1619, 'dona': 1342, 'maria': 1990, 'piana': 2308, 'jaguari': 1755, 'outras': 2224, 'eesa': 1371, 'sao': 2551, 'braco': 938, 'lasa': 1881, 'rialma': 2518, 'light': 1890, 'cotaguti': 1153, 'cotsebastiao': 1157, 'cotvalentim': 1158, 'abiape': 631, 'canaa': 970, 'rcesa': 2403, 'jaguarari': 1754, '2016ver': 355, 'cghpcruz': 1038, 'coprel': 1145, 'rastro': 2394, 'auto': 894, 'queluz': 2391, 'lavrinhas': 1882, 'sebastiao': 2557, 'tamboril': 2677, 'coxim': 1161, 'pedacinho': 2282, 'ceu': 1035, 'marombas': 1991, 'sens': 2569, 'morrinhos': 2053, 'opm': 2179, 'bme': 931, 'simple': 2628, 'rondinha': 2527, 'chalana': 1041, 'mauricio': 1999, 'fortuna': 1573, 'america': 808, 'brentech': 944, 'cooperluz': 1141, 'gryps': 1631, 'vermelho': 2790, 'baguari': 906, 'energ': 1417, 'aratu': 848, 'abranjo': 668, 'ematex': 1400, '0013840': 56, '38': 487, 'rialma_mai16ver': 2520, 'antes': 823, 'abr14ver': 635, 'mai16': 1918, 'abr16ver': 638, '0032975': 64, 'autores': 896, 'fé': 1582, '0036225': 65, 'adic': 685, '03_abr13': 106, '2013ver': 325, 'única': 2824, 'abeeolica': 629, 'am': 803, 'potiguar': 2337, 'candeias': 971, 'colorado': 1068, 'eletrocesar': 1388, 'primavera': 2345, 'enguia': 1428, 'arembepe': 851, 'cerradão': 1023, 'bep': 922, 'borborema': 935, 'maracanau': 1989, 'abrace': 663, 'abraget': 667, 'abraceel': 664, 'cassol': 982, 'novo': 2137, 'mundo': 2062, 'ultrapassagem': 2748, 'car': 977, 'cascata': 980, '03_mai13': 111, 'alto': 799, 'alegre': 782, 'delta': 1222, 'tangara': 2679, 'guacu': 1641, 'pequi': 2293, 'atual': 878, 'cowat': 1160, 'vale': 2770, 'tijuco': 2709, 'par': 2241, 'mmrc': 2027, 'mch': 2003, 'cj': 1052, 'mogiana': 2034, '03_junho13': 110, '03_jun13': 109, '03_jul13': 108, 'passo': 2269, 'ferraz': 1502, '03_ago13': 107, '03_set13ver': 113, 'cert': 1026, 'vitorino': 2804, 'elo': 1394, 'grifo': 1628, 'itaguacu': 1740, 'outro': 2225, 'paracatu': 2243, '03_set13': 112, 'ver': 2788, '2014ver': 330, 'mangue': 1956, 'seco': 2558, 'clealco': 1055, 'termocabo': 2698, 'comosa': 1077, 'créditoos': 1177, 'bc': 917, 'prime': 2346, 'rdv': 2404, 'geramamore': 1603, 'asa': 858, 'branca': 939, 'dt': 1351, 'joana': 1793, 'renova': 2463, 'cge': 1036, 'cesar': 1028, 'filho': 1545, 'ventos': 2787, 'cem': 1010, 'manauara': 1954, 'noble': 2091, 'usangelo': 2757, 'eol': 1436, 'embuaca': 1405, 'pca': 2275, 'furnas': 1581, 'inhambu': 1716, 'oer': 2161, 'cacu': 954, 'jbs': 1789, 'fribiu': 1578, 'bergamin': 923, 'honda': 1663, 'salvador': 2541, 'eólicas': 1486, 'bela': 918, 'itapuã': 1747, 'eólica': 1485, 'bons': 934, 'serra': 2573, 'pardo': 2253, 'termoelétrica': 2699, 'silica': 2626, 'verde': 2789, 'arroz': 853, 'juruena': 1875, 'odebrecht': 2160, 'ambiental': 805, 'cachoeiro': 952, 'itapemirim': 1746, 'hacker': 1646, 'industrial': 1713, 'caju': 960, 'candida': 972, 'bioeletricidade': 926, 'iguaçu': 1675, 'borja': 936, 'central': 1013, 'hidreletrica': 1652, 'buritirana': 947, 'hidrelétrica': 1653, 'piabanha': 2307, 'estado': 1455, 'mato': 1995, 'grosso': 1629, 'bioenergia': 927, 'joão': 1796, 'capim': 976, 'dourados': 1346, 'francisco': 1577, 'ceg': 1002, 'varzea': 2780, 'angico': 816, 'maynart': 2001, 'cei': 1003, 'minas': 2024, 'agreste': 741, 'gestamp': 1612, 'pisa': 2314, 'eolica': 1437, 'vacas': 2769, 'utxa': 2768, 'gaeb': 1584, 'rima': 2522, 'cnaa': 1060, 'itt': 1752, 'itb': 1749, 'tropical': 2740, 'inxu': 1730, 'pdee': 2278, 'sigma': 2624, 'testa': 2704, 'helena': 1650, 'barra': 913, 'clara': 1053, 'santaisabel': 2544, 'ccb': 989, 'ectx': 1367, 'jesa': 1790, 'bandacouro': 909, 'baraunas1': 911, 'baraunas2': 912, 'manopla': 1957, 'mbranco1': 2002, 'mussambe': 2063, 'grao': 1627, 'mogol': 2035, 'guatapara': 1643, 'bozel': 937, 'minasligas': 2025, 'ferlig': 1500, 'granha1': 1626, 'inonibras': 1717, 'liasa': 1889, 'branco': 940, 'castman': 983, 'cachoeira': 951, 'cambara': 968, 'pantanal': 2240, 'campo': 969, 'limpo': 1901, 'thor': 2707, 'comercializadora': 1074, 'aes': 690, 'tiete': 2708, 'egerit': 1378, 'mutum': 2064, 'braskem': 943, 'pet': 2305, 'curua': 1182, 'buriti': 946, 'fibra': 1539, 'estação': 1458, 'bh': 924, 'brotas': 945, '2019são': 379, 'principalestorno': 2356, '0496': 120, '059ª': 125, '2019este': 377, '2018ajustes': 371, 'eneestes': 1415, '18_jul19atendimento': 278, 'jul19atendimento': 1822, 'jul19resolução': 1827, 'doxo': 1347, 'jul19aplicação': 1821, 'jul19os': 1826, 'jul19esse': 1824, 'jul19': 1820, '0000_jul19esse': 9, 'ece': 1361, 'jul19deliberação': 1823, '3400_jul19esse': 467, 'mai18': 1927, 'jun19': 1859, '0027095': 60, '92': 588, 'cgtf': 1040, 'possui': 2333, 'protege': 2370, 'quanto': 2387, 'relacionado': 2456, 'falta': 1490, 'combustível': 1071, 'desde': 1231, '18': 266, 'inexigíveis': 1714, 'deveriam': 1259, 'todo': 2716, 'lançado': 1878, '1015553': 168, '26': 411, 'mai19a': 1934, 'possuia': 2334, 'protegia': 2371, 'deste': 1244, 'maio2017': 1951, 'maio17este': 1949, '2017todos': 368, '7770': 560, '68': 543, '2980': 436, 'atmdeliberação': 869, '0053': 75, '938ª': 595, '2980o': 437, 'daia': 1194, '1ld': 306, 'impactado': 1684, 'jun17': 1849, 'retroativasos': 2503, 'jun17esse': 1853, '_jun17deliberação': 618, 'jun17considerar': 1851, 'jun16': 1842, 'jul16': 1809, 'ago16': 707, 'set16': 2585, 'out16': 2195, 'nov16': 2101, 'dez16': 1276, 'jan17': 1761, 'fev17': 1510, 'mar17': 1964, 'abr17': 639, 'mai17': 1921, 'jun17deliberação': 1852, 'cnpe003': 1062, 'copenalteração': 1144, '787': 561, '1787': 251, 'of': 2165, 'dez16determina': 1278, 'definida': 1210, 'excedente': 1473, 'monetáriaatendimento': 2043, '464': 504, 'homologou': 1662, 'revisão': 2514, '933ª': 594, 'rca': 2402, 'determinada': 1250, 'operacionalizada': 2173, 'menor': 2013, 'cadastrado': 957, 'passará': 2268, 'receber': 2420, 'contrário': 1138, '1015': 166, 'ipca_rtr': 1733, '2849_mai': 427, '2013por': 324, 'contabilize': 1125, 'associadas': 860, 'foz': 1576, 'chapecó': 1043, 'líquida': 1909, 'conexão': 1103, 'diante': 1314, 'exposto': 1481, 'cadastro': 958, 'corrigido': 1150, 'aberto': 630, 'interno': 1727, 'ainda': 775, 'montantes': 2047, 'corrigidos': 1151, 'ipcaos': 1736, 'provenientes': 2373, 'atualizados': 884, 'monetariamente': 2040, 'fgv': 1538, 'submódulo': 2654, 'realiza': 2406, '2849': 418, 'ipca': 1732, '0050072': 72, '2013esse': 323, '2015liminar': 339, 'chapeco': 1042, 'revertendo': 2510, 'participam': 2259, 'nº0050072': 2143, 'mai17os': 1926, 'mai17esse': 1924, '_mai17deliberação': 621, 'mai17considerar': 1923, '2016ajustes': 346, '2016todos': 354, '2849_jan': 424, '2849_fev': 423, '2849_mar': 428, '2849_abr': 419, 'fev17o': 1513, 'fev17os': 1514, 'fev17esse': 1512, '_fev17deliberação': 612, '3400deliberação': 474, '1022': 171, '0764ª': 135, 'elétrica': 1395, 'exigibilidade': 1476, 'atrelados': 871, 'haja': 1647, 'definitiva': 1212, 'concatenação': 1097, 'entrada': 1432, 'cataventos': 984, 'finalização': 1548, 'instalações': 1723, 'sentido': 2571, 'contráriodevido': 1139, 'poder': 2320, 'sofrer': 2641, 'sanções': 2550, 'faturamento': 1493, 'fev17considerar': 1511, 'prin': 2350, 'n10017663220164013400_sjoana': 2073, 'jan16': 1760, 'n10017663220164013400_sjoan': 2072, 'prinlim': 2357, 'viii': 2798, 'n10017663220164013400_s': 2071, 'aug': 891, 'fev16': 1508, 'mar16deliberação': 1963, '330': 453, '2016deliberação': 349, 'ela': 1379, 'firmadoeste': 1556, '17deliberação': 260, '252': 402, '0857ª': 141, 'penalidades': 2292, 'face': 1487, 'autoras': 895, 'citada': 1050, 'sendo': 2568, 'hipótese': 1660, 'notificação': 2096, 'deverão': 1261, 'encaminhados': 1409, 'indicação': 1710, 'cobrança': 1063, 'exclusivamente': 1474, 'relacionadas': 2455, 'cerro': 1024, 'chato': 1045, 'vi': 2792, 'trindades': 2738, 'permanecerão': 2300, 'suspensas': 2667, 'ocorra': 2156, 'status': 2646, 'judicialdevido': 1801, 'poderem': 2321, 'sofrem': 2640, '2016são': 353, '16este': 241, 'jan17o': 1764, '042': 116, 'expansão': 1477, 'saesao': 2537, 'scg': 2554, 'sfg': 2623, 'anneleste': 819, 'reduziu': 2443, 'dado': 1192, 'jan17esse': 1763, 'jan17os': 1765, '000_jan17rateio': 38, '_jan17deliberação': 614, 'jan17considerar': 1762, 'procedimento': 2358, 'arbitral': 850, '22': 393, 'inadestorno': 1696, '2014esse': 327, 'reverte': 2509, 'copen': 1143, '2016este': 352, '963': 601, '2016atendimento': 347, 'santarem': 2546, 'norteeste': 2094, 'norte': 2093, 'dez16o': 1280, 'usinaeste': 2759, 'tr_ris_dez16a': 2722, 'hidrológico': 1657, 'sejam': 2565, 'resoluçãoeste': 2479, 'dez16os': 1281, 'dez16esse': 1279, '000_dez16rateio': 33, '_dez16deliberação': 610, 'dez16considerar': 1277, '16deliberação': 240, 'parcialesse': 2252, 'parcial': 2251, '2016esse': 351, '16são': 245, '2849_dez': 422, '2014por': 329, 'nov16o': 2106, '2837': 417, '08o': 143, '837': 573, 'compõe': 1095, 'alterar': 795, 'calculados': 965, '256': 404, 'redistribuir': 2440, 'possuía': 2336, 'oriundos': 2186, 'represados': 2473, 'rateados': 2396, 'devedores': 1257, 'certel': 1027, 'energias': 1421, '2982': 438, 'mora_mar16': 2050, 'mora_set16': 2051, '982': 603, 'mora': 2049, 'protegidos': 2372, 'decidiram': 1202, 'repactuar': 2465, 'desistiram': 1232, 'causado': 986, 'estas': 1456, 'tr_ris_nov16a': 2728, 'observação': 2151, 'memória': 2012, 'encontra': 1413, 'site': 2635, 'espaço': 1442, 'seção': 2622, 'menu': 2017, 'prêmio': 2376, 'resultadosimpacto': 2495, 'nov16os': 2107, 'nov16esse': 2105, '000_nov16rateio': 48, '_nov16deliberação': 625, 'nivel': 2088, '139': 213, '12len_ago15': 203, '12len_set15': 207, '12len_out15': 206, '12len_nov15': 204, '12len_nov15deliberação': 205, '0701ª': 131, 'firmado': 1555, 'valorada': 2772, 'gerados': 1600, 'jirau': 1792, '12º': 209, 'mar16': 1962, 'out16esse': 2196, 'estornar': 1464, '187': 267, 'funilé': 1580, 'nov16considerar': 2103, 'nov2016': 2128, '736': 553, '16juros': 243, 'aplicado': 832, 'segundo': 2562, 'da7ª': 1190, '71': 548, 'pedra': 2284, 'sete': 2614, 'gamel': 1587, 'gameldespacho': 1588, '2015este': 337, 'gameleiras': 1589, '2849_jun': 426, '2849_nov': 429, '2849_ago': 421, '2849_set': 431, '2015despacho': 335, '015': 91, 'ipcaestes': 1735, 'set16ajuste': 2586, '530': 515, '2012ajuste': 317, 'relativo': 2457, 'atribuído': 876, 'eletronuclear': 1391, 'angra': 817, 'parteeste': 2257, 'parte': 2256, '070': 130, 'rea': 2405, 'araguaiaeste': 846, 'oestepagamento': 2164, '767': 557, '2016_fev': 342, '2016_mar': 344, '2016_jun': 343, '15atendimento': 228, 'santaremeste': 2547, 'tr_ris_set16a': 2729, 'set16ver': 2588, 'setembro16este': 2617, 'setembro16esse': 2616, 'setembro16liminar': 2618, 'ord': 2181, 'nº50016397520134047206': 2145, 'sc': 2553, 'jul11': 1807, 'ago11': 705, 'set11': 2583, 'out11': 2192, 'nov11': 2098, 'dez11ver': 1270, 'modulação': 2033, 'proinfa': 2363, '_set16ver': 626, 'atualizacao': 881, 'monetaria': 2039, 'gsfeste': 1636, '16estorno': 242, 'tiveram': 2713, '16quando': 244, 'repassados': 2470, 'tal': 2675, 'impossibilita': 1693, 'destes': 1245, 'causando': 987, 'amparado': 809, 'mone': 2036, '15estorno': 231, 'atualiz': 880, 'ocasionaram': 2155, 'apenas': 829, '2015estorno': 338, '2015cálculo': 334, '15quando': 232, 'inadim': 1697, 'ago15': 706, 'nov15': 2099, 'dez15estorno': 1275, 'dará': 1198, 'estavam': 1457, 'decorrência': 1207, 'onde': 2170, 'dez15este': 1274, 'criado': 1168, 'intuito': 1729, 'repassar': 2471, 'ocorre': 2157, 'cumulativo': 1180, 'edp': 1370, 'enegetica': 1416, 'cotvalentin': 1159, 'coronel': 1147, 'araujo': 849, 'zul': 2817, 'ggh': 1618, 'conenergetica': 1102, 'geraca': 1594, 'eletrobra': 1384, 'mafras': 1913, 'fazenda': 1495, 'velha': 2783, 'cristina': 1171, 'divino': 1339, 'biotermica': 930, 'recreio': 2434, 'benedito': 921, 'crébito': 1175, 'alunorte': 800, 'paragominas': 2245, 'tupi': 2741, 'cristalino': 1170, 'faxinal': 1494, 'guedes': 1644, 'cedromatriz': 999, 'ape': 828, 'cedro': 998, 'fagundes': 1489, 'enc': 1408, 'liq': 1902, 'jun16inadimplência': 1846, 'jun16estorno': 1845, 'jun16lançamento': 1847, 'orig': 2183, '2849_out': 430, '2849_jul': 425, 'jun15': 1840, 'jun15determina': 1841, 'ago16ajuste': 708, 'atribuido': 873, 'del': 1216, '1218': 199, 'ceron': 1020, 'ceronestorno': 1021, '2014este': 328, 'tr_ris_fev16': 2723, 'tr_ris_fev16a': 2724, 'tr_ris_ago16a': 2721, 'fev16ver': 1509, 'agosto16': 737, 'ago16ver': 710, 'jun16ver': 1848, '_ago16ver': 608, '2013_12len_dez15': 320, '2013_12len_dez15ver': 321, '236': 400, 'jul16ver': 1811, 'fidimpacto': 1544, '0042973': 69, '28': 415, 'havan': 1648, '15ver': 233, 'atuali': 879, 'nov15ver': 2100, 'crpédito': 1173, 'azulalteração': 902, 'jan15': 1759, 'abr15': 636, 'jul15': 1808, 'out15': 2193, 'dez15determina': 1273, 'jul16ajuste': 1810, '2016despacho': 350, 'tr_ris_ju16a': 2725, 'julho16': 1836, '000': 1, '_mai16': 619, '_jun16ver': 617, 'particpantes': 2265, 'participates': 2263, '000_jul16ver': 40, 'ai_jun16ver': 751, 'aii_jun16ver': 767, 'ai_abr15': 743, 'ai_mai15': 752, 'ai_jun15': 750, 'ai_jul15': 749, 'ai_ago15': 745, 'ai_set15': 758, 'ai_nov15': 756, 'ai_dez15': 746, 'ai_out15': 757, 'ai_jan16': 748, 'ai_fev16': 747, 'ai_mar16': 755, 'ai_abr16': 744, 'ai_mai16': 753, 'aii_abr15': 759, 'aii_mai15': 768, 'aii_jun15': 766, 'aii_jul15': 765, 'aii_ago15': 761, 'aii_set15': 774, 'aii_out15': 773, 'aii_nov15': 772, 'aii_dez15': 762, 'aii_jan16': 764, 'aii_fev16': 763, 'aii_mar16': 771, 'aii_abr16': 760, 'aii_mai16': 769, '_jul16ver': 616, 'rec': 2416, 'abril16': 670, '2590_abr14': 407, '2590_abr14estornos': 408, 'gaia': 1585, 'cornetaalteração': 1146, 'subclausula': 2650, 'jun16ajuste': 1843, '2849_abri': 420, 'tr_ris_jun16a': 2726, 'junho16': 1870, '_nov15': 624, '_dez15': 609, '_jan16': 613, '_fev16': 611, '_mar16': 622, '_abr16': 606, 'rialma_abr16': 2519, '0040538': 68, '81': 568, '0036282': 66, 'facão': 1488, '0038167': 67, '47': 506, 'abiapever': 632, 'emateximpacto': 1401, 'repactuados': 2464, 'acrédito': 679, '2018são': 373, '2018este': 372, 'participantes8ª': 2262, 'set18atendimento': 2595, 'nº2': 2144, '406': 495, 'cvus': 1187, 'publicados': 2379, '452': 501, 'setembroo': 2619, 'ltda': 1907, 'agentetradener': 702, '3381': 455, '01102': 83, '1019ª': 169, 'dessa': 1241, 'aplicados': 833, 'diminuirá': 1322, 'divinópolis': 1340, 'distribuidora': 1333, 'realocação': 2414, 'ocorrerá': 2158, 'balanço': 908, 'energético': 1426, '3382': 456, '01103': 84, 'eco': 1363, 'vida': 2795, 'cajuru': 961, '3383': 457, '01104': 85, 'florestal': 1561, '3384': 458, '01105': 86, 'samburá': 2542, '3386': 459, 'cel': 1005, 'américo': 812, 'teixeira': 2688, '18atendimento': 290, 'apurado': 842, 'definido': 1211, '462': 503, '17_set18atendimento': 258, '745': 554, '18_set18atendimento': 288, 'set18os': 2598, 'set18esse': 2597, 'acréscimo': 680, '18esse': 291, 'set18deliberação': 2596, '2015atualização': 333, 'set18': 2594, 'considerados': 1111, '17_ago18atendimento': 252, '18_ago18atendimento': 270, 'ago18atendimento': 718, '2201': 394, 'recup': 2435, 'jud': 1797, '018428071201780600001': 95, 'eln': 1393, 'embgen': 1403, 'out17': 2197, 'mecesa': 2007, 'out17atendimento': 2198, '0184280': 94, '0001': 25, 'financeiras': 1550, 'enl': 1429, 'embalagens': 1402, 'vigente': 2796, '1003': 157, '1012ª': 165, '056': 123, 'abr14': 634, 'mai14atendimento': 1915, 'servição': 2578, 'atualizado': 883, 'índice': 2821, 'consumidor': 1117, 'amplo': 811, 'ipcaeste': 1734, 'uruguaiana': 2756, 'aut': 893, '287': 433, 'fev15': 1507, 'mai15atendimento': 1917, 'autorizativa': 899, 'autoriza': 897, 'manutençã': 1958, 'incorrido': 1706, 'unidade': 2752, 'gás': 1645, 'termelétrica': 2696, 'denominada': 1224, 'atualizada': 882, '196': 299, 'estabelece': 1454, 'ressarcimentoeste': 2486, '125': 201, 'fluminenseeste': 1565, 'flu': 1562, 'ago18os': 721, 'ago18esse': 720, 'ago18deliberação': 719, 'agosto18': 738, '102': 170, 'jun18atendimento': 1855, '115': 193, 'jul18atendimento': 1818, '000_ago18rateio': 31, '1015056': 167, '61': 530, 'nov16cad': 2102, '0999ª': 149, 'enquanto': 1431, 'inserir': 1720, 'baseada': 915, 'parâmetros': 2267, 'ip': 1731, 'constantes': 1116, 'portarias': 2327, '119': 194, '156': 226, '18é': 294, '793': 563, 'premier': 2340, 'foodsalteração': 1569, 'foods': 1568, 'cliqccee': 1056, 'deligados': 1221, 'similar': 2627, 'sucessão': 2657, 'metade': 2021, 'perfis': 2297, 'principais': 2352, 'deve': 1254, 'adequação': 683, 'assim': 859, 'terem': 2694, 'participado': 2258, 'podem': 2319, 'obter': 2152, 'dependendo': 1226, 'percentual': 2294, 'credor': 1164, 'ressaltamos': 2483, 'havendo': 1649, 'seguirá': 2561, '17_jun18atendimento': 254, '542': 517, 'determinar': 1252, 'efetue': 1377, 'fluminense': 1564, 'jun18os': 1858, 'jun18esse': 1857, 'jun18deliberação': 1856, 'junho18esse': 1872, 'dejulho': 1215, '076': 134, 'abr18atendimento': 646, '080': 138, 'mai18atendimento': 1929, '000_jun18rateio': 42, 'dez17cad': 1285, 'cepasa': 1015, 'dambroz': 1195, 'mabe': 1911, 'htlalteração': 1667, 'htl': 1666, 'mai18aplicação': 1928, '1414': 217, '17_mai18atendimento': 255, 'mai18os': 1932, 'mai18esse': 1931, 'mai18deliberação': 1930, 'maio18esse': 1950, '071': 132, 'mar18atendimento': 1971, 'ago17cad': 712, 'dambrozalteração': 1196, 'abr18o': 649, 'p_enc_se': 2231, '0001236': 26, '82': 569, '0146': 90, '00015701920178210146': 27, 'jun17atendimento': 1850, 'próxima': 2377, 'judicialeste': 1802, 'hidro': 1654, 'jet': 1791, 'feliz': 1499, 'microinox': 2023, 'abr18aplicação': 645, '958': 600, 'termelétricas': 2697, 'iranduba': 1737, 'flores': 1560, '1032': 177, 'abr18os': 650, 'abr18esse': 648, 'mar18': 1969, 'abr18deliberação': 647, '053': 122, 'fev18atendimento': 1517, '1000755': 155, 'out15esse': 2194, 'colíder': 1069, 'lené': 1886, 'utilizado': 2765, 'neste': 2086, 'contemplar': 1128, 'primeiros': 2347, 'dias': 1315, 'mar18o': 1974, 'mar18aplicação': 1970, 'mar18os': 1975, 'mar18esse': 1973, 'fev18': 1515, 'mar18deliberação': 1972, 'principalesse': 2355, 'restabeleceu': 2490, 'estornando': 1463, 'atualizações': 887, 'monetárias': 2045, '2017neste': 365, 'devolvida': 1267, '045': 118, 'jan18atendimento': 1768, 'leneste': 1885, '3323': 454, 'periodo': 2298, '0395': 105, '989ª': 604, 'contempla': 1127, 'valoreseste': 2777, 'itaituba': 1744, 'outrosalteração': 2228, '628': 535, 'devida': 1262, '3434': 477, '2017atendimento': 359, '434': 499, 'complexo': 1085, 'paulo': 2274, 'afonso': 697, 'moxotó': 2056, 'previsto': 2342, '3231': 449, 'fev18o': 1521, 'fev18aplicação': 1516, '642': 538, 'ccen': 993, '3241': 451, 'pau': 2271, 'ferro': 1504, 'termomanausajuste': 2701, 'tratando': 2734, 'publicação': 2380, '227': 395, 'termomanaus': 2700, 'ambos': 807, 'trazendo': 2735, '3232': 450, 'ditc': 1337, 'zebuajuste': 2813, 'pdc': 2277, 'coelba': 1064, 'integrantes': 1725, 'zebu': 2812, 'residualmente': 2477, 'fev18os': 1522, 'fev18esse': 1520, 'fev18considerar': 1518, 'fev18deliberação': 1519, 'igpm': 1672, '10_2017_4_03_6100': 184, '10_2017_4_03_6100esse': 185, 'respectivas': 2481, 'estornados': 1462, 'época': 2820, 'inseridos': 1719, 'motivador': 2055, 'devolver': 1266, 'permanece': 2299, '031': 100, 'dez17atendimento': 1284, 'itabira': 1739, 'ci': 1047, 'jan18aplicação': 1767, '2002o': 311, '211': 391, 'mai17o': 1925, 'ressarcir': 2487, 'teste': 2705, 'josé': 1795, 'pldeste': 2317, 'jan18os': 1772, 'jan18esse': 1771, 'jan18considerar': 1769, 'jan18deliberação': 1770, '_jan18deliberação': 615, 'prol': 2365, 'editoraalteração': 1369, 'editora': 1368, '17atendimento': 259, '6768': 541, 'art4': 855, 'volta': 2806, 'grandeatendimento': 1624, '768': 558, 'grandeeste': 1625, 'nov17atendimento': 2109, 'nov17os': 2113, '6100': 531, 'ago17': 711, 'set17': 2589, '2017estornados': 363, '2017atualizados': 360, '000_nov17rateio': 49, 'nov17esse': 2112, '17esse': 261, 'nov17considerar': 2110, 'nov17deliberação': 2111, '08027896920138120002': 139, 'retorna': 2497, 'especifico': 1444, 'fernan': 1501, 'impactou': 1691, 'retirada': 2496, '2º': 441, '630': 536, 'set17os': 2593, '000_set17rateio': 53, '1056952': 181, '0100': 82, 'penalidadeeste': 2291, 'piratinga': 2312, 'cruz': 1174, 'rge': 2517, 'retroativo': 2504, 'set17esse': 2592, 'set17considerar': 2590, '191': 296, 'aneelatendimento': 815, 'recalculo': 2418, '0018308': 58, 'restabelece': 2488, 'todas': 2715, 'horizontes': 1664, 'restabelecida': 2491, 'set17deliberação': 2591, 'julho2017': 1838, 'julho17este': 1837, 'descump': 1228, 'acotecnicaalteração': 677, 'acotecnica': 676, 'limianres': 1892, 'realizadas': 2408, 'elegiveis': 1381, 'possuiam': 2335, '5arecnov15': 526, '6arecdez15': 545, '3014': 444, '2015esse': 336, 'cotistas': 1156, 'itaipu': 1742, 'acei': 672, '322': 448, '886': 583, '2608': 412, 'mai17atendimento': 1922, '608': 529, 'mercanismo': 2019, '3156': 446, 'xavantes': 2809, 'únicoprocesso': 2826, 'aruanao': 856, 'estiver': 1461, 'cabe': 950, 'ressaltar': 2484, 'está': 1469, 'comprometida': 1090, 'comprometimento': 1093, 'ago17os': 716, 'ago17esse': 715, '000_ago17rateio': 30, 'ago17considerar': 713, 'ago17deliberação': 714, '58715': 524, '30': 442, '3400este': 475, 'desistência': 1233, 'junho2017': 1873, 'junho17este': 1871, 'voges': 2805, 'tome': 2718, 'caxias': 988, 'tecsis': 2684, '17o': 263, '2998': 439, 'ago16atendimento': 709, '943': 597, 'itaqui': 1748, 'deliberado': 1219, '942ª': 596, '0615': 127, '611': 533, 'jul17os': 1816, 'jul17esse': 1815, 'doppagamento': 1344, 'jul17considerar': 1813, 'jul17deliberação': 1814, '1053_17': 180, 'fluatendimento': 1563, 'mar17os': 1968, 'mar17esse': 1967, '_mar17deliberação': 623, '2062271': 388, '0000cad': 22, '926ª': 590, 'sentença': 2570, 'feito': 1498, 'eneva': 1427, '000_mar17rateio': 45, 'mar17considerar': 1966, 'superintendência': 2661, 'adote': 688, 'necessárias': 2079, 'revogação': 2516, 'supracitado': 2662, 'limitava': 1898, '2008impacta': 313, 'set16deliberação': 2587, '152': 224, '853ª': 576, 'apurados': 843, 'referida': 2449, 'atribuídos': 877, 'geto': 1614, '3000': 443, 'tem': 2690, 'finalidade': 1547, '711': 551, '259': 405, 'afetou': 696, 'zeram': 2814, 'deveria': 1258, 'nulo': 2139, 'revertida': 2513, 'jun16deliberação': 1844, 'recálculo': 2437, '10004520320154010000_70': 153, 'nov16deliberação': 2104, 'nesao': 2084, 'zerar': 2815, 'ro': 2526, '00512540720154013400': 73, '00512540720154013400este': 74, '15este': 230, 'mai20resolução': 1945, 'jun20atendimento': 1864, 'mai20aplicação': 1940, '18_dez20': 274, 'abr21': 662, '34': 461, 'ficou': 1542, 'suspenso': 2668, 'jun20os': 1867, 'jun20esse': 1866, 'jun20': 1863, 'jun20deliberação': 1865, 'abr19': 651, '3627': 483, '3627esse': 484, '000_jun20aplicação': 43, '058': 124, 'mar19': 1976, '074': 133, 'abr19este': 654, '0000_jun20esse': 12, 'jan20': 1778, 'gsfestorno': 1637, 'retorno': 2498, 'inaddiferença': 1695, 'monetáriaestorno': 2044, 'abr20': 656, 'mai20estorno': 1943, 'inadimplênciaestorno': 1701, '18_ago': 269, '29': 434, 'mai20os': 1944, 'mai20esse': 1942, 'mai20': 1939, 'mai20deliberação': 1941, '000_mai20aplicação': 44, '039': 104, 'mar20este': 1986, '044': 117, 'fev19': 1523, 'fev19este': 1527, '0000_mai20esse': 14, 'abr20resolução': 661, 'abr20aplicação': 657, 'abr20os': 660, 'abr20esse': 659, 'abr20deliberação': 658, '000_abr20aplicação': 29, '113': 190, 'dgl': 1313, 'fev20este': 1534, 'reclassificou': 2427, 'dadas': 1191, 'mar20': 1981, '0000_abr20esse': 5, 'mar20atendimento': 1983, 'mar20resolução': 1988, 'mar20aplicação': 1982, 'mar20os': 1987, 'mar20esse': 1985, 'mar20deliberação': 1984, '000_mar20aplicação': 47, '18_jan20atendimento': 277, '19ª': 305, 'jan20atendimento': 1780, '2300': 398, '3691': 486, 'jan19': 1773, 'dez19': 1296, 'dez19atendimento': 1297, 'cessão': 1033, 'roraima': 2528, 'distribuição': 1336, 'receberam': 2421, 'recontabilizado': 2429, 'calendário': 967, '582': 523, 'jan20determina': 1782, '574': 520, '43': 498, 'próximo': 2378, 'jan20resolução': 1786, 'jan20aplicação': 1779, 'jan20os': 1785, 'jan20esse': 1783, 'jan20deliberação': 1781, '000_jan20aplicação': 39, '018': 93, 'set19': 2599, 'nov19': 2120, 'dez19este': 1300, '18_dez19atendimento': 273, '18ª': 292, '3445': 479, '19_dez19atendimento': 300, 'recebidos': 2423, '46': 502, 'dez19resolução': 1302, 'nov19resolução': 2126, 'longo': 1906, 'tempo': 2691, 'vem': 2784, 'acumulando': 681, 'suprir': 2663, 'ocasionado': 2154, 'devolvendo': 1265, 'lançados': 1879, 'dez19os': 1301, 'dez19esse': 1299, 'dez19deliberação': 1298, '3400_dez19esse': 465, '124': 200, 'out19este': 2214, '14ª': 222, '18_nov19atendimento': 285, '17ª': 264, 'cajururesolução': 962, 'nov19atendimento': 2122, 'nov19aplicação': 2121, 'nov19os': 2125, 'nov19esse': 2124, '0000_nov19esse': 16, 'nov19deliberação': 2123, '3400_nov19esse': 471, '18_out19atendimento': 287, '16ª': 247, 'out19resolução': 2216, 'out19atendimento': 2211, 'out19os': 2215, 'out19esse': 2213, '0000_out19esse': 18, 'out19deliberação': 2212, '3400_out19esse': 472, '106': 182, 'ago19este': 726, '18_set19atendimento': 289, '15ª': 234, 'set19resolução': 2605, '2543': 403, 'ago19': 722, '2864': 432, 'set19atendimento': 2601, '543': 518, '864': 579, 'fluminenseestes': 1566, '50003560720198210058': 511, 'guabiju': 1639, 'judical': 1798, 'guabijueste': 1640, 'set19aplicação': 2600, 'set19os': 2604, 'set19esse': 2603, '0000_set19esse': 20, 'set19deliberação': 2602, '3400_set19esse': 473, 'dez18': 1290, 'tirar': 2712, '486': 507, 'recontabilizar': 2430, 'tirando': 2711, 'jan19esse': 1775, 'atualzaição': 888, '017': 92, '037': 103, 'jan19este': 1776, '091': 145, 'jul19este': 1825, '18_ago19atendimento': 271, '19atendimento': 301, 'ago19resolução': 728, 'ago19aplicação': 723, 'ago19os': 727, 'ago19esse': 725, '0000_ago19esse': 6, 'ago19deliberação': 724, '3400_ago19esse': 464, 'jun18': 1854, 'jul18': 1817, 'ago18': 717, 'out18': 2203, 'nov18esse': 2117, '00270959220184013400': 61, 'toda': 2714, 'atualziação': 889, 'ocorrida': 2159, '007': 79, 'nov18este': 2118, '18_jun19atendimento': 279, 'geraesresolução': 1602, 'doxoresolução': 1348, 'jun19os': 1862, 'jun19esse': 1861, '1009710': 163, '32_2018_4_01_0000': 452, '32': 447, 'usinaqueda': 2760, 'hidroelétricas': 1655, 'canoas': 974, '0000_jun19esse': 11, 'jun19deliberação': 1860, '19esse': 302, '3400_jun19esse': 468, 'distribuic': 1332, '0946': 147, '1009ª': 164, '2018todos': 374, 'cebestes': 996, 'energestes': 1418, '18_mai19atendimento': 281, 'mai19os': 1938, 'mai19esse': 1936, '0000_mai19esse': 13, 'mai19deliberação': 1935, '3400_mai19esse': 469, 'gsfesse': 1635, '18_abr19atendimento': 268, '3565': 481, '852': 575, '2019recontabilização': 378, 'realizada': 2407, 'permitindo': 2302, 'bilateral': 925, 'gna': 1620, 'reduzir': 2442, '172': 249, 'mwmed': 2065, 'contrato': 1135, 'garantir': 1591, 'inclusão': 1703, '1385': 212, 'out18atendimento': 2204, '385': 489, 'argentina': 852, 'abr19os': 655, 'abr19esse': 653, '0000_abr19esse': 4, 'abr19deliberação': 652, '3400_abr19esse': 463, '0129': 89, 'dop': 1343, 'reclassif': 2425, 'fev19atendimento': 1524, 'aumenta': 892, 'hidráulico': 1659, 'mar19atendimento': 1977, 'encargosimpacto': 1412, '10310271420198260100': 176, 'qge': 2382, '10310262920198260100': 175, 'cescestes': 1031, 'cesceste': 1030, 'qeg': 2381, 'cesc': 1029, '10006670220198260681': 154, 'ebf': 1357, 'vazeste': 2782, 'vaz': 2781, 'complemento': 1083, '18_mar19atendimento': 283, 'mar19os': 1980, 'mar19esse': 1979, 'jan18': 1766, '0000_mar19esse': 15, 'mar19deliberação': 1978, '3400_mar19esse': 470, '000_mar19aplicação': 46, 'iguacu': 1673, 'iguacuesse': 1674, 'rateioeste': 2399, 'jan19atendimento': 1774, 'primoresolução': 2349, 'jan19pedido': 1777, 'indeferido': 1708, '1043ª': 179, 'guaras': 1642, '17_fev19atendimento': 253, '381': 488, '18_fev19atendimento': 275, '19estorno': 303, '19recalculo': 304, 'fev19os': 1528, 'fev19esse': 1526, 'jul17': 1812, 'nov17': 2108, 'abr18': 644, 'nov18': 2114, 'fev19deliberação': 1525, '3400_fev19esse': 466, '000_fev19aplicação': 36, 'dez18aplicação': 1291, 'dez18atendimento': 1292, '235': 399, 'xxxx': 2810, '193': 298, 'pagas': 2237, '3438': 478, 'jul18este': 1819, 'adequar': 682, 'destinação': 1248, 'pagos': 2238, 'título': 2743, 'alterá': 798, 'atedimento': 864, '18_dez18atendimento': 272, 'dez18os': 1295, 'dez18esse': 1294, '000_dez18aplicação': 34, 'dez18deliberação': 1293, 'nov18atendimento': 2115, 'suspendia': 2666, '2017foi': 364, 'diferenciado': 1318, 'n5015781020174036': 2074, 'atualizar': 885, 'monentariamente': 2037, 'reapuração': 2415, '17_nov18atendimento': 256, '18_nov18atendimento': 284, 'extrajudic': 1483, '11201661120188260100': 189, 'out18estes': 2207, '01269': 88, '1028ª': 174, 'queiroz': 2390, 'galvão': 1586, 'extrajudicialeste': 1484, '126': 202, '082': 140, 'autorizar': 898, 'pagar': 2236, 'nov18os': 2119, 'nov18deliberação': 2116, '138': 211, '155': 225, '166': 237, 'reverterção': 2512, '759': 556, '758': 555, '17_out18atendimento': 257, '18_out18atendimento': 286, 'out18o': 2208, '638': 537, 'out18os': 2209, 'out18esse': 2206, 'out18deliberação': 2205, 'ago20atendimento': 731, 'sin_ago20atendimento': 2630, 'barao': 910, 'mauaatendimento': 1998, 'obrigações': 2150, 'maua': 1997, '13este': 214, 'impactaa': 1683, 'ago20resolução': 735, 'ago20aplicação': 730, 'ago20os': 734, 'ago20esse': 733, 'ago20': 729, 'ago20deliberação': 732, '000_ago20aplicação': 32, '0000_ago20esse': 7, 'unnafibrasalteração': 2755, 'unnafibras': 2754, 'dez17aplicação': 1283, 'dez17os': 1289, 'restabelecer': 2489, '2017suspensão': 366, 'dez17esse': 1288, 'dez17considerar': 1286, 'dez17deliberação': 1287, 'fechamento': 1497, 'histórica': 1661, 'acer': 674, '005': 71, '03esse': 114}\n",
      "\n",
      "Peso de cada palavra do vocabulário: \n",
      "[7.38068735 7.09300528 3.95751106 ... 3.27529295 2.59597725 7.78615246]\n"
     ]
    },
    {
     "name": "stdout",
     "output_type": "stream",
     "text": [
      "\n",
      "Dimensões da matrix: \n",
      "(1770, 2827)\n",
      "\n",
      " Encargo Liquidação MCP - Original - Principal (*)Inadimplência do MCP (Mercado de Curto Prazo) de Janeiro/2020São impactados os Agentes inadimplentes da liquidação do MCP de Janeiro/2020 em posição devedora ou credora.- \n",
      " Encargo Liquidação MCP - Estorno -  Principal (*)Estorno da Inadimplência do MCP (Mercado de Curto Prazo) de Janeiro/2020- (CELESC DIST e VIBEOLI CERAMICA)Estorno da inadimplência dos agentes CELESC DIST e VIBEOLI CERAMICA devido aos parcelamentos (Deliberação 1217 CAd 1025ª e Deliberação 0055 CAd 1098ª, respectivamente) impactando a débito os agentes credores da contabilização de Janeiro/2020.- \n",
      " Encargo Liquidação MCP - Original - Juros (*)Lançamento dos Juros sobre a Inadimplência do MCP (Mercado de Curto Prazo) de Dezembro/2019 do período de 10/03/2020 até 06/04/2020São impactados os Agentes inadimplentes da liquidação do MCP de Janeiro/2020, em posição devedora ou credora.- \n",
      " Encargo Liquidação MCP - Estorno - Juros (*)Estorno dos juros sobre a inadimplência do MCP (Mercado de Curto Prazo) de Janeiro/2020Este ajuste impacta a crédito os agentes que possuem valores decorrentes do GSF e parcelamento e a débito os agentes credores da contabilização de Janeiro/2020- \n",
      " Encargo Liquidação MCP - Original - Atualização Monetária (*)Lançamento da atualização monetária sobre a Inadimplência do MCP (Mercado de Curto Prazo) de Janeiro/2020 do período de 10/03/2020 até 06/04/2020São impactados os Agentes inadimplentes da liquidação do MCP de Janeiro/2020, em posição devedora ou credora, porém para este mês não teve atualização monetária pois o IGP-M foi negativo.- \n",
      "\n"
     ]
    },
    {
     "data": {
      "text/html": [
       "<div>\n",
       "<style scoped>\n",
       "    .dataframe tbody tr th:only-of-type {\n",
       "        vertical-align: middle;\n",
       "    }\n",
       "\n",
       "    .dataframe tbody tr th {\n",
       "        vertical-align: top;\n",
       "    }\n",
       "\n",
       "    .dataframe thead th {\n",
       "        text-align: right;\n",
       "    }\n",
       "</style>\n",
       "<table border=\"1\" class=\"dataframe\">\n",
       "  <thead>\n",
       "    <tr style=\"text-align: right;\">\n",
       "      <th></th>\n",
       "      <th>00</th>\n",
       "      <th>000</th>\n",
       "      <th>0000</th>\n",
       "      <th>0000_70</th>\n",
       "      <th>0000_abr19esse</th>\n",
       "      <th>0000_abr20esse</th>\n",
       "      <th>0000_ago19esse</th>\n",
       "      <th>0000_ago20esse</th>\n",
       "      <th>0000_dez20esse</th>\n",
       "      <th>0000_jul19esse</th>\n",
       "      <th>...</th>\n",
       "      <th>zul</th>\n",
       "      <th>às</th>\n",
       "      <th>âmbito</th>\n",
       "      <th>época</th>\n",
       "      <th>índice</th>\n",
       "      <th>últimas</th>\n",
       "      <th>últimos</th>\n",
       "      <th>única</th>\n",
       "      <th>único</th>\n",
       "      <th>únicoprocesso</th>\n",
       "    </tr>\n",
       "  </thead>\n",
       "  <tbody>\n",
       "    <tr>\n",
       "      <th>0</th>\n",
       "      <td>0.0</td>\n",
       "      <td>0.0</td>\n",
       "      <td>0.0</td>\n",
       "      <td>0.0</td>\n",
       "      <td>0.0</td>\n",
       "      <td>0.0</td>\n",
       "      <td>0.0</td>\n",
       "      <td>0.0</td>\n",
       "      <td>0.0</td>\n",
       "      <td>0.0</td>\n",
       "      <td>...</td>\n",
       "      <td>0.0</td>\n",
       "      <td>0.0</td>\n",
       "      <td>0.0</td>\n",
       "      <td>0.0</td>\n",
       "      <td>0.0</td>\n",
       "      <td>0.0</td>\n",
       "      <td>0.0</td>\n",
       "      <td>0.0</td>\n",
       "      <td>0.000000</td>\n",
       "      <td>0.0</td>\n",
       "    </tr>\n",
       "    <tr>\n",
       "      <th>1</th>\n",
       "      <td>0.0</td>\n",
       "      <td>0.0</td>\n",
       "      <td>0.0</td>\n",
       "      <td>0.0</td>\n",
       "      <td>0.0</td>\n",
       "      <td>0.0</td>\n",
       "      <td>0.0</td>\n",
       "      <td>0.0</td>\n",
       "      <td>0.0</td>\n",
       "      <td>0.0</td>\n",
       "      <td>...</td>\n",
       "      <td>0.0</td>\n",
       "      <td>0.0</td>\n",
       "      <td>0.0</td>\n",
       "      <td>0.0</td>\n",
       "      <td>0.0</td>\n",
       "      <td>0.0</td>\n",
       "      <td>0.0</td>\n",
       "      <td>0.0</td>\n",
       "      <td>0.000000</td>\n",
       "      <td>0.0</td>\n",
       "    </tr>\n",
       "    <tr>\n",
       "      <th>2</th>\n",
       "      <td>0.0</td>\n",
       "      <td>0.0</td>\n",
       "      <td>0.0</td>\n",
       "      <td>0.0</td>\n",
       "      <td>0.0</td>\n",
       "      <td>0.0</td>\n",
       "      <td>0.0</td>\n",
       "      <td>0.0</td>\n",
       "      <td>0.0</td>\n",
       "      <td>0.0</td>\n",
       "      <td>...</td>\n",
       "      <td>0.0</td>\n",
       "      <td>0.0</td>\n",
       "      <td>0.0</td>\n",
       "      <td>0.0</td>\n",
       "      <td>0.0</td>\n",
       "      <td>0.0</td>\n",
       "      <td>0.0</td>\n",
       "      <td>0.0</td>\n",
       "      <td>0.000000</td>\n",
       "      <td>0.0</td>\n",
       "    </tr>\n",
       "    <tr>\n",
       "      <th>3</th>\n",
       "      <td>0.0</td>\n",
       "      <td>0.0</td>\n",
       "      <td>0.0</td>\n",
       "      <td>0.0</td>\n",
       "      <td>0.0</td>\n",
       "      <td>0.0</td>\n",
       "      <td>0.0</td>\n",
       "      <td>0.0</td>\n",
       "      <td>0.0</td>\n",
       "      <td>0.0</td>\n",
       "      <td>...</td>\n",
       "      <td>0.0</td>\n",
       "      <td>0.0</td>\n",
       "      <td>0.0</td>\n",
       "      <td>0.0</td>\n",
       "      <td>0.0</td>\n",
       "      <td>0.0</td>\n",
       "      <td>0.0</td>\n",
       "      <td>0.0</td>\n",
       "      <td>0.000000</td>\n",
       "      <td>0.0</td>\n",
       "    </tr>\n",
       "    <tr>\n",
       "      <th>4</th>\n",
       "      <td>0.0</td>\n",
       "      <td>0.0</td>\n",
       "      <td>0.0</td>\n",
       "      <td>0.0</td>\n",
       "      <td>0.0</td>\n",
       "      <td>0.0</td>\n",
       "      <td>0.0</td>\n",
       "      <td>0.0</td>\n",
       "      <td>0.0</td>\n",
       "      <td>0.0</td>\n",
       "      <td>...</td>\n",
       "      <td>0.0</td>\n",
       "      <td>0.0</td>\n",
       "      <td>0.0</td>\n",
       "      <td>0.0</td>\n",
       "      <td>0.0</td>\n",
       "      <td>0.0</td>\n",
       "      <td>0.0</td>\n",
       "      <td>0.0</td>\n",
       "      <td>0.000000</td>\n",
       "      <td>0.0</td>\n",
       "    </tr>\n",
       "    <tr>\n",
       "      <th>...</th>\n",
       "      <td>...</td>\n",
       "      <td>...</td>\n",
       "      <td>...</td>\n",
       "      <td>...</td>\n",
       "      <td>...</td>\n",
       "      <td>...</td>\n",
       "      <td>...</td>\n",
       "      <td>...</td>\n",
       "      <td>...</td>\n",
       "      <td>...</td>\n",
       "      <td>...</td>\n",
       "      <td>...</td>\n",
       "      <td>...</td>\n",
       "      <td>...</td>\n",
       "      <td>...</td>\n",
       "      <td>...</td>\n",
       "      <td>...</td>\n",
       "      <td>...</td>\n",
       "      <td>...</td>\n",
       "      <td>...</td>\n",
       "      <td>...</td>\n",
       "    </tr>\n",
       "    <tr>\n",
       "      <th>1765</th>\n",
       "      <td>0.0</td>\n",
       "      <td>0.0</td>\n",
       "      <td>0.0</td>\n",
       "      <td>0.0</td>\n",
       "      <td>0.0</td>\n",
       "      <td>0.0</td>\n",
       "      <td>0.0</td>\n",
       "      <td>0.0</td>\n",
       "      <td>0.0</td>\n",
       "      <td>0.0</td>\n",
       "      <td>...</td>\n",
       "      <td>0.0</td>\n",
       "      <td>0.0</td>\n",
       "      <td>0.0</td>\n",
       "      <td>0.0</td>\n",
       "      <td>0.0</td>\n",
       "      <td>0.0</td>\n",
       "      <td>0.0</td>\n",
       "      <td>0.0</td>\n",
       "      <td>0.000000</td>\n",
       "      <td>0.0</td>\n",
       "    </tr>\n",
       "    <tr>\n",
       "      <th>1766</th>\n",
       "      <td>0.0</td>\n",
       "      <td>0.0</td>\n",
       "      <td>0.0</td>\n",
       "      <td>0.0</td>\n",
       "      <td>0.0</td>\n",
       "      <td>0.0</td>\n",
       "      <td>0.0</td>\n",
       "      <td>0.0</td>\n",
       "      <td>0.0</td>\n",
       "      <td>0.0</td>\n",
       "      <td>...</td>\n",
       "      <td>0.0</td>\n",
       "      <td>0.0</td>\n",
       "      <td>0.0</td>\n",
       "      <td>0.0</td>\n",
       "      <td>0.0</td>\n",
       "      <td>0.0</td>\n",
       "      <td>0.0</td>\n",
       "      <td>0.0</td>\n",
       "      <td>0.000000</td>\n",
       "      <td>0.0</td>\n",
       "    </tr>\n",
       "    <tr>\n",
       "      <th>1767</th>\n",
       "      <td>0.0</td>\n",
       "      <td>0.0</td>\n",
       "      <td>0.0</td>\n",
       "      <td>0.0</td>\n",
       "      <td>0.0</td>\n",
       "      <td>0.0</td>\n",
       "      <td>0.0</td>\n",
       "      <td>0.0</td>\n",
       "      <td>0.0</td>\n",
       "      <td>0.0</td>\n",
       "      <td>...</td>\n",
       "      <td>0.0</td>\n",
       "      <td>0.0</td>\n",
       "      <td>0.0</td>\n",
       "      <td>0.0</td>\n",
       "      <td>0.0</td>\n",
       "      <td>0.0</td>\n",
       "      <td>0.0</td>\n",
       "      <td>0.0</td>\n",
       "      <td>0.000000</td>\n",
       "      <td>0.0</td>\n",
       "    </tr>\n",
       "    <tr>\n",
       "      <th>1768</th>\n",
       "      <td>0.0</td>\n",
       "      <td>0.0</td>\n",
       "      <td>0.0</td>\n",
       "      <td>0.0</td>\n",
       "      <td>0.0</td>\n",
       "      <td>0.0</td>\n",
       "      <td>0.0</td>\n",
       "      <td>0.0</td>\n",
       "      <td>0.0</td>\n",
       "      <td>0.0</td>\n",
       "      <td>...</td>\n",
       "      <td>0.0</td>\n",
       "      <td>0.0</td>\n",
       "      <td>0.0</td>\n",
       "      <td>0.0</td>\n",
       "      <td>0.0</td>\n",
       "      <td>0.0</td>\n",
       "      <td>0.0</td>\n",
       "      <td>0.0</td>\n",
       "      <td>0.078879</td>\n",
       "      <td>0.0</td>\n",
       "    </tr>\n",
       "    <tr>\n",
       "      <th>1769</th>\n",
       "      <td>0.0</td>\n",
       "      <td>0.0</td>\n",
       "      <td>0.0</td>\n",
       "      <td>0.0</td>\n",
       "      <td>0.0</td>\n",
       "      <td>0.0</td>\n",
       "      <td>0.0</td>\n",
       "      <td>0.0</td>\n",
       "      <td>0.0</td>\n",
       "      <td>0.0</td>\n",
       "      <td>...</td>\n",
       "      <td>0.0</td>\n",
       "      <td>0.0</td>\n",
       "      <td>0.0</td>\n",
       "      <td>0.0</td>\n",
       "      <td>0.0</td>\n",
       "      <td>0.0</td>\n",
       "      <td>0.0</td>\n",
       "      <td>0.0</td>\n",
       "      <td>0.084882</td>\n",
       "      <td>0.0</td>\n",
       "    </tr>\n",
       "  </tbody>\n",
       "</table>\n",
       "<p>1770 rows × 2827 columns</p>\n",
       "</div>"
      ],
      "text/plain": [
       "       00  000  0000  0000_70  0000_abr19esse  0000_abr20esse  0000_ago19esse  \\\n",
       "0     0.0  0.0   0.0      0.0             0.0             0.0             0.0   \n",
       "1     0.0  0.0   0.0      0.0             0.0             0.0             0.0   \n",
       "2     0.0  0.0   0.0      0.0             0.0             0.0             0.0   \n",
       "3     0.0  0.0   0.0      0.0             0.0             0.0             0.0   \n",
       "4     0.0  0.0   0.0      0.0             0.0             0.0             0.0   \n",
       "...   ...  ...   ...      ...             ...             ...             ...   \n",
       "1765  0.0  0.0   0.0      0.0             0.0             0.0             0.0   \n",
       "1766  0.0  0.0   0.0      0.0             0.0             0.0             0.0   \n",
       "1767  0.0  0.0   0.0      0.0             0.0             0.0             0.0   \n",
       "1768  0.0  0.0   0.0      0.0             0.0             0.0             0.0   \n",
       "1769  0.0  0.0   0.0      0.0             0.0             0.0             0.0   \n",
       "\n",
       "      0000_ago20esse  0000_dez20esse  0000_jul19esse  ...  zul   às  âmbito  \\\n",
       "0                0.0             0.0             0.0  ...  0.0  0.0     0.0   \n",
       "1                0.0             0.0             0.0  ...  0.0  0.0     0.0   \n",
       "2                0.0             0.0             0.0  ...  0.0  0.0     0.0   \n",
       "3                0.0             0.0             0.0  ...  0.0  0.0     0.0   \n",
       "4                0.0             0.0             0.0  ...  0.0  0.0     0.0   \n",
       "...              ...             ...             ...  ...  ...  ...     ...   \n",
       "1765             0.0             0.0             0.0  ...  0.0  0.0     0.0   \n",
       "1766             0.0             0.0             0.0  ...  0.0  0.0     0.0   \n",
       "1767             0.0             0.0             0.0  ...  0.0  0.0     0.0   \n",
       "1768             0.0             0.0             0.0  ...  0.0  0.0     0.0   \n",
       "1769             0.0             0.0             0.0  ...  0.0  0.0     0.0   \n",
       "\n",
       "      época  índice  últimas  últimos  única     único  únicoprocesso  \n",
       "0       0.0     0.0      0.0      0.0    0.0  0.000000            0.0  \n",
       "1       0.0     0.0      0.0      0.0    0.0  0.000000            0.0  \n",
       "2       0.0     0.0      0.0      0.0    0.0  0.000000            0.0  \n",
       "3       0.0     0.0      0.0      0.0    0.0  0.000000            0.0  \n",
       "4       0.0     0.0      0.0      0.0    0.0  0.000000            0.0  \n",
       "...     ...     ...      ...      ...    ...       ...            ...  \n",
       "1765    0.0     0.0      0.0      0.0    0.0  0.000000            0.0  \n",
       "1766    0.0     0.0      0.0      0.0    0.0  0.000000            0.0  \n",
       "1767    0.0     0.0      0.0      0.0    0.0  0.000000            0.0  \n",
       "1768    0.0     0.0      0.0      0.0    0.0  0.078879            0.0  \n",
       "1769    0.0     0.0      0.0      0.0    0.0  0.084882            0.0  \n",
       "\n",
       "[1770 rows x 2827 columns]"
      ]
     },
     "execution_count": 27,
     "metadata": {},
     "output_type": "execute_result"
    }
   ],
   "source": [
    "# Análise inicial do vocabulário encontrado no texto da coluna \"merged['todas_as_colunas']\"\n",
    "\n",
    "text = merged['todas_as_colunas']\n",
    "\n",
    "# instancia o transform TfidfVectorizer\n",
    "tfidf_vectorizer = TfidfVectorizer()\n",
    "\n",
    "# tokeniza e cria o vocabulário\n",
    "tfidf_vectorizer.fit(text)\n",
    "\n",
    "# mostra o vocabulário criado\n",
    "print('Vocabulário: ')\n",
    "print(tfidf_vectorizer.vocabulary_)\n",
    "print('\\nPeso de cada palavra do vocabulário: ')\n",
    "print(tfidf_vectorizer.idf_)\n",
    "\n",
    "# encode document\n",
    "tfidf_vector = tfidf_vectorizer.transform(text)\n",
    "\n",
    "# mostra as dimensões da matrix de frequência\n",
    "print('\\nDimensões da matrix: ')\n",
    "print(tfidf_vector.shape)\n",
    "\n",
    "# mostra os documentos codificados\n",
    "val = tfidf_vectorizer.fit_transform(text)\n",
    "feature_names = tfidf_vectorizer.get_feature_names()\n",
    "print('\\n',text[0],'\\n',text[1],'\\n',text[2],'\\n',text[3],'\\n',text[4],'\\n')\n",
    "pd.DataFrame(val.toarray(), columns = feature_names)\n",
    "# print(tfidf_vector.toarray())"
   ]
  },
  {
   "cell_type": "markdown",
   "metadata": {},
   "source": [
    "## Técnica HOLD-OUT na proporção 80% e 20% na escolha dos dados de Treino e Teste"
   ]
  },
  {
   "cell_type": "code",
   "execution_count": 33,
   "metadata": {},
   "outputs": [],
   "source": [
    "# Separa os dados de treino e teste (proporção 80/20)\n",
    "# Stratify = pega representante de todas as classes, corrije desbaleamento\n",
    "from sklearn.model_selection import train_test_split\n",
    "\n",
    "# Variável Independente:\n",
    "X = merged['todas_as_colunas']\n",
    "# Variável Dependente (Target)\n",
    "y = merged['TIPO']\n",
    "\n",
    "# Divisão Treino e Teste:\n",
    "X_train, X_test, y_train, y_test = train_test_split(X, y, test_size=0.2, \n",
    "                                                    stratify=y,random_state=42)\n"
   ]
  },
  {
   "cell_type": "code",
   "execution_count": 34,
   "metadata": {
    "id": "WO21SaWFxGvk"
   },
   "outputs": [
    {
     "data": {
      "text/plain": [
       "1386    Ação 1008485- 93.2017.4.01.3400 - Dez19Esse aj...\n",
       "1305    Resolução 545-13 - ITAJAI BIOGAS - Abr20Resolu...\n",
       "465     REN 736/16 - Diferença de Juros - Jun/16\\nREN ...\n",
       "253     Ajuste Único CNPE 03/13 - Ref. Nov/2014Ver rel...\n",
       "1184    Liminar nº 0043973-15.2015.4.01.000_Ago17Ratei...\n",
       "Name: todas_as_colunas, dtype: object"
      ]
     },
     "execution_count": 34,
     "metadata": {},
     "output_type": "execute_result"
    }
   ],
   "source": [
    "X_train[:5]"
   ]
  },
  {
   "cell_type": "code",
   "execution_count": 36,
   "metadata": {},
   "outputs": [
    {
     "name": "stdout",
     "output_type": "stream",
     "text": [
      "TREINO :  (1416,) \n",
      " ENERGIA           0.496469\n",
      "Não considerar    0.249294\n",
      "ESS               0.210452\n",
      "Sem categoria     0.043785\n",
      "Name: TIPO, dtype: float64 \n",
      "\n",
      "TESTE  :  (354,) \n",
      " ENERGIA           0.497175\n",
      "Não considerar    0.248588\n",
      "ESS               0.211864\n",
      "Sem categoria     0.042373\n",
      "Name: TIPO, dtype: float64\n"
     ]
    }
   ],
   "source": [
    "# Confere a proporção das classes nos dados de treino e de teste\n",
    "\n",
    "print('TREINO : ',y_train.shape,'\\n', y_train.value_counts(normalize=True),'\\n')\n",
    "print('TESTE  : ',y_test.shape,'\\n', y_test.value_counts(normalize=True))\n",
    "\n",
    "# Observamos que existe a mesma proporção das variáveis na amostra de treino e de teste,  que ajudará a dar maior pecisão ao modelo."
   ]
  },
  {
   "cell_type": "code",
   "execution_count": null,
   "metadata": {
    "scrolled": false
   },
   "outputs": [],
   "source": [
    "# Com o dataframe já dividido entre Treino e Teste, iremos obter o vocabulário apenas dos dados de TREINO:\n",
    "\n",
    "# instancia o transform CountVectorizer\n",
    "tfidf_vectorizer = TfidfVectorizer()\n",
    "# # tokeniza e cria o vocabulário\n",
    "tfidf_vectorizer.fit(X_train)\n",
    "# # mostra o vocabulário criado\n",
    "print('Vocabulário: ')\n",
    "print(tfidf_vectorizer.vocabulary_)\n",
    "\n",
    "# encode document\n",
    "tfidf_vector = tfidf_vectorizer.transform(X_train)\n",
    "# mostra as dimensões da matrix de frequência\n",
    "print('\\nDimensões da matrix: ')\n",
    "print(tfidf_vector.shape)"
   ]
  },
  {
   "cell_type": "markdown",
   "metadata": {},
   "source": [
    "## Treinando o Classificador:"
   ]
  },
  {
   "cell_type": "code",
   "execution_count": 41,
   "metadata": {},
   "outputs": [],
   "source": [
    "# Define o pipeline incluindo o extrator de 'features do texto e um classificador\n",
    "# No caso abaixo utilizamos:\n",
    "# Bag of words (sklearn CountVectorizer) e TI IDF para identificação de dicionários de texto\n",
    "# Regressão logística dentro do SGD Classifier como algoritmo para obter a acurária do projeto:\n",
    "\n",
    "pipeline = Pipeline([\n",
    "    ('vect', CountVectorizer(max_df=1.0, max_features=50000,ngram_range=(1,2))),\n",
    "    ('tfidf', TfidfTransformer(use_idf=True,norm='l2')),\n",
    "    ('clf', SGDClassifier(loss='log',alpha=1e-06, penalty='elasticnet', max_iter=60)), \n",
    "])\n",
    "\n",
    "# O padrão é hinge, mas utiizamos default hinge. to get proba=log or modified_huber"
   ]
  },
  {
   "cell_type": "code",
   "execution_count": 58,
   "metadata": {},
   "outputs": [
    {
     "name": "stdout",
     "output_type": "stream",
     "text": [
      "Wall time: 0 ns\n",
      "Train score: 1.0\n",
      "Test score: 0.9689265536723164\n"
     ]
    }
   ],
   "source": [
    "# Treinando o modelo e obtendo o tempo do processamento:\n",
    "%time\n",
    "classificador = pipeline.fit(X_train, y_train)\n",
    "\n",
    "# Acurácia do modelo nos dados de treino\n",
    "train_score = classificador.score(X_train, y_train)\n",
    "\n",
    "# Acurácia do modelo nos dados de teste \n",
    "test_score = classificador.score(X_test, y_test)\n",
    "\n",
    "print(\"Train score: {}\".format(train_score))\n",
    "print(\"Test score: {}\".format(test_score))"
   ]
  },
  {
   "cell_type": "code",
   "execution_count": 59,
   "metadata": {},
   "outputs": [],
   "source": [
    "# Predição nos dados de teste (utilizaremos para o cálculo do erro)\n",
    "predicted = classificador.predict(X_test)"
   ]
  },
  {
   "cell_type": "code",
   "execution_count": 69,
   "metadata": {},
   "outputs": [
    {
     "name": "stdout",
     "output_type": "stream",
     "text": [
      "Select your item: 10\n",
      "Average accuracy: 0.956897 (0.018028)\n"
     ]
    }
   ],
   "source": [
    "# validando o modelo usando a quantidade de folds do usuário  no cross-validation:\n",
    "\n",
    "folds = int(input(\"Select your item: \"))\n",
    "kfold = KFold(n_splits=folds, shuffle=True, random_state=42)\n",
    "results = cross_validate(classificador, X_train, y_train, cv=kfold)\n",
    "print(\"Average accuracy: %f (%f)\" %(results['test_score'].mean(), results['test_score'].std()))\n"
   ]
  },
  {
   "cell_type": "markdown",
   "metadata": {},
   "source": [
    "## Utilizando o CROSS VALIDATION com N-Folds a critério do usuário"
   ]
  },
  {
   "cell_type": "code",
   "execution_count": 77,
   "metadata": {},
   "outputs": [
    {
     "name": "stdout",
     "output_type": "stream",
     "text": [
      "accuracy\n",
      "[0.9548022598870056, 0.9265536723163842, 0.9519774011299436, 0.9463276836158192, 0.9689265536723164]\n",
      "0.9497175141242937\n"
     ]
    }
   ],
   "source": [
    "# Abaixo fazemos fazemos a separação do nosso dataset três vezes (n_folds=3),\n",
    "# para cada iteração realizamos o treino do modelo (model.fit(data_train, target_train)), \n",
    "# e a predição dos exemplos separados como teste (model.predict(data_test)), \n",
    "# por fim calculamos a acurácia e adicionamos em um array. \n",
    "\n",
    "# Ao final das iterações a média das acurácias (np.average(results_accuracy)), \n",
    "# representa uma métrica mais confiável e menos passiva de variância.\n",
    "\n",
    "# Neste exemplo utilizamos a técnica de amostragem estratificada, presente no sklearn, \n",
    "# com intuito de preservar o balanceamento das classes.\n",
    "\n",
    "# Fonte: https://joorgelm.medium.com/valida%C3%A7%C3%A3o-cruzada-cross-validation-avaliando-seu-modelo-de-forma-clara-e-concisa-10d27fa4efb8\n",
    "\n",
    "from sklearn.model_selection import StratifiedKFold\n",
    "from sklearn.metrics import accuracy_score\n",
    "def k_fold_cross_validation(model, x, y, n_folds=3):\n",
    "    \n",
    "    kf = StratifiedKFold(n_splits=n_folds)\n",
    "    \n",
    "    results_accuracy = []\n",
    "    \n",
    "    for train, test in kf.split(x, y):\n",
    "        data_train, target_train = x[train], y[train]\n",
    "        data_test, target_test   = x[test], y[test]\n",
    "        \n",
    "        model = model.fit(data_train, target_train)\n",
    "        out = model.predict(data_test)\n",
    "        \n",
    "        accuracy = accuracy_score(target_test, out)\n",
    "        results_accuracy.append(accuracy)\n",
    "        \n",
    "    print('accuracy')\n",
    "    print(results_accuracy)\n",
    "    print(np.average(results_accuracy))\n",
    "\n",
    "k_fold_cross_validation(classificador, X, y, n_folds=5)"
   ]
  },
  {
   "cell_type": "code",
   "execution_count": 60,
   "metadata": {},
   "outputs": [
    {
     "data": {
      "text/plain": [
       "0.9672888282188263"
      ]
     },
     "execution_count": 60,
     "metadata": {},
     "output_type": "execute_result"
    }
   ],
   "source": [
    "# Mostra o f1 score do modelo nos dados de teste (usado quando as classes estão desbalanceadas)\n",
    "# No caso em análise as classes estão balanceadas, ainda é necessário fazer essa análise ??\n",
    "\n",
    "from sklearn.metrics import f1_score\n",
    "f1_score(y_test, predicted, average='weighted') "
   ]
  },
  {
   "cell_type": "code",
   "execution_count": 50,
   "metadata": {},
   "outputs": [
    {
     "name": "stdout",
     "output_type": "stream",
     "text": [
      "                precision    recall  f1-score   support\n",
      "\n",
      "       ENERGIA       0.98      0.98      0.98       176\n",
      "           ESS       0.97      1.00      0.99        75\n",
      "Não considerar       0.97      0.99      0.98        88\n",
      " Sem categoria       0.75      0.60      0.67        15\n",
      "\n",
      "      accuracy                           0.97       354\n",
      "     macro avg       0.92      0.89      0.90       354\n",
      "  weighted avg       0.97      0.97      0.97       354\n",
      "\n"
     ]
    }
   ],
   "source": [
    "# avalie o modelo usando 'classification_report' do sklearn\n",
    "from sklearn import metrics\n",
    "print(metrics.classification_report(y_test, predicted))"
   ]
  },
  {
   "cell_type": "code",
   "execution_count": 51,
   "metadata": {},
   "outputs": [
    {
     "data": {
      "text/plain": [
       "<sklearn.metrics._plot.confusion_matrix.ConfusionMatrixDisplay at 0x1ed518f1b50>"
      ]
     },
     "execution_count": 51,
     "metadata": {},
     "output_type": "execute_result"
    },
    {
     "data": {
      "image/png": "[encoded data removed]",
      "text/plain": [
       "<Figure size 432x288 with 2 Axes>"
      ]
     },
     "metadata": {
      "needs_background": "light"
     },
     "output_type": "display_data"
    }
   ],
   "source": [
    "# mostrar a matrix de confusão do modelo sobre todo o dataset\n",
    "from sklearn.metrics import plot_confusion_matrix\n",
    "plot_confusion_matrix(classificador, X_test, y_test, values_format='d')"
   ]
  },
  {
   "cell_type": "code",
   "execution_count": 52,
   "metadata": {},
   "outputs": [
    {
     "data": {
      "text/plain": [
       "<bound method Pipeline.get_params of Pipeline(steps=[('vect',\n",
       "                 CountVectorizer(max_features=50000, ngram_range=(1, 2))),\n",
       "                ('tfidf', TfidfTransformer()),\n",
       "                ('clf',\n",
       "                 SGDClassifier(alpha=1e-06, loss='log', max_iter=60,\n",
       "                               penalty='elasticnet'))])>"
      ]
     },
     "execution_count": 52,
     "metadata": {},
     "output_type": "execute_result"
    }
   ],
   "source": [
    "# Mostra os hiperparâmetros usados para treinar o modelo\n",
    "classificador.get_params"
   ]
  }
 ],
 "metadata": {
  "celltoolbar": "Create Assignment",
  "colab": {
   "collapsed_sections": [],
   "name": "PrepML.ipynb",
   "provenance": []
  },
  "kernelspec": {
   "display_name": "Python 3",
   "language": "python",
   "name": "python3"
  },
  "language_info": {
   "codemirror_mode": {
    "name": "ipython",
    "version": 3
   },
   "file_extension": ".py",
   "mimetype": "text/x-python",
   "name": "python",
   "nbconvert_exporter": "python",
   "pygments_lexer": "ipython3",
   "version": "3.8.3"
  }
 },
 "nbformat": 4,
 "nbformat_minor": 1
}
